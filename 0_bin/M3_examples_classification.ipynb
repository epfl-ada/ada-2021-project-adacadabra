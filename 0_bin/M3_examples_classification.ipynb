{
 "cells": [
  {
   "cell_type": "code",
   "execution_count": 1,
   "id": "94f1554f",
   "metadata": {},
   "outputs": [],
   "source": [
    "#importing the required modules\n",
    "import seaborn as sns\n",
    "from IPython.display import display, HTML\n",
    "import matplotlib.pyplot as plt\n",
    "import scipy.stats as stats\n",
    "import pandas as pd\n",
    "import numpy as np\n",
    "import seaborn as sns"
   ]
  },
  {
   "cell_type": "code",
   "execution_count": 2,
   "id": "049ebcf5",
   "metadata": {},
   "outputs": [],
   "source": [
    "#Retrieve the dataset containing all speakers with the fraction of the colloquial language \n",
    "#Import the speakers metadata\n",
    "#path = r'/Users/jules/kDrive/onedrive/Documents_Onedrive/EPFL/MA3/ADA/Project/Dataset/BIG_SAMPLE/'\n",
    "#file_path = path+'Sample_2020_classified.json.bz2'\n",
    "\n",
    "path = r'/Users/jules/kDrive/onedrive/Documents_Onedrive/EPFL/MA3/ADA/Project/Dataset/BIG_SAMPLE/Results_LR/'\n",
    "file_path = path+'df_quotes_pol_all_classified_2methods.json.bz2'"
   ]
  },
  {
   "cell_type": "code",
   "execution_count": 3,
   "id": "4b32e815",
   "metadata": {},
   "outputs": [],
   "source": [
    "df_quotes =  pd.read_json(file_path,compression = 'bz2',lines = True)"
   ]
  },
  {
   "cell_type": "code",
   "execution_count": 4,
   "id": "708a08c0",
   "metadata": {},
   "outputs": [],
   "source": [
    "df_Barack  = df_quotes.loc[df_quotes['label']=='Barack Obama']"
   ]
  },
  {
   "cell_type": "code",
   "execution_count": 12,
   "id": "902e67f9",
   "metadata": {},
   "outputs": [],
   "source": [
    "df_sample = df_Barack[['quotation','colloquial_NaiveBayes','colloquial_contractions']].sample(1000)"
   ]
  },
  {
   "cell_type": "code",
   "execution_count": 13,
   "id": "b64530f5",
   "metadata": {},
   "outputs": [],
   "source": [
    "df_sample.to_csv(path+'quotes_examples_Obama.csv')"
   ]
  },
  {
   "cell_type": "code",
   "execution_count": null,
   "id": "441088e0",
   "metadata": {},
   "outputs": [],
   "source": []
  }
 ],
 "metadata": {
  "kernelspec": {
   "display_name": "Python 3 (ipykernel)",
   "language": "python",
   "name": "python3"
  },
  "language_info": {
   "codemirror_mode": {
    "name": "ipython",
    "version": 3
   },
   "file_extension": ".py",
   "mimetype": "text/x-python",
   "name": "python",
   "nbconvert_exporter": "python",
   "pygments_lexer": "ipython3",
   "version": "3.8.11"
  }
 },
 "nbformat": 4,
 "nbformat_minor": 5
}

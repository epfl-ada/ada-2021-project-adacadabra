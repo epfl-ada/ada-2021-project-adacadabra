{
 "cells": [
  {
   "cell_type": "markdown",
   "id": "27805eef",
   "metadata": {},
   "source": [
    "# Testing trained Naive Bayes classifiers"
   ]
  },
  {
   "cell_type": "markdown",
   "id": "b6578982",
   "metadata": {},
   "source": [
    "## Libraries and functions"
   ]
  },
  {
   "cell_type": "code",
   "execution_count": 1,
   "id": "5d75a6c7",
   "metadata": {},
   "outputs": [
    {
     "data": {
      "application/vnd.jupyter.widget-view+json": {
       "model_id": "ba3b1b9571a64e81818cc353e10b5cdc",
       "version_major": 2,
       "version_minor": 0
      },
      "text/plain": [
       "0it [00:00, ?it/s]"
      ]
     },
     "metadata": {},
     "output_type": "display_data"
    }
   ],
   "source": [
    "import pandas as pd\n",
    "from tqdm import tqdm, notebook\n",
    "notebook.tqdm().pandas()\n",
    "import pickle\n",
    "import numpy as np\n",
    "import nltk\n",
    "from nltk.classify import NaiveBayesClassifier\n",
    "from nltk.sentiment import SentimentAnalyzer\n",
    "from nltk.sentiment.util import *\n",
    "from nltk.tokenize import SpaceTokenizer\n",
    "from sklearn.metrics import confusion_matrix\n",
    "import seaborn as sns\n",
    "import re"
   ]
  },
  {
   "cell_type": "code",
   "execution_count": 2,
   "id": "62815129",
   "metadata": {},
   "outputs": [],
   "source": [
    "def classify_quote(document,model,analyzer):\n",
    "    tokenized_doc= nltk.word_tokenize(document)\n",
    "    features= analyzer.apply_features([(tokenized_doc,\"text\")])\n",
    "    return model.classify(features[0][0])"
   ]
  },
  {
   "cell_type": "markdown",
   "id": "ebcaec2c",
   "metadata": {},
   "source": [
    "## Dataset sample"
   ]
  },
  {
   "cell_type": "code",
   "execution_count": 13,
   "id": "dacdb5ce",
   "metadata": {},
   "outputs": [],
   "source": [
    "df= pd.read_csv(\"classified_politician_quotes.csv\").sample(frac=1).reset_index(drop=True)[:100]\n",
    "del df[\"Unnamed: 0\"]"
   ]
  },
  {
   "cell_type": "markdown",
   "id": "2e96fdff",
   "metadata": {},
   "source": [
    "## Models\n"
   ]
  },
  {
   "cell_type": "code",
   "execution_count": 27,
   "id": "b6745a3d",
   "metadata": {},
   "outputs": [],
   "source": [
    "models_list= [\"contractions\",\"soap_wiki\"]"
   ]
  },
  {
   "cell_type": "code",
   "execution_count": 22,
   "id": "1d2cc2c2",
   "metadata": {},
   "outputs": [
    {
     "data": {
      "application/vnd.jupyter.widget-view+json": {
       "model_id": "66a40a876ae94aaab8643366727814d5",
       "version_major": 2,
       "version_minor": 0
      },
      "text/plain": [
       "  0%|          | 0/100 [00:00<?, ?it/s]"
      ]
     },
     "metadata": {},
     "output_type": "display_data"
    },
    {
     "data": {
      "application/vnd.jupyter.widget-view+json": {
       "model_id": "b7810b1d2e4b401db1470a4c7463fa65",
       "version_major": 2,
       "version_minor": 0
      },
      "text/plain": [
       "  0%|          | 0/100 [00:00<?, ?it/s]"
      ]
     },
     "metadata": {},
     "output_type": "display_data"
    }
   ],
   "source": [
    "for model in models_list:\n",
    "    NBC= pickle.load(open(\"NBC_\"+model+\".pkl\",\"rb\"))\n",
    "    analyzer= pickle.load(open(\"analyzer_\"+model+\".pkl\",\"rb\"))\n",
    "    df[model]= df[\"quotation\"].progress_apply(lambda x : classify_quote(x,NBC,analyzer))"
   ]
  },
  {
   "cell_type": "markdown",
   "id": "63978bcc",
   "metadata": {},
   "source": [
    "## Results CSV file"
   ]
  },
  {
   "cell_type": "code",
   "execution_count": 31,
   "id": "2ac81361",
   "metadata": {},
   "outputs": [],
   "source": [
    "cols_list= [\"quoteID\",\"quotation\",\"colloquial\"]+models_list\n",
    "df[cols_list].to_csv(\"models_results.csv\")"
   ]
  }
 ],
 "metadata": {
  "kernelspec": {
   "display_name": "Python 3 (ipykernel)",
   "language": "python",
   "name": "python3"
  },
  "language_info": {
   "codemirror_mode": {
    "name": "ipython",
    "version": 3
   },
   "file_extension": ".py",
   "mimetype": "text/x-python",
   "name": "python",
   "nbconvert_exporter": "python",
   "pygments_lexer": "ipython3",
   "version": "3.8.11"
  }
 },
 "nbformat": 4,
 "nbformat_minor": 5
}

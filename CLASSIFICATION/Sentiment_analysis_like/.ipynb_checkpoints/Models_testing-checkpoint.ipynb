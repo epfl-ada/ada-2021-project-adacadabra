{
 "cells": [
  {
   "cell_type": "markdown",
   "id": "7a613141",
   "metadata": {},
   "source": [
    "# Testing trained Naive Bayes classifiers"
   ]
  },
  {
   "cell_type": "markdown",
   "id": "7c5db06f",
   "metadata": {},
   "source": [
    "## Libraries and functions"
   ]
  },
  {
   "cell_type": "code",
   "execution_count": 1,
   "id": "18c7785a",
   "metadata": {},
   "outputs": [
    {
     "data": {
      "application/vnd.jupyter.widget-view+json": {
       "model_id": "ec7ebb14a96c4c9284738d88c4278f4a",
       "version_major": 2,
       "version_minor": 0
      },
      "text/plain": [
       "0it [00:00, ?it/s]"
      ]
     },
     "metadata": {},
     "output_type": "display_data"
    }
   ],
   "source": [
    "import pandas as pd\n",
    "from tqdm import tqdm, notebook\n",
    "notebook.tqdm().pandas()\n",
    "import pickle\n",
    "import numpy as np\n",
    "import nltk\n",
    "from nltk.classify import NaiveBayesClassifier\n",
    "from nltk.sentiment import SentimentAnalyzer\n",
    "from nltk.sentiment.util import *\n",
    "from nltk.tokenize import SpaceTokenizer\n",
    "from sklearn.metrics import confusion_matrix\n",
    "import seaborn as sns\n",
    "import matplotlib.pyplot as plt\n",
    "import re"
   ]
  },
  {
   "cell_type": "code",
   "execution_count": 2,
   "id": "e86db376",
   "metadata": {},
   "outputs": [],
   "source": [
    "def classify_quote(document,model,analyzer):\n",
    "    tokenized_doc= nltk.word_tokenize(document)\n",
    "    features= analyzer.apply_features([(tokenized_doc,\"text\")])\n",
    "    return model.classify(features[0][0])"
   ]
  },
  {
   "cell_type": "markdown",
   "id": "8458002c",
   "metadata": {},
   "source": [
    "## Dataset sample"
   ]
  },
  {
   "cell_type": "markdown",
   "id": "ba33f5a0",
   "metadata": {},
   "source": [
    "### loading\n",
    "df= pd.read_csv(\"classified_politician_quotes.csv\").sample(frac=1).reset_index(drop=True)[:100]\n",
    "del df[\"Unnamed: 0\"]\n",
    "### saving for annotation\n",
    "df[[\"quoteID\",\"quotation\",\"colloquial\"]].to_csv(\"test_set.csv\")"
   ]
  },
  {
   "cell_type": "code",
   "execution_count": 3,
   "id": "431f0c6a",
   "metadata": {},
   "outputs": [
    {
     "data": {
      "text/html": [
       "<div>\n",
       "<style scoped>\n",
       "    .dataframe tbody tr th:only-of-type {\n",
       "        vertical-align: middle;\n",
       "    }\n",
       "\n",
       "    .dataframe tbody tr th {\n",
       "        vertical-align: top;\n",
       "    }\n",
       "\n",
       "    .dataframe thead th {\n",
       "        text-align: right;\n",
       "    }\n",
       "</style>\n",
       "<table border=\"1\" class=\"dataframe\">\n",
       "  <thead>\n",
       "    <tr style=\"text-align: right;\">\n",
       "      <th></th>\n",
       "      <th>quoteID</th>\n",
       "      <th>quotation</th>\n",
       "      <th>ground_truth</th>\n",
       "      <th>colloquial</th>\n",
       "    </tr>\n",
       "  </thead>\n",
       "  <tbody>\n",
       "    <tr>\n",
       "      <th>0</th>\n",
       "      <td>2020-02-27-004961</td>\n",
       "      <td>And while I'm conservative,</td>\n",
       "      <td>colloquial</td>\n",
       "      <td>formal</td>\n",
       "    </tr>\n",
       "    <tr>\n",
       "      <th>1</th>\n",
       "      <td>2015-07-17-092457</td>\n",
       "      <td>The transportation and the aviation industries...</td>\n",
       "      <td>formal</td>\n",
       "      <td>formal</td>\n",
       "    </tr>\n",
       "    <tr>\n",
       "      <th>2</th>\n",
       "      <td>2020-02-24-064116</td>\n",
       "      <td>This is true in the UK as it is in the USA, an...</td>\n",
       "      <td>formal</td>\n",
       "      <td>formal</td>\n",
       "    </tr>\n",
       "    <tr>\n",
       "      <th>3</th>\n",
       "      <td>2017-04-22-048189</td>\n",
       "      <td>no one wants to be screamed at for two hours.</td>\n",
       "      <td>colloquial</td>\n",
       "      <td>formal</td>\n",
       "    </tr>\n",
       "    <tr>\n",
       "      <th>4</th>\n",
       "      <td>2019-07-22-043953</td>\n",
       "      <td>President Trump was wrong to suggest that four...</td>\n",
       "      <td>formal</td>\n",
       "      <td>formal</td>\n",
       "    </tr>\n",
       "  </tbody>\n",
       "</table>\n",
       "</div>"
      ],
      "text/plain": [
       "             quoteID                                          quotation  \\\n",
       "0  2020-02-27-004961                        And while I'm conservative,   \n",
       "1  2015-07-17-092457  The transportation and the aviation industries...   \n",
       "2  2020-02-24-064116  This is true in the UK as it is in the USA, an...   \n",
       "3  2017-04-22-048189      no one wants to be screamed at for two hours.   \n",
       "4  2019-07-22-043953  President Trump was wrong to suggest that four...   \n",
       "\n",
       "  ground_truth colloquial  \n",
       "0   colloquial     formal  \n",
       "1       formal     formal  \n",
       "2       formal     formal  \n",
       "3   colloquial     formal  \n",
       "4       formal     formal  "
      ]
     },
     "execution_count": 3,
     "metadata": {},
     "output_type": "execute_result"
    }
   ],
   "source": [
    "### reloading test set\n",
    "df= pd.read_csv(\"test_set.csv\",sep=\";\")\n",
    "df.head()"
   ]
  },
  {
   "cell_type": "markdown",
   "id": "31d3833b",
   "metadata": {},
   "source": [
    "## Models\n"
   ]
  },
  {
   "cell_type": "code",
   "execution_count": 4,
   "id": "a8f90f32",
   "metadata": {},
   "outputs": [],
   "source": [
    "models_list= [\"contractions\",\"soap_wiki\",\"tvm_news\"]"
   ]
  },
  {
   "cell_type": "code",
   "execution_count": 5,
   "id": "f29ce5f8",
   "metadata": {},
   "outputs": [
    {
     "data": {
      "application/vnd.jupyter.widget-view+json": {
       "model_id": "60255c7408fa45b69c358954ab5307d3",
       "version_major": 2,
       "version_minor": 0
      },
      "text/plain": [
       "  0%|          | 0/99 [00:00<?, ?it/s]"
      ]
     },
     "metadata": {},
     "output_type": "display_data"
    },
    {
     "data": {
      "application/vnd.jupyter.widget-view+json": {
       "model_id": "bfb5b03f146b4893ba855940c2ca2c89",
       "version_major": 2,
       "version_minor": 0
      },
      "text/plain": [
       "  0%|          | 0/99 [00:00<?, ?it/s]"
      ]
     },
     "metadata": {},
     "output_type": "display_data"
    },
    {
     "data": {
      "application/vnd.jupyter.widget-view+json": {
       "model_id": "9e92121dfb7c40bc8d3723425b41daa7",
       "version_major": 2,
       "version_minor": 0
      },
      "text/plain": [
       "  0%|          | 0/99 [00:00<?, ?it/s]"
      ]
     },
     "metadata": {},
     "output_type": "display_data"
    }
   ],
   "source": [
    "for model in models_list:\n",
    "    NBC= pickle.load(open(\"NBC_\"+model+\".pkl\",\"rb\"))\n",
    "    analyzer= pickle.load(open(\"analyzer_\"+model+\".pkl\",\"rb\"))\n",
    "    df[model]= df[\"quotation\"].progress_apply(lambda x : classify_quote(x,NBC,analyzer))"
   ]
  },
  {
   "cell_type": "markdown",
   "id": "c4e9e606",
   "metadata": {},
   "source": [
    "## Standard notation for predictions"
   ]
  },
  {
   "cell_type": "code",
   "execution_count": 6,
   "id": "84cd1c55",
   "metadata": {},
   "outputs": [],
   "source": [
    "df[\"colloquial\"].loc[df[\"colloquial\"]==0]= \"colloquial\"\n",
    "df[\"colloquial\"].loc[df[\"colloquial\"]==1]= \"formal\"\n",
    "df[\"soap_wiki\"].loc[df[\"soap_wiki\"]==\"informal\"]= \"colloquial\""
   ]
  },
  {
   "cell_type": "markdown",
   "id": "0dca4198",
   "metadata": {},
   "source": [
    "## Results CSV file"
   ]
  },
  {
   "cell_type": "code",
   "execution_count": 7,
   "id": "cae5086a",
   "metadata": {},
   "outputs": [],
   "source": [
    "cols_list= [\"quoteID\",\"quotation\",\"colloquial\"]+ models_list\n",
    "df[cols_list].to_csv(\"models_results.csv\")"
   ]
  },
  {
   "cell_type": "markdown",
   "id": "7ca0cd1c",
   "metadata": {},
   "source": [
    "## Confusion matrices"
   ]
  },
  {
   "cell_type": "code",
   "execution_count": 8,
   "id": "1831ac7c",
   "metadata": {},
   "outputs": [
    {
     "data": {
      "image/png": "[encoded data removed]",
      "text/plain": [
       "<Figure size 1008x504 with 8 Axes>"
      ]
     },
     "metadata": {
      "needs_background": "light"
     },
     "output_type": "display_data"
    }
   ],
   "source": [
    "classifiers= [\"colloquial\"]+models_list\n",
    "fig, ax = plt.subplots(2, 2, figsize=(14,7))\n",
    "fig.tight_layout()\n",
    "for i in range(len(classifiers)):\n",
    "    cf_matrix = confusion_matrix(df[\"ground_truth\"].tolist(), df[classifiers[i]].tolist())\n",
    "    ax[i//2,i%2] = sns.heatmap(cf_matrix, annot=True, cmap='Blues', ax= ax[i//2,i%2])\n",
    "    ax[i//2,i%2].set_title('Confusion matrix of classifier '+classifiers[i]);\n",
    "    ax[i//2,i%2].set_xlabel('\\nPredicted Values')\n",
    "    ax[i//2,i%2].set_ylabel('Actual Values ');\n",
    "    ax[i//2,i%2].xaxis.set_ticklabels(['Colloquial','Formal'])\n",
    "    ax[i//2,i%2].yaxis.set_ticklabels(['Colloquial','Formal'])"
   ]
  },
  {
   "cell_type": "code",
   "execution_count": 139,
   "id": "350936d6",
   "metadata": {},
   "outputs": [
    {
     "data": {
      "text/plain": [
       "colloquial    56\n",
       "formal        43\n",
       "Name: ground_truth, dtype: int64"
      ]
     },
     "execution_count": 139,
     "metadata": {},
     "output_type": "execute_result"
    }
   ],
   "source": [
    "df[\"ground_truth\"].value_counts()"
   ]
  },
  {
   "cell_type": "code",
   "execution_count": 12,
   "id": "e7f56acc",
   "metadata": {},
   "outputs": [
    {
     "data": {
      "text/plain": [
       "0.7272727272727273"
      ]
     },
     "execution_count": 12,
     "metadata": {},
     "output_type": "execute_result"
    }
   ],
   "source": [
    "results= []\n",
    "for i in range(len(df)):\n",
    "    if df[\"ground_truth\"].loc[i]==df[\"soap_wiki\"].loc[i]:\n",
    "        results.append(1)\n",
    "    else:\n",
    "        results.append(0)\n",
    "sum(results)/len(results)"
   ]
  },
  {
   "cell_type": "code",
   "execution_count": null,
   "id": "250f4301",
   "metadata": {},
   "outputs": [],
   "source": []
  }
 ],
 "metadata": {
  "kernelspec": {
   "display_name": "Python 3 (ipykernel)",
   "language": "python",
   "name": "python3"
  },
  "language_info": {
   "codemirror_mode": {
    "name": "ipython",
    "version": 3
   },
   "file_extension": ".py",
   "mimetype": "text/x-python",
   "name": "python",
   "nbconvert_exporter": "python",
   "pygments_lexer": "ipython3",
   "version": "3.8.11"
  }
 },
 "nbformat": 4,
 "nbformat_minor": 5
}

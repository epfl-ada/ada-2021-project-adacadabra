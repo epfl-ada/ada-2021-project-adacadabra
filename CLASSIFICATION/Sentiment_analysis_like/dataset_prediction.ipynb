{
 "cells": [
  {
   "cell_type": "code",
   "execution_count": 1,
   "id": "f453c04b",
   "metadata": {},
   "outputs": [
    {
     "data": {
      "application/vnd.jupyter.widget-view+json": {
       "model_id": "259decd7829b4e2da115f5d9de2d04f4",
       "version_major": 2,
       "version_minor": 0
      },
      "text/plain": [
       "0it [00:00, ?it/s]"
      ]
     },
     "metadata": {},
     "output_type": "display_data"
    }
   ],
   "source": [
    "import pandas as pd\n",
    "from tqdm import tqdm, notebook\n",
    "notebook.tqdm().pandas()\n",
    "import pickle\n",
    "import numpy as np\n",
    "import nltk\n",
    "from nltk.classify import NaiveBayesClassifier\n",
    "from nltk.sentiment import SentimentAnalyzer\n",
    "from nltk.sentiment.util import *\n",
    "from nltk.tokenize import SpaceTokenizer\n",
    "from sklearn.metrics import confusion_matrix\n",
    "import seaborn as sns\n",
    "import matplotlib.pyplot as plt\n",
    "import re"
   ]
  },
  {
   "cell_type": "code",
   "execution_count": 2,
   "id": "7185ab67",
   "metadata": {},
   "outputs": [],
   "source": [
    "def classify_quote(document,model,analyzer):\n",
    "    tokenized_doc= nltk.word_tokenize(document)\n",
    "    features= analyzer.apply_features([(tokenized_doc,\"text\")])\n",
    "    return model.classify(features[0][0])"
   ]
  },
  {
   "cell_type": "code",
   "execution_count": 3,
   "id": "cf4fb99f",
   "metadata": {},
   "outputs": [
    {
     "data": {
      "text/html": [
       "<div>\n",
       "<style scoped>\n",
       "    .dataframe tbody tr th:only-of-type {\n",
       "        vertical-align: middle;\n",
       "    }\n",
       "\n",
       "    .dataframe tbody tr th {\n",
       "        vertical-align: top;\n",
       "    }\n",
       "\n",
       "    .dataframe thead th {\n",
       "        text-align: right;\n",
       "    }\n",
       "</style>\n",
       "<table border=\"1\" class=\"dataframe\">\n",
       "  <thead>\n",
       "    <tr style=\"text-align: right;\">\n",
       "      <th></th>\n",
       "      <th>quoteID</th>\n",
       "      <th>quotation</th>\n",
       "      <th>speaker</th>\n",
       "      <th>qid_unique</th>\n",
       "      <th>date</th>\n",
       "      <th>urls</th>\n",
       "      <th>p1</th>\n",
       "      <th>p2</th>\n",
       "      <th>delta_p</th>\n",
       "      <th>year</th>\n",
       "      <th>...</th>\n",
       "      <th>US_congress_bio_ID</th>\n",
       "      <th>occupation</th>\n",
       "      <th>party</th>\n",
       "      <th>academic_degree</th>\n",
       "      <th>id</th>\n",
       "      <th>candidacy</th>\n",
       "      <th>type</th>\n",
       "      <th>religion</th>\n",
       "      <th>age</th>\n",
       "      <th>bi_party</th>\n",
       "    </tr>\n",
       "  </thead>\n",
       "  <tbody>\n",
       "    <tr>\n",
       "      <th>0</th>\n",
       "      <td>2015-04-16-012993</td>\n",
       "      <td>Come, Son, Let Me Tell You A Lie,</td>\n",
       "      <td>Robert Johnson</td>\n",
       "      <td>Q16215328</td>\n",
       "      <td>2015-04-16 12:17:09</td>\n",
       "      <td>[http://mysanantonio.com/entertainment/article...</td>\n",
       "      <td>0.6719</td>\n",
       "      <td>0.2895</td>\n",
       "      <td>0.3824</td>\n",
       "      <td>2015</td>\n",
       "      <td>...</td>\n",
       "      <td>None</td>\n",
       "      <td>[Q40348, Q82955]</td>\n",
       "      <td>[Q29552]</td>\n",
       "      <td>None</td>\n",
       "      <td>Q16215328</td>\n",
       "      <td>None</td>\n",
       "      <td>item</td>\n",
       "      <td>None</td>\n",
       "      <td>46.0</td>\n",
       "      <td>Democrat</td>\n",
       "    </tr>\n",
       "    <tr>\n",
       "      <th>1</th>\n",
       "      <td>2015-05-09-008197</td>\n",
       "      <td>Everybody grieves in their own way. I just wan...</td>\n",
       "      <td>Robert Johnson</td>\n",
       "      <td>Q16215328</td>\n",
       "      <td>2015-05-09 09:25:48</td>\n",
       "      <td>[http://www.foxbaltimore.com/news/features/top...</td>\n",
       "      <td>0.6130</td>\n",
       "      <td>0.2622</td>\n",
       "      <td>0.3508</td>\n",
       "      <td>2015</td>\n",
       "      <td>...</td>\n",
       "      <td>None</td>\n",
       "      <td>[Q40348, Q82955]</td>\n",
       "      <td>[Q29552]</td>\n",
       "      <td>None</td>\n",
       "      <td>Q16215328</td>\n",
       "      <td>None</td>\n",
       "      <td>item</td>\n",
       "      <td>None</td>\n",
       "      <td>46.0</td>\n",
       "      <td>Democrat</td>\n",
       "    </tr>\n",
       "    <tr>\n",
       "      <th>2</th>\n",
       "      <td>2015-07-31-011595</td>\n",
       "      <td>But a vast minority of sex assault victims are...</td>\n",
       "      <td>Robert Johnson</td>\n",
       "      <td>Q16215328</td>\n",
       "      <td>2015-07-31 15:21:13</td>\n",
       "      <td>[http://pix11.com/2015/07/31/men-convicted-of-...</td>\n",
       "      <td>0.9152</td>\n",
       "      <td>0.0848</td>\n",
       "      <td>0.8304</td>\n",
       "      <td>2015</td>\n",
       "      <td>...</td>\n",
       "      <td>None</td>\n",
       "      <td>[Q40348, Q82955]</td>\n",
       "      <td>[Q29552]</td>\n",
       "      <td>None</td>\n",
       "      <td>Q16215328</td>\n",
       "      <td>None</td>\n",
       "      <td>item</td>\n",
       "      <td>None</td>\n",
       "      <td>46.0</td>\n",
       "      <td>Democrat</td>\n",
       "    </tr>\n",
       "    <tr>\n",
       "      <th>3</th>\n",
       "      <td>2015-11-05-133940</td>\n",
       "      <td>We are running major law offices with major re...</td>\n",
       "      <td>Robert Johnson</td>\n",
       "      <td>Q16215328</td>\n",
       "      <td>2015-11-05 07:30:00</td>\n",
       "      <td>[http://www.nydailynews.com/new-york/exclusive...</td>\n",
       "      <td>0.7218</td>\n",
       "      <td>0.2288</td>\n",
       "      <td>0.4930</td>\n",
       "      <td>2015</td>\n",
       "      <td>...</td>\n",
       "      <td>None</td>\n",
       "      <td>[Q40348, Q82955]</td>\n",
       "      <td>[Q29552]</td>\n",
       "      <td>None</td>\n",
       "      <td>Q16215328</td>\n",
       "      <td>None</td>\n",
       "      <td>item</td>\n",
       "      <td>None</td>\n",
       "      <td>46.0</td>\n",
       "      <td>Democrat</td>\n",
       "    </tr>\n",
       "    <tr>\n",
       "      <th>4</th>\n",
       "      <td>2015-12-23-026592</td>\n",
       "      <td>I did footings, I did walls. Right now, I'm up...</td>\n",
       "      <td>Robert Johnson</td>\n",
       "      <td>Q16215328</td>\n",
       "      <td>2015-12-23 14:38:25</td>\n",
       "      <td>[http://www.mprnews.org/story/2015/10/23/vikes...</td>\n",
       "      <td>0.7711</td>\n",
       "      <td>0.1818</td>\n",
       "      <td>0.5893</td>\n",
       "      <td>2015</td>\n",
       "      <td>...</td>\n",
       "      <td>None</td>\n",
       "      <td>[Q40348, Q82955]</td>\n",
       "      <td>[Q29552]</td>\n",
       "      <td>None</td>\n",
       "      <td>Q16215328</td>\n",
       "      <td>None</td>\n",
       "      <td>item</td>\n",
       "      <td>None</td>\n",
       "      <td>46.0</td>\n",
       "      <td>Democrat</td>\n",
       "    </tr>\n",
       "  </tbody>\n",
       "</table>\n",
       "<p>5 rows × 28 columns</p>\n",
       "</div>"
      ],
      "text/plain": [
       "             quoteID                                          quotation  \\\n",
       "0  2015-04-16-012993                  Come, Son, Let Me Tell You A Lie,   \n",
       "1  2015-05-09-008197  Everybody grieves in their own way. I just wan...   \n",
       "2  2015-07-31-011595  But a vast minority of sex assault victims are...   \n",
       "3  2015-11-05-133940  We are running major law offices with major re...   \n",
       "4  2015-12-23-026592  I did footings, I did walls. Right now, I'm up...   \n",
       "\n",
       "          speaker qid_unique                date  \\\n",
       "0  Robert Johnson  Q16215328 2015-04-16 12:17:09   \n",
       "1  Robert Johnson  Q16215328 2015-05-09 09:25:48   \n",
       "2  Robert Johnson  Q16215328 2015-07-31 15:21:13   \n",
       "3  Robert Johnson  Q16215328 2015-11-05 07:30:00   \n",
       "4  Robert Johnson  Q16215328 2015-12-23 14:38:25   \n",
       "\n",
       "                                                urls      p1      p2  delta_p  \\\n",
       "0  [http://mysanantonio.com/entertainment/article...  0.6719  0.2895   0.3824   \n",
       "1  [http://www.foxbaltimore.com/news/features/top...  0.6130  0.2622   0.3508   \n",
       "2  [http://pix11.com/2015/07/31/men-convicted-of-...  0.9152  0.0848   0.8304   \n",
       "3  [http://www.nydailynews.com/new-york/exclusive...  0.7218  0.2288   0.4930   \n",
       "4  [http://www.mprnews.org/story/2015/10/23/vikes...  0.7711  0.1818   0.5893   \n",
       "\n",
       "   year  ...  US_congress_bio_ID        occupation     party  academic_degree  \\\n",
       "0  2015  ...                None  [Q40348, Q82955]  [Q29552]             None   \n",
       "1  2015  ...                None  [Q40348, Q82955]  [Q29552]             None   \n",
       "2  2015  ...                None  [Q40348, Q82955]  [Q29552]             None   \n",
       "3  2015  ...                None  [Q40348, Q82955]  [Q29552]             None   \n",
       "4  2015  ...                None  [Q40348, Q82955]  [Q29552]             None   \n",
       "\n",
       "          id candidacy  type religion   age  bi_party  \n",
       "0  Q16215328      None  item     None  46.0  Democrat  \n",
       "1  Q16215328      None  item     None  46.0  Democrat  \n",
       "2  Q16215328      None  item     None  46.0  Democrat  \n",
       "3  Q16215328      None  item     None  46.0  Democrat  \n",
       "4  Q16215328      None  item     None  46.0  Democrat  \n",
       "\n",
       "[5 rows x 28 columns]"
      ]
     },
     "execution_count": 3,
     "metadata": {},
     "output_type": "execute_result"
    }
   ],
   "source": [
    "### reloading test set\n",
    "df= pd.read_json(\"../../../df_quotes_pol_all.json.bz2\",compression=\"bz2\",lines=True)\n",
    "df.head()"
   ]
  },
  {
   "cell_type": "code",
   "execution_count": null,
   "id": "8a62fa0c",
   "metadata": {},
   "outputs": [
    {
     "data": {
      "application/vnd.jupyter.widget-view+json": {
       "model_id": "4028aa0ac1bd49d4be441bf8ed9f8e05",
       "version_major": 2,
       "version_minor": 0
      },
      "text/plain": [
       "  0%|          | 0/564658 [00:00<?, ?it/s]"
      ]
     },
     "metadata": {},
     "output_type": "display_data"
    }
   ],
   "source": [
    "NBC= pickle.load(open(\"NBC_soap_wiki.pkl\",\"rb\"))\n",
    "analyzer= pickle.load(open(\"analyzer_soap_wiki.pkl\",\"rb\"))\n",
    "df[\"language_level\"]= df[\"quotation\"].progress_apply(lambda x : classify_quote(x,NBC,analyzer))"
   ]
  },
  {
   "cell_type": "code",
   "execution_count": 12,
   "id": "b017de1d",
   "metadata": {},
   "outputs": [
    {
     "data": {
      "text/plain": [
       "0    informal\n",
       "1      formal\n",
       "2      formal\n",
       "3      formal\n",
       "4    informal\n",
       "Name: colloquial_NaiveBayes, dtype: object"
      ]
     },
     "execution_count": 12,
     "metadata": {},
     "output_type": "execute_result"
    }
   ],
   "source": [
    "df[\"colloquial_NaiveBayes\"]= df[\"language_level\"]\n",
    "df[\"colloquial_NaiveBayes\"].head()"
   ]
  }
 ],
 "metadata": {
  "kernelspec": {
   "display_name": "Python 3 (ipykernel)",
   "language": "python",
   "name": "python3"
  },
  "language_info": {
   "codemirror_mode": {
    "name": "ipython",
    "version": 3
   },
   "file_extension": ".py",
   "mimetype": "text/x-python",
   "name": "python",
   "nbconvert_exporter": "python",
   "pygments_lexer": "ipython3",
   "version": "3.8.11"
  }
 },
 "nbformat": 4,
 "nbformat_minor": 5
}

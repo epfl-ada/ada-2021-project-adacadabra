{
 "cells": [
  {
   "cell_type": "markdown",
   "id": "804c1934",
   "metadata": {},
   "source": [
    "# Quotes classification\n",
    "\n",
    "In this notebook, we treat each quote of the corpus and assign them a binary score determining if the quote is formal or colloquial according the dictionnary of english contractions to avoid in wikipedia articles"
   ]
  },
  {
   "cell_type": "markdown",
   "id": "f695b871",
   "metadata": {},
   "source": [
    "## Packages and functions"
   ]
  },
  {
   "cell_type": "code",
   "execution_count": 17,
   "id": "801bcdeb",
   "metadata": {},
   "outputs": [
    {
     "data": {
      "application/vnd.jupyter.widget-view+json": {
       "model_id": "14bf17133cf2408e8fd313cecbe9bbf6",
       "version_major": 2,
       "version_minor": 0
      },
      "text/plain": [
       "0it [00:00, ?it/s]"
      ]
     },
     "metadata": {},
     "output_type": "display_data"
    }
   ],
   "source": [
    "#packages\n",
    "import pandas as pd\n",
    "from tqdm import tqdm, notebook\n",
    "notebook.tqdm().pandas()"
   ]
  },
  {
   "cell_type": "code",
   "execution_count": 18,
   "id": "5bfc9939",
   "metadata": {},
   "outputs": [],
   "source": [
    "#function to check if strin is contained and update dico\n",
    "def isinside1(test_string,test_list):\n",
    "    global dico\n",
    "    res = [ele for ele in test_list if(ele in test_string)]\n",
    "    #print(res)\n",
    "    if res:\n",
    "        for ele in res:\n",
    "            i= test_list.index(ele)\n",
    "            dico[\"occurences\"].loc[i]= dico[\"occurences\"].loc[i]+1\n",
    "        return 1\n",
    "    return 0\n",
    "\n",
    "def isinside2(test_string,test_list):\n",
    "    if any(ext in test_string for ext in test_list):\n",
    "        return 1\n",
    "    return 0"
   ]
  },
  {
   "cell_type": "markdown",
   "id": "f3a5743b",
   "metadata": {},
   "source": [
    "## Dictionnary loading\n",
    "The dictionnary is compiled in the notebook `contractions_dictionary.ipynb` and is based on the [Wikipedia English contractions list](https://en.wikipedia.org/wiki/Wikipedia:List_of_English_contractions).<br>\n",
    "A column name \"occurences\" is created in order to count how much time a word is detected.<br>\n",
    "A list is made from the dictionary words for comparison"
   ]
  },
  {
   "cell_type": "code",
   "execution_count": 19,
   "id": "1fc7bea3",
   "metadata": {},
   "outputs": [],
   "source": [
    "dico= pd.read_pickle(\"./english_contractions.pkl\")\n",
    "dico[\"occurences\"]=0\n",
    "dicolist= dico[\"word\"].unique().tolist()"
   ]
  },
  {
   "cell_type": "markdown",
   "id": "7cc77e15",
   "metadata": {},
   "source": [
    "## Quotebank sample loading"
   ]
  },
  {
   "cell_type": "code",
   "execution_count": 20,
   "id": "07eea2e5",
   "metadata": {},
   "outputs": [],
   "source": [
    "df= pd.read_json(\"../../../Sample_classified_1Mio_v1.json.bz2\",compression=\"bz2\",lines=True)\n",
    "#df= pd.read_json(\"../../../polUS_quotes_speakers_merged.json.bz2\",compression=\"bz2\",lines=True)"
   ]
  },
  {
   "cell_type": "markdown",
   "id": "e7794903",
   "metadata": {},
   "source": [
    "### Quotes formatting for comparison : lowercase and space at the beginning and end\n",
    "Note that tokenisation has not been used as some of the words or the dictionary consist in several tokens (for exemple, isn't is composed of tokens \"is\" and \"n't\""
   ]
  },
  {
   "cell_type": "code",
   "execution_count": 21,
   "id": "a88abb38",
   "metadata": {},
   "outputs": [
    {
     "data": {
      "application/vnd.jupyter.widget-view+json": {
       "model_id": "c0b4ccb4d6bf406bb298b7e30ef8bb03",
       "version_major": 2,
       "version_minor": 0
      },
      "text/plain": [
       "  0%|          | 0/668534 [00:00<?, ?it/s]"
      ]
     },
     "metadata": {},
     "output_type": "display_data"
    }
   ],
   "source": [
    "df_tested_quotes= df[\"quotation\"].progress_apply(lambda x : \" \"+x.lower()+\" \")"
   ]
  },
  {
   "cell_type": "markdown",
   "id": "cea21205",
   "metadata": {},
   "source": [
    "## Classification using the full dictionary\n",
    "The dataset quotes are classified a first time using the full dictionary"
   ]
  },
  {
   "cell_type": "markdown",
   "id": "73beb55a",
   "metadata": {},
   "source": [
    "### Classifying"
   ]
  },
  {
   "cell_type": "code",
   "execution_count": 22,
   "id": "fd3b1516",
   "metadata": {},
   "outputs": [
    {
     "data": {
      "application/vnd.jupyter.widget-view+json": {
       "model_id": "012ad0d054284459b098ae1f616da5dc",
       "version_major": 2,
       "version_minor": 0
      },
      "text/plain": [
       "  0%|          | 0/668534 [00:00<?, ?it/s]"
      ]
     },
     "metadata": {},
     "output_type": "display_data"
    },
    {
     "name": "stderr",
     "output_type": "stream",
     "text": [
      "/Users/nicolasantacroce/opt/anaconda3/envs/adaenv/lib/python3.8/site-packages/pandas/core/indexing.py:1732: SettingWithCopyWarning: \n",
      "A value is trying to be set on a copy of a slice from a DataFrame\n",
      "\n",
      "See the caveats in the documentation: https://pandas.pydata.org/pandas-docs/stable/user_guide/indexing.html#returning-a-view-versus-a-copy\n",
      "  self._setitem_single_block(indexer, value, name)\n"
     ]
    }
   ],
   "source": [
    "df[\"colloquial\"]= df_tested_quotes.progress_apply(lambda x : isinside1(x,dicolist))"
   ]
  },
  {
   "cell_type": "markdown",
   "id": "f3f7525f",
   "metadata": {},
   "source": [
    "### Quotes statistics"
   ]
  },
  {
   "cell_type": "code",
   "execution_count": 23,
   "id": "0bf1b484",
   "metadata": {},
   "outputs": [
    {
     "data": {
      "text/html": [
       "<div>\n",
       "<style scoped>\n",
       "    .dataframe tbody tr th:only-of-type {\n",
       "        vertical-align: middle;\n",
       "    }\n",
       "\n",
       "    .dataframe tbody tr th {\n",
       "        vertical-align: top;\n",
       "    }\n",
       "\n",
       "    .dataframe thead th {\n",
       "        text-align: right;\n",
       "    }\n",
       "</style>\n",
       "<table border=\"1\" class=\"dataframe\">\n",
       "  <thead>\n",
       "    <tr style=\"text-align: right;\">\n",
       "      <th></th>\n",
       "      <th>numOccurrences</th>\n",
       "      <th>p1</th>\n",
       "      <th>p2</th>\n",
       "      <th>delta_p</th>\n",
       "      <th>year</th>\n",
       "      <th>colloquial</th>\n",
       "    </tr>\n",
       "  </thead>\n",
       "  <tbody>\n",
       "    <tr>\n",
       "      <th>count</th>\n",
       "      <td>668534.00000</td>\n",
       "      <td>668534.000000</td>\n",
       "      <td>668534.000000</td>\n",
       "      <td>668534.000000</td>\n",
       "      <td>668534.000000</td>\n",
       "      <td>668534.000000</td>\n",
       "    </tr>\n",
       "    <tr>\n",
       "      <th>mean</th>\n",
       "      <td>3.55898</td>\n",
       "      <td>0.818245</td>\n",
       "      <td>0.161096</td>\n",
       "      <td>0.657149</td>\n",
       "      <td>2017.536327</td>\n",
       "      <td>0.383233</td>\n",
       "    </tr>\n",
       "    <tr>\n",
       "      <th>std</th>\n",
       "      <td>22.64603</td>\n",
       "      <td>0.095738</td>\n",
       "      <td>0.081709</td>\n",
       "      <td>0.173361</td>\n",
       "      <td>1.770882</td>\n",
       "      <td>0.486175</td>\n",
       "    </tr>\n",
       "    <tr>\n",
       "      <th>min</th>\n",
       "      <td>1.00000</td>\n",
       "      <td>0.500100</td>\n",
       "      <td>0.008600</td>\n",
       "      <td>0.300000</td>\n",
       "      <td>2015.000000</td>\n",
       "      <td>0.000000</td>\n",
       "    </tr>\n",
       "    <tr>\n",
       "      <th>25%</th>\n",
       "      <td>1.00000</td>\n",
       "      <td>0.747400</td>\n",
       "      <td>0.093400</td>\n",
       "      <td>0.521900</td>\n",
       "      <td>2016.000000</td>\n",
       "      <td>0.000000</td>\n",
       "    </tr>\n",
       "    <tr>\n",
       "      <th>50%</th>\n",
       "      <td>1.00000</td>\n",
       "      <td>0.830100</td>\n",
       "      <td>0.152600</td>\n",
       "      <td>0.674900</td>\n",
       "      <td>2018.000000</td>\n",
       "      <td>0.000000</td>\n",
       "    </tr>\n",
       "    <tr>\n",
       "      <th>75%</th>\n",
       "      <td>2.00000</td>\n",
       "      <td>0.897300</td>\n",
       "      <td>0.221900</td>\n",
       "      <td>0.802200</td>\n",
       "      <td>2019.000000</td>\n",
       "      <td>1.000000</td>\n",
       "    </tr>\n",
       "    <tr>\n",
       "      <th>max</th>\n",
       "      <td>12086.00000</td>\n",
       "      <td>0.990800</td>\n",
       "      <td>0.350000</td>\n",
       "      <td>0.982100</td>\n",
       "      <td>2020.000000</td>\n",
       "      <td>1.000000</td>\n",
       "    </tr>\n",
       "  </tbody>\n",
       "</table>\n",
       "</div>"
      ],
      "text/plain": [
       "       numOccurrences             p1             p2        delta_p  \\\n",
       "count    668534.00000  668534.000000  668534.000000  668534.000000   \n",
       "mean          3.55898       0.818245       0.161096       0.657149   \n",
       "std          22.64603       0.095738       0.081709       0.173361   \n",
       "min           1.00000       0.500100       0.008600       0.300000   \n",
       "25%           1.00000       0.747400       0.093400       0.521900   \n",
       "50%           1.00000       0.830100       0.152600       0.674900   \n",
       "75%           2.00000       0.897300       0.221900       0.802200   \n",
       "max       12086.00000       0.990800       0.350000       0.982100   \n",
       "\n",
       "                year     colloquial  \n",
       "count  668534.000000  668534.000000  \n",
       "mean     2017.536327       0.383233  \n",
       "std         1.770882       0.486175  \n",
       "min      2015.000000       0.000000  \n",
       "25%      2016.000000       0.000000  \n",
       "50%      2018.000000       0.000000  \n",
       "75%      2019.000000       1.000000  \n",
       "max      2020.000000       1.000000  "
      ]
     },
     "execution_count": 23,
     "metadata": {},
     "output_type": "execute_result"
    }
   ],
   "source": [
    "df.describe()"
   ]
  },
  {
   "cell_type": "markdown",
   "id": "2f74439b",
   "metadata": {},
   "source": [
    "About 38.3% of quotes are qualified as colloquial."
   ]
  },
  {
   "cell_type": "markdown",
   "id": "a806092e",
   "metadata": {},
   "source": [
    "### Most common words"
   ]
  },
  {
   "cell_type": "code",
   "execution_count": 24,
   "id": "78c4c18a",
   "metadata": {},
   "outputs": [
    {
     "data": {
      "text/html": [
       "<div>\n",
       "<style scoped>\n",
       "    .dataframe tbody tr th:only-of-type {\n",
       "        vertical-align: middle;\n",
       "    }\n",
       "\n",
       "    .dataframe tbody tr th {\n",
       "        vertical-align: top;\n",
       "    }\n",
       "\n",
       "    .dataframe thead th {\n",
       "        text-align: right;\n",
       "    }\n",
       "</style>\n",
       "<table border=\"1\" class=\"dataframe\">\n",
       "  <thead>\n",
       "    <tr style=\"text-align: right;\">\n",
       "      <th></th>\n",
       "      <th>word</th>\n",
       "      <th>occurences</th>\n",
       "      <th>occurence_fraction</th>\n",
       "    </tr>\n",
       "  </thead>\n",
       "  <tbody>\n",
       "    <tr>\n",
       "      <th>63</th>\n",
       "      <td>it's</td>\n",
       "      <td>68314</td>\n",
       "      <td>0.102185</td>\n",
       "    </tr>\n",
       "    <tr>\n",
       "      <th>19</th>\n",
       "      <td>don't</td>\n",
       "      <td>32580</td>\n",
       "      <td>0.048733</td>\n",
       "    </tr>\n",
       "    <tr>\n",
       "      <th>54</th>\n",
       "      <td>i'm</td>\n",
       "      <td>32185</td>\n",
       "      <td>0.048143</td>\n",
       "    </tr>\n",
       "    <tr>\n",
       "      <th>102</th>\n",
       "      <td>that's</td>\n",
       "      <td>28226</td>\n",
       "      <td>0.042221</td>\n",
       "    </tr>\n",
       "    <tr>\n",
       "      <th>129</th>\n",
       "      <td>we're</td>\n",
       "      <td>26724</td>\n",
       "      <td>0.039974</td>\n",
       "    </tr>\n",
       "    <tr>\n",
       "      <th>42</th>\n",
       "      <td>he's</td>\n",
       "      <td>17141</td>\n",
       "      <td>0.025640</td>\n",
       "    </tr>\n",
       "    <tr>\n",
       "      <th>107</th>\n",
       "      <td>there's</td>\n",
       "      <td>14634</td>\n",
       "      <td>0.021890</td>\n",
       "    </tr>\n",
       "    <tr>\n",
       "      <th>130</th>\n",
       "      <td>we've</td>\n",
       "      <td>14475</td>\n",
       "      <td>0.021652</td>\n",
       "    </tr>\n",
       "    <tr>\n",
       "      <th>59</th>\n",
       "      <td>i've</td>\n",
       "      <td>13896</td>\n",
       "      <td>0.020786</td>\n",
       "    </tr>\n",
       "    <tr>\n",
       "      <th>17</th>\n",
       "      <td>didn't</td>\n",
       "      <td>12503</td>\n",
       "      <td>0.018702</td>\n",
       "    </tr>\n",
       "    <tr>\n",
       "      <th>6</th>\n",
       "      <td>can't</td>\n",
       "      <td>11439</td>\n",
       "      <td>0.017111</td>\n",
       "    </tr>\n",
       "    <tr>\n",
       "      <th>174</th>\n",
       "      <td>you're</td>\n",
       "      <td>10881</td>\n",
       "      <td>0.016276</td>\n",
       "    </tr>\n",
       "    <tr>\n",
       "      <th>112</th>\n",
       "      <td>they're</td>\n",
       "      <td>10873</td>\n",
       "      <td>0.016264</td>\n",
       "    </tr>\n",
       "    <tr>\n",
       "      <th>18</th>\n",
       "      <td>doesn't</td>\n",
       "      <td>7385</td>\n",
       "      <td>0.011047</td>\n",
       "    </tr>\n",
       "    <tr>\n",
       "      <th>128</th>\n",
       "      <td>we'll</td>\n",
       "      <td>6610</td>\n",
       "      <td>0.009887</td>\n",
       "    </tr>\n",
       "    <tr>\n",
       "      <th>125</th>\n",
       "      <td>wasn't</td>\n",
       "      <td>5208</td>\n",
       "      <td>0.007790</td>\n",
       "    </tr>\n",
       "    <tr>\n",
       "      <th>49</th>\n",
       "      <td>i'd</td>\n",
       "      <td>4148</td>\n",
       "      <td>0.006205</td>\n",
       "    </tr>\n",
       "    <tr>\n",
       "      <th>53</th>\n",
       "      <td>i'll</td>\n",
       "      <td>4109</td>\n",
       "      <td>0.006146</td>\n",
       "    </tr>\n",
       "    <tr>\n",
       "      <th>136</th>\n",
       "      <td>what's</td>\n",
       "      <td>3986</td>\n",
       "      <td>0.005962</td>\n",
       "    </tr>\n",
       "    <tr>\n",
       "      <th>175</th>\n",
       "      <td>you've</td>\n",
       "      <td>3624</td>\n",
       "      <td>0.005421</td>\n",
       "    </tr>\n",
       "    <tr>\n",
       "      <th>159</th>\n",
       "      <td>won't</td>\n",
       "      <td>3467</td>\n",
       "      <td>0.005186</td>\n",
       "    </tr>\n",
       "    <tr>\n",
       "      <th>38</th>\n",
       "      <td>haven't</td>\n",
       "      <td>3441</td>\n",
       "      <td>0.005147</td>\n",
       "    </tr>\n",
       "    <tr>\n",
       "      <th>11</th>\n",
       "      <td>couldn't</td>\n",
       "      <td>3381</td>\n",
       "      <td>0.005057</td>\n",
       "    </tr>\n",
       "    <tr>\n",
       "      <th>113</th>\n",
       "      <td>they've</td>\n",
       "      <td>3332</td>\n",
       "      <td>0.004984</td>\n",
       "    </tr>\n",
       "    <tr>\n",
       "      <th>90</th>\n",
       "      <td>she's</td>\n",
       "      <td>3124</td>\n",
       "      <td>0.004673</td>\n",
       "    </tr>\n",
       "  </tbody>\n",
       "</table>\n",
       "</div>"
      ],
      "text/plain": [
       "           word  occurences  occurence_fraction\n",
       "63        it's        68314            0.102185\n",
       "19       don't        32580            0.048733\n",
       "54         i'm        32185            0.048143\n",
       "102     that's        28226            0.042221\n",
       "129      we're        26724            0.039974\n",
       "42        he's        17141            0.025640\n",
       "107    there's        14634            0.021890\n",
       "130      we've        14475            0.021652\n",
       "59        i've        13896            0.020786\n",
       "17      didn't        12503            0.018702\n",
       "6        can't        11439            0.017111\n",
       "174     you're        10881            0.016276\n",
       "112    they're        10873            0.016264\n",
       "18     doesn't         7385            0.011047\n",
       "128      we'll         6610            0.009887\n",
       "125     wasn't         5208            0.007790\n",
       "49         i'd         4148            0.006205\n",
       "53        i'll         4109            0.006146\n",
       "136     what's         3986            0.005962\n",
       "175     you've         3624            0.005421\n",
       "159      won't         3467            0.005186\n",
       "38     haven't         3441            0.005147\n",
       "11    couldn't         3381            0.005057\n",
       "113    they've         3332            0.004984\n",
       "90       she's         3124            0.004673"
      ]
     },
     "execution_count": 24,
     "metadata": {},
     "output_type": "execute_result"
    }
   ],
   "source": [
    "dico[\"occurence_fraction\"]= dico[\"occurences\"]/df[\"colloquial\"].count()\n",
    "dico.sort_values(by='occurence_fraction', ascending=False)[:25]"
   ]
  },
  {
   "cell_type": "code",
   "execution_count": 25,
   "id": "0ab77a76",
   "metadata": {},
   "outputs": [
    {
     "data": {
      "text/plain": [
       "<AxesSubplot:title={'center':'Word occurences (log-log)'}, xlabel='word rank', ylabel='# of word occurences'>"
      ]
     },
     "execution_count": 25,
     "metadata": {},
     "output_type": "execute_result"
    },
    {
     "data": {
      "image/png": "[encoded data removed]",
      "text/plain": [
       "<Figure size 432x288 with 1 Axes>"
      ]
     },
     "metadata": {
      "needs_background": "light"
     },
     "output_type": "display_data"
    }
   ],
   "source": [
    "dico.sort_values(by='occurence_fraction', ascending=False).reset_index()[\"occurences\"].plot(\n",
    "    xlabel=\"word rank\", ylabel= \"# of word occurences\", title= \"Word occurences (log-log)\",logy=True, logx=True)"
   ]
  },
  {
   "cell_type": "markdown",
   "id": "8d8dc116",
   "metadata": {},
   "source": [
    "Surprisingly, words use do not seem to follow a zipf law (the line would be straight if it was the case)"
   ]
  },
  {
   "cell_type": "markdown",
   "id": "046758cd",
   "metadata": {},
   "source": [
    "## Classification using the reduced dictionary\n",
    "The dataset quotes are classified again using a dictionary from which the most common words have been removed"
   ]
  },
  {
   "cell_type": "markdown",
   "id": "d28d2ac6",
   "metadata": {},
   "source": [
    "### Removal of word that appear in more than a certain fraction of words defined in the thresh variable"
   ]
  },
  {
   "cell_type": "code",
   "execution_count": 26,
   "id": "65307066",
   "metadata": {},
   "outputs": [],
   "source": [
    "tresh= 0.02\n",
    "dico2= dico[dico[\"occurence_fraction\"]<tresh]\n",
    "dicolist2= dico2[\"word\"].unique().tolist()"
   ]
  },
  {
   "cell_type": "markdown",
   "id": "e45edcd6",
   "metadata": {},
   "source": [
    "### Classifying"
   ]
  },
  {
   "cell_type": "code",
   "execution_count": 27,
   "id": "d6c2f478",
   "metadata": {},
   "outputs": [
    {
     "data": {
      "application/vnd.jupyter.widget-view+json": {
       "model_id": "18920bc853c946caa29d7048762af757",
       "version_major": 2,
       "version_minor": 0
      },
      "text/plain": [
       "  0%|          | 0/668534 [00:00<?, ?it/s]"
      ]
     },
     "metadata": {},
     "output_type": "display_data"
    }
   ],
   "source": [
    "df[\"colloquial\"]= df_tested_quotes.progress_apply(lambda x : isinside2(x.lower(),dicolist2))"
   ]
  },
  {
   "cell_type": "markdown",
   "id": "b5b612ac",
   "metadata": {},
   "source": [
    "### Quotes statistics"
   ]
  },
  {
   "cell_type": "code",
   "execution_count": 28,
   "id": "00b4d058",
   "metadata": {},
   "outputs": [
    {
     "data": {
      "text/html": [
       "<div>\n",
       "<style scoped>\n",
       "    .dataframe tbody tr th:only-of-type {\n",
       "        vertical-align: middle;\n",
       "    }\n",
       "\n",
       "    .dataframe tbody tr th {\n",
       "        vertical-align: top;\n",
       "    }\n",
       "\n",
       "    .dataframe thead th {\n",
       "        text-align: right;\n",
       "    }\n",
       "</style>\n",
       "<table border=\"1\" class=\"dataframe\">\n",
       "  <thead>\n",
       "    <tr style=\"text-align: right;\">\n",
       "      <th></th>\n",
       "      <th>numOccurrences</th>\n",
       "      <th>p1</th>\n",
       "      <th>p2</th>\n",
       "      <th>delta_p</th>\n",
       "      <th>year</th>\n",
       "      <th>colloquial</th>\n",
       "    </tr>\n",
       "  </thead>\n",
       "  <tbody>\n",
       "    <tr>\n",
       "      <th>count</th>\n",
       "      <td>668534.00000</td>\n",
       "      <td>668534.000000</td>\n",
       "      <td>668534.000000</td>\n",
       "      <td>668534.000000</td>\n",
       "      <td>668534.000000</td>\n",
       "      <td>668534.000000</td>\n",
       "    </tr>\n",
       "    <tr>\n",
       "      <th>mean</th>\n",
       "      <td>3.55898</td>\n",
       "      <td>0.818245</td>\n",
       "      <td>0.161096</td>\n",
       "      <td>0.657149</td>\n",
       "      <td>2017.536327</td>\n",
       "      <td>0.164206</td>\n",
       "    </tr>\n",
       "    <tr>\n",
       "      <th>std</th>\n",
       "      <td>22.64603</td>\n",
       "      <td>0.095738</td>\n",
       "      <td>0.081709</td>\n",
       "      <td>0.173361</td>\n",
       "      <td>1.770882</td>\n",
       "      <td>0.370462</td>\n",
       "    </tr>\n",
       "    <tr>\n",
       "      <th>min</th>\n",
       "      <td>1.00000</td>\n",
       "      <td>0.500100</td>\n",
       "      <td>0.008600</td>\n",
       "      <td>0.300000</td>\n",
       "      <td>2015.000000</td>\n",
       "      <td>0.000000</td>\n",
       "    </tr>\n",
       "    <tr>\n",
       "      <th>25%</th>\n",
       "      <td>1.00000</td>\n",
       "      <td>0.747400</td>\n",
       "      <td>0.093400</td>\n",
       "      <td>0.521900</td>\n",
       "      <td>2016.000000</td>\n",
       "      <td>0.000000</td>\n",
       "    </tr>\n",
       "    <tr>\n",
       "      <th>50%</th>\n",
       "      <td>1.00000</td>\n",
       "      <td>0.830100</td>\n",
       "      <td>0.152600</td>\n",
       "      <td>0.674900</td>\n",
       "      <td>2018.000000</td>\n",
       "      <td>0.000000</td>\n",
       "    </tr>\n",
       "    <tr>\n",
       "      <th>75%</th>\n",
       "      <td>2.00000</td>\n",
       "      <td>0.897300</td>\n",
       "      <td>0.221900</td>\n",
       "      <td>0.802200</td>\n",
       "      <td>2019.000000</td>\n",
       "      <td>0.000000</td>\n",
       "    </tr>\n",
       "    <tr>\n",
       "      <th>max</th>\n",
       "      <td>12086.00000</td>\n",
       "      <td>0.990800</td>\n",
       "      <td>0.350000</td>\n",
       "      <td>0.982100</td>\n",
       "      <td>2020.000000</td>\n",
       "      <td>1.000000</td>\n",
       "    </tr>\n",
       "  </tbody>\n",
       "</table>\n",
       "</div>"
      ],
      "text/plain": [
       "       numOccurrences             p1             p2        delta_p  \\\n",
       "count    668534.00000  668534.000000  668534.000000  668534.000000   \n",
       "mean          3.55898       0.818245       0.161096       0.657149   \n",
       "std          22.64603       0.095738       0.081709       0.173361   \n",
       "min           1.00000       0.500100       0.008600       0.300000   \n",
       "25%           1.00000       0.747400       0.093400       0.521900   \n",
       "50%           1.00000       0.830100       0.152600       0.674900   \n",
       "75%           2.00000       0.897300       0.221900       0.802200   \n",
       "max       12086.00000       0.990800       0.350000       0.982100   \n",
       "\n",
       "                year     colloquial  \n",
       "count  668534.000000  668534.000000  \n",
       "mean     2017.536327       0.164206  \n",
       "std         1.770882       0.370462  \n",
       "min      2015.000000       0.000000  \n",
       "25%      2016.000000       0.000000  \n",
       "50%      2018.000000       0.000000  \n",
       "75%      2019.000000       0.000000  \n",
       "max      2020.000000       1.000000  "
      ]
     },
     "execution_count": 28,
     "metadata": {},
     "output_type": "execute_result"
    }
   ],
   "source": [
    "df.describe()"
   ]
  },
  {
   "cell_type": "markdown",
   "id": "71c9f64a",
   "metadata": {},
   "source": [
    "We now have 10.2% of colloquial quotes"
   ]
  },
  {
   "cell_type": "markdown",
   "id": "5e59915b",
   "metadata": {},
   "source": [
    "## Quotes classification examples"
   ]
  },
  {
   "cell_type": "code",
   "execution_count": 29,
   "id": "f9f790de",
   "metadata": {},
   "outputs": [
    {
     "name": "stdout",
     "output_type": "stream",
     "text": [
      "5 formal quotes sample : \n",
      "\n",
      "\n",
      "Our trials showed that moving dry cows to fresh pasture regularly reduced the rate of infection from one in three to one in ten.\n",
      "\n",
      "\n",
      "I want to thank the community for continuing to raise their concerns about this issue so that we can properly address them,\n",
      "\n",
      "\n",
      "I don't take part in any competition just for the sake of it. My aim is to win and that too convincingly,\n",
      "\n",
      "\n",
      "The Federal Government of Nigeria needs to know that our youths are losing confidence in the peaceful and non-violent way we are proposing. And I will like to state clearly that today, out of respect for Archbishop Anthony Obinna, who has been foremost in speaking out in defence of good governance both in his state and in the country, that the current Federal Government of Nigeria will hold itself responsible if it refuses to listen to the voice of reason and the calamity we all fear will befall our dear country.\n",
      "\n",
      "\n",
      "We have dropped more points than we would have liked. But we can only look at the next game.\n",
      "\n",
      "5 colloquial quotes sample : \n",
      "\n",
      "\n",
      "They've not put my name on my car parking space. It's been left blank. It just says the word `Manager' !\n",
      "\n",
      "\n",
      "People said they weren't going to win the league when they did it. You can't say that with football,\n",
      "\n",
      "\n",
      "I think the public has had enough of their politicizing of the judicial branch and they're going to demonstrate their displeasure when it comes to judicial retention.\n",
      "\n",
      "\n",
      "At the end of the day I felt that with Eli being with the Giants he wasn't coming in our direction,\n",
      "\n",
      "\n",
      "I can't make it back in time. I feel really awful. Here I am doing charity work and one of my dearest friends is being buried.\n"
     ]
    }
   ],
   "source": [
    "import random\n",
    "df_formal= df[df[\"colloquial\"]==0].reset_index()\n",
    "df_colloquial= df[df[\"colloquial\"]==1].reset_index()\n",
    "\n",
    "print(\"5 formal quotes sample : \")\n",
    "for i in random.sample(range(len(df_formal)), 5):\n",
    "    print(\"\\n\")\n",
    "    print(df_formal[\"quotation\"].loc[i])\n",
    "\n",
    "print(\"\\n5 colloquial quotes sample : \")\n",
    "for i in random.sample(range(len(df_colloquial)), 5):\n",
    "    print(\"\\n\")\n",
    "    print(df_colloquial[\"quotation\"].loc[i])"
   ]
  },
  {
   "cell_type": "markdown",
   "id": "ab6653e8",
   "metadata": {},
   "source": [
    "## Larger samples classification"
   ]
  },
  {
   "cell_type": "code",
   "execution_count": 30,
   "id": "d59a275c",
   "metadata": {},
   "outputs": [
    {
     "name": "stdout",
     "output_type": "stream",
     "text": [
      "start\n",
      "opened sample 2019\n"
     ]
    },
    {
     "data": {
      "application/vnd.jupyter.widget-view+json": {
       "model_id": "02dfe7952ed44799bbc4c61371e3ceb3",
       "version_major": 2,
       "version_minor": 0
      },
      "text/plain": [
       "  0%|          | 0/1660942 [00:00<?, ?it/s]"
      ]
     },
     "metadata": {},
     "output_type": "display_data"
    },
    {
     "name": "stdout",
     "output_type": "stream",
     "text": [
      "lowercased sample\n"
     ]
    },
    {
     "data": {
      "application/vnd.jupyter.widget-view+json": {
       "model_id": "56f1e46549a84eaab2ef5d642e02cf5a",
       "version_major": 2,
       "version_minor": 0
      },
      "text/plain": [
       "  0%|          | 0/1660942 [00:00<?, ?it/s]"
      ]
     },
     "metadata": {},
     "output_type": "display_data"
    },
    {
     "name": "stdout",
     "output_type": "stream",
     "text": [
      "classified sample\n",
      "saved sample\n"
     ]
    }
   ],
   "source": [
    "del df\n",
    "for year in range(2019,2020):\n",
    "    print(\"start\")\n",
    "    sample= pd.read_json(\"../../../large_sample/Sample_{}_wrangled.json.bz2\".format(year)\n",
    "                         ,compression=\"bz2\",lines=True)\n",
    "    print(\"opened sample {}\".format(year))\n",
    "    sample_lowercase_quotes= sample[\"quotation\"].progress_apply(lambda x : \" \"+x.lower()+\" \")\n",
    "    print(\"lowercased sample\")\n",
    "    sample[\"colloquial\"]= sample_lowercase_quotes.progress_apply(lambda x : isinside2(x.lower(),dicolist2))\n",
    "    print(\"classified sample\")\n",
    "    sample.to_json(\"../../../large_sample/Sample_{}_classified.json.bz2\".format(year)\n",
    "                   ,compression='bz2',lines=True,orient=\"records\")\n",
    "    print(\"saved sample\")\n",
    "    del sample"
   ]
  },
  {
   "cell_type": "code",
   "execution_count": null,
   "id": "565137fa",
   "metadata": {},
   "outputs": [],
   "source": []
  }
 ],
 "metadata": {
  "kernelspec": {
   "display_name": "Python 3 (ipykernel)",
   "language": "python",
   "name": "python3"
  },
  "language_info": {
   "codemirror_mode": {
    "name": "ipython",
    "version": 3
   },
   "file_extension": ".py",
   "mimetype": "text/x-python",
   "name": "python",
   "nbconvert_exporter": "python",
   "pygments_lexer": "ipython3",
   "version": "3.8.12"
  }
 },
 "nbformat": 4,
 "nbformat_minor": 5
}

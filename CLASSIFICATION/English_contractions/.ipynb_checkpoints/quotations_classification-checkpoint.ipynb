{
 "cells": [
  {
   "cell_type": "markdown",
   "id": "804c1934",
   "metadata": {},
   "source": [
    "# Quotes classification\n",
    "\n",
    "In this notebook, we treat each quote of the corpus and assign them a binary score determining if the quote is formal or colloquial according the dictionnary of english contractions to avoid in wikipedia articles"
   ]
  },
  {
   "cell_type": "markdown",
   "id": "f695b871",
   "metadata": {},
   "source": [
    "## Packages and functions"
   ]
  },
  {
   "cell_type": "code",
   "execution_count": null,
   "id": "801bcdeb",
   "metadata": {},
   "outputs": [],
   "source": [
    "#packages\n",
    "import pandas as pd\n",
    "from tqdm import tqdm, notebook\n",
    "notebook.tqdm().pandas()"
   ]
  },
  {
   "cell_type": "code",
   "execution_count": null,
   "id": "5bfc9939",
   "metadata": {},
   "outputs": [],
   "source": [
    "#function to check if strin is contained and update dico\n",
    "def isinside1(test_string,test_list):\n",
    "    global dico\n",
    "    res = [ele for ele in test_list if(ele in test_string)]\n",
    "    #print(res)\n",
    "    if res:\n",
    "        for ele in res:\n",
    "            i= test_list.index(ele)\n",
    "            dico[\"occurences\"].loc[i]= dico[\"occurences\"].loc[i]+1\n",
    "        return 1\n",
    "    return 0\n",
    "\n",
    "def isinside2(test_string,test_list):\n",
    "    if any(ext in test_string for ext in test_list):\n",
    "        return 1\n",
    "    return 0"
   ]
  },
  {
   "cell_type": "markdown",
   "id": "f3a5743b",
   "metadata": {},
   "source": [
    "## Dictionnary loading\n",
    "The dictionnary is compiled in the notebook `contractions_dictionary.ipynb` and is based on the [Wikipedia English contractions list](https://en.wikipedia.org/wiki/Wikipedia:List_of_English_contractions).<br>\n",
    "A column name \"occurences\" is created in order to count how much time a word is detected.<br>\n",
    "A list is made from the dictionary words for comparison"
   ]
  },
  {
   "cell_type": "code",
   "execution_count": null,
   "id": "1fc7bea3",
   "metadata": {},
   "outputs": [],
   "source": [
    "dico= pd.read_pickle(\"./english_contractions.pkl\")\n",
    "dico[\"occurences\"]=0\n",
    "dicolist= dico[\"word\"].unique().tolist()"
   ]
  },
  {
   "cell_type": "markdown",
   "id": "7cc77e15",
   "metadata": {},
   "source": [
    "## Quotebank sample loading"
   ]
  },
  {
   "cell_type": "code",
   "execution_count": null,
   "id": "07eea2e5",
   "metadata": {},
   "outputs": [],
   "source": [
    "#df= pd.read_json(\"../../../Sample_classified_1Mio_v1.json.bz2\",compression=\"bz2\",lines=True)\n",
    "df= pd.read_json(\"../../../polUS_quotes_speakers_merged.json.bz2\",compression=\"bz2\",lines=True)"
   ]
  },
  {
   "cell_type": "markdown",
   "id": "e7794903",
   "metadata": {},
   "source": [
    "### Quotes formatting for comparison : lowercase and space at the beginning and end\n",
    "Note that tokenisation has not been used as some of the words or the dictionary consist in several tokens (for exemple, isn't is composed of tokens \"is\" and \"n't\""
   ]
  },
  {
   "cell_type": "code",
   "execution_count": null,
   "id": "a88abb38",
   "metadata": {},
   "outputs": [],
   "source": [
    "df_tested_quotes= df[\"quotation\"].progress_apply(lambda x : \" \"+x.lower()+\" \")"
   ]
  },
  {
   "cell_type": "markdown",
   "id": "cea21205",
   "metadata": {},
   "source": [
    "## Classification using the full dictionary\n",
    "The dataset quotes are classified a first time using the full dictionary"
   ]
  },
  {
   "cell_type": "markdown",
   "id": "73beb55a",
   "metadata": {},
   "source": [
    "### Classifying"
   ]
  },
  {
   "cell_type": "code",
   "execution_count": null,
   "id": "fd3b1516",
   "metadata": {},
   "outputs": [],
   "source": [
    "df[\"colloquial\"]= df_tested_quotes.progress_apply(lambda x : isinside1(x,dicolist))"
   ]
  },
  {
   "cell_type": "markdown",
   "id": "f3f7525f",
   "metadata": {},
   "source": [
    "### Quotes statistics"
   ]
  },
  {
   "cell_type": "code",
   "execution_count": null,
   "id": "0bf1b484",
   "metadata": {},
   "outputs": [],
   "source": [
    "df.describe()"
   ]
  },
  {
   "cell_type": "markdown",
   "id": "2f74439b",
   "metadata": {},
   "source": [
    "About 38.3% of quotes are qualified as colloquial."
   ]
  },
  {
   "cell_type": "markdown",
   "id": "a806092e",
   "metadata": {},
   "source": [
    "### Most common words"
   ]
  },
  {
   "cell_type": "code",
   "execution_count": null,
   "id": "78c4c18a",
   "metadata": {},
   "outputs": [],
   "source": [
    "dico[\"occurence_fraction\"]= dico[\"occurences\"]/df[\"colloquial\"].count()\n",
    "dico.sort_values(by='occurence_fraction', ascending=False)[:25]"
   ]
  },
  {
   "cell_type": "code",
   "execution_count": null,
   "id": "0ab77a76",
   "metadata": {},
   "outputs": [],
   "source": [
    "dico.sort_values(by='occurence_fraction', ascending=False).reset_index()[\"occurences\"].plot(\n",
    "    xlabel=\"word rank\", ylabel= \"# of word occurences\", title= \"Word occurences (log-log)\",logy=True, logx=True)"
   ]
  },
  {
   "cell_type": "markdown",
   "id": "8d8dc116",
   "metadata": {},
   "source": [
    "Surprisingly, words use do not seem to follow a zipf law (the line would be straight if it was the case)"
   ]
  },
  {
   "cell_type": "markdown",
   "id": "046758cd",
   "metadata": {},
   "source": [
    "## Classification using the reduced dictionary\n",
    "The dataset quotes are classified again using a dictionary from which the most common words have been removed"
   ]
  },
  {
   "cell_type": "markdown",
   "id": "d28d2ac6",
   "metadata": {},
   "source": [
    "### Removal of word that appear in more than a certain fraction of words defined in the thresh variable"
   ]
  },
  {
   "cell_type": "code",
   "execution_count": null,
   "id": "65307066",
   "metadata": {},
   "outputs": [],
   "source": [
    "tresh= 0.02\n",
    "dico2= dico[dico[\"occurence_fraction\"]<tresh]\n",
    "dicolist2= dico2[\"word\"].unique().tolist()"
   ]
  },
  {
   "cell_type": "markdown",
   "id": "e45edcd6",
   "metadata": {},
   "source": [
    "### Classifying"
   ]
  },
  {
   "cell_type": "code",
   "execution_count": null,
   "id": "d6c2f478",
   "metadata": {},
   "outputs": [],
   "source": [
    "df[\"colloquial\"]= df_tested_quotes.progress_apply(lambda x : isinside2(x.lower(),dicolist2))"
   ]
  },
  {
   "cell_type": "markdown",
   "id": "b5b612ac",
   "metadata": {},
   "source": [
    "### Quotes statistics"
   ]
  },
  {
   "cell_type": "code",
   "execution_count": null,
   "id": "00b4d058",
   "metadata": {},
   "outputs": [],
   "source": [
    "df.describe()"
   ]
  },
  {
   "cell_type": "markdown",
   "id": "71c9f64a",
   "metadata": {},
   "source": [
    "We now have 10.2% of colloquial quotes"
   ]
  },
  {
   "cell_type": "markdown",
   "id": "5e59915b",
   "metadata": {},
   "source": [
    "## Quotes classification examples"
   ]
  },
  {
   "cell_type": "code",
   "execution_count": null,
   "id": "f9f790de",
   "metadata": {},
   "outputs": [],
   "source": [
    "import random\n",
    "df_formal= df[df[\"colloquial\"]==0].reset_index()\n",
    "df_colloquial= df[df[\"colloquial\"]==1].reset_index()\n",
    "\n",
    "print(\"5 formal quotes sample : \")\n",
    "for i in random.sample(range(len(df_formal)), 5):\n",
    "    print(\"\\n\")\n",
    "    print(df_formal[\"quotation\"].loc[i])\n",
    "\n",
    "print(\"\\n5 colloquial quotes sample : \")\n",
    "for i in random.sample(range(len(df_colloquial)), 5):\n",
    "    print(\"\\n\")\n",
    "    print(df_colloquial[\"quotation\"].loc[i])"
   ]
  },
  {
   "cell_type": "markdown",
   "id": "ab6653e8",
   "metadata": {},
   "source": [
    "## Larger samples classification"
   ]
  },
  {
   "cell_type": "code",
   "execution_count": null,
   "id": "d59a275c",
   "metadata": {},
   "outputs": [],
   "source": [
    "del df\n",
    "for year in range(2019,2020):\n",
    "    print(\"start\")\n",
    "    sample= pd.read_json(\"../../../large_sample/Sample_{}_wrangled.json.bz2\".format(year)\n",
    "                         ,compression=\"bz2\",lines=True)\n",
    "    print(\"opened sample {}\".format(year))\n",
    "    sample_lowercase_quotes= sample[\"quotation\"].progress_apply(lambda x : \" \"+x.lower()+\" \")\n",
    "    print(\"lowercased sample\")\n",
    "    sample[\"colloquial\"]= sample_lowercase_quotes.progress_apply(lambda x : isinside2(x.lower(),dicolist2))\n",
    "    print(\"classified sample\")\n",
    "    sample.to_json(\"../../../large_sample/Sample_{}_classified.json.bz2\".format(year)\n",
    "                   ,compression='bz2',lines=True,orient=\"records\")\n",
    "    print(\"saved sample\")\n",
    "    del sample"
   ]
  },
  {
   "cell_type": "code",
   "execution_count": null,
   "id": "6b182749",
   "metadata": {},
   "outputs": [],
   "source": [
    "df= pd.read_json(\"../../../large_sample/Sample_{}_classified.json.bz2\".format(2019)\n",
    "                         ,compression=\"bz2\",lines=True)"
   ]
  },
  {
   "cell_type": "code",
   "execution_count": null,
   "id": "565137fa",
   "metadata": {},
   "outputs": [],
   "source": []
  }
 ],
 "metadata": {
  "kernelspec": {
   "display_name": "Python 3 (ipykernel)",
   "language": "python",
   "name": "python3"
  },
  "language_info": {
   "codemirror_mode": {
    "name": "ipython",
    "version": 3
   },
   "file_extension": ".py",
   "mimetype": "text/x-python",
   "name": "python",
   "nbconvert_exporter": "python",
   "pygments_lexer": "ipython3",
   "version": "3.8.11"
  }
 },
 "nbformat": 4,
 "nbformat_minor": 5
}

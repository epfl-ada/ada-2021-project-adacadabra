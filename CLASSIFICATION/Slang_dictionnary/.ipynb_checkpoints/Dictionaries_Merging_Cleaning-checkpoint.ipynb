{
 "cells": [
  {
   "cell_type": "code",
   "execution_count": 1,
   "id": "d9d069a9-6e22-4318-92f6-746eefe1ad64",
   "metadata": {},
   "outputs": [],
   "source": [
    "import pandas as pd"
   ]
  },
  {
   "cell_type": "markdown",
   "id": "90523e0d-0c87-4d90-8bdf-8bdc3cbe250e",
   "metadata": {},
   "source": [
    "This programm aims to merge the different dictonaries chosen together"
   ]
  },
  {
   "cell_type": "code",
   "execution_count": 2,
   "id": "409a1f55-2061-4363-a621-3f92e4837c1f",
   "metadata": {},
   "outputs": [
    {
     "name": "stderr",
     "output_type": "stream",
     "text": [
      "/opt/anaconda3/envs/new_base_38/lib/python3.8/site-packages/IPython/core/interactiveshell.py:3441: FutureWarning: The error_bad_lines argument has been deprecated and will be removed in a future version.\n",
      "\n",
      "\n",
      "  exec(code_obj, self.user_global_ns, self.user_ns)\n",
      "b'Skipping line 1816: expected 1 fields, saw 2\\nSkipping line 2844: expected 1 fields, saw 2\\nSkipping line 4569: expected 1 fields, saw 2\\n'\n"
     ]
    }
   ],
   "source": [
    "# Here we load the dictionaries\n",
    "urbdi = pd.read_pickle(\"urban_dictionary.pkl\")\n",
    "infdi = pd.read_csv(\"dict_informal_sentence.txt\",header=None)\n",
    "slangdi = pd.read_csv(\"slang_dict_Jules.txt\",encoding_errors=\"ignore\",error_bad_lines=False,header=None)"
   ]
  },
  {
   "cell_type": "code",
   "execution_count": 3,
   "id": "8a75df66-a873-4c6d-b9a2-a545294e3aa9",
   "metadata": {},
   "outputs": [],
   "source": [
    "#comdi = pd.read_json(\"most_common_words.json\",charset=\"utf-8\")\n",
    "#comdi.head()"
   ]
  },
  {
   "cell_type": "code",
   "execution_count": 4,
   "id": "ccf02ec1-7e00-4730-b677-60ca711f63ee",
   "metadata": {},
   "outputs": [
    {
     "data": {
      "text/html": [
       "<div>\n",
       "<style scoped>\n",
       "    .dataframe tbody tr th:only-of-type {\n",
       "        vertical-align: middle;\n",
       "    }\n",
       "\n",
       "    .dataframe tbody tr th {\n",
       "        vertical-align: top;\n",
       "    }\n",
       "\n",
       "    .dataframe thead th {\n",
       "        text-align: right;\n",
       "    }\n",
       "</style>\n",
       "<table border=\"1\" class=\"dataframe\">\n",
       "  <thead>\n",
       "    <tr style=\"text-align: right;\">\n",
       "      <th></th>\n",
       "      <th>UDid</th>\n",
       "      <th>word</th>\n",
       "      <th>example</th>\n",
       "    </tr>\n",
       "  </thead>\n",
       "  <tbody>\n",
       "    <tr>\n",
       "      <th>0</th>\n",
       "      <td>7</td>\n",
       "      <td>Janky</td>\n",
       "      <td>Your mother cooks janky collard greens.</td>\n",
       "    </tr>\n",
       "    <tr>\n",
       "      <th>1</th>\n",
       "      <td>8</td>\n",
       "      <td>slumpin'</td>\n",
       "      <td>slumpin' beats and phat tracks as we spin da w...</td>\n",
       "    </tr>\n",
       "    <tr>\n",
       "      <th>2</th>\n",
       "      <td>9</td>\n",
       "      <td>yayeeyay</td>\n",
       "      <td>\"We be dubbin!  And we's gonna bounce to play ...</td>\n",
       "    </tr>\n",
       "    <tr>\n",
       "      <th>3</th>\n",
       "      <td>12</td>\n",
       "      <td>hard-core</td>\n",
       "      <td>Dood, that girl's pants are too hard-core for us.</td>\n",
       "    </tr>\n",
       "    <tr>\n",
       "      <th>4</th>\n",
       "      <td>13</td>\n",
       "      <td>brutal</td>\n",
       "      <td>Man, this morning's calisthenics were brutal.</td>\n",
       "    </tr>\n",
       "  </tbody>\n",
       "</table>\n",
       "</div>"
      ],
      "text/plain": [
       "   UDid       word                                            example\n",
       "0     7      Janky            Your mother cooks janky collard greens.\n",
       "1     8   slumpin'  slumpin' beats and phat tracks as we spin da w...\n",
       "2     9   yayeeyay  \"We be dubbin!  And we's gonna bounce to play ...\n",
       "3    12  hard-core  Dood, that girl's pants are too hard-core for us.\n",
       "4    13     brutal      Man, this morning's calisthenics were brutal."
      ]
     },
     "execution_count": 4,
     "metadata": {},
     "output_type": "execute_result"
    }
   ],
   "source": [
    "urbdi.head(5)"
   ]
  },
  {
   "cell_type": "code",
   "execution_count": 5,
   "id": "8d871d7a-b81a-4f07-bb6d-68ebd8f5d80b",
   "metadata": {},
   "outputs": [],
   "source": [
    "# Let's unify column name of all dictionaries :\n",
    "infdi.columns = [\"word\"]\n",
    "slangdi.columns = [\"word\"]"
   ]
  },
  {
   "cell_type": "code",
   "execution_count": 6,
   "id": "82fd522b-2759-48cb-bfa0-5a53898d6b6a",
   "metadata": {},
   "outputs": [
    {
     "name": "stdout",
     "output_type": "stream",
     "text": [
      "It is True that there are no duplicates\n",
      "329 rows have been removed\n"
     ]
    }
   ],
   "source": [
    "#It is now possible to concatenate the dictionaries together\n",
    "concat_dict = pd.concat([urbdi,infdi,slangdi])\n",
    "\n",
    "# We keep only the column with the word (or expression)\n",
    "concat_dict = concat_dict.drop([\"UDid\",\"example\"],axis=1)\n",
    "\n",
    "# Let's get rid of duplicates and NaN\n",
    "newdict = concat_dict.copy().drop_duplicates(subset = 'word', keep='first')\n",
    "newdict = newdict.dropna()\n",
    "print(\"It is\",newdict.word.is_unique, \"that there are no duplicates\")\n",
    "print(concat_dict.shape[0]-newdict.shape[0], \"rows have been removed\")\n",
    "\n",
    "# Finally, reindex the dataframe\n",
    "newdict = newdict.reset_index(drop=True)"
   ]
  },
  {
   "cell_type": "code",
   "execution_count": 7,
   "id": "7388ffc9-2e26-4ce3-adc6-acc643d9443a",
   "metadata": {},
   "outputs": [
    {
     "data": {
      "text/plain": [
       "(20989, 1)"
      ]
     },
     "execution_count": 7,
     "metadata": {},
     "output_type": "execute_result"
    }
   ],
   "source": [
    "newdict.shape"
   ]
  },
  {
   "cell_type": "code",
   "execution_count": 8,
   "id": "0fc288a0-66bb-4edd-82c6-c131e2b0f506",
   "metadata": {},
   "outputs": [],
   "source": [
    "newdict.to_pickle(\"./Final_Dictionary.pkl\")"
   ]
  },
  {
   "cell_type": "code",
   "execution_count": null,
   "id": "44284caf-ab76-42ad-9185-b37aaf6acb0a",
   "metadata": {},
   "outputs": [],
   "source": []
  },
  {
   "cell_type": "code",
   "execution_count": null,
   "id": "676e9b01-df87-4ca6-8534-320c6e5d49c3",
   "metadata": {},
   "outputs": [],
   "source": []
  },
  {
   "cell_type": "code",
   "execution_count": null,
   "id": "71b0560e-63ba-4644-986a-58678895d28d",
   "metadata": {},
   "outputs": [],
   "source": []
  },
  {
   "cell_type": "code",
   "execution_count": null,
   "id": "c4a96321-9e68-4340-b113-5579f9d64214",
   "metadata": {},
   "outputs": [],
   "source": []
  },
  {
   "cell_type": "code",
   "execution_count": null,
   "id": "5baf9f40-007e-4d5c-8a9e-c8d8db94ddd3",
   "metadata": {},
   "outputs": [],
   "source": []
  },
  {
   "cell_type": "code",
   "execution_count": null,
   "id": "c666d8e5-05a8-465c-aecc-fad5b988b077",
   "metadata": {},
   "outputs": [],
   "source": []
  }
 ],
 "metadata": {
  "kernelspec": {
   "display_name": "Python 3 (ipykernel)",
   "language": "python",
   "name": "python3"
  },
  "language_info": {
   "codemirror_mode": {
    "name": "ipython",
    "version": 3
   },
   "file_extension": ".py",
   "mimetype": "text/x-python",
   "name": "python",
   "nbconvert_exporter": "python",
   "pygments_lexer": "ipython3",
   "version": "3.8.11"
  }
 },
 "nbformat": 4,
 "nbformat_minor": 5
}

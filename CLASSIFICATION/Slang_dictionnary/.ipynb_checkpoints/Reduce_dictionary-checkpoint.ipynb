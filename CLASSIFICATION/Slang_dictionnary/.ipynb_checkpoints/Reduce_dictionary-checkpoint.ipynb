{
 "cells": [
  {
   "cell_type": "markdown",
   "id": "21a9fa1d",
   "metadata": {},
   "source": [
    "## This script aims to remove words of the urban dictionary that also exist in a reference dictionary (i.e. that would be valid in a scrabble game)"
   ]
  },
  {
   "cell_type": "markdown",
   "id": "f72fb030",
   "metadata": {},
   "source": [
    "### Needed dependancies"
   ]
  },
  {
   "cell_type": "code",
   "execution_count": 44,
   "id": "8353c852",
   "metadata": {},
   "outputs": [
    {
     "name": "stderr",
     "output_type": "stream",
     "text": [
      "/var/folders/ll/9ks4sslj4hj9kg36pxlnc3xc0000gn/T/ipykernel_56256/3758648336.py:4: TqdmDeprecationWarning: This function will be removed in tqdm==5.0.0\n",
      "Please use `tqdm.notebook.tqdm` instead of `tqdm.tqdm_notebook`\n",
      "  tqdm_notebook().pandas()\n"
     ]
    },
    {
     "data": {
      "application/vnd.jupyter.widget-view+json": {
       "model_id": "6a3a871fb80c4dd2a305541ccb85314b",
       "version_major": 2,
       "version_minor": 0
      },
      "text/plain": [
       "0it [00:00, ?it/s]"
      ]
     },
     "metadata": {},
     "output_type": "display_data"
    }
   ],
   "source": [
    "import pandas as pd\n",
    "import PyDictionary\n",
    "from tqdm import tqdm, tqdm_notebook\n",
    "tqdm_notebook().pandas()"
   ]
  },
  {
   "cell_type": "code",
   "execution_count": 45,
   "id": "48f60c56",
   "metadata": {},
   "outputs": [],
   "source": [
    "dictionary= PyDictionary.PyDictionary()"
   ]
  },
  {
   "cell_type": "markdown",
   "id": "f50750d2",
   "metadata": {},
   "source": [
    "### Function to test if words are valid (returns boolean)"
   ]
  },
  {
   "cell_type": "code",
   "execution_count": 46,
   "id": "eb8d8ae8",
   "metadata": {},
   "outputs": [],
   "source": [
    "def scrabble_valid(word):\n",
    "    meaning= dictionary.meaning(word)\n",
    "    if meaning:\n",
    "        valid= True\n",
    "    else:\n",
    "        valid= False\n",
    "    return valid"
   ]
  },
  {
   "cell_type": "markdown",
   "id": "181a9b9d",
   "metadata": {},
   "source": [
    "### Reading slang dictionary"
   ]
  },
  {
   "cell_type": "code",
   "execution_count": 90,
   "id": "c52ebab3",
   "metadata": {},
   "outputs": [
    {
     "data": {
      "text/html": [
       "<div>\n",
       "<style scoped>\n",
       "    .dataframe tbody tr th:only-of-type {\n",
       "        vertical-align: middle;\n",
       "    }\n",
       "\n",
       "    .dataframe tbody tr th {\n",
       "        vertical-align: top;\n",
       "    }\n",
       "\n",
       "    .dataframe thead th {\n",
       "        text-align: right;\n",
       "    }\n",
       "</style>\n",
       "<table border=\"1\" class=\"dataframe\">\n",
       "  <thead>\n",
       "    <tr style=\"text-align: right;\">\n",
       "      <th></th>\n",
       "      <th>word</th>\n",
       "    </tr>\n",
       "  </thead>\n",
       "  <tbody>\n",
       "    <tr>\n",
       "      <th>0</th>\n",
       "      <td>Janky</td>\n",
       "    </tr>\n",
       "    <tr>\n",
       "      <th>1</th>\n",
       "      <td>slumpin'</td>\n",
       "    </tr>\n",
       "    <tr>\n",
       "      <th>2</th>\n",
       "      <td>yayeeyay</td>\n",
       "    </tr>\n",
       "    <tr>\n",
       "      <th>3</th>\n",
       "      <td>hard-core</td>\n",
       "    </tr>\n",
       "    <tr>\n",
       "      <th>4</th>\n",
       "      <td>brutal</td>\n",
       "    </tr>\n",
       "  </tbody>\n",
       "</table>\n",
       "</div>"
      ],
      "text/plain": [
       "        word\n",
       "0      Janky\n",
       "1   slumpin'\n",
       "2   yayeeyay\n",
       "3  hard-core\n",
       "4     brutal"
      ]
     },
     "execution_count": 90,
     "metadata": {},
     "output_type": "execute_result"
    }
   ],
   "source": [
    "slang= pd.read_pickle(\"./Final_Dictionary.pkl\")\n",
    "slang.head()"
   ]
  },
  {
   "cell_type": "markdown",
   "id": "0ea495f2",
   "metadata": {},
   "source": [
    "Taking a sample from the dictionary. do not run this cell to perform task on the whole dictionary"
   ]
  },
  {
   "cell_type": "code",
   "execution_count": 84,
   "id": "e55601b1",
   "metadata": {},
   "outputs": [],
   "source": [
    "slang= slang.head(20)"
   ]
  },
  {
   "cell_type": "markdown",
   "id": "6b5b46e2",
   "metadata": {},
   "source": [
    "### Applying validity function to the dictionary"
   ]
  },
  {
   "cell_type": "code",
   "execution_count": 85,
   "id": "deec0b80",
   "metadata": {},
   "outputs": [
    {
     "data": {
      "application/vnd.jupyter.widget-view+json": {
       "model_id": "e21ab71b07a649758ab5d61e5652f92a",
       "version_major": 2,
       "version_minor": 0
      },
      "text/plain": [
       "  0%|          | 0/20 [00:00<?, ?it/s]"
      ]
     },
     "metadata": {},
     "output_type": "display_data"
    },
    {
     "name": "stdout",
     "output_type": "stream",
     "text": [
      "Error: The Following Error occured: list index out of range\n",
      "Error: The Following Error occured: list index out of range\n",
      "Error: The Following Error occured: list index out of range\n",
      "Error: The Following Error occured: list index out of range\n",
      "Error: The Following Error occured: list index out of range\n",
      "Error: The Following Error occured: list index out of range\n",
      "Error: The Following Error occured: list index out of range\n",
      "Error: A Term must be only a single word\n",
      "Error: The Following Error occured: list index out of range\n",
      "Error: The Following Error occured: list index out of range\n",
      "Error: The Following Error occured: list index out of range\n",
      "Error: A Term must be only a single word\n",
      "Error: A Term must be only a single word\n",
      "Error: A Term must be only a single word\n"
     ]
    }
   ],
   "source": [
    "#%%capture\n",
    "slang[\"scrabble_valid\"]= slang[\"word\"].progress_apply(lambda x : scrabble_valid(x))"
   ]
  },
  {
   "cell_type": "markdown",
   "id": "23057a68",
   "metadata": {},
   "source": [
    "### Visualising results"
   ]
  },
  {
   "cell_type": "code",
   "execution_count": 86,
   "id": "9bdb82a7",
   "metadata": {},
   "outputs": [
    {
     "data": {
      "text/plain": [
       "False    14\n",
       "True      6\n",
       "Name: scrabble_valid, dtype: int64"
      ]
     },
     "execution_count": 86,
     "metadata": {},
     "output_type": "execute_result"
    }
   ],
   "source": [
    "slang[\"scrabble_valid\"].value_counts()"
   ]
  },
  {
   "cell_type": "markdown",
   "id": "5472f9e5",
   "metadata": {},
   "source": [
    "### Removing valid entries"
   ]
  },
  {
   "cell_type": "code",
   "execution_count": 87,
   "id": "d3fd1c8c",
   "metadata": {},
   "outputs": [],
   "source": [
    "reduced_slang= slang[\"word\"][slang[\"scrabble_valid\"]== False].reset_index()"
   ]
  },
  {
   "cell_type": "code",
   "execution_count": 89,
   "id": "008fb2ea",
   "metadata": {
    "scrolled": true
   },
   "outputs": [
    {
     "data": {
      "text/html": [
       "<div>\n",
       "<style scoped>\n",
       "    .dataframe tbody tr th:only-of-type {\n",
       "        vertical-align: middle;\n",
       "    }\n",
       "\n",
       "    .dataframe tbody tr th {\n",
       "        vertical-align: top;\n",
       "    }\n",
       "\n",
       "    .dataframe thead th {\n",
       "        text-align: right;\n",
       "    }\n",
       "</style>\n",
       "<table border=\"1\" class=\"dataframe\">\n",
       "  <thead>\n",
       "    <tr style=\"text-align: right;\">\n",
       "      <th></th>\n",
       "      <th>index</th>\n",
       "      <th>word</th>\n",
       "    </tr>\n",
       "  </thead>\n",
       "  <tbody>\n",
       "    <tr>\n",
       "      <th>0</th>\n",
       "      <td>0</td>\n",
       "      <td>Janky</td>\n",
       "    </tr>\n",
       "    <tr>\n",
       "      <th>1</th>\n",
       "      <td>1</td>\n",
       "      <td>slumpin'</td>\n",
       "    </tr>\n",
       "    <tr>\n",
       "      <th>2</th>\n",
       "      <td>2</td>\n",
       "      <td>yayeeyay</td>\n",
       "    </tr>\n",
       "    <tr>\n",
       "      <th>3</th>\n",
       "      <td>5</td>\n",
       "      <td>ho-bag</td>\n",
       "    </tr>\n",
       "    <tr>\n",
       "      <th>4</th>\n",
       "      <td>7</td>\n",
       "      <td>hork</td>\n",
       "    </tr>\n",
       "    <tr>\n",
       "      <th>5</th>\n",
       "      <td>8</td>\n",
       "      <td>hecka</td>\n",
       "    </tr>\n",
       "    <tr>\n",
       "      <th>6</th>\n",
       "      <td>9</td>\n",
       "      <td>hella</td>\n",
       "    </tr>\n",
       "    <tr>\n",
       "      <th>7</th>\n",
       "      <td>10</td>\n",
       "      <td>wet wagons</td>\n",
       "    </tr>\n",
       "    <tr>\n",
       "      <th>8</th>\n",
       "      <td>11</td>\n",
       "      <td>twomp</td>\n",
       "    </tr>\n",
       "    <tr>\n",
       "      <th>9</th>\n",
       "      <td>12</td>\n",
       "      <td>ducket</td>\n",
       "    </tr>\n",
       "    <tr>\n",
       "      <th>10</th>\n",
       "      <td>14</td>\n",
       "      <td>A-hole</td>\n",
       "    </tr>\n",
       "    <tr>\n",
       "      <th>11</th>\n",
       "      <td>15</td>\n",
       "      <td>Ass Kisser</td>\n",
       "    </tr>\n",
       "    <tr>\n",
       "      <th>12</th>\n",
       "      <td>18</td>\n",
       "      <td>Dry hump</td>\n",
       "    </tr>\n",
       "    <tr>\n",
       "      <th>13</th>\n",
       "      <td>19</td>\n",
       "      <td>No Shit</td>\n",
       "    </tr>\n",
       "  </tbody>\n",
       "</table>\n",
       "</div>"
      ],
      "text/plain": [
       "    index        word\n",
       "0       0       Janky\n",
       "1       1    slumpin'\n",
       "2       2    yayeeyay\n",
       "3       5      ho-bag\n",
       "4       7        hork\n",
       "5       8       hecka\n",
       "6       9       hella\n",
       "7      10  wet wagons\n",
       "8      11       twomp\n",
       "9      12      ducket\n",
       "10     14      A-hole\n",
       "11     15  Ass Kisser\n",
       "12     18    Dry hump\n",
       "13     19     No Shit"
      ]
     },
     "execution_count": 89,
     "metadata": {},
     "output_type": "execute_result"
    }
   ],
   "source": [
    "reduced_slang.head(20)"
   ]
  },
  {
   "cell_type": "markdown",
   "id": "33f2389d",
   "metadata": {},
   "source": [
    "### Saving the new dictionary into a dataframe"
   ]
  },
  {
   "cell_type": "code",
   "execution_count": null,
   "id": "cda10635",
   "metadata": {},
   "outputs": [],
   "source": [
    "del reduced_slang['index']\n",
    "reduced_slang.to_pickle(\"./Reduced_Final_Dictionary.pkl\")"
   ]
  }
 ],
 "metadata": {
  "kernelspec": {
   "display_name": "Python 3 (ipykernel)",
   "language": "python",
   "name": "python3"
  },
  "language_info": {
   "codemirror_mode": {
    "name": "ipython",
    "version": 3
   },
   "file_extension": ".py",
   "mimetype": "text/x-python",
   "name": "python",
   "nbconvert_exporter": "python",
   "pygments_lexer": "ipython3",
   "version": "3.8.11"
  }
 },
 "nbformat": 4,
 "nbformat_minor": 5
}

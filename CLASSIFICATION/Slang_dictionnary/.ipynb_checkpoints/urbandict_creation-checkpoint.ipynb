{
 "cells": [
  {
   "cell_type": "markdown",
   "id": "cf4615a5",
   "metadata": {},
   "source": [
    "Installing and importing needed packages"
   ]
  },
  {
   "cell_type": "code",
   "execution_count": 1,
   "id": "45c31f20",
   "metadata": {},
   "outputs": [
    {
     "name": "stdout",
     "output_type": "stream",
     "text": [
      "Requirement already satisfied: udpy in c:\\users\\nicola\\anaconda3\\envs\\adaenv\\lib\\site-packages (2.0.0)\n",
      "Requirement already satisfied: requests<3.0.0,>=2.23.0 in c:\\users\\nicola\\anaconda3\\envs\\adaenv\\lib\\site-packages (from udpy) (2.26.0)\n",
      "Requirement already satisfied: aiohttp<4.0.0,>=3.6.2 in c:\\users\\nicola\\anaconda3\\envs\\adaenv\\lib\\site-packages (from udpy) (3.8.0)\n",
      "Requirement already satisfied: aiosignal>=1.1.2 in c:\\users\\nicola\\anaconda3\\envs\\adaenv\\lib\\site-packages (from aiohttp<4.0.0,>=3.6.2->udpy) (1.2.0)\n",
      "Requirement already satisfied: charset-normalizer<3.0,>=2.0 in c:\\users\\nicola\\anaconda3\\envs\\adaenv\\lib\\site-packages (from aiohttp<4.0.0,>=3.6.2->udpy) (2.0.7)\n",
      "Requirement already satisfied: multidict<7.0,>=4.5 in c:\\users\\nicola\\anaconda3\\envs\\adaenv\\lib\\site-packages (from aiohttp<4.0.0,>=3.6.2->udpy) (5.2.0)\n",
      "Requirement already satisfied: async-timeout<5.0,>=4.0.0a3 in c:\\users\\nicola\\anaconda3\\envs\\adaenv\\lib\\site-packages (from aiohttp<4.0.0,>=3.6.2->udpy) (4.0.0)\n",
      "Requirement already satisfied: frozenlist>=1.1.1 in c:\\users\\nicola\\anaconda3\\envs\\adaenv\\lib\\site-packages (from aiohttp<4.0.0,>=3.6.2->udpy) (1.2.0)\n",
      "Requirement already satisfied: attrs>=17.3.0 in c:\\users\\nicola\\anaconda3\\envs\\adaenv\\lib\\site-packages (from aiohttp<4.0.0,>=3.6.2->udpy) (21.2.0)\n",
      "Requirement already satisfied: yarl<2.0,>=1.0 in c:\\users\\nicola\\anaconda3\\envs\\adaenv\\lib\\site-packages (from aiohttp<4.0.0,>=3.6.2->udpy) (1.7.2)\n",
      "Requirement already satisfied: typing-extensions>=3.6.5 in c:\\users\\nicola\\anaconda3\\envs\\adaenv\\lib\\site-packages (from async-timeout<5.0,>=4.0.0a3->aiohttp<4.0.0,>=3.6.2->udpy) (3.10.0.2)\n",
      "Requirement already satisfied: idna<4,>=2.5 in c:\\users\\nicola\\anaconda3\\envs\\adaenv\\lib\\site-packages (from requests<3.0.0,>=2.23.0->udpy) (3.3)\n",
      "Requirement already satisfied: certifi>=2017.4.17 in c:\\users\\nicola\\anaconda3\\envs\\adaenv\\lib\\site-packages (from requests<3.0.0,>=2.23.0->udpy) (2021.10.8)\n",
      "Requirement already satisfied: urllib3<1.27,>=1.21.1 in c:\\users\\nicola\\anaconda3\\envs\\adaenv\\lib\\site-packages (from requests<3.0.0,>=2.23.0->udpy) (1.26.7)\n",
      "Requirement already satisfied: tqdm in c:\\users\\nicola\\anaconda3\\envs\\adaenv\\lib\\site-packages (4.62.3)\n",
      "Requirement already satisfied: colorama in c:\\users\\nicola\\anaconda3\\envs\\adaenv\\lib\\site-packages (from tqdm) (0.4.4)\n"
     ]
    }
   ],
   "source": [
    "import sys\n",
    "!{sys.executable} -m pip install udpy\n",
    "!{sys.executable} -m pip install tqdm"
   ]
  },
  {
   "cell_type": "code",
   "execution_count": 2,
   "id": "5959ebbb",
   "metadata": {},
   "outputs": [],
   "source": [
    "from tqdm.notebook import trange, tqdm\n",
    "from udpy import UrbanClient\n",
    "client = UrbanClient()"
   ]
  },
  {
   "cell_type": "markdown",
   "id": "39d8e014",
   "metadata": {},
   "source": [
    "Getting info on all valid ids between 0 and 50000"
   ]
  },
  {
   "cell_type": "code",
   "execution_count": 3,
   "id": "23a5d803",
   "metadata": {
    "scrolled": true
   },
   "outputs": [
    {
     "data": {
      "application/vnd.jupyter.widget-view+json": {
       "model_id": "f1f4c3564b694ccf9e5d1f8446b64054",
       "version_major": 2,
       "version_minor": 0
      },
      "text/plain": [
       "  0%|          | 0/50000 [00:00<?, ?it/s]"
      ]
     },
     "metadata": {},
     "output_type": "display_data"
    }
   ],
   "source": [
    "valid_ids= []\n",
    "words= []\n",
    "examples= []\n",
    "upvotes= []\n",
    "downvotes= []\n",
    "for i in trange(50000):\n",
    "    try:\n",
    "        definition= client.get_definition_by_id(i)\n",
    "        if definition:\n",
    "            valid_ids.append(i)\n",
    "            words.append(definition[0].word)\n",
    "            examples.append(definition[0].example)\n",
    "            upvotes.append(definition[0].upvotes)\n",
    "            downvotes.append(definition[0].downvotes)\n",
    "    except:\n",
    "        pass"
   ]
  },
  {
   "cell_type": "markdown",
   "id": "f13ed093",
   "metadata": {},
   "source": [
    "Creating DataFrame"
   ]
  },
  {
   "cell_type": "code",
   "execution_count": 4,
   "id": "74bd0896",
   "metadata": {},
   "outputs": [],
   "source": [
    "import pandas as pd"
   ]
  },
  {
   "cell_type": "code",
   "execution_count": 9,
   "id": "b8a5dc73",
   "metadata": {},
   "outputs": [
    {
     "data": {
      "text/plain": [
       "20283"
      ]
     },
     "execution_count": 9,
     "metadata": {},
     "output_type": "execute_result"
    }
   ],
   "source": [
    "dictionary= pd.DataFrame(list(zip(valid_ids, words, examples, upvotes, downvotes)),\n",
    "               columns =['UDid', 'word', 'example', 'upvotes', 'downvotes'])\n",
    "#dictionary[\"upvotes\"]= upvotes\n",
    "#dictionary[\"downvotes\"]= downvotes\n",
    "len(downvotes)"
   ]
  },
  {
   "cell_type": "markdown",
   "id": "8aac3abb",
   "metadata": {},
   "source": [
    "Removing extra characters and duplicates of words (NB some duplicates are still present in the example phrases)"
   ]
  },
  {
   "cell_type": "code",
   "execution_count": 10,
   "id": "7401a878",
   "metadata": {},
   "outputs": [],
   "source": [
    "dictionary[\"example\"]= dictionary[\"example\"].apply(lambda x: x.replace('[', ''))\n",
    "dictionary[\"example\"]= dictionary[\"example\"].apply(lambda x: x.replace(']', ''))\n",
    "dictionary= dictionary.drop_duplicates(subset=['word'])"
   ]
  },
  {
   "cell_type": "markdown",
   "id": "52e81548",
   "metadata": {},
   "source": [
    "Saving to pickle and testing if the save worked"
   ]
  },
  {
   "cell_type": "code",
   "execution_count": 11,
   "id": "6014a312",
   "metadata": {},
   "outputs": [],
   "source": [
    "dictionary.to_pickle(\"./new_urban_dictionary.pkl\")"
   ]
  },
  {
   "cell_type": "code",
   "execution_count": 12,
   "id": "43b0e18a",
   "metadata": {},
   "outputs": [
    {
     "data": {
      "text/html": [
       "<div>\n",
       "<style scoped>\n",
       "    .dataframe tbody tr th:only-of-type {\n",
       "        vertical-align: middle;\n",
       "    }\n",
       "\n",
       "    .dataframe tbody tr th {\n",
       "        vertical-align: top;\n",
       "    }\n",
       "\n",
       "    .dataframe thead th {\n",
       "        text-align: right;\n",
       "    }\n",
       "</style>\n",
       "<table border=\"1\" class=\"dataframe\">\n",
       "  <thead>\n",
       "    <tr style=\"text-align: right;\">\n",
       "      <th></th>\n",
       "      <th>UDid</th>\n",
       "      <th>word</th>\n",
       "      <th>example</th>\n",
       "      <th>upvotes</th>\n",
       "      <th>downvotes</th>\n",
       "    </tr>\n",
       "  </thead>\n",
       "  <tbody>\n",
       "    <tr>\n",
       "      <th>0</th>\n",
       "      <td>7</td>\n",
       "      <td>Janky</td>\n",
       "      <td>Your mother cooks janky collard greens.</td>\n",
       "      <td>310</td>\n",
       "      <td>266</td>\n",
       "    </tr>\n",
       "    <tr>\n",
       "      <th>1</th>\n",
       "      <td>8</td>\n",
       "      <td>slumpin'</td>\n",
       "      <td>slumpin' beats and phat tracks as we spin da w...</td>\n",
       "      <td>19</td>\n",
       "      <td>39</td>\n",
       "    </tr>\n",
       "    <tr>\n",
       "      <th>2</th>\n",
       "      <td>9</td>\n",
       "      <td>yayeeyay</td>\n",
       "      <td>\"We be dubbin!  And we's gonna bounce to play ...</td>\n",
       "      <td>23</td>\n",
       "      <td>28</td>\n",
       "    </tr>\n",
       "    <tr>\n",
       "      <th>3</th>\n",
       "      <td>12</td>\n",
       "      <td>hard-core</td>\n",
       "      <td>Dood, that girl's pants are too hard-core for us.</td>\n",
       "      <td>167</td>\n",
       "      <td>96</td>\n",
       "    </tr>\n",
       "    <tr>\n",
       "      <th>4</th>\n",
       "      <td>13</td>\n",
       "      <td>brutal</td>\n",
       "      <td>Man, this morning's calisthenics were brutal.</td>\n",
       "      <td>12</td>\n",
       "      <td>45</td>\n",
       "    </tr>\n",
       "  </tbody>\n",
       "</table>\n",
       "</div>"
      ],
      "text/plain": [
       "   UDid       word                                            example  \\\n",
       "0     7      Janky            Your mother cooks janky collard greens.   \n",
       "1     8   slumpin'  slumpin' beats and phat tracks as we spin da w...   \n",
       "2     9   yayeeyay  \"We be dubbin!  And we's gonna bounce to play ...   \n",
       "3    12  hard-core  Dood, that girl's pants are too hard-core for us.   \n",
       "4    13     brutal      Man, this morning's calisthenics were brutal.   \n",
       "\n",
       "   upvotes  downvotes  \n",
       "0      310        266  \n",
       "1       19         39  \n",
       "2       23         28  \n",
       "3      167         96  \n",
       "4       12         45  "
      ]
     },
     "execution_count": 12,
     "metadata": {},
     "output_type": "execute_result"
    }
   ],
   "source": [
    "test= pd.read_pickle(\"./new_urban_dictionary.pkl\")\n",
    "test.head()"
   ]
  }
 ],
 "metadata": {
  "kernelspec": {
   "display_name": "Python 3 (ipykernel)",
   "language": "python",
   "name": "python3"
  },
  "language_info": {
   "codemirror_mode": {
    "name": "ipython",
    "version": 3
   },
   "file_extension": ".py",
   "mimetype": "text/x-python",
   "name": "python",
   "nbconvert_exporter": "python",
   "pygments_lexer": "ipython3",
   "version": "3.8.12"
  }
 },
 "nbformat": 4,
 "nbformat_minor": 5
}

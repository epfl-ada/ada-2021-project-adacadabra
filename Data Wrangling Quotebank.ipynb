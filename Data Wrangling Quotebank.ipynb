{
 "cells": [
  {
   "cell_type": "markdown",
   "id": "6528744c",
   "metadata": {},
   "source": [
    "# Data wrangling of the Quotebank dataset\n",
    "\n",
    "This notebook is dedicated to developpe the datawrangling methods that will be used to clean the full Quotebank dataset used in our project. The methods are tested on a sample of the full database.\n",
    "\n",
    "The sample is made frome 200'000 quotes of each years of interest (2015-2020) which should therefore contain $1.2 \\cdot 10^6$ entries.\n",
    "\n",
    "The script will proceed through the following steps:\n",
    "  - drop of the duplicates\n",
    "  - drop of the quotes for which the speaker is not identified (threshold to be defined)\n",
    "  - drop the quotes in which the probability between one or more speaker his near each other (threshold to be defined)\n",
    "  - drop of any quotes that is empty\n",
    "  - keep only the speaker that has the most probability of being the author of the quote\n",
    "    "
   ]
  },
  {
   "cell_type": "markdown",
   "id": "ec553b5c",
   "metadata": {},
   "source": [
    "TODO:\n",
    " - analyser NumOccurences\n",
    " - analyser longueur des Quotes\n",
    " - analyser None selon année"
   ]
  },
  {
   "cell_type": "code",
   "execution_count": 136,
   "id": "5808beef",
   "metadata": {},
   "outputs": [],
   "source": [
    "#importing the required modules\n",
    "import seaborn as sns\n",
    "from IPython.display import display, HTML\n",
    "import matplotlib.pyplot as plt\n",
    "import scipy.stats as stats\n",
    "import pandas as pd\n",
    "import numpy as np\n",
    "import seaborn as sns"
   ]
  },
  {
   "cell_type": "code",
   "execution_count": 137,
   "id": "e0c119a1",
   "metadata": {},
   "outputs": [],
   "source": [
    "# Small adjustments to default style of plots, making sure it's readable and colorblind-friendly everywhere\n",
    "plt.style.use('seaborn-colorblind')\n",
    "plt.rcParams.update({'font.size' : 12.5,\n",
    "                     'figure.figsize':(10,7)})"
   ]
  },
  {
   "cell_type": "markdown",
   "id": "4f1f8341",
   "metadata": {},
   "source": [
    "Quick look at the raw data:"
   ]
  },
  {
   "cell_type": "code",
   "execution_count": 138,
   "id": "ac57dab6",
   "metadata": {},
   "outputs": [
    {
     "name": "stdout",
     "output_type": "stream",
     "text": [
      "Wall time: 1min 27s\n"
     ]
    },
    {
     "data": {
      "text/html": [
       "<div>\n",
       "<style scoped>\n",
       "    .dataframe tbody tr th:only-of-type {\n",
       "        vertical-align: middle;\n",
       "    }\n",
       "\n",
       "    .dataframe tbody tr th {\n",
       "        vertical-align: top;\n",
       "    }\n",
       "\n",
       "    .dataframe thead th {\n",
       "        text-align: right;\n",
       "    }\n",
       "</style>\n",
       "<table border=\"1\" class=\"dataframe\">\n",
       "  <thead>\n",
       "    <tr style=\"text-align: right;\">\n",
       "      <th></th>\n",
       "      <th>numOccurrences</th>\n",
       "    </tr>\n",
       "  </thead>\n",
       "  <tbody>\n",
       "    <tr>\n",
       "      <th>count</th>\n",
       "      <td>1.263790e+06</td>\n",
       "    </tr>\n",
       "    <tr>\n",
       "      <th>mean</th>\n",
       "      <td>3.767778e+00</td>\n",
       "    </tr>\n",
       "    <tr>\n",
       "      <th>std</th>\n",
       "      <td>4.666187e+01</td>\n",
       "    </tr>\n",
       "    <tr>\n",
       "      <th>min</th>\n",
       "      <td>1.000000e+00</td>\n",
       "    </tr>\n",
       "    <tr>\n",
       "      <th>25%</th>\n",
       "      <td>1.000000e+00</td>\n",
       "    </tr>\n",
       "    <tr>\n",
       "      <th>50%</th>\n",
       "      <td>1.000000e+00</td>\n",
       "    </tr>\n",
       "    <tr>\n",
       "      <th>75%</th>\n",
       "      <td>2.000000e+00</td>\n",
       "    </tr>\n",
       "    <tr>\n",
       "      <th>max</th>\n",
       "      <td>3.300000e+04</td>\n",
       "    </tr>\n",
       "  </tbody>\n",
       "</table>\n",
       "</div>"
      ],
      "text/plain": [
       "       numOccurrences\n",
       "count    1.263790e+06\n",
       "mean     3.767778e+00\n",
       "std      4.666187e+01\n",
       "min      1.000000e+00\n",
       "25%      1.000000e+00\n",
       "50%      1.000000e+00\n",
       "75%      2.000000e+00\n",
       "max      3.300000e+04"
      ]
     },
     "execution_count": 138,
     "metadata": {},
     "output_type": "execute_result"
    }
   ],
   "source": [
    "%%time\n",
    "#copy the path of the sample quotes: (to big to put in the git)\n",
    "#ALEX: 'C:/Users/alexb/Documents/Ecole/EPFL/MasterII/ADA/'\n",
    "#JULES: ...\n",
    "#MARIN: ...\n",
    "#NICO: ...\n",
    "\n",
    "\n",
    "path_2_data = 'C:/Users/alexb/Documents/Ecole/EPFL/MasterII/ADA/'\n",
    "\n",
    "\n",
    "#import the dataset sample\n",
    "raw_data = pd.read_json(path_2_data + 'Sample.json.bz2',compression=\"bz2\",lines=True)\n",
    "\n",
    "raw_data.describe()"
   ]
  },
  {
   "cell_type": "code",
   "execution_count": 169,
   "id": "6e582955",
   "metadata": {},
   "outputs": [
    {
     "data": {
      "text/html": [
       "<div>\n",
       "<style scoped>\n",
       "    .dataframe tbody tr th:only-of-type {\n",
       "        vertical-align: middle;\n",
       "    }\n",
       "\n",
       "    .dataframe tbody tr th {\n",
       "        vertical-align: top;\n",
       "    }\n",
       "\n",
       "    .dataframe thead th {\n",
       "        text-align: right;\n",
       "    }\n",
       "</style>\n",
       "<table border=\"1\" class=\"dataframe\">\n",
       "  <thead>\n",
       "    <tr style=\"text-align: right;\">\n",
       "      <th></th>\n",
       "      <th>quoteID</th>\n",
       "      <th>quotation</th>\n",
       "      <th>speaker</th>\n",
       "      <th>qids</th>\n",
       "      <th>date</th>\n",
       "      <th>numOccurrences</th>\n",
       "      <th>probas</th>\n",
       "      <th>urls</th>\n",
       "      <th>phase</th>\n",
       "    </tr>\n",
       "  </thead>\n",
       "  <tbody>\n",
       "    <tr>\n",
       "      <th>1234216</th>\n",
       "      <td>2020-02-22-016743</td>\n",
       "      <td>I'm not always very good at expressing myself.</td>\n",
       "      <td>Mo Farah</td>\n",
       "      <td>[Q1671]</td>\n",
       "      <td>2020-02-22 10:26:07</td>\n",
       "      <td>65</td>\n",
       "      <td>[[Mo Farah, 0.9317], [None, 0.0644], [Alberto ...</td>\n",
       "      <td>[http://www.expressandstar.com/sport/uk-sports...</td>\n",
       "      <td>E</td>\n",
       "    </tr>\n",
       "    <tr>\n",
       "      <th>339045</th>\n",
       "      <td>2016-08-29-081097</td>\n",
       "      <td>The council has not stopped the AWLQ from prov...</td>\n",
       "      <td>None</td>\n",
       "      <td>[]</td>\n",
       "      <td>2016-08-29 00:48:15</td>\n",
       "      <td>3</td>\n",
       "      <td>[[None, 0.9659], [David Nielsen, 0.0341]]</td>\n",
       "      <td>[http://caboolturenews.com.au/news/why-awlq-wo...</td>\n",
       "      <td>E</td>\n",
       "    </tr>\n",
       "    <tr>\n",
       "      <th>497683</th>\n",
       "      <td>2017-12-12-074271</td>\n",
       "      <td>Joanne Kemp was the submarine's sponsor and br...</td>\n",
       "      <td>None</td>\n",
       "      <td>[]</td>\n",
       "      <td>2017-12-12 00:00:00</td>\n",
       "      <td>1</td>\n",
       "      <td>[[None, 0.9541], [Jack Kemp, 0.0459]]</td>\n",
       "      <td>[https://sabres.buffalonews.com/2017/12/12/who...</td>\n",
       "      <td>E</td>\n",
       "    </tr>\n",
       "  </tbody>\n",
       "</table>\n",
       "</div>"
      ],
      "text/plain": [
       "                   quoteID                                          quotation  \\\n",
       "1234216  2020-02-22-016743     I'm not always very good at expressing myself.   \n",
       "339045   2016-08-29-081097  The council has not stopped the AWLQ from prov...   \n",
       "497683   2017-12-12-074271  Joanne Kemp was the submarine's sponsor and br...   \n",
       "\n",
       "          speaker     qids                date  numOccurrences  \\\n",
       "1234216  Mo Farah  [Q1671] 2020-02-22 10:26:07              65   \n",
       "339045       None       [] 2016-08-29 00:48:15               3   \n",
       "497683       None       [] 2017-12-12 00:00:00               1   \n",
       "\n",
       "                                                    probas  \\\n",
       "1234216  [[Mo Farah, 0.9317], [None, 0.0644], [Alberto ...   \n",
       "339045           [[None, 0.9659], [David Nielsen, 0.0341]]   \n",
       "497683               [[None, 0.9541], [Jack Kemp, 0.0459]]   \n",
       "\n",
       "                                                      urls phase  \n",
       "1234216  [http://www.expressandstar.com/sport/uk-sports...     E  \n",
       "339045   [http://caboolturenews.com.au/news/why-awlq-wo...     E  \n",
       "497683   [https://sabres.buffalonews.com/2017/12/12/who...     E  "
      ]
     },
     "execution_count": 169,
     "metadata": {},
     "output_type": "execute_result"
    }
   ],
   "source": [
    "raw_data.sample(3)"
   ]
  },
  {
   "cell_type": "markdown",
   "id": "49fa1b3e",
   "metadata": {},
   "source": [
    "Test to see if the ids are unique within the dataset"
   ]
  },
  {
   "cell_type": "code",
   "execution_count": 170,
   "id": "15849da5",
   "metadata": {},
   "outputs": [
    {
     "name": "stdout",
     "output_type": "stream",
     "text": [
      "0 dupplicates rows have been removed\n",
      "Unique rows in the data set: True\n",
      "Wall time: 17.5 s\n"
     ]
    }
   ],
   "source": [
    "%%time\n",
    "#Keeping the first occurence of the duplicates\n",
    "size_bf = raw_data.shape[0]\n",
    "df = raw_data.copy().drop_duplicates(subset = 'quoteID', keep='first')\n",
    "size_af = df.shape[0]\n",
    "\n",
    "print('{} dupplicates rows have been removed'.format(size_bf-size_af))\n",
    "print('Unique rows in the data set:', df.quoteID.is_unique)"
   ]
  },
  {
   "cell_type": "markdown",
   "id": "353cc181",
   "metadata": {},
   "source": [
    "Sample of the sample to speed up calculation while implementing"
   ]
  },
  {
   "cell_type": "code",
   "execution_count": 220,
   "id": "f27867cc",
   "metadata": {},
   "outputs": [
    {
     "data": {
      "text/html": [
       "<div>\n",
       "<style scoped>\n",
       "    .dataframe tbody tr th:only-of-type {\n",
       "        vertical-align: middle;\n",
       "    }\n",
       "\n",
       "    .dataframe tbody tr th {\n",
       "        vertical-align: top;\n",
       "    }\n",
       "\n",
       "    .dataframe thead th {\n",
       "        text-align: right;\n",
       "    }\n",
       "</style>\n",
       "<table border=\"1\" class=\"dataframe\">\n",
       "  <thead>\n",
       "    <tr style=\"text-align: right;\">\n",
       "      <th></th>\n",
       "      <th>quoteID</th>\n",
       "      <th>quotation</th>\n",
       "      <th>speaker</th>\n",
       "      <th>qids</th>\n",
       "      <th>date</th>\n",
       "      <th>numOccurrences</th>\n",
       "      <th>probas</th>\n",
       "      <th>urls</th>\n",
       "      <th>phase</th>\n",
       "    </tr>\n",
       "  </thead>\n",
       "  <tbody>\n",
       "    <tr>\n",
       "      <th>297170</th>\n",
       "      <td>2016-06-17-002107</td>\n",
       "      <td>When you tap on the emoji button, we'll highli...</td>\n",
       "      <td>Craig Federighi</td>\n",
       "      <td>[Q618558]</td>\n",
       "      <td>2016-06-17 11:41:42</td>\n",
       "      <td>1</td>\n",
       "      <td>[[Craig Federighi, 0.8934], [None, 0.1066]]</td>\n",
       "      <td>[http://fusion.net/story/315369/apples-new-emo...</td>\n",
       "      <td>E</td>\n",
       "    </tr>\n",
       "    <tr>\n",
       "      <th>163678</th>\n",
       "      <td>2015-07-23-003028</td>\n",
       "      <td>A New Look at the Psychedelic Tibetan Book of ...</td>\n",
       "      <td>Ralph Metzner</td>\n",
       "      <td>[Q2277534]</td>\n",
       "      <td>2015-07-23 14:30:00</td>\n",
       "      <td>1</td>\n",
       "      <td>[[Ralph Metzner, 0.7446], [Rick Doblin, 0.1507...</td>\n",
       "      <td>[http://www.tricycle.com/blog/long-strange-trip]</td>\n",
       "      <td>E</td>\n",
       "    </tr>\n",
       "  </tbody>\n",
       "</table>\n",
       "</div>"
      ],
      "text/plain": [
       "                  quoteID                                          quotation  \\\n",
       "297170  2016-06-17-002107  When you tap on the emoji button, we'll highli...   \n",
       "163678  2015-07-23-003028  A New Look at the Psychedelic Tibetan Book of ...   \n",
       "\n",
       "                speaker        qids                date  numOccurrences  \\\n",
       "297170  Craig Federighi   [Q618558] 2016-06-17 11:41:42               1   \n",
       "163678    Ralph Metzner  [Q2277534] 2015-07-23 14:30:00               1   \n",
       "\n",
       "                                                   probas  \\\n",
       "297170        [[Craig Federighi, 0.8934], [None, 0.1066]]   \n",
       "163678  [[Ralph Metzner, 0.7446], [Rick Doblin, 0.1507...   \n",
       "\n",
       "                                                     urls phase  \n",
       "297170  [http://fusion.net/story/315369/apples-new-emo...     E  \n",
       "163678   [http://www.tricycle.com/blog/long-strange-trip]     E  "
      ]
     },
     "execution_count": 220,
     "metadata": {},
     "output_type": "execute_result"
    }
   ],
   "source": [
    "df_test = df[0:400000]\n",
    "df_test.sample(2)"
   ]
  },
  {
   "cell_type": "markdown",
   "id": "7f31ee1d",
   "metadata": {},
   "source": [
    "Extraction the probabilities linked to the two most probable speakers"
   ]
  },
  {
   "cell_type": "code",
   "execution_count": 225,
   "id": "ccccb7ea",
   "metadata": {},
   "outputs": [
    {
     "name": "stdout",
     "output_type": "stream",
     "text": [
      "Wall time: 859 ms\n"
     ]
    }
   ],
   "source": [
    "%%time\n",
    "#highest probability\n",
    "df_thres = df_test.copy()\n",
    "df_thres['p1'] = [i[0][1] for i in df_test['probas']]\n",
    "df_thres['p1'] = df_thres['p1'].astype(float)\n",
    "\n",
    "#second highest probability\n",
    "df_thres['p2'] = [i[1][1] for i in df_test['probas']]\n",
    "df_thres['p2'] = df_thres['p2'].astype(float)\n",
    "\n",
    "#difference between the two above\n",
    "df_thres['delta_p'] = df_thres['p1']-df_thres['p2']\n",
    "\n",
    "#extracting the date\n",
    "df_thres['year'] = pd.DatetimeIndex(df_thres['date']).year\n",
    "\n"
   ]
  },
  {
   "cell_type": "markdown",
   "id": "3bd01774",
   "metadata": {},
   "source": [
    "Boxplot to analyze the presence of outliers, it seems that there is some problematic values:\n",
    " - p2 should be always smaller than 0.5 (otherwise it should be p1)\n",
    " - p1 - p2 should be always positive since p1>p2\n",
    " - low values in p1 should be removed"
   ]
  },
  {
   "cell_type": "code",
   "execution_count": 226,
   "id": "3ddc6824",
   "metadata": {},
   "outputs": [
    {
     "data": {
      "image/png": "[encoded data removed]",
      "text/plain": [
       "<Figure size 720x504 with 1 Axes>"
      ]
     },
     "metadata": {
      "needs_background": "light"
     },
     "output_type": "display_data"
    }
   ],
   "source": [
    "#boxplot to analyze the presence of outliers\n",
    "data_plot = df_thres.drop(['numOccurrences','year'], axis = 1)\n",
    "ax = sns.boxplot(data = data_plot)\n",
    "ax.set(ylabel='probabilities [-]')\n",
    "ax.set_title('Distribution of the probability of the speaker attribution')\n",
    "_ = ax.set_xticklabels(ax.get_xticklabels(), rotation=40, ha=\"right\")"
   ]
  },
  {
   "cell_type": "markdown",
   "id": "8bb0d5df",
   "metadata": {},
   "source": [
    "Distribution in the forms of histograms, observation:\n",
    " - Strange drop in the distribution of p1 around x = 0.5"
   ]
  },
  {
   "cell_type": "code",
   "execution_count": 227,
   "id": "fdf7cf1d",
   "metadata": {},
   "outputs": [
    {
     "data": {
      "text/plain": [
       "(-0.1, 1.1)"
      ]
     },
     "execution_count": 227,
     "metadata": {},
     "output_type": "execute_result"
    },
    {
     "data": {
      "image/png": "[encoded data removed]",
      "text/plain": [
       "<Figure size 1080x576 with 3 Axes>"
      ]
     },
     "metadata": {
      "needs_background": "light"
     },
     "output_type": "display_data"
    }
   ],
   "source": [
    "#histograms to better understand the distribution of the data\n",
    "fig, ax = plt.subplots(nrows=1, ncols=3, constrained_layout=True, figsize=(15, 8))\n",
    "ax[0].hist(df_thres.p1, bins=500)\n",
    "ax[0].set_title('Distribution of the highest probability')\n",
    "ax[0].set_ylabel('# quotes')\n",
    "ax[0].set_xlabel('probability')\n",
    "#ax[0].set_xlim([-10000,600000])\n",
    "#ax[0].set_ylim([0,340])\n",
    "\n",
    "ax[1].hist(df_thres.p2, bins=500)\n",
    "ax[1].set_title('Distribution of 2nd highest probability')\n",
    "ax[1].set_ylabel('# quotes')\n",
    "ax[1].set_xlabel('probability')\n",
    "ax[1].set_xlim([-0.1,0.6])\n",
    "#ax[1].set_ylim([0,340])\n",
    "\n",
    "ax[2].hist(df_thres.delta_p, bins=500)\n",
    "ax[2].set_title('Distribution of the diff of proba')\n",
    "ax[2].set_ylabel('# quotes')\n",
    "ax[2].set_xlabel('probability')\n",
    "ax[2].set_xlim([-0.1,1.1])\n",
    "#ax[2].set_ylim([0,340])"
   ]
  },
  {
   "cell_type": "markdown",
   "id": "e8cfbd8c",
   "metadata": {},
   "source": [
    "After the anlysis above we can drop the quotes for which the speaker\n",
    "   - have meaningless probabilities\n",
    "   - is not clearly identified (threshold to be defined: *threshold_min*)\n",
    "   - is probably confused with another speaker (threshold to be defined: *threshold_diff*)\n",
    "   - is not identified (None values)"
   ]
  },
  {
   "cell_type": "code",
   "execution_count": 228,
   "id": "003f1b62",
   "metadata": {},
   "outputs": [
    {
     "name": "stdout",
     "output_type": "stream",
     "text": [
      "Min Threshold set at  0.5\n",
      "Diff Threshold set at  0.3\n",
      "----------------------\n",
      "Due to the above threshold, 186643 rows have been removed\n",
      " - 135559 x None value for speaker\n",
      " - 51084 x threshold probabilities not reached\n"
     ]
    }
   ],
   "source": [
    "#fixing the threshold (=> to low percentage of attribution to be considered in the analysis)\n",
    "threshold_min = 0.5\n",
    "threshold_diff = 0.3\n",
    "\n",
    "#removing the rows that not pass the criterions\n",
    "indexNames = df_thres[\n",
    "                        (df_thres['p1'] < threshold_min)\n",
    "                      | (df_thres['delta_p'] < threshold_diff)\n",
    "                      | (df_thres['speaker'] == 'None')\n",
    "                                                                          ].index\n",
    "\n",
    "df_thres = df_thres.drop(indexNames , inplace=False)\n",
    "\n",
    "#check of the number of deleted rows\n",
    "print('Min Threshold set at ',threshold_min)\n",
    "print('Diff Threshold set at ',threshold_diff)\n",
    "print('----------------------')\n",
    "print('Due to the above threshold, {} rows have been removed'.format(len(indexNames)))\n",
    "print(' - {} x None value for speaker'.format(df_test['speaker'].value_counts()['None']))\n",
    "print(' - {} x threshold probabilities not reached'.format(len(indexNames)-df_test['speaker'].value_counts()['None']))"
   ]
  },
  {
   "cell_type": "markdown",
   "id": "6ac996d3",
   "metadata": {},
   "source": [
    "Again some plots to see if the dataWrangling is efficient"
   ]
  },
  {
   "cell_type": "code",
   "execution_count": 231,
   "id": "3ae98109",
   "metadata": {},
   "outputs": [
    {
     "data": {
      "image/png": "[encoded data removed]",
      "text/plain": [
       "<Figure size 720x504 with 1 Axes>"
      ]
     },
     "metadata": {
      "needs_background": "light"
     },
     "output_type": "display_data"
    }
   ],
   "source": [
    "#boxplot to analyze the presence of outliers\n",
    "data_plot = df_thres.drop(['numOccurrences','year'], axis = 1)\n",
    "ax = sns.boxplot(data = data_plot)\n",
    "ax.set(ylabel='probabilities [-]')\n",
    "ax.set_title('Distribution of the probability of the speaker attribution')\n",
    "_ = ax.set_xticklabels(ax.get_xticklabels(), rotation=40, ha=\"right\")"
   ]
  },
  {
   "cell_type": "code",
   "execution_count": 232,
   "id": "26e7c1ce",
   "metadata": {},
   "outputs": [
    {
     "data": {
      "text/plain": [
       "Text(0.5, 0, 'probability')"
      ]
     },
     "execution_count": 232,
     "metadata": {},
     "output_type": "execute_result"
    },
    {
     "data": {
      "image/png": "[encoded data removed]",
      "text/plain": [
       "<Figure size 1080x576 with 3 Axes>"
      ]
     },
     "metadata": {
      "needs_background": "light"
     },
     "output_type": "display_data"
    }
   ],
   "source": [
    "#histograms to better understand the distribution of the data\n",
    "fig, ax = plt.subplots(nrows=1, ncols=3, constrained_layout=True, figsize=(15, 8))\n",
    "ax[0].hist(df_thres.p1, bins=500)\n",
    "ax[0].set_title('Distribution of the highest probability')\n",
    "ax[0].set_ylabel('# quotes')\n",
    "ax[0].set_xlabel('probability')\n",
    "#ax[0].set_xlim([-10000,600000])\n",
    "#ax[0].set_ylim([0,340])\n",
    "\n",
    "ax[1].hist(df_thres.p2, bins=500)\n",
    "ax[1].set_title('Distribution of 2nd highest probability')\n",
    "ax[1].set_ylabel('# quotes')\n",
    "ax[1].set_xlabel('probability')\n",
    "#ax[1].set_xlim([-10000,600000])\n",
    "#ax[1].set_ylim([0,340])\n",
    "\n",
    "ax[2].hist(df_thres.delta_p, bins=500)\n",
    "ax[2].set_title('Distribution of the diff of proba')\n",
    "ax[2].set_ylabel('# quotes')\n",
    "ax[2].set_xlabel('probability')\n",
    "#ax[2].set_xlim([-10000,600000])\n",
    "#ax[2].set_ylim([0,340])"
   ]
  }
 ],
 "metadata": {
  "kernelspec": {
   "display_name": "Python 3 (ipykernel)",
   "language": "python",
   "name": "python3"
  },
  "language_info": {
   "codemirror_mode": {
    "name": "ipython",
    "version": 3
   },
   "file_extension": ".py",
   "mimetype": "text/x-python",
   "name": "python",
   "nbconvert_exporter": "python",
   "pygments_lexer": "ipython3",
   "version": "3.9.6"
  }
 },
 "nbformat": 4,
 "nbformat_minor": 5
}

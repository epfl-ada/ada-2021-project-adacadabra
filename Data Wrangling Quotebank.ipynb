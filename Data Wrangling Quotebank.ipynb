{
 "cells": [
  {
   "cell_type": "markdown",
   "id": "6528744c",
   "metadata": {},
   "source": [
    "# Data wrangling of the Quotebank dataset\n",
    "\n",
    "This notebook is dedicated to developpe the datawrangling methods that will be used to clean the full Quotebank dataset used in our project. The methods are tested on a sample of the full database.\n",
    "\n",
    "The sample is made frome 200'000 quotes of each years of interest (2015-2020) which should therefore contain $1.2 \\cdot 10^6$ entries.\n",
    "\n",
    "The script will proceed through the following steps:\n",
    "  - drop of the duplicates\n",
    "  - drop of the quotes for which the speaker is not identified (threshold to be defined)\n",
    "  - drop the quotes in which the probability between one or more speaker his near each other (threshold to be defined)\n",
    "  - drop of any quotes that is empty\n",
    "  - keep only the speaker that has the most probability of being the author of the quote\n",
    "    "
   ]
  },
  {
   "cell_type": "code",
   "execution_count": 136,
   "id": "5808beef",
   "metadata": {},
   "outputs": [],
   "source": [
    "#importing the required modules\n",
    "import seaborn as sns\n",
    "from IPython.display import display, HTML\n",
    "import matplotlib.pyplot as plt\n",
    "import scipy.stats as stats\n",
    "import pandas as pd\n",
    "import numpy as np\n",
    "import seaborn as sns"
   ]
  },
  {
   "cell_type": "code",
   "execution_count": 137,
   "id": "e0c119a1",
   "metadata": {},
   "outputs": [],
   "source": [
    "# Small adjustments to default style of plots, making sure it's readable and colorblind-friendly everywhere\n",
    "plt.style.use('seaborn-colorblind')\n",
    "plt.rcParams.update({'font.size' : 12.5,\n",
    "                     'figure.figsize':(10,7)})"
   ]
  },
  {
   "cell_type": "markdown",
   "id": "4f1f8341",
   "metadata": {},
   "source": [
    "Quick look at the raw data:"
   ]
  },
  {
   "cell_type": "code",
   "execution_count": 138,
   "id": "ac57dab6",
   "metadata": {},
   "outputs": [
    {
     "name": "stdout",
     "output_type": "stream",
     "text": [
      "Wall time: 1min 27s\n"
     ]
    },
    {
     "data": {
      "text/html": [
       "<div>\n",
       "<style scoped>\n",
       "    .dataframe tbody tr th:only-of-type {\n",
       "        vertical-align: middle;\n",
       "    }\n",
       "\n",
       "    .dataframe tbody tr th {\n",
       "        vertical-align: top;\n",
       "    }\n",
       "\n",
       "    .dataframe thead th {\n",
       "        text-align: right;\n",
       "    }\n",
       "</style>\n",
       "<table border=\"1\" class=\"dataframe\">\n",
       "  <thead>\n",
       "    <tr style=\"text-align: right;\">\n",
       "      <th></th>\n",
       "      <th>numOccurrences</th>\n",
       "    </tr>\n",
       "  </thead>\n",
       "  <tbody>\n",
       "    <tr>\n",
       "      <th>count</th>\n",
       "      <td>1.263790e+06</td>\n",
       "    </tr>\n",
       "    <tr>\n",
       "      <th>mean</th>\n",
       "      <td>3.767778e+00</td>\n",
       "    </tr>\n",
       "    <tr>\n",
       "      <th>std</th>\n",
       "      <td>4.666187e+01</td>\n",
       "    </tr>\n",
       "    <tr>\n",
       "      <th>min</th>\n",
       "      <td>1.000000e+00</td>\n",
       "    </tr>\n",
       "    <tr>\n",
       "      <th>25%</th>\n",
       "      <td>1.000000e+00</td>\n",
       "    </tr>\n",
       "    <tr>\n",
       "      <th>50%</th>\n",
       "      <td>1.000000e+00</td>\n",
       "    </tr>\n",
       "    <tr>\n",
       "      <th>75%</th>\n",
       "      <td>2.000000e+00</td>\n",
       "    </tr>\n",
       "    <tr>\n",
       "      <th>max</th>\n",
       "      <td>3.300000e+04</td>\n",
       "    </tr>\n",
       "  </tbody>\n",
       "</table>\n",
       "</div>"
      ],
      "text/plain": [
       "       numOccurrences\n",
       "count    1.263790e+06\n",
       "mean     3.767778e+00\n",
       "std      4.666187e+01\n",
       "min      1.000000e+00\n",
       "25%      1.000000e+00\n",
       "50%      1.000000e+00\n",
       "75%      2.000000e+00\n",
       "max      3.300000e+04"
      ]
     },
     "execution_count": 138,
     "metadata": {},
     "output_type": "execute_result"
    }
   ],
   "source": [
    "%%time\n",
    "#copy the path of the sample quotes: (to big to put in the git)\n",
    "#ALEX: 'C:/Users/alexb/Documents/Ecole/EPFL/MasterII/ADA/'\n",
    "#JULES: ...\n",
    "#MARIN: ...\n",
    "#NICO: ...\n",
    "\n",
    "\n",
    "path_2_data = 'C:/Users/alexb/Documents/Ecole/EPFL/MasterII/ADA/'\n",
    "\n",
    "\n",
    "#import the dataset sample\n",
    "raw_data = pd.read_json(path_2_data + 'Sample.json.bz2',compression=\"bz2\",lines=True)\n",
    "\n",
    "raw_data.describe()"
   ]
  },
  {
   "cell_type": "code",
   "execution_count": 139,
   "id": "6e582955",
   "metadata": {},
   "outputs": [
    {
     "data": {
      "text/html": [
       "<div>\n",
       "<style scoped>\n",
       "    .dataframe tbody tr th:only-of-type {\n",
       "        vertical-align: middle;\n",
       "    }\n",
       "\n",
       "    .dataframe tbody tr th {\n",
       "        vertical-align: top;\n",
       "    }\n",
       "\n",
       "    .dataframe thead th {\n",
       "        text-align: right;\n",
       "    }\n",
       "</style>\n",
       "<table border=\"1\" class=\"dataframe\">\n",
       "  <thead>\n",
       "    <tr style=\"text-align: right;\">\n",
       "      <th></th>\n",
       "      <th>quoteID</th>\n",
       "      <th>quotation</th>\n",
       "      <th>speaker</th>\n",
       "      <th>qids</th>\n",
       "      <th>date</th>\n",
       "      <th>numOccurrences</th>\n",
       "      <th>probas</th>\n",
       "      <th>urls</th>\n",
       "      <th>phase</th>\n",
       "    </tr>\n",
       "  </thead>\n",
       "  <tbody>\n",
       "    <tr>\n",
       "      <th>825679</th>\n",
       "      <td>2019-12-14-052319</td>\n",
       "      <td>What I will say is the one thing Trump and Bor...</td>\n",
       "      <td>Jonathan Tasini</td>\n",
       "      <td>[Q6274567]</td>\n",
       "      <td>2019-12-14 11:03:39</td>\n",
       "      <td>2</td>\n",
       "      <td>[[Jonathan Tasini, 0.7711], [None, 0.2089], [B...</td>\n",
       "      <td>[http://thehill.com/homenews/campaign/474492-d...</td>\n",
       "      <td>E</td>\n",
       "    </tr>\n",
       "    <tr>\n",
       "      <th>137980</th>\n",
       "      <td>2015-08-12-060985</td>\n",
       "      <td>Just so this doesn't escalate and we end up wi...</td>\n",
       "      <td>Stephen Parry</td>\n",
       "      <td>[Q3973213, Q53575550, Q7610199, Q7610200]</td>\n",
       "      <td>2015-08-12 01:05:32</td>\n",
       "      <td>4</td>\n",
       "      <td>[[Stephen Parry, 0.9712], [None, 0.0288]]</td>\n",
       "      <td>[http://geelongadvertiser.com.au/news/national...</td>\n",
       "      <td>E</td>\n",
       "    </tr>\n",
       "    <tr>\n",
       "      <th>1116621</th>\n",
       "      <td>2020-03-14-026016</td>\n",
       "      <td>Should there be an incident of an infected att...</td>\n",
       "      <td>Wilson Lim</td>\n",
       "      <td>[Q56777583]</td>\n",
       "      <td>2020-03-14 23:02:43</td>\n",
       "      <td>2</td>\n",
       "      <td>[[Wilson Lim, 0.9647], [None, 0.0353]]</td>\n",
       "      <td>[http://www.smh.com.au/national/queensland/bri...</td>\n",
       "      <td>E</td>\n",
       "    </tr>\n",
       "  </tbody>\n",
       "</table>\n",
       "</div>"
      ],
      "text/plain": [
       "                   quoteID                                          quotation  \\\n",
       "825679   2019-12-14-052319  What I will say is the one thing Trump and Bor...   \n",
       "137980   2015-08-12-060985  Just so this doesn't escalate and we end up wi...   \n",
       "1116621  2020-03-14-026016  Should there be an incident of an infected att...   \n",
       "\n",
       "                 speaker                                       qids  \\\n",
       "825679   Jonathan Tasini                                 [Q6274567]   \n",
       "137980     Stephen Parry  [Q3973213, Q53575550, Q7610199, Q7610200]   \n",
       "1116621       Wilson Lim                                [Q56777583]   \n",
       "\n",
       "                       date  numOccurrences  \\\n",
       "825679  2019-12-14 11:03:39               2   \n",
       "137980  2015-08-12 01:05:32               4   \n",
       "1116621 2020-03-14 23:02:43               2   \n",
       "\n",
       "                                                    probas  \\\n",
       "825679   [[Jonathan Tasini, 0.7711], [None, 0.2089], [B...   \n",
       "137980           [[Stephen Parry, 0.9712], [None, 0.0288]]   \n",
       "1116621             [[Wilson Lim, 0.9647], [None, 0.0353]]   \n",
       "\n",
       "                                                      urls phase  \n",
       "825679   [http://thehill.com/homenews/campaign/474492-d...     E  \n",
       "137980   [http://geelongadvertiser.com.au/news/national...     E  \n",
       "1116621  [http://www.smh.com.au/national/queensland/bri...     E  "
      ]
     },
     "execution_count": 139,
     "metadata": {},
     "output_type": "execute_result"
    }
   ],
   "source": [
    "raw_data.sample(3)"
   ]
  },
  {
   "cell_type": "markdown",
   "id": "49fa1b3e",
   "metadata": {},
   "source": [
    "Test to see if the ids are unique within the dataset"
   ]
  },
  {
   "cell_type": "code",
   "execution_count": 140,
   "id": "15849da5",
   "metadata": {},
   "outputs": [
    {
     "name": "stdout",
     "output_type": "stream",
     "text": [
      "0 dupplicates rows have been removed\n",
      "Unique rows in the data set: True\n",
      "Wall time: 1.62 s\n"
     ]
    }
   ],
   "source": [
    "%%time\n",
    "#Keeping the first occurence of the duplicates\n",
    "size_bf = raw_data.shape[0]\n",
    "df = raw_data.copy().drop_duplicates(subset = 'quoteID', keep='first')\n",
    "size_af = df.shape[0]\n",
    "\n",
    "print('{} dupplicates rows have been removed'.format(size_bf-size_af))\n",
    "print('Unique rows in the data set:', df.quoteID.is_unique)"
   ]
  },
  {
   "cell_type": "markdown",
   "id": "353cc181",
   "metadata": {},
   "source": [
    "Sample of the sample to speed up calculation while implementing"
   ]
  },
  {
   "cell_type": "code",
   "execution_count": 161,
   "id": "f27867cc",
   "metadata": {},
   "outputs": [
    {
     "data": {
      "text/html": [
       "<div>\n",
       "<style scoped>\n",
       "    .dataframe tbody tr th:only-of-type {\n",
       "        vertical-align: middle;\n",
       "    }\n",
       "\n",
       "    .dataframe tbody tr th {\n",
       "        vertical-align: top;\n",
       "    }\n",
       "\n",
       "    .dataframe thead th {\n",
       "        text-align: right;\n",
       "    }\n",
       "</style>\n",
       "<table border=\"1\" class=\"dataframe\">\n",
       "  <thead>\n",
       "    <tr style=\"text-align: right;\">\n",
       "      <th></th>\n",
       "      <th>quoteID</th>\n",
       "      <th>quotation</th>\n",
       "      <th>speaker</th>\n",
       "      <th>qids</th>\n",
       "      <th>date</th>\n",
       "      <th>numOccurrences</th>\n",
       "      <th>probas</th>\n",
       "      <th>urls</th>\n",
       "      <th>phase</th>\n",
       "    </tr>\n",
       "  </thead>\n",
       "  <tbody>\n",
       "    <tr>\n",
       "      <th>266672</th>\n",
       "      <td>2016-05-29-013634</td>\n",
       "      <td>He is very well liked and respected.</td>\n",
       "      <td>Pat Russell</td>\n",
       "      <td>[Q7143980]</td>\n",
       "      <td>2016-05-29 17:50:02</td>\n",
       "      <td>1</td>\n",
       "      <td>[[Pat Russell, 0.7907], [None, 0.2003], [Glen ...</td>\n",
       "      <td>[http://thestarpress.com/story/news/local/2016...</td>\n",
       "      <td>E</td>\n",
       "    </tr>\n",
       "    <tr>\n",
       "      <th>167699</th>\n",
       "      <td>2015-03-16-001466</td>\n",
       "      <td>a strong fiscal and social, pro-life</td>\n",
       "      <td>Phil Pavlov</td>\n",
       "      <td>[Q18763623]</td>\n",
       "      <td>2015-03-16 20:02:06</td>\n",
       "      <td>1</td>\n",
       "      <td>[[Phil Pavlov, 0.8783], [None, 0.1102], [Candi...</td>\n",
       "      <td>[http://freep.com/story/news/local/2015/03/16/...</td>\n",
       "      <td>E</td>\n",
       "    </tr>\n",
       "  </tbody>\n",
       "</table>\n",
       "</div>"
      ],
      "text/plain": [
       "                  quoteID                             quotation      speaker  \\\n",
       "266672  2016-05-29-013634  He is very well liked and respected.  Pat Russell   \n",
       "167699  2015-03-16-001466  a strong fiscal and social, pro-life  Phil Pavlov   \n",
       "\n",
       "               qids                date  numOccurrences  \\\n",
       "266672   [Q7143980] 2016-05-29 17:50:02               1   \n",
       "167699  [Q18763623] 2015-03-16 20:02:06               1   \n",
       "\n",
       "                                                   probas  \\\n",
       "266672  [[Pat Russell, 0.7907], [None, 0.2003], [Glen ...   \n",
       "167699  [[Phil Pavlov, 0.8783], [None, 0.1102], [Candi...   \n",
       "\n",
       "                                                     urls phase  \n",
       "266672  [http://thestarpress.com/story/news/local/2016...     E  \n",
       "167699  [http://freep.com/story/news/local/2015/03/16/...     E  "
      ]
     },
     "execution_count": 161,
     "metadata": {},
     "output_type": "execute_result"
    }
   ],
   "source": [
    "df_test = df[0:400000]\n",
    "df_test.sample(2)"
   ]
  },
  {
   "cell_type": "markdown",
   "id": "b5405f06",
   "metadata": {},
   "source": [
    "Drop of the quotes for which the speaker:\n",
    " - is not clearly identified (threshold to be defined: *threshold_min*)\n",
    " - is probably confused with another speaker (threshold to be defined: *threshold_diff*)\n",
    " - is not identified (None values)"
   ]
  },
  {
   "cell_type": "code",
   "execution_count": 162,
   "id": "ccccb7ea",
   "metadata": {},
   "outputs": [
    {
     "name": "stdout",
     "output_type": "stream",
     "text": [
      "Min Threshold set at  0.5\n",
      "Diff Threshold set at  0.3\n",
      "----------------------\n",
      "Due to the above threshold, 186643 rows have been removed\n",
      " - 135559 x None value for speaker\n",
      " - 51084 x threshold probabilities not reached\n",
      "Wall time: 2.14 s\n"
     ]
    }
   ],
   "source": [
    "%%time\n",
    "#fixing the threshold (=> to low percentage of attribution to be considered in the analysis)\n",
    "threshold_min = 0.5\n",
    "threshold_diff = 0.3\n",
    "\n",
    "#removing the rows that not pass the criterions\n",
    "df_thres = df_test.copy()\n",
    "df_thres['p1'] = [i[0][1] for i in df_test['probas']]\n",
    "df_thres['p2'] = [i[1][1] for i in df_test['probas']]\n",
    "df_thres['delta_p'] = df_thres['p1'].astype(\"float\")-df_thres['p2'].astype(\"float\")\n",
    "\n",
    "indexNames = df_thres[\n",
    "                        (df_thres['p1'].astype(\"float\") < threshold_min)\n",
    "                      | (df_thres['delta_p'] < threshold_diff)\n",
    "                      | (df_thres['speaker'] == 'None')\n",
    "                                                                          ].index\n",
    "\n",
    "df_thres.drop(indexNames , inplace=False)\n",
    "\n",
    "#check of the number of deleted rows\n",
    "print('Min Threshold set at ',threshold_min)\n",
    "print('Diff Threshold set at ',threshold_diff)\n",
    "print('----------------------')\n",
    "print('Due to the above threshold, {} rows have been removed'.format(len(indexNames)))\n",
    "print(' - {} x None value for speaker'.format(df_test['speaker'].value_counts()['None']))\n",
    "print(' - {} x threshold probabilities not reached'.format(len(indexNames)-df_test['speaker'].value_counts()['None']))"
   ]
  },
  {
   "cell_type": "code",
   "execution_count": 168,
   "id": "26e7c1ce",
   "metadata": {},
   "outputs": [
    {
     "data": {
      "text/html": [
       "<div>\n",
       "<style scoped>\n",
       "    .dataframe tbody tr th:only-of-type {\n",
       "        vertical-align: middle;\n",
       "    }\n",
       "\n",
       "    .dataframe tbody tr th {\n",
       "        vertical-align: top;\n",
       "    }\n",
       "\n",
       "    .dataframe thead th {\n",
       "        text-align: right;\n",
       "    }\n",
       "</style>\n",
       "<table border=\"1\" class=\"dataframe\">\n",
       "  <thead>\n",
       "    <tr style=\"text-align: right;\">\n",
       "      <th></th>\n",
       "      <th>quoteID</th>\n",
       "      <th>quotation</th>\n",
       "      <th>speaker</th>\n",
       "      <th>qids</th>\n",
       "      <th>date</th>\n",
       "      <th>numOccurrences</th>\n",
       "      <th>probas</th>\n",
       "      <th>urls</th>\n",
       "      <th>phase</th>\n",
       "      <th>p1</th>\n",
       "      <th>p2</th>\n",
       "      <th>delta_p</th>\n",
       "    </tr>\n",
       "  </thead>\n",
       "  <tbody>\n",
       "    <tr>\n",
       "      <th>129798</th>\n",
       "      <td>2015-10-30-079184</td>\n",
       "      <td>Our liquefied natural gas operations had a rob...</td>\n",
       "      <td>Helge Lund</td>\n",
       "      <td>[Q718292]</td>\n",
       "      <td>2015-10-30 11:10:34</td>\n",
       "      <td>1</td>\n",
       "      <td>[[Helge Lund, 0.8674], [None, 0.1326]]</td>\n",
       "      <td>[http://www.morningstar.co.uk/uk/news/AN_14462...</td>\n",
       "      <td>E</td>\n",
       "      <td>0.8674</td>\n",
       "      <td>0.1326</td>\n",
       "      <td>0.7348</td>\n",
       "    </tr>\n",
       "  </tbody>\n",
       "</table>\n",
       "</div>"
      ],
      "text/plain": [
       "                  quoteID                                          quotation  \\\n",
       "129798  2015-10-30-079184  Our liquefied natural gas operations had a rob...   \n",
       "\n",
       "           speaker       qids                date  numOccurrences  \\\n",
       "129798  Helge Lund  [Q718292] 2015-10-30 11:10:34               1   \n",
       "\n",
       "                                        probas  \\\n",
       "129798  [[Helge Lund, 0.8674], [None, 0.1326]]   \n",
       "\n",
       "                                                     urls phase      p1  \\\n",
       "129798  [http://www.morningstar.co.uk/uk/news/AN_14462...     E  0.8674   \n",
       "\n",
       "            p2  delta_p  \n",
       "129798  0.1326   0.7348  "
      ]
     },
     "execution_count": 168,
     "metadata": {},
     "output_type": "execute_result"
    }
   ],
   "source": [
    "df_thres.sample()"
   ]
  }
 ],
 "metadata": {
  "kernelspec": {
   "display_name": "Python 3 (ipykernel)",
   "language": "python",
   "name": "python3"
  },
  "language_info": {
   "codemirror_mode": {
    "name": "ipython",
    "version": 3
   },
   "file_extension": ".py",
   "mimetype": "text/x-python",
   "name": "python",
   "nbconvert_exporter": "python",
   "pygments_lexer": "ipython3",
   "version": "3.9.6"
  }
 },
 "nbformat": 4,
 "nbformat_minor": 5
}

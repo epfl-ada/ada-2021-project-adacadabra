{
 "cells": [
  {
   "cell_type": "markdown",
   "id": "6528744c",
   "metadata": {},
   "source": [
    "# Data wrangling of the Quotebank dataset\n",
    "\n",
    "This notebook is dedicated to developpe the datawrangling methods that will be used to clean the full Quotebank dataset used in our project. The methods are tested on a sample of the full database.\n",
    "\n",
    "The sample is made frome 200'000 quotes of each years of interest (2015-2020) which should therefore contain $1.2 \\cdot 10^6$ entries.\n",
    "\n",
    "The script will proceed through the following steps:\n",
    "  - drop of the duplicates\n",
    "  - drop of the quotes for which the speaker is not identified (threshold to be defined)\n",
    "  - drop the quotes in which the probability between one or more speaker his near each other (threshold to be defined)\n",
    "  - drop of any quotes that is empty\n",
    "  - keep only the speaker that has the most probability of being the author of the quote\n",
    "    "
   ]
  },
  {
   "cell_type": "markdown",
   "id": "ec553b5c",
   "metadata": {},
   "source": [
    "TODO:\n",
    " - analyser NumOccurences\n",
    " - analyser longueur des Quotes\n",
    " - analyser None selon année"
   ]
  },
  {
   "cell_type": "code",
   "execution_count": 3,
   "id": "5808beef",
   "metadata": {},
   "outputs": [],
   "source": [
    "#importing the required modules\n",
    "import seaborn as sns\n",
    "from IPython.display import display, HTML\n",
    "import matplotlib.pyplot as plt\n",
    "import scipy.stats as stats\n",
    "import pandas as pd\n",
    "import numpy as np\n",
    "import seaborn as sns"
   ]
  },
  {
   "cell_type": "code",
   "execution_count": 4,
   "id": "e0c119a1",
   "metadata": {},
   "outputs": [],
   "source": [
    "# Small adjustments to default style of plots, making sure it's readable and colorblind-friendly everywhere\n",
    "plt.style.use('seaborn-colorblind')\n",
    "plt.rcParams.update({'font.size' : 12.5,\n",
    "                     'figure.figsize':(10,7)})"
   ]
  },
  {
   "cell_type": "markdown",
   "id": "4f1f8341",
   "metadata": {},
   "source": [
    "Quick look at the raw data:"
   ]
  },
  {
   "cell_type": "code",
   "execution_count": 5,
   "id": "ac57dab6",
   "metadata": {},
   "outputs": [
    {
     "name": "stdout",
     "output_type": "stream",
     "text": [
      "Wall time: 1min 4s\n"
     ]
    },
    {
     "data": {
      "text/html": [
       "<div>\n",
       "<style scoped>\n",
       "    .dataframe tbody tr th:only-of-type {\n",
       "        vertical-align: middle;\n",
       "    }\n",
       "\n",
       "    .dataframe tbody tr th {\n",
       "        vertical-align: top;\n",
       "    }\n",
       "\n",
       "    .dataframe thead th {\n",
       "        text-align: right;\n",
       "    }\n",
       "</style>\n",
       "<table border=\"1\" class=\"dataframe\">\n",
       "  <thead>\n",
       "    <tr style=\"text-align: right;\">\n",
       "      <th></th>\n",
       "      <th>numOccurrences</th>\n",
       "    </tr>\n",
       "  </thead>\n",
       "  <tbody>\n",
       "    <tr>\n",
       "      <th>count</th>\n",
       "      <td>1.263790e+06</td>\n",
       "    </tr>\n",
       "    <tr>\n",
       "      <th>mean</th>\n",
       "      <td>3.767778e+00</td>\n",
       "    </tr>\n",
       "    <tr>\n",
       "      <th>std</th>\n",
       "      <td>4.666187e+01</td>\n",
       "    </tr>\n",
       "    <tr>\n",
       "      <th>min</th>\n",
       "      <td>1.000000e+00</td>\n",
       "    </tr>\n",
       "    <tr>\n",
       "      <th>25%</th>\n",
       "      <td>1.000000e+00</td>\n",
       "    </tr>\n",
       "    <tr>\n",
       "      <th>50%</th>\n",
       "      <td>1.000000e+00</td>\n",
       "    </tr>\n",
       "    <tr>\n",
       "      <th>75%</th>\n",
       "      <td>2.000000e+00</td>\n",
       "    </tr>\n",
       "    <tr>\n",
       "      <th>max</th>\n",
       "      <td>3.300000e+04</td>\n",
       "    </tr>\n",
       "  </tbody>\n",
       "</table>\n",
       "</div>"
      ],
      "text/plain": [
       "       numOccurrences\n",
       "count    1.263790e+06\n",
       "mean     3.767778e+00\n",
       "std      4.666187e+01\n",
       "min      1.000000e+00\n",
       "25%      1.000000e+00\n",
       "50%      1.000000e+00\n",
       "75%      2.000000e+00\n",
       "max      3.300000e+04"
      ]
     },
     "execution_count": 5,
     "metadata": {},
     "output_type": "execute_result"
    }
   ],
   "source": [
    "%%time\n",
    "#copy the path of the sample quotes: (to big to put in the git)\n",
    "#ALEX: 'C:/Users/alexb/Documents/Ecole/EPFL/MasterII/ADA/'\n",
    "#JULES: ...\n",
    "#MARIN: ...\n",
    "#NICO: ...\n",
    "\n",
    "\n",
    "path_2_data = 'C:/Users/alexb/Documents/Ecole/EPFL/MasterII/ADA/'\n",
    "\n",
    "\n",
    "#import the dataset sample\n",
    "raw_data = pd.read_json(path_2_data + 'Sample.json.bz2',compression=\"bz2\",lines=True)\n",
    "\n",
    "raw_data.describe()"
   ]
  },
  {
   "cell_type": "code",
   "execution_count": 6,
   "id": "6e582955",
   "metadata": {},
   "outputs": [
    {
     "data": {
      "text/html": [
       "<div>\n",
       "<style scoped>\n",
       "    .dataframe tbody tr th:only-of-type {\n",
       "        vertical-align: middle;\n",
       "    }\n",
       "\n",
       "    .dataframe tbody tr th {\n",
       "        vertical-align: top;\n",
       "    }\n",
       "\n",
       "    .dataframe thead th {\n",
       "        text-align: right;\n",
       "    }\n",
       "</style>\n",
       "<table border=\"1\" class=\"dataframe\">\n",
       "  <thead>\n",
       "    <tr style=\"text-align: right;\">\n",
       "      <th></th>\n",
       "      <th>quoteID</th>\n",
       "      <th>quotation</th>\n",
       "      <th>speaker</th>\n",
       "      <th>qids</th>\n",
       "      <th>date</th>\n",
       "      <th>numOccurrences</th>\n",
       "      <th>probas</th>\n",
       "      <th>urls</th>\n",
       "      <th>phase</th>\n",
       "    </tr>\n",
       "  </thead>\n",
       "  <tbody>\n",
       "    <tr>\n",
       "      <th>1151416</th>\n",
       "      <td>2020-01-28-080483</td>\n",
       "      <td>The message was clear, and oh so Kobe: No merc...</td>\n",
       "      <td>David Axelrod</td>\n",
       "      <td>[Q1251914, Q519838]</td>\n",
       "      <td>2020-01-28 23:43:26</td>\n",
       "      <td>2</td>\n",
       "      <td>[[David Axelrod, 0.403], [None, 0.3971], [Dere...</td>\n",
       "      <td>[https://people.com/politics/kobe-bryant-never...</td>\n",
       "      <td>E</td>\n",
       "    </tr>\n",
       "    <tr>\n",
       "      <th>1148683</th>\n",
       "      <td>2020-01-03-012157</td>\n",
       "      <td>Dude, its not always going to be seeing stars ...</td>\n",
       "      <td>Philip Ellis</td>\n",
       "      <td>[Q11332472, Q3378998]</td>\n",
       "      <td>2020-01-03 15:28:04</td>\n",
       "      <td>1</td>\n",
       "      <td>[[Philip Ellis, 0.5532], [None, 0.4468]]</td>\n",
       "      <td>[https://www.pulse.com.gh/lifestyle/mens-healt...</td>\n",
       "      <td>E</td>\n",
       "    </tr>\n",
       "    <tr>\n",
       "      <th>646252</th>\n",
       "      <td>2018-05-21-041125</td>\n",
       "      <td>I would say I made the Olympic team on pure wi...</td>\n",
       "      <td>Ariana Kukors</td>\n",
       "      <td>[Q265724]</td>\n",
       "      <td>2018-05-21 10:00:02</td>\n",
       "      <td>2</td>\n",
       "      <td>[[Ariana Kukors, 0.6161], [None, 0.2855], [Fra...</td>\n",
       "      <td>[https://www.presstelegram.com/2018/05/21/aria...</td>\n",
       "      <td>E</td>\n",
       "    </tr>\n",
       "  </tbody>\n",
       "</table>\n",
       "</div>"
      ],
      "text/plain": [
       "                   quoteID                                          quotation  \\\n",
       "1151416  2020-01-28-080483  The message was clear, and oh so Kobe: No merc...   \n",
       "1148683  2020-01-03-012157  Dude, its not always going to be seeing stars ...   \n",
       "646252   2018-05-21-041125  I would say I made the Olympic team on pure wi...   \n",
       "\n",
       "               speaker                   qids                date  \\\n",
       "1151416  David Axelrod    [Q1251914, Q519838] 2020-01-28 23:43:26   \n",
       "1148683   Philip Ellis  [Q11332472, Q3378998] 2020-01-03 15:28:04   \n",
       "646252   Ariana Kukors              [Q265724] 2018-05-21 10:00:02   \n",
       "\n",
       "         numOccurrences                                             probas  \\\n",
       "1151416               2  [[David Axelrod, 0.403], [None, 0.3971], [Dere...   \n",
       "1148683               1           [[Philip Ellis, 0.5532], [None, 0.4468]]   \n",
       "646252                2  [[Ariana Kukors, 0.6161], [None, 0.2855], [Fra...   \n",
       "\n",
       "                                                      urls phase  \n",
       "1151416  [https://people.com/politics/kobe-bryant-never...     E  \n",
       "1148683  [https://www.pulse.com.gh/lifestyle/mens-healt...     E  \n",
       "646252   [https://www.presstelegram.com/2018/05/21/aria...     E  "
      ]
     },
     "execution_count": 6,
     "metadata": {},
     "output_type": "execute_result"
    }
   ],
   "source": [
    "raw_data.sample(3)"
   ]
  },
  {
   "cell_type": "markdown",
   "id": "49fa1b3e",
   "metadata": {},
   "source": [
    "Test to see if the ids are unique within the dataset"
   ]
  },
  {
   "cell_type": "code",
   "execution_count": 7,
   "id": "15849da5",
   "metadata": {},
   "outputs": [
    {
     "name": "stdout",
     "output_type": "stream",
     "text": [
      "0 dupplicates rows have been removed\n",
      "Unique rows in the data set: True\n",
      "Wall time: 1.33 s\n"
     ]
    }
   ],
   "source": [
    "%%time\n",
    "#Keeping the first occurence of the duplicates\n",
    "size_bf = raw_data.shape[0]\n",
    "df = raw_data.copy().drop_duplicates(subset = 'quoteID', keep='first')\n",
    "size_af = df.shape[0]\n",
    "\n",
    "print('{} dupplicates rows have been removed'.format(size_bf-size_af))\n",
    "print('Unique rows in the data set:', df.quoteID.is_unique)"
   ]
  },
  {
   "cell_type": "markdown",
   "id": "353cc181",
   "metadata": {},
   "source": [
    "Sample of the sample to speed up calculation while implementing"
   ]
  },
  {
   "cell_type": "code",
   "execution_count": 30,
   "id": "f27867cc",
   "metadata": {},
   "outputs": [],
   "source": [
    "df_test = df[0:430000]\n",
    "\n",
    "\n",
    "#Problem at 4307769"
   ]
  },
  {
   "cell_type": "markdown",
   "id": "7f31ee1d",
   "metadata": {},
   "source": [
    "Extraction the probabilities linked to the two most probable speakers"
   ]
  },
  {
   "cell_type": "code",
   "execution_count": 32,
   "id": "ccccb7ea",
   "metadata": {},
   "outputs": [
    {
     "name": "stdout",
     "output_type": "stream",
     "text": [
      "Wall time: 797 ms\n"
     ]
    }
   ],
   "source": [
    "%%time\n",
    "#highest probability\n",
    "df_thres = df_test.copy()\n",
    "df_thres['p1'] = [i[0][1] for i in df_test['probas']]\n",
    "df_thres['p1'] = df_thres['p1'].astype(float)\n",
    "\n",
    "#second highest probability\n",
    "df_thres['p2'] = [i[1][1] for i in df_test['probas']]\n",
    "df_thres['p2'] = df_thres['p2'].astype(float)\n",
    "\n",
    "#difference between the two above\n",
    "df_thres['delta_p'] = df_thres['p1']-df_thres['p2']\n",
    "\n",
    "#extracting the date\n",
    "df_thres['year'] = pd.DatetimeIndex(df_thres['date']).year\n",
    "\n"
   ]
  },
  {
   "cell_type": "markdown",
   "id": "3bd01774",
   "metadata": {},
   "source": [
    "Boxplot to analyze the presence of outliers, it seems that there is some problematic values:\n",
    " - p2 should be always smaller than 0.5 (otherwise it should be p1)\n",
    " - p1 - p2 should be always positive since p1>p2\n",
    " - low values in p1 should be removed"
   ]
  },
  {
   "cell_type": "code",
   "execution_count": 33,
   "id": "3ddc6824",
   "metadata": {},
   "outputs": [
    {
     "data": {
      "image/png": "[encoded data removed]",
      "text/plain": [
       "<Figure size 720x504 with 1 Axes>"
      ]
     },
     "metadata": {
      "needs_background": "light"
     },
     "output_type": "display_data"
    }
   ],
   "source": [
    "#boxplot to analyze the presence of outliers\n",
    "data_plot = df_thres.drop(['numOccurrences','year'], axis = 1)\n",
    "ax = sns.boxplot(data = data_plot)\n",
    "ax.set(ylabel='probabilities [-]')\n",
    "ax.set_title('Distribution of the probability of the speaker attribution')\n",
    "_ = ax.set_xticklabels(ax.get_xticklabels(), rotation=40, ha=\"right\")"
   ]
  },
  {
   "cell_type": "markdown",
   "id": "8bb0d5df",
   "metadata": {},
   "source": [
    "Distribution in the forms of histograms, observation:\n",
    " - Strange drop in the distribution of p1 around x = 0.5"
   ]
  },
  {
   "cell_type": "code",
   "execution_count": 34,
   "id": "fdf7cf1d",
   "metadata": {},
   "outputs": [
    {
     "data": {
      "text/plain": [
       "(-0.1, 1.1)"
      ]
     },
     "execution_count": 34,
     "metadata": {},
     "output_type": "execute_result"
    },
    {
     "data": {
      "image/png": "[encoded data removed]",
      "text/plain": [
       "<Figure size 1080x576 with 3 Axes>"
      ]
     },
     "metadata": {
      "needs_background": "light"
     },
     "output_type": "display_data"
    }
   ],
   "source": [
    "#histograms to better understand the distribution of the data\n",
    "fig, ax = plt.subplots(nrows=1, ncols=3, constrained_layout=True, figsize=(15, 8))\n",
    "ax[0].hist(df_thres.p1, bins=500)\n",
    "ax[0].set_title('Distribution of the highest probability')\n",
    "ax[0].set_ylabel('# quotes')\n",
    "ax[0].set_xlabel('probability')\n",
    "#ax[0].set_xlim([-10000,600000])\n",
    "#ax[0].set_ylim([0,340])\n",
    "\n",
    "ax[1].hist(df_thres.p2, bins=500)\n",
    "ax[1].set_title('Distribution of 2nd highest probability')\n",
    "ax[1].set_ylabel('# quotes')\n",
    "ax[1].set_xlabel('probability')\n",
    "ax[1].set_xlim([-0.1,0.6])\n",
    "#ax[1].set_ylim([0,340])\n",
    "\n",
    "ax[2].hist(df_thres.delta_p, bins=500)\n",
    "ax[2].set_title('Distribution of the diff of proba')\n",
    "ax[2].set_ylabel('# quotes')\n",
    "ax[2].set_xlabel('probability')\n",
    "ax[2].set_xlim([-0.1,1.1])\n",
    "#ax[2].set_ylim([0,340])"
   ]
  },
  {
   "cell_type": "markdown",
   "id": "e8cfbd8c",
   "metadata": {},
   "source": [
    "After the anlysis above we can drop the quotes for which the speaker\n",
    "   - have meaningless probabilities\n",
    "   - is not clearly identified (threshold to be defined: *threshold_min*)\n",
    "   - is probably confused with another speaker (threshold to be defined: *threshold_diff*)\n",
    "   - is not identified (None values)"
   ]
  },
  {
   "cell_type": "code",
   "execution_count": 35,
   "id": "003f1b62",
   "metadata": {},
   "outputs": [
    {
     "name": "stdout",
     "output_type": "stream",
     "text": [
      "Min Threshold set at  0.5\n",
      "Diff Threshold set at  0.3\n",
      "----------------------\n",
      "Due to the above threshold, 200739 rows have been removed\n",
      " - 145817 x None value for speaker\n",
      " - 54922 x threshold probabilities not reached\n"
     ]
    }
   ],
   "source": [
    "#fixing the threshold (=> to low percentage of attribution to be considered in the analysis)\n",
    "threshold_min = 0.5\n",
    "threshold_diff = 0.3\n",
    "\n",
    "#removing the rows that not pass the criterions\n",
    "indexNames = df_thres[\n",
    "                        (df_thres['p1'] < threshold_min)\n",
    "                      | (df_thres['delta_p'] < threshold_diff)\n",
    "                      | (df_thres['speaker'] == 'None')\n",
    "                                                                          ].index\n",
    "\n",
    "df_thres = df_thres.drop(indexNames , inplace=False)\n",
    "\n",
    "#check of the number of deleted rows\n",
    "print('Min Threshold set at ',threshold_min)\n",
    "print('Diff Threshold set at ',threshold_diff)\n",
    "print('----------------------')\n",
    "print('Due to the above threshold, {} rows have been removed'.format(len(indexNames)))\n",
    "print(' - {} x None value for speaker'.format(df_test['speaker'].value_counts()['None']))\n",
    "print(' - {} x threshold probabilities not reached'.format(len(indexNames)-df_test['speaker'].value_counts()['None']))"
   ]
  },
  {
   "cell_type": "markdown",
   "id": "6ac996d3",
   "metadata": {},
   "source": [
    "Again some plots to see if the dataWrangling is efficient"
   ]
  },
  {
   "cell_type": "code",
   "execution_count": 36,
   "id": "3ae98109",
   "metadata": {},
   "outputs": [
    {
     "data": {
      "image/png": "[encoded data removed]",
      "text/plain": [
       "<Figure size 720x504 with 1 Axes>"
      ]
     },
     "metadata": {
      "needs_background": "light"
     },
     "output_type": "display_data"
    }
   ],
   "source": [
    "#boxplot to analyze the presence of outliers\n",
    "data_plot = df_thres.drop(['numOccurrences','year'], axis = 1)\n",
    "ax = sns.boxplot(data = data_plot)\n",
    "ax.set(ylabel='probabilities [-]')\n",
    "ax.set_title('Distribution of the probability of the speaker attribution')\n",
    "_ = ax.set_xticklabels(ax.get_xticklabels(), rotation=40, ha=\"right\")"
   ]
  },
  {
   "cell_type": "code",
   "execution_count": 37,
   "id": "26e7c1ce",
   "metadata": {},
   "outputs": [
    {
     "data": {
      "text/plain": [
       "Text(0.5, 0, 'probability')"
      ]
     },
     "execution_count": 37,
     "metadata": {},
     "output_type": "execute_result"
    },
    {
     "data": {
      "image/png": "[encoded data removed]",
      "text/plain": [
       "<Figure size 1080x576 with 3 Axes>"
      ]
     },
     "metadata": {
      "needs_background": "light"
     },
     "output_type": "display_data"
    }
   ],
   "source": [
    "#histograms to better understand the distribution of the data\n",
    "fig, ax = plt.subplots(nrows=1, ncols=3, constrained_layout=True, figsize=(15, 8))\n",
    "ax[0].hist(df_thres.p1, bins=500)\n",
    "ax[0].set_title('Distribution of the highest probability')\n",
    "ax[0].set_ylabel('# quotes')\n",
    "ax[0].set_xlabel('probability')\n",
    "#ax[0].set_xlim([-10000,600000])\n",
    "#ax[0].set_ylim([0,340])\n",
    "\n",
    "ax[1].hist(df_thres.p2, bins=500)\n",
    "ax[1].set_title('Distribution of 2nd highest probability')\n",
    "ax[1].set_ylabel('# quotes')\n",
    "ax[1].set_xlabel('probability')\n",
    "#ax[1].set_xlim([-10000,600000])\n",
    "#ax[1].set_ylim([0,340])\n",
    "\n",
    "ax[2].hist(df_thres.delta_p, bins=500)\n",
    "ax[2].set_title('Distribution of the diff of proba')\n",
    "ax[2].set_ylabel('# quotes')\n",
    "ax[2].set_xlabel('probability')\n",
    "#ax[2].set_xlim([-10000,600000])\n",
    "#ax[2].set_ylim([0,340])"
   ]
  },
  {
   "cell_type": "code",
   "execution_count": 38,
   "id": "f4f9c141",
   "metadata": {},
   "outputs": [
    {
     "data": {
      "text/html": [
       "<div>\n",
       "<style scoped>\n",
       "    .dataframe tbody tr th:only-of-type {\n",
       "        vertical-align: middle;\n",
       "    }\n",
       "\n",
       "    .dataframe tbody tr th {\n",
       "        vertical-align: top;\n",
       "    }\n",
       "\n",
       "    .dataframe thead th {\n",
       "        text-align: right;\n",
       "    }\n",
       "</style>\n",
       "<table border=\"1\" class=\"dataframe\">\n",
       "  <thead>\n",
       "    <tr style=\"text-align: right;\">\n",
       "      <th></th>\n",
       "      <th>quoteID</th>\n",
       "      <th>quotation</th>\n",
       "      <th>speaker</th>\n",
       "      <th>qids</th>\n",
       "      <th>date</th>\n",
       "      <th>numOccurrences</th>\n",
       "      <th>probas</th>\n",
       "      <th>urls</th>\n",
       "      <th>phase</th>\n",
       "      <th>p1</th>\n",
       "      <th>p2</th>\n",
       "      <th>delta_p</th>\n",
       "      <th>year</th>\n",
       "    </tr>\n",
       "  </thead>\n",
       "  <tbody>\n",
       "    <tr>\n",
       "      <th>0</th>\n",
       "      <td>2015-11-11-109291</td>\n",
       "      <td>They'll call me lots of different things. Libe...</td>\n",
       "      <td>Chris Christie</td>\n",
       "      <td>[Q63879]</td>\n",
       "      <td>2015-11-11 00:55:12</td>\n",
       "      <td>1</td>\n",
       "      <td>[[Chris Christie, 0.7395], [Bobby Jindal, 0.15...</td>\n",
       "      <td>[http://thehill.com/blogs/ballot-box/259760-ch...</td>\n",
       "      <td>E</td>\n",
       "      <td>0.7395</td>\n",
       "      <td>0.1505</td>\n",
       "      <td>0.5890</td>\n",
       "      <td>2015</td>\n",
       "    </tr>\n",
       "    <tr>\n",
       "      <th>2</th>\n",
       "      <td>2015-09-11-070666</td>\n",
       "      <td>It's kind of the same way it's been with the R...</td>\n",
       "      <td>Niklas Kronwall</td>\n",
       "      <td>[Q722939]</td>\n",
       "      <td>2015-09-11 19:54:00</td>\n",
       "      <td>1</td>\n",
       "      <td>[[Niklas Kronwall, 0.7119], [None, 0.2067], [H...</td>\n",
       "      <td>[http://redwings.nhl.com/club/news.htm?id=7787...</td>\n",
       "      <td>E</td>\n",
       "      <td>0.7119</td>\n",
       "      <td>0.2067</td>\n",
       "      <td>0.5052</td>\n",
       "      <td>2015</td>\n",
       "    </tr>\n",
       "    <tr>\n",
       "      <th>4</th>\n",
       "      <td>2015-11-09-033345</td>\n",
       "      <td>I had a chuckle: They were showing a video of ...</td>\n",
       "      <td>Kris Draper</td>\n",
       "      <td>[Q948695]</td>\n",
       "      <td>2015-11-09 00:57:45</td>\n",
       "      <td>3</td>\n",
       "      <td>[[Kris Draper, 0.8782], [None, 0.1043], [Serge...</td>\n",
       "      <td>[http://ca.rd.yahoo.com/sports/rss/nfl/SIG=13u...</td>\n",
       "      <td>E</td>\n",
       "      <td>0.8782</td>\n",
       "      <td>0.1043</td>\n",
       "      <td>0.7739</td>\n",
       "      <td>2015</td>\n",
       "    </tr>\n",
       "    <tr>\n",
       "      <th>5</th>\n",
       "      <td>2015-09-05-038628</td>\n",
       "      <td>New Zealand will go in with a lot of confidenc...</td>\n",
       "      <td>John Eales</td>\n",
       "      <td>[Q926351]</td>\n",
       "      <td>2015-09-05 02:40:10</td>\n",
       "      <td>3</td>\n",
       "      <td>[[John Eales, 0.7896], [None, 0.2006], [Toutai...</td>\n",
       "      <td>[http://www.stuff.co.nz/sport/rugby/all-blacks...</td>\n",
       "      <td>E</td>\n",
       "      <td>0.7896</td>\n",
       "      <td>0.2006</td>\n",
       "      <td>0.5890</td>\n",
       "      <td>2015</td>\n",
       "    </tr>\n",
       "    <tr>\n",
       "      <th>8</th>\n",
       "      <td>2015-02-11-042325</td>\n",
       "      <td>In his suicide note he even made a joke thanki...</td>\n",
       "      <td>Pat Buckley</td>\n",
       "      <td>[Q19956564, Q23006312, Q7143252, Q7143253]</td>\n",
       "      <td>2015-02-11 09:59:09</td>\n",
       "      <td>1</td>\n",
       "      <td>[[Pat Buckley, 0.8816], [None, 0.1184]]</td>\n",
       "      <td>[http://independent.ie/life/health-wellbeing/m...</td>\n",
       "      <td>E</td>\n",
       "      <td>0.8816</td>\n",
       "      <td>0.1184</td>\n",
       "      <td>0.7632</td>\n",
       "      <td>2015</td>\n",
       "    </tr>\n",
       "  </tbody>\n",
       "</table>\n",
       "</div>"
      ],
      "text/plain": [
       "             quoteID                                          quotation  \\\n",
       "0  2015-11-11-109291  They'll call me lots of different things. Libe...   \n",
       "2  2015-09-11-070666  It's kind of the same way it's been with the R...   \n",
       "4  2015-11-09-033345  I had a chuckle: They were showing a video of ...   \n",
       "5  2015-09-05-038628  New Zealand will go in with a lot of confidenc...   \n",
       "8  2015-02-11-042325  In his suicide note he even made a joke thanki...   \n",
       "\n",
       "           speaker                                        qids  \\\n",
       "0   Chris Christie                                    [Q63879]   \n",
       "2  Niklas Kronwall                                   [Q722939]   \n",
       "4      Kris Draper                                   [Q948695]   \n",
       "5       John Eales                                   [Q926351]   \n",
       "8      Pat Buckley  [Q19956564, Q23006312, Q7143252, Q7143253]   \n",
       "\n",
       "                 date  numOccurrences  \\\n",
       "0 2015-11-11 00:55:12               1   \n",
       "2 2015-09-11 19:54:00               1   \n",
       "4 2015-11-09 00:57:45               3   \n",
       "5 2015-09-05 02:40:10               3   \n",
       "8 2015-02-11 09:59:09               1   \n",
       "\n",
       "                                              probas  \\\n",
       "0  [[Chris Christie, 0.7395], [Bobby Jindal, 0.15...   \n",
       "2  [[Niklas Kronwall, 0.7119], [None, 0.2067], [H...   \n",
       "4  [[Kris Draper, 0.8782], [None, 0.1043], [Serge...   \n",
       "5  [[John Eales, 0.7896], [None, 0.2006], [Toutai...   \n",
       "8            [[Pat Buckley, 0.8816], [None, 0.1184]]   \n",
       "\n",
       "                                                urls phase      p1      p2  \\\n",
       "0  [http://thehill.com/blogs/ballot-box/259760-ch...     E  0.7395  0.1505   \n",
       "2  [http://redwings.nhl.com/club/news.htm?id=7787...     E  0.7119  0.2067   \n",
       "4  [http://ca.rd.yahoo.com/sports/rss/nfl/SIG=13u...     E  0.8782  0.1043   \n",
       "5  [http://www.stuff.co.nz/sport/rugby/all-blacks...     E  0.7896  0.2006   \n",
       "8  [http://independent.ie/life/health-wellbeing/m...     E  0.8816  0.1184   \n",
       "\n",
       "   delta_p  year  \n",
       "0   0.5890  2015  \n",
       "2   0.5052  2015  \n",
       "4   0.7739  2015  \n",
       "5   0.5890  2015  \n",
       "8   0.7632  2015  "
      ]
     },
     "execution_count": 38,
     "metadata": {},
     "output_type": "execute_result"
    }
   ],
   "source": [
    "df_thres.head()"
   ]
  },
  {
   "cell_type": "code",
   "execution_count": 39,
   "id": "515201ef",
   "metadata": {},
   "outputs": [
    {
     "name": "stdout",
     "output_type": "stream",
     "text": [
      "Comme dirait Marin, tout est bien qui finit bien\n"
     ]
    }
   ],
   "source": [
    "df_thres.to_json(f\"C:/Users/alexb/Documents/Ecole/EPFL/MasterII/ADA/Sample_cleaned_400000.json.bz2\",compression=\"bz2\",lines=True,orient=\"records\")\n",
    "print(\"Comme dirait Marin, tout est bien qui finit bien\")"
   ]
  },
  {
   "cell_type": "code",
   "execution_count": null,
   "id": "8c7a04c0",
   "metadata": {},
   "outputs": [],
   "source": [
    "     "
   ]
  }
 ],
 "metadata": {
  "kernelspec": {
   "display_name": "Python 3 (ipykernel)",
   "language": "python",
   "name": "python3"
  },
  "language_info": {
   "codemirror_mode": {
    "name": "ipython",
    "version": 3
   },
   "file_extension": ".py",
   "mimetype": "text/x-python",
   "name": "python",
   "nbconvert_exporter": "python",
   "pygments_lexer": "ipython3",
   "version": "3.9.6"
  }
 },
 "nbformat": 4,
 "nbformat_minor": 5
}

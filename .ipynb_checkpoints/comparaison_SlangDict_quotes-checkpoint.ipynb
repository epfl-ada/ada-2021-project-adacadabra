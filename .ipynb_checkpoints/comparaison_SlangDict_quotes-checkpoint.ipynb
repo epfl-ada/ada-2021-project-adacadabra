{
 "cells": [
  {
   "cell_type": "markdown",
   "id": "35039e10",
   "metadata": {},
   "source": [
    "## Quotes segmentation/classification\n",
    "\n",
    "In this notebook, we treat each quote of the corpus and assign them a score, or a binary variable determining if the quote is formal or informal according the dictionnary of informal formulation and slang vocabulary"
   ]
  },
  {
   "cell_type": "code",
   "execution_count": 9,
   "id": "710fd805",
   "metadata": {},
   "outputs": [],
   "source": [
    "#importing the required modules\n",
    "import seaborn as sns\n",
    "from IPython.display import display, HTML\n",
    "import matplotlib.pyplot as plt\n",
    "import scipy.stats as stats\n",
    "import pandas as pd\n",
    "import numpy as np\n",
    "import seaborn as sns"
   ]
  },
  {
   "cell_type": "code",
   "execution_count": 10,
   "id": "57f9c3cd",
   "metadata": {},
   "outputs": [],
   "source": [
    "# Small adjustments to default style of plots, making sure it's readable and colorblind-friendly everywhere\n",
    "plt.style.use('seaborn-colorblind')\n",
    "plt.rcParams.update({'font.size' : 12.5,\n",
    "                     'figure.figsize':(10,7)})"
   ]
  },
  {
   "cell_type": "code",
   "execution_count": 11,
   "id": "9609c0c9",
   "metadata": {},
   "outputs": [
    {
     "name": "stdout",
     "output_type": "stream",
     "text": [
      "Wall time: 39.7 s\n"
     ]
    },
    {
     "data": {
      "text/html": [
       "<div>\n",
       "<style scoped>\n",
       "    .dataframe tbody tr th:only-of-type {\n",
       "        vertical-align: middle;\n",
       "    }\n",
       "\n",
       "    .dataframe tbody tr th {\n",
       "        vertical-align: top;\n",
       "    }\n",
       "\n",
       "    .dataframe thead th {\n",
       "        text-align: right;\n",
       "    }\n",
       "</style>\n",
       "<table border=\"1\" class=\"dataframe\">\n",
       "  <thead>\n",
       "    <tr style=\"text-align: right;\">\n",
       "      <th></th>\n",
       "      <th>numOccurrences</th>\n",
       "      <th>p1</th>\n",
       "      <th>p2</th>\n",
       "      <th>delta_p</th>\n",
       "      <th>year</th>\n",
       "    </tr>\n",
       "  </thead>\n",
       "  <tbody>\n",
       "    <tr>\n",
       "      <th>count</th>\n",
       "      <td>668534.00000</td>\n",
       "      <td>668534.000000</td>\n",
       "      <td>668534.000000</td>\n",
       "      <td>668534.000000</td>\n",
       "      <td>668534.000000</td>\n",
       "    </tr>\n",
       "    <tr>\n",
       "      <th>mean</th>\n",
       "      <td>3.55898</td>\n",
       "      <td>0.818245</td>\n",
       "      <td>0.161096</td>\n",
       "      <td>0.657149</td>\n",
       "      <td>2017.536327</td>\n",
       "    </tr>\n",
       "    <tr>\n",
       "      <th>std</th>\n",
       "      <td>22.64603</td>\n",
       "      <td>0.095738</td>\n",
       "      <td>0.081709</td>\n",
       "      <td>0.173361</td>\n",
       "      <td>1.770882</td>\n",
       "    </tr>\n",
       "    <tr>\n",
       "      <th>min</th>\n",
       "      <td>1.00000</td>\n",
       "      <td>0.500100</td>\n",
       "      <td>0.008600</td>\n",
       "      <td>0.300000</td>\n",
       "      <td>2015.000000</td>\n",
       "    </tr>\n",
       "    <tr>\n",
       "      <th>25%</th>\n",
       "      <td>1.00000</td>\n",
       "      <td>0.747400</td>\n",
       "      <td>0.093400</td>\n",
       "      <td>0.521900</td>\n",
       "      <td>2016.000000</td>\n",
       "    </tr>\n",
       "    <tr>\n",
       "      <th>50%</th>\n",
       "      <td>1.00000</td>\n",
       "      <td>0.830100</td>\n",
       "      <td>0.152600</td>\n",
       "      <td>0.674900</td>\n",
       "      <td>2018.000000</td>\n",
       "    </tr>\n",
       "    <tr>\n",
       "      <th>75%</th>\n",
       "      <td>2.00000</td>\n",
       "      <td>0.897300</td>\n",
       "      <td>0.221900</td>\n",
       "      <td>0.802200</td>\n",
       "      <td>2019.000000</td>\n",
       "    </tr>\n",
       "    <tr>\n",
       "      <th>max</th>\n",
       "      <td>12086.00000</td>\n",
       "      <td>0.990800</td>\n",
       "      <td>0.350000</td>\n",
       "      <td>0.982100</td>\n",
       "      <td>2020.000000</td>\n",
       "    </tr>\n",
       "  </tbody>\n",
       "</table>\n",
       "</div>"
      ],
      "text/plain": [
       "       numOccurrences             p1             p2        delta_p  \\\n",
       "count    668534.00000  668534.000000  668534.000000  668534.000000   \n",
       "mean          3.55898       0.818245       0.161096       0.657149   \n",
       "std          22.64603       0.095738       0.081709       0.173361   \n",
       "min           1.00000       0.500100       0.008600       0.300000   \n",
       "25%           1.00000       0.747400       0.093400       0.521900   \n",
       "50%           1.00000       0.830100       0.152600       0.674900   \n",
       "75%           2.00000       0.897300       0.221900       0.802200   \n",
       "max       12086.00000       0.990800       0.350000       0.982100   \n",
       "\n",
       "                year  \n",
       "count  668534.000000  \n",
       "mean     2017.536327  \n",
       "std         1.770882  \n",
       "min      2015.000000  \n",
       "25%      2016.000000  \n",
       "50%      2018.000000  \n",
       "75%      2019.000000  \n",
       "max      2020.000000  "
      ]
     },
     "execution_count": 11,
     "metadata": {},
     "output_type": "execute_result"
    }
   ],
   "source": [
    "%%time\n",
    "#copy the path of the sample quotes: (to big to put in the git)\n",
    "#ALEX: 'C:/Users/alexb/Documents/Ecole/EPFL/MasterII/ADA/'\n",
    "#JULES: ...\n",
    "#MARIN: ...\n",
    "#NICO: ...\n",
    "\n",
    "\n",
    "path_2_data = 'C:/Users/alexb/Documents/Ecole/EPFL/MasterII/ADA/'\n",
    "\n",
    "\n",
    "#import the dataset sample\n",
    "raw_data = pd.read_json(path_2_data + 'Sample_cleaned_1Mio.json.bz2',compression=\"bz2\",lines=True)\n",
    "\n",
    "raw_data.describe()"
   ]
  },
  {
   "cell_type": "code",
   "execution_count": 45,
   "id": "829112f8",
   "metadata": {},
   "outputs": [],
   "source": [
    "search_list = ['cat','dog','ok','fine','name','simple','time','money','had']"
   ]
  },
  {
   "cell_type": "code",
   "execution_count": 46,
   "id": "33535d1f",
   "metadata": {},
   "outputs": [],
   "source": [
    "test_sample = raw_data[0:100]"
   ]
  },
  {
   "cell_type": "code",
   "execution_count": 47,
   "id": "536d17a9",
   "metadata": {},
   "outputs": [
    {
     "data": {
      "text/html": [
       "<div>\n",
       "<style scoped>\n",
       "    .dataframe tbody tr th:only-of-type {\n",
       "        vertical-align: middle;\n",
       "    }\n",
       "\n",
       "    .dataframe tbody tr th {\n",
       "        vertical-align: top;\n",
       "    }\n",
       "\n",
       "    .dataframe thead th {\n",
       "        text-align: right;\n",
       "    }\n",
       "</style>\n",
       "<table border=\"1\" class=\"dataframe\">\n",
       "  <thead>\n",
       "    <tr style=\"text-align: right;\">\n",
       "      <th></th>\n",
       "      <th>quoteID</th>\n",
       "      <th>quotation</th>\n",
       "      <th>speaker</th>\n",
       "      <th>qids</th>\n",
       "      <th>date</th>\n",
       "      <th>numOccurrences</th>\n",
       "      <th>probas</th>\n",
       "      <th>urls</th>\n",
       "      <th>phase</th>\n",
       "      <th>p1</th>\n",
       "      <th>p2</th>\n",
       "      <th>delta_p</th>\n",
       "      <th>year</th>\n",
       "    </tr>\n",
       "  </thead>\n",
       "  <tbody>\n",
       "    <tr>\n",
       "      <th>11</th>\n",
       "      <td>2015-10-26-037662</td>\n",
       "      <td>I think with the unit here, I just try to get ...</td>\n",
       "      <td>Ryan Spooner</td>\n",
       "      <td>[Q3453859]</td>\n",
       "      <td>2015-10-26 19:13:34</td>\n",
       "      <td>1</td>\n",
       "      <td>[[Ryan Spooner, 0.8507], [None, 0.1493]]</td>\n",
       "      <td>[http://bigbadblog.weei.com/sports/boston/hock...</td>\n",
       "      <td>E</td>\n",
       "      <td>0.8507</td>\n",
       "      <td>0.1493</td>\n",
       "      <td>0.7014</td>\n",
       "      <td>2015</td>\n",
       "    </tr>\n",
       "  </tbody>\n",
       "</table>\n",
       "</div>"
      ],
      "text/plain": [
       "              quoteID                                          quotation  \\\n",
       "11  2015-10-26-037662  I think with the unit here, I just try to get ...   \n",
       "\n",
       "         speaker        qids                date  numOccurrences  \\\n",
       "11  Ryan Spooner  [Q3453859] 2015-10-26 19:13:34               1   \n",
       "\n",
       "                                      probas  \\\n",
       "11  [[Ryan Spooner, 0.8507], [None, 0.1493]]   \n",
       "\n",
       "                                                 urls phase      p1      p2  \\\n",
       "11  [http://bigbadblog.weei.com/sports/boston/hock...     E  0.8507  0.1493   \n",
       "\n",
       "    delta_p  year  \n",
       "11   0.7014  2015  "
      ]
     },
     "execution_count": 47,
     "metadata": {},
     "output_type": "execute_result"
    }
   ],
   "source": [
    "test_sample.sample()"
   ]
  },
  {
   "cell_type": "code",
   "execution_count": 48,
   "id": "99194286",
   "metadata": {},
   "outputs": [],
   "source": [
    "def get_word(my_string):\n",
    "    for word in search_list:\n",
    "         if word.lower() in my_string.lower():\n",
    "            return 1\n",
    "    return None"
   ]
  },
  {
   "cell_type": "code",
   "execution_count": 49,
   "id": "8dfbeb28",
   "metadata": {
    "scrolled": true
   },
   "outputs": [
    {
     "name": "stderr",
     "output_type": "stream",
     "text": [
      "C:\\Users\\alexb\\AppData\\Local\\Temp/ipykernel_17144/4177833569.py:1: SettingWithCopyWarning: \n",
      "A value is trying to be set on a copy of a slice from a DataFrame.\n",
      "Try using .loc[row_indexer,col_indexer] = value instead\n",
      "\n",
      "See the caveats in the documentation: https://pandas.pydata.org/pandas-docs/stable/user_guide/indexing.html#returning-a-view-versus-a-copy\n",
      "  test_sample[\"informal\"]= test_sample[\"quotation\"].apply(get_word)\n"
     ]
    }
   ],
   "source": [
    "test_sample[\"informal\"]= test_sample[\"quotation\"].apply(get_word)"
   ]
  },
  {
   "cell_type": "code",
   "execution_count": 50,
   "id": "df562bea",
   "metadata": {
    "scrolled": true
   },
   "outputs": [
    {
     "data": {
      "text/html": [
       "<div>\n",
       "<style scoped>\n",
       "    .dataframe tbody tr th:only-of-type {\n",
       "        vertical-align: middle;\n",
       "    }\n",
       "\n",
       "    .dataframe tbody tr th {\n",
       "        vertical-align: top;\n",
       "    }\n",
       "\n",
       "    .dataframe thead th {\n",
       "        text-align: right;\n",
       "    }\n",
       "</style>\n",
       "<table border=\"1\" class=\"dataframe\">\n",
       "  <thead>\n",
       "    <tr style=\"text-align: right;\">\n",
       "      <th></th>\n",
       "      <th>quoteID</th>\n",
       "      <th>quotation</th>\n",
       "      <th>speaker</th>\n",
       "      <th>qids</th>\n",
       "      <th>date</th>\n",
       "      <th>numOccurrences</th>\n",
       "      <th>probas</th>\n",
       "      <th>urls</th>\n",
       "      <th>phase</th>\n",
       "      <th>p1</th>\n",
       "      <th>p2</th>\n",
       "      <th>delta_p</th>\n",
       "      <th>year</th>\n",
       "      <th>informal</th>\n",
       "    </tr>\n",
       "  </thead>\n",
       "  <tbody>\n",
       "    <tr>\n",
       "      <th>12</th>\n",
       "      <td>2015-08-05-033110</td>\n",
       "      <td>I considered myself a feminist before it was c...</td>\n",
       "      <td>Demi Lovato</td>\n",
       "      <td>[Q41173]</td>\n",
       "      <td>2015-08-05 18:06:56</td>\n",
       "      <td>3</td>\n",
       "      <td>[[Demi Lovato, 0.7906], [None, 0.1985], [Taylo...</td>\n",
       "      <td>[http://fuse.tv/videos/2015/08/demi-lovato-sin...</td>\n",
       "      <td>E</td>\n",
       "      <td>0.7906</td>\n",
       "      <td>0.1985</td>\n",
       "      <td>0.5921</td>\n",
       "      <td>2015</td>\n",
       "      <td>NaN</td>\n",
       "    </tr>\n",
       "  </tbody>\n",
       "</table>\n",
       "</div>"
      ],
      "text/plain": [
       "              quoteID                                          quotation  \\\n",
       "12  2015-08-05-033110  I considered myself a feminist before it was c...   \n",
       "\n",
       "        speaker      qids                date  numOccurrences  \\\n",
       "12  Demi Lovato  [Q41173] 2015-08-05 18:06:56               3   \n",
       "\n",
       "                                               probas  \\\n",
       "12  [[Demi Lovato, 0.7906], [None, 0.1985], [Taylo...   \n",
       "\n",
       "                                                 urls phase      p1      p2  \\\n",
       "12  [http://fuse.tv/videos/2015/08/demi-lovato-sin...     E  0.7906  0.1985   \n",
       "\n",
       "    delta_p  year  informal  \n",
       "12   0.5921  2015       NaN  "
      ]
     },
     "execution_count": 50,
     "metadata": {},
     "output_type": "execute_result"
    }
   ],
   "source": [
    "test_sample.sample()"
   ]
  },
  {
   "cell_type": "code",
   "execution_count": 51,
   "id": "75483ba8",
   "metadata": {},
   "outputs": [
    {
     "data": {
      "text/plain": [
       "'France playing can be amazing at times and for periods of the second half against us they came at us and applied real pressure,'"
      ]
     },
     "execution_count": 51,
     "metadata": {},
     "output_type": "execute_result"
    }
   ],
   "source": [
    "test_sample.loc[34].quotation"
   ]
  },
  {
   "cell_type": "code",
   "execution_count": 55,
   "id": "82c433d6",
   "metadata": {},
   "outputs": [
    {
     "name": "stderr",
     "output_type": "stream",
     "text": [
      "C:\\Users\\alexb\\AppData\\Local\\Temp/ipykernel_17144/1292829795.py:2: SettingWithCopyWarning: \n",
      "A value is trying to be set on a copy of a slice from a DataFrame.\n",
      "Try using .loc[row_indexer,col_indexer] = value instead\n",
      "\n",
      "See the caveats in the documentation: https://pandas.pydata.org/pandas-docs/stable/user_guide/indexing.html#returning-a-view-versus-a-copy\n",
      "  df['informal'] = test_sample['informal'].fillna(0)\n",
      "C:\\Users\\alexb\\AppData\\Local\\Temp/ipykernel_17144/1292829795.py:3: SettingWithCopyWarning: \n",
      "A value is trying to be set on a copy of a slice from a DataFrame.\n",
      "Try using .loc[row_indexer,col_indexer] = value instead\n",
      "\n",
      "See the caveats in the documentation: https://pandas.pydata.org/pandas-docs/stable/user_guide/indexing.html#returning-a-view-versus-a-copy\n",
      "  df['informal'] = df['informal'].astype(int)\n"
     ]
    }
   ],
   "source": [
    "df = test_sample\n",
    "df['informal'] = test_sample['informal'].fillna(0)\n",
    "df['informal'] = df['informal'].astype(int)"
   ]
  },
  {
   "cell_type": "code",
   "execution_count": 58,
   "id": "02762944",
   "metadata": {},
   "outputs": [
    {
     "data": {
      "text/plain": [
       "0     0\n",
       "1     0\n",
       "2     1\n",
       "3     0\n",
       "4     1\n",
       "     ..\n",
       "95    0\n",
       "96    0\n",
       "97    1\n",
       "98    1\n",
       "99    1\n",
       "Name: informal, Length: 100, dtype: int32"
      ]
     },
     "execution_count": 58,
     "metadata": {},
     "output_type": "execute_result"
    }
   ],
   "source": [
    "df.informal.head(100)"
   ]
  }
 ],
 "metadata": {
  "kernelspec": {
   "display_name": "Python 3 (ipykernel)",
   "language": "python",
   "name": "python3"
  },
  "language_info": {
   "codemirror_mode": {
    "name": "ipython",
    "version": 3
   },
   "file_extension": ".py",
   "mimetype": "text/x-python",
   "name": "python",
   "nbconvert_exporter": "python",
   "pygments_lexer": "ipython3",
   "version": "3.9.6"
  }
 },
 "nbformat": 4,
 "nbformat_minor": 5
}

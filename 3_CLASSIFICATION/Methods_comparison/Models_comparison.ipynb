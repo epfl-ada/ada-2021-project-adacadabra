{
 "cells": [
  {
   "cell_type": "markdown",
   "id": "7a613141",
   "metadata": {},
   "source": [
    "# Testing trained Naive Bayes classifiers"
   ]
  },
  {
   "cell_type": "markdown",
   "id": "7c5db06f",
   "metadata": {},
   "source": [
    "## Libraries and functions"
   ]
  },
  {
   "cell_type": "code",
   "execution_count": 15,
   "id": "18c7785a",
   "metadata": {},
   "outputs": [
    {
     "data": {
      "application/vnd.jupyter.widget-view+json": {
       "model_id": "f419318fb41c4a9c959ae163a13c56c8",
       "version_major": 2,
       "version_minor": 0
      },
      "text/plain": [
       "0it [00:00, ?it/s]"
      ]
     },
     "metadata": {},
     "output_type": "display_data"
    }
   ],
   "source": [
    "import pandas as pd\n",
    "from tqdm import tqdm, notebook\n",
    "notebook.tqdm().pandas()\n",
    "import pickle\n",
    "import numpy as np\n",
    "import nltk\n",
    "from nltk.classify import NaiveBayesClassifier\n",
    "from nltk.sentiment import SentimentAnalyzer\n",
    "from nltk.sentiment.util import *\n",
    "from nltk.tokenize import SpaceTokenizer\n",
    "from sklearn.metrics import confusion_matrix\n",
    "import seaborn as sns\n",
    "import matplotlib.pyplot as plt\n",
    "import re"
   ]
  },
  {
   "cell_type": "code",
   "execution_count": 16,
   "id": "abf85268",
   "metadata": {},
   "outputs": [],
   "source": [
    "plt.style.use('seaborn-colorblind')\n",
    "plt.rcParams.update({'font.size' : 14,\n",
    "                     'figure.figsize':(10,8)})"
   ]
  },
  {
   "cell_type": "code",
   "execution_count": 17,
   "id": "e86db376",
   "metadata": {},
   "outputs": [],
   "source": [
    "def classify_quote(document,model,analyzer):\n",
    "    tokenized_doc= nltk.word_tokenize(document)\n",
    "    features= analyzer.apply_features([(tokenized_doc,\"text\")])\n",
    "    return model.classify(features[0][0])"
   ]
  },
  {
   "cell_type": "code",
   "execution_count": 18,
   "id": "dc1bdc52",
   "metadata": {},
   "outputs": [],
   "source": [
    "def compare_quote(test_string,test_list):\n",
    "    if any(ext in test_string for ext in test_list):\n",
    "        return 1\n",
    "    return 0"
   ]
  },
  {
   "cell_type": "code",
   "execution_count": 19,
   "id": "aefe147f",
   "metadata": {},
   "outputs": [],
   "source": [
    "images_path= \"/Users/nicolasantacroce/Desktop/Desktop/EPFL/EPFL MA1/Applied Data Analysis/whois_plots/\""
   ]
  },
  {
   "cell_type": "markdown",
   "id": "8458002c",
   "metadata": {},
   "source": [
    "## Dataset sample"
   ]
  },
  {
   "cell_type": "code",
   "execution_count": 20,
   "id": "431f0c6a",
   "metadata": {},
   "outputs": [
    {
     "data": {
      "text/html": [
       "<div>\n",
       "<style scoped>\n",
       "    .dataframe tbody tr th:only-of-type {\n",
       "        vertical-align: middle;\n",
       "    }\n",
       "\n",
       "    .dataframe tbody tr th {\n",
       "        vertical-align: top;\n",
       "    }\n",
       "\n",
       "    .dataframe thead th {\n",
       "        text-align: right;\n",
       "    }\n",
       "</style>\n",
       "<table border=\"1\" class=\"dataframe\">\n",
       "  <thead>\n",
       "    <tr style=\"text-align: right;\">\n",
       "      <th></th>\n",
       "      <th>quoteID</th>\n",
       "      <th>quotation</th>\n",
       "      <th>ground_truth</th>\n",
       "    </tr>\n",
       "  </thead>\n",
       "  <tbody>\n",
       "    <tr>\n",
       "      <th>0</th>\n",
       "      <td>2020-02-27-004961</td>\n",
       "      <td>And while I'm conservative,</td>\n",
       "      <td>1</td>\n",
       "    </tr>\n",
       "    <tr>\n",
       "      <th>1</th>\n",
       "      <td>2015-07-17-092457</td>\n",
       "      <td>The transportation and the aviation industries...</td>\n",
       "      <td>0</td>\n",
       "    </tr>\n",
       "    <tr>\n",
       "      <th>2</th>\n",
       "      <td>2020-02-24-064116</td>\n",
       "      <td>This is true in the UK as it is in the USA, an...</td>\n",
       "      <td>0</td>\n",
       "    </tr>\n",
       "    <tr>\n",
       "      <th>3</th>\n",
       "      <td>2017-04-22-048189</td>\n",
       "      <td>no one wants to be screamed at for two hours.</td>\n",
       "      <td>1</td>\n",
       "    </tr>\n",
       "    <tr>\n",
       "      <th>4</th>\n",
       "      <td>2019-07-22-043953</td>\n",
       "      <td>President Trump was wrong to suggest that four...</td>\n",
       "      <td>0</td>\n",
       "    </tr>\n",
       "  </tbody>\n",
       "</table>\n",
       "</div>"
      ],
      "text/plain": [
       "             quoteID                                          quotation  \\\n",
       "0  2020-02-27-004961                        And while I'm conservative,   \n",
       "1  2015-07-17-092457  The transportation and the aviation industries...   \n",
       "2  2020-02-24-064116  This is true in the UK as it is in the USA, an...   \n",
       "3  2017-04-22-048189      no one wants to be screamed at for two hours.   \n",
       "4  2019-07-22-043953  President Trump was wrong to suggest that four...   \n",
       "\n",
       "   ground_truth  \n",
       "0             1  \n",
       "1             0  \n",
       "2             0  \n",
       "3             1  \n",
       "4             0  "
      ]
     },
     "execution_count": 20,
     "metadata": {},
     "output_type": "execute_result"
    }
   ],
   "source": [
    "### reloading test set\n",
    "df= pd.read_csv(\"/Users/nicolasantacroce/Desktop/Desktop/EPFL/EPFL MA1/Applied Data Analysis/ground_truth.csv\",sep=\";\")\n",
    "df.head()"
   ]
  },
  {
   "cell_type": "markdown",
   "id": "31d3833b",
   "metadata": {},
   "source": [
    "## Sentiment analysis model - NBC classifier"
   ]
  },
  {
   "cell_type": "code",
   "execution_count": 21,
   "id": "f29ce5f8",
   "metadata": {},
   "outputs": [
    {
     "data": {
      "application/vnd.jupyter.widget-view+json": {
       "model_id": "b82ca29d501a4ca39e5246d480d06bea",
       "version_major": 2,
       "version_minor": 0
      },
      "text/plain": [
       "  0%|          | 0/400 [00:00<?, ?it/s]"
      ]
     },
     "metadata": {},
     "output_type": "display_data"
    }
   ],
   "source": [
    "NBC= pickle.load(open(\"NBC_soap_wiki.pkl\",\"rb\"))\n",
    "analyzer= pickle.load(open(\"analyzer_soap_wiki.pkl\",\"rb\"))\n",
    "df[\"colloquial_NBC\"]= df[\"quotation\"].progress_apply(lambda x : classify_quote(x,NBC,analyzer))"
   ]
  },
  {
   "cell_type": "code",
   "execution_count": 22,
   "id": "7709d254",
   "metadata": {},
   "outputs": [],
   "source": [
    "%%capture\n",
    "df[\"colloquial_NBC\"].loc[df[\"colloquial_NBC\"]==\"informal\"]= 1\n",
    "df[\"colloquial_NBC\"].loc[df[\"colloquial_NBC\"]==\"formal\"]= 0"
   ]
  },
  {
   "cell_type": "code",
   "execution_count": 23,
   "id": "40197e7c",
   "metadata": {},
   "outputs": [
    {
     "data": {
      "text/html": [
       "<div>\n",
       "<style scoped>\n",
       "    .dataframe tbody tr th:only-of-type {\n",
       "        vertical-align: middle;\n",
       "    }\n",
       "\n",
       "    .dataframe tbody tr th {\n",
       "        vertical-align: top;\n",
       "    }\n",
       "\n",
       "    .dataframe thead th {\n",
       "        text-align: right;\n",
       "    }\n",
       "</style>\n",
       "<table border=\"1\" class=\"dataframe\">\n",
       "  <thead>\n",
       "    <tr style=\"text-align: right;\">\n",
       "      <th></th>\n",
       "      <th>quoteID</th>\n",
       "      <th>quotation</th>\n",
       "      <th>ground_truth</th>\n",
       "      <th>colloquial_NBC</th>\n",
       "    </tr>\n",
       "  </thead>\n",
       "  <tbody>\n",
       "    <tr>\n",
       "      <th>0</th>\n",
       "      <td>2020-02-27-004961</td>\n",
       "      <td>And while I'm conservative,</td>\n",
       "      <td>1</td>\n",
       "      <td>1</td>\n",
       "    </tr>\n",
       "    <tr>\n",
       "      <th>1</th>\n",
       "      <td>2015-07-17-092457</td>\n",
       "      <td>The transportation and the aviation industries...</td>\n",
       "      <td>0</td>\n",
       "      <td>0</td>\n",
       "    </tr>\n",
       "    <tr>\n",
       "      <th>2</th>\n",
       "      <td>2020-02-24-064116</td>\n",
       "      <td>This is true in the UK as it is in the USA, an...</td>\n",
       "      <td>0</td>\n",
       "      <td>0</td>\n",
       "    </tr>\n",
       "    <tr>\n",
       "      <th>3</th>\n",
       "      <td>2017-04-22-048189</td>\n",
       "      <td>no one wants to be screamed at for two hours.</td>\n",
       "      <td>1</td>\n",
       "      <td>1</td>\n",
       "    </tr>\n",
       "    <tr>\n",
       "      <th>4</th>\n",
       "      <td>2019-07-22-043953</td>\n",
       "      <td>President Trump was wrong to suggest that four...</td>\n",
       "      <td>0</td>\n",
       "      <td>0</td>\n",
       "    </tr>\n",
       "  </tbody>\n",
       "</table>\n",
       "</div>"
      ],
      "text/plain": [
       "             quoteID                                          quotation  \\\n",
       "0  2020-02-27-004961                        And while I'm conservative,   \n",
       "1  2015-07-17-092457  The transportation and the aviation industries...   \n",
       "2  2020-02-24-064116  This is true in the UK as it is in the USA, an...   \n",
       "3  2017-04-22-048189      no one wants to be screamed at for two hours.   \n",
       "4  2019-07-22-043953  President Trump was wrong to suggest that four...   \n",
       "\n",
       "   ground_truth colloquial_NBC  \n",
       "0             1              1  \n",
       "1             0              0  \n",
       "2             0              0  \n",
       "3             1              1  \n",
       "4             0              0  "
      ]
     },
     "execution_count": 23,
     "metadata": {},
     "output_type": "execute_result"
    }
   ],
   "source": [
    "df.head()"
   ]
  },
  {
   "cell_type": "markdown",
   "id": "a16dc3b1",
   "metadata": {},
   "source": [
    "## Contraction dictionary comparison"
   ]
  },
  {
   "cell_type": "code",
   "execution_count": 24,
   "id": "88d96db4",
   "metadata": {},
   "outputs": [],
   "source": [
    "dico= pd.read_pickle(\"./reduced_english_contractions.pkl\")\n",
    "del dico[\"occurences\"]\n",
    "del dico[\"occurence_fraction\"]\n",
    "dicolist= dico[\"word\"].unique().tolist()"
   ]
  },
  {
   "cell_type": "code",
   "execution_count": 25,
   "id": "d54f65be",
   "metadata": {},
   "outputs": [
    {
     "data": {
      "application/vnd.jupyter.widget-view+json": {
       "model_id": "3f5ffa697e894d00bab465935a88a79f",
       "version_major": 2,
       "version_minor": 0
      },
      "text/plain": [
       "  0%|          | 0/400 [00:00<?, ?it/s]"
      ]
     },
     "metadata": {},
     "output_type": "display_data"
    }
   ],
   "source": [
    "df_tested_quotes= df[\"quotation\"].progress_apply(lambda x : \" \"+x.lower()+\" \")"
   ]
  },
  {
   "cell_type": "code",
   "execution_count": 26,
   "id": "c36e94dd",
   "metadata": {},
   "outputs": [
    {
     "data": {
      "application/vnd.jupyter.widget-view+json": {
       "model_id": "37190b389d644f68a189ed19ae49d812",
       "version_major": 2,
       "version_minor": 0
      },
      "text/plain": [
       "  0%|          | 0/400 [00:00<?, ?it/s]"
      ]
     },
     "metadata": {},
     "output_type": "display_data"
    }
   ],
   "source": [
    "df[\"colloquial_contractions\"]= df_tested_quotes.progress_apply(lambda x : compare_quote(x,dicolist))"
   ]
  },
  {
   "cell_type": "markdown",
   "id": "7ca0cd1c",
   "metadata": {},
   "source": [
    "## Confusion matrices"
   ]
  },
  {
   "cell_type": "code",
   "execution_count": 27,
   "id": "e2cc23ef",
   "metadata": {},
   "outputs": [
    {
     "data": {
      "image/png": "[encoded data removed]",
      "text/plain": [
       "<Figure size 720x576 with 2 Axes>"
      ]
     },
     "metadata": {
      "needs_background": "light"
     },
     "output_type": "display_data"
    }
   ],
   "source": [
    "cf_matrix_NBC = confusion_matrix(df[\"ground_truth\"].tolist(), df[\"colloquial_NBC\"].tolist())\n",
    "fig = plt.figure()\n",
    "ax = sns.heatmap(cf_matrix_NBC,annot= True,fmt='g')\n",
    "ax.set_title('Confusion matrix of NBC classifier');\n",
    "ax.set_xlabel('\\nPredicted Values')\n",
    "ax.set_ylabel('Actual Values ');\n",
    "ax.xaxis.set_ticklabels(['Formal','Colloquial'])\n",
    "ax.yaxis.set_ticklabels(['Formal','Colloquial'])\n",
    "fig.savefig(images_path+'NBC_cfmatrix.svg',format = 'svg',bbox_inches='tight')\n",
    "fig.savefig(images_path+'NBC_cfmatrix.png',format = 'png',bbox_inches='tight')"
   ]
  },
  {
   "cell_type": "code",
   "execution_count": 28,
   "id": "1831ac7c",
   "metadata": {},
   "outputs": [
    {
     "data": {
      "image/png": "[encoded data removed]",
      "text/plain": [
       "<Figure size 720x576 with 2 Axes>"
      ]
     },
     "metadata": {
      "needs_background": "light"
     },
     "output_type": "display_data"
    }
   ],
   "source": [
    "cf_matrix_contractions = confusion_matrix(df[\"ground_truth\"].tolist(), df[\"colloquial_contractions\"].tolist())\n",
    "fig = plt.figure()\n",
    "ax = sns.heatmap(cf_matrix_contractions,annot= True,fmt='g')\n",
    "ax.set_title('Confusion matrix of contractions classifier');\n",
    "ax.set_xlabel('\\nPredicted Values')\n",
    "ax.set_ylabel('Actual Values ');\n",
    "ax.xaxis.set_ticklabels(['Formal','Colloquial'])\n",
    "ax.yaxis.set_ticklabels(['Formal','Colloquial'])\n",
    "fig.savefig(images_path+'contraction_cfmatrix.svg',format = 'svg',bbox_inches='tight')\n",
    "fig.savefig(images_path+'contraction_cfmatrix.png',format = 'png',bbox_inches='tight')"
   ]
  },
  {
   "cell_type": "code",
   "execution_count": null,
   "id": "e7f56acc",
   "metadata": {},
   "outputs": [],
   "source": []
  }
 ],
 "metadata": {
  "kernelspec": {
   "display_name": "Python 3 (ipykernel)",
   "language": "python",
   "name": "python3"
  },
  "language_info": {
   "codemirror_mode": {
    "name": "ipython",
    "version": 3
   },
   "file_extension": ".py",
   "mimetype": "text/x-python",
   "name": "python",
   "nbconvert_exporter": "python",
   "pygments_lexer": "ipython3",
   "version": "3.8.11"
  }
 },
 "nbformat": 4,
 "nbformat_minor": 5
}

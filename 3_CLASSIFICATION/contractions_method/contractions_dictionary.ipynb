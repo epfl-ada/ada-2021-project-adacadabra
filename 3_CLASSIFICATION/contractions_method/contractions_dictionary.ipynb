{
 "cells": [
  {
   "cell_type": "markdown",
   "id": "218d78ae",
   "metadata": {},
   "source": [
    "# Creation of the dictionary used to determine whether a quotation is colloquial"
   ]
  },
  {
   "cell_type": "markdown",
   "id": "e5686163",
   "metadata": {},
   "source": [
    "## Libraries"
   ]
  },
  {
   "cell_type": "code",
   "execution_count": 1,
   "id": "eeb8ee4d",
   "metadata": {},
   "outputs": [
    {
     "name": "stderr",
     "output_type": "stream",
     "text": [
      "/var/folders/ll/9ks4sslj4hj9kg36pxlnc3xc0000gn/T/ipykernel_10694/2887359334.py:3: TqdmDeprecationWarning: This function will be removed in tqdm==5.0.0\n",
      "Please use `tqdm.notebook.tqdm` instead of `tqdm.tqdm_notebook`\n",
      "  tqdm_notebook().pandas()\n"
     ]
    },
    {
     "data": {
      "application/vnd.jupyter.widget-view+json": {
       "model_id": "8cab8be3e8cf40ba9e0a18e5a93dc363",
       "version_major": 2,
       "version_minor": 0
      },
      "text/plain": [
       "0it [00:00, ?it/s]"
      ]
     },
     "metadata": {},
     "output_type": "display_data"
    }
   ],
   "source": [
    "import pandas as pd\n",
    "from tqdm import tqdm, tqdm_notebook\n",
    "tqdm_notebook().pandas()"
   ]
  },
  {
   "cell_type": "markdown",
   "id": "3a00ae05",
   "metadata": {},
   "source": [
    "## Reading words from the wikipedia english contractions list"
   ]
  },
  {
   "cell_type": "code",
   "execution_count": 3,
   "id": "eda049a1",
   "metadata": {},
   "outputs": [],
   "source": [
    "dictionary = pd.read_csv(\"english_contractions.csv\",header=None)\n",
    "dictionary.columns = [\"word\"]"
   ]
  },
  {
   "cell_type": "markdown",
   "id": "c4090e82",
   "metadata": {},
   "source": [
    "### Facultative : filter words that are flagged as informal"
   ]
  },
  {
   "cell_type": "markdown",
   "id": "00c3842e",
   "metadata": {},
   "source": [
    "def is_informal(string):\n",
    "    if \" (informal)\" in string:\n",
    "        return 1\n",
    "    return 0"
   ]
  },
  {
   "cell_type": "markdown",
   "id": "0d0f9209",
   "metadata": {},
   "source": [
    "dictionary[\"informal\"]= dictionary[\"word\"].progress_apply(lambda x : is_informal(x))\n",
    "dictionary= dictionary[dictionary[\"informal\"]==1]\n",
    "del dictionary[\"informal\"]"
   ]
  },
  {
   "cell_type": "markdown",
   "id": "aa536337",
   "metadata": {},
   "source": [
    "## Dictionary Cleaning"
   ]
  },
  {
   "cell_type": "markdown",
   "id": "a18806be",
   "metadata": {},
   "source": [
    "### Removing informal flag"
   ]
  },
  {
   "cell_type": "code",
   "execution_count": 4,
   "id": "43bea31f",
   "metadata": {},
   "outputs": [],
   "source": [
    "def remove_informal(string):\n",
    "    if \" (informal)\" in string:\n",
    "        string= string.replace(\" (informal)\",\"\")\n",
    "    return string"
   ]
  },
  {
   "cell_type": "code",
   "execution_count": 5,
   "id": "499f2bb8",
   "metadata": {},
   "outputs": [
    {
     "data": {
      "application/vnd.jupyter.widget-view+json": {
       "model_id": "322050c94ba44aa2b1d7df392ca788fc",
       "version_major": 2,
       "version_minor": 0
      },
      "text/plain": [
       "  0%|          | 0/176 [00:00<?, ?it/s]"
      ]
     },
     "metadata": {},
     "output_type": "display_data"
    }
   ],
   "source": [
    "dictionary[\"word\"]= dictionary[\"word\"].progress_apply(lambda x : remove_informal(x))"
   ]
  },
  {
   "cell_type": "markdown",
   "id": "3c6c11d8",
   "metadata": {},
   "source": [
    "### Removing duplicates and NaNs"
   ]
  },
  {
   "cell_type": "code",
   "execution_count": 6,
   "id": "e6d12289",
   "metadata": {},
   "outputs": [],
   "source": [
    "dictionary = dictionary.copy().drop_duplicates(subset = 'word', keep='first')\n",
    "dictionary = dictionary.dropna()\n",
    "dictionary = dictionary.reset_index(drop=True)"
   ]
  },
  {
   "cell_type": "markdown",
   "id": "617d1a1f",
   "metadata": {},
   "source": [
    "### Adding spaces before and after words"
   ]
  },
  {
   "cell_type": "code",
   "execution_count": 7,
   "id": "98ceb5a6",
   "metadata": {},
   "outputs": [
    {
     "data": {
      "application/vnd.jupyter.widget-view+json": {
       "model_id": "c2f0c9f24cfc488eb20310aab6f33aaa",
       "version_major": 2,
       "version_minor": 0
      },
      "text/plain": [
       "  0%|          | 0/176 [00:00<?, ?it/s]"
      ]
     },
     "metadata": {},
     "output_type": "display_data"
    }
   ],
   "source": [
    "dictionary[\"word\"]= dictionary[\"word\"].progress_apply(lambda x : \" \"+x+\" \")"
   ]
  },
  {
   "cell_type": "markdown",
   "id": "20a30dbb",
   "metadata": {},
   "source": [
    "### Setting lettercases to lower"
   ]
  },
  {
   "cell_type": "code",
   "execution_count": 9,
   "id": "1728762d",
   "metadata": {},
   "outputs": [
    {
     "data": {
      "application/vnd.jupyter.widget-view+json": {
       "model_id": "85b2be6e878d4824809b8fc564077fbb",
       "version_major": 2,
       "version_minor": 0
      },
      "text/plain": [
       "  0%|          | 0/176 [00:00<?, ?it/s]"
      ]
     },
     "metadata": {},
     "output_type": "display_data"
    }
   ],
   "source": [
    "dictionary[\"word\"]= dictionary[\"word\"].progress_apply(lambda x : x.lower())"
   ]
  },
  {
   "cell_type": "markdown",
   "id": "d538497c",
   "metadata": {},
   "source": [
    "## Saving the dictionary to pickle format"
   ]
  },
  {
   "cell_type": "code",
   "execution_count": 11,
   "id": "37dd1f7c",
   "metadata": {},
   "outputs": [],
   "source": [
    "dictionary.to_pickle(\"./english_contractions.pkl\")"
   ]
  },
  {
   "cell_type": "code",
   "execution_count": null,
   "id": "931fc84e",
   "metadata": {},
   "outputs": [],
   "source": []
  }
 ],
 "metadata": {
  "kernelspec": {
   "display_name": "Python 3 (ipykernel)",
   "language": "python",
   "name": "python3"
  },
  "language_info": {
   "codemirror_mode": {
    "name": "ipython",
    "version": 3
   },
   "file_extension": ".py",
   "mimetype": "text/x-python",
   "name": "python",
   "nbconvert_exporter": "python",
   "pygments_lexer": "ipython3",
   "version": "3.8.11"
  }
 },
 "nbformat": 4,
 "nbformat_minor": 5
}

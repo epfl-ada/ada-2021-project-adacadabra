{
 "cells": [
  {
   "cell_type": "markdown",
   "id": "b7c56129",
   "metadata": {},
   "source": [
    "# WHOIS requests on the first URL of each quote"
   ]
  },
  {
   "cell_type": "markdown",
   "id": "9a994116",
   "metadata": {},
   "source": [
    "## 0 Needed packages and functions"
   ]
  },
  {
   "cell_type": "markdown",
   "id": "d4b00291",
   "metadata": {},
   "source": [
    "### 0.1 Importing needed packages"
   ]
  },
  {
   "cell_type": "code",
   "execution_count": 1,
   "id": "a8d81d44",
   "metadata": {},
   "outputs": [],
   "source": [
    "import numpy as np\n",
    "import pandas as pd\n",
    "import bz2\n",
    "import json\n",
    "from whois import whois\n",
    "from tqdm import tqdm\n",
    "tqdm.pandas()"
   ]
  },
  {
   "cell_type": "markdown",
   "id": "8a76acba",
   "metadata": {},
   "source": [
    "### 0.2 Function to perform WHOIS request"
   ]
  },
  {
   "cell_type": "code",
   "execution_count": 2,
   "id": "136aba34",
   "metadata": {},
   "outputs": [],
   "source": [
    "def tryandget(url):\n",
    "    try:\n",
    "        who= whois(url)\n",
    "        return [who.org, who.resgistrar, who.country, who.state, who.city] #[who.org, who.country, who.city]\n",
    "    except:\n",
    "        pass\n",
    "    return [None, None, None, None, None]"
   ]
  },
  {
   "cell_type": "markdown",
   "id": "beaec7d3",
   "metadata": {},
   "source": [
    "## 1 Data preparation for request"
   ]
  },
  {
   "cell_type": "markdown",
   "id": "2b2608a8",
   "metadata": {},
   "source": [
    "### 1.1 Reading sample data"
   ]
  },
  {
   "cell_type": "code",
   "execution_count": 3,
   "id": "0447beae",
   "metadata": {},
   "outputs": [],
   "source": [
    "df= pd.read_json(\"/Users/nicolasantacroce/Desktop/Desktop/EPFL/EPFL MA1/Applied Data Analysis/Sample.json.bz2\",compression=\"bz2\",lines=True)"
   ]
  },
  {
   "cell_type": "markdown",
   "id": "256761e4",
   "metadata": {},
   "source": [
    "### 1.2 Extracting domains from urls"
   ]
  },
  {
   "cell_type": "code",
   "execution_count": 4,
   "id": "6773f582",
   "metadata": {},
   "outputs": [],
   "source": [
    "df[\"domain\"]= df['urls'].apply(lambda x: \"/\".join(x[0].split('/',3)[:3]))"
   ]
  },
  {
   "cell_type": "markdown",
   "id": "5948e2e3",
   "metadata": {},
   "source": [
    "### 1.3 Creating a dataframe of unique domains"
   ]
  },
  {
   "cell_type": "code",
   "execution_count": 5,
   "id": "dfe7b0e6",
   "metadata": {},
   "outputs": [
    {
     "data": {
      "text/html": [
       "<div>\n",
       "<style scoped>\n",
       "    .dataframe tbody tr th:only-of-type {\n",
       "        vertical-align: middle;\n",
       "    }\n",
       "\n",
       "    .dataframe tbody tr th {\n",
       "        vertical-align: top;\n",
       "    }\n",
       "\n",
       "    .dataframe thead th {\n",
       "        text-align: right;\n",
       "    }\n",
       "</style>\n",
       "<table border=\"1\" class=\"dataframe\">\n",
       "  <thead>\n",
       "    <tr style=\"text-align: right;\">\n",
       "      <th></th>\n",
       "      <th>0</th>\n",
       "    </tr>\n",
       "  </thead>\n",
       "  <tbody>\n",
       "    <tr>\n",
       "      <th>count</th>\n",
       "      <td>26582.000000</td>\n",
       "    </tr>\n",
       "    <tr>\n",
       "      <th>mean</th>\n",
       "      <td>47.543074</td>\n",
       "    </tr>\n",
       "    <tr>\n",
       "      <th>std</th>\n",
       "      <td>163.114553</td>\n",
       "    </tr>\n",
       "    <tr>\n",
       "      <th>min</th>\n",
       "      <td>1.000000</td>\n",
       "    </tr>\n",
       "    <tr>\n",
       "      <th>25%</th>\n",
       "      <td>1.000000</td>\n",
       "    </tr>\n",
       "    <tr>\n",
       "      <th>50%</th>\n",
       "      <td>7.000000</td>\n",
       "    </tr>\n",
       "    <tr>\n",
       "      <th>75%</th>\n",
       "      <td>34.000000</td>\n",
       "    </tr>\n",
       "    <tr>\n",
       "      <th>max</th>\n",
       "      <td>5220.000000</td>\n",
       "    </tr>\n",
       "  </tbody>\n",
       "</table>\n",
       "</div>"
      ],
      "text/plain": [
       "                  0\n",
       "count  26582.000000\n",
       "mean      47.543074\n",
       "std      163.114553\n",
       "min        1.000000\n",
       "25%        1.000000\n",
       "50%        7.000000\n",
       "75%       34.000000\n",
       "max     5220.000000"
      ]
     },
     "execution_count": 5,
     "metadata": {},
     "output_type": "execute_result"
    }
   ],
   "source": [
    "df_domain= pd.DataFrame(df.value_counts(\"domain\")).reset_index()\n",
    "df_domain.describe()"
   ]
  },
  {
   "cell_type": "markdown",
   "id": "e3b4e288",
   "metadata": {},
   "source": [
    "## 2 Getting WHOIS informations"
   ]
  },
  {
   "cell_type": "markdown",
   "id": "93bd9374",
   "metadata": {},
   "source": [
    "### 2.1 Performing WHOIS requests on domains (takes a lot of time)"
   ]
  },
  {
   "cell_type": "code",
   "execution_count": null,
   "id": "4fbebafc",
   "metadata": {
    "scrolled": true
   },
   "outputs": [],
   "source": [
    "df_domain[\"origin\"]= df_domain[\"domain\"].apply(lambda x: tryandget(x))"
   ]
  },
  {
   "cell_type": "markdown",
   "id": "803b4b63",
   "metadata": {},
   "source": [
    "### 2.2 Saving domain dataframe to pickle format"
   ]
  },
  {
   "cell_type": "code",
   "execution_count": null,
   "id": "9223760b",
   "metadata": {},
   "outputs": [],
   "source": [
    "df_domain.to_pickle(\"./whois_result.pkl\")\n",
    "df_domain.head(10)"
   ]
  },
  {
   "cell_type": "markdown",
   "id": "b5c58f81",
   "metadata": {},
   "source": [
    "## 3 Joining WHOIS info to sample data"
   ]
  },
  {
   "cell_type": "markdown",
   "id": "52c17033",
   "metadata": {},
   "source": [
    "### 3.1 Loading domain dataframe from pickle"
   ]
  },
  {
   "cell_type": "code",
   "execution_count": 6,
   "id": "dd2f6c5e",
   "metadata": {},
   "outputs": [
    {
     "data": {
      "text/html": [
       "<div>\n",
       "<style scoped>\n",
       "    .dataframe tbody tr th:only-of-type {\n",
       "        vertical-align: middle;\n",
       "    }\n",
       "\n",
       "    .dataframe tbody tr th {\n",
       "        vertical-align: top;\n",
       "    }\n",
       "\n",
       "    .dataframe thead th {\n",
       "        text-align: right;\n",
       "    }\n",
       "</style>\n",
       "<table border=\"1\" class=\"dataframe\">\n",
       "  <thead>\n",
       "    <tr style=\"text-align: right;\">\n",
       "      <th></th>\n",
       "      <th>domain</th>\n",
       "      <th>0</th>\n",
       "      <th>origin</th>\n",
       "    </tr>\n",
       "  </thead>\n",
       "  <tbody>\n",
       "    <tr>\n",
       "      <th>0</th>\n",
       "      <td>http://www.breitbart.com</td>\n",
       "      <td>5220</td>\n",
       "      <td>[Domains By Proxy, LLC, None, US, Arizona, Tempe]</td>\n",
       "    </tr>\n",
       "    <tr>\n",
       "      <th>1</th>\n",
       "      <td>http://www.msn.com</td>\n",
       "      <td>4505</td>\n",
       "      <td>[Microsoft Corporation, None, US, WA, Redmond]</td>\n",
       "    </tr>\n",
       "    <tr>\n",
       "      <th>2</th>\n",
       "      <td>http://home.nzcity.co.nz</td>\n",
       "      <td>4372</td>\n",
       "      <td>[None, None, None, None, None]</td>\n",
       "    </tr>\n",
       "    <tr>\n",
       "      <th>3</th>\n",
       "      <td>http://www.stuff.co.nz</td>\n",
       "      <td>3766</td>\n",
       "      <td>[None, None, None, None, None]</td>\n",
       "    </tr>\n",
       "    <tr>\n",
       "      <th>4</th>\n",
       "      <td>https://www.thesun.co.uk</td>\n",
       "      <td>3726</td>\n",
       "      <td>[None, None, None, None, None]</td>\n",
       "    </tr>\n",
       "    <tr>\n",
       "      <th>5</th>\n",
       "      <td>http://msn.com</td>\n",
       "      <td>3649</td>\n",
       "      <td>[Microsoft Corporation, None, US, WA, Redmond]</td>\n",
       "    </tr>\n",
       "    <tr>\n",
       "      <th>6</th>\n",
       "      <td>http://express.co.uk</td>\n",
       "      <td>3487</td>\n",
       "      <td>[None, None, None, None, None]</td>\n",
       "    </tr>\n",
       "    <tr>\n",
       "      <th>7</th>\n",
       "      <td>http://mlb.mlb.com</td>\n",
       "      <td>3189</td>\n",
       "      <td>[MLB Advanced Media, LP, None, US, NY, New York]</td>\n",
       "    </tr>\n",
       "    <tr>\n",
       "      <th>8</th>\n",
       "      <td>http://thehill.com</td>\n",
       "      <td>3142</td>\n",
       "      <td>[None, None, US, FL, Jacksonville]</td>\n",
       "    </tr>\n",
       "    <tr>\n",
       "      <th>9</th>\n",
       "      <td>https://www.seattletimes.com</td>\n",
       "      <td>3012</td>\n",
       "      <td>[SEATTLE TIMES COMPANY, None, US, WA, SEATTLE]</td>\n",
       "    </tr>\n",
       "  </tbody>\n",
       "</table>\n",
       "</div>"
      ],
      "text/plain": [
       "                         domain     0  \\\n",
       "0      http://www.breitbart.com  5220   \n",
       "1            http://www.msn.com  4505   \n",
       "2      http://home.nzcity.co.nz  4372   \n",
       "3        http://www.stuff.co.nz  3766   \n",
       "4      https://www.thesun.co.uk  3726   \n",
       "5                http://msn.com  3649   \n",
       "6          http://express.co.uk  3487   \n",
       "7            http://mlb.mlb.com  3189   \n",
       "8            http://thehill.com  3142   \n",
       "9  https://www.seattletimes.com  3012   \n",
       "\n",
       "                                              origin  \n",
       "0  [Domains By Proxy, LLC, None, US, Arizona, Tempe]  \n",
       "1     [Microsoft Corporation, None, US, WA, Redmond]  \n",
       "2                     [None, None, None, None, None]  \n",
       "3                     [None, None, None, None, None]  \n",
       "4                     [None, None, None, None, None]  \n",
       "5     [Microsoft Corporation, None, US, WA, Redmond]  \n",
       "6                     [None, None, None, None, None]  \n",
       "7   [MLB Advanced Media, LP, None, US, NY, New York]  \n",
       "8                 [None, None, US, FL, Jacksonville]  \n",
       "9     [SEATTLE TIMES COMPANY, None, US, WA, SEATTLE]  "
      ]
     },
     "execution_count": 6,
     "metadata": {},
     "output_type": "execute_result"
    }
   ],
   "source": [
    "df_domain= pd.read_pickle(\"./whois_result.pkl\")\n",
    "df_domain.head(10)"
   ]
  },
  {
   "cell_type": "code",
   "execution_count": 23,
   "id": "1e577240",
   "metadata": {},
   "outputs": [
    {
     "name": "stderr",
     "output_type": "stream",
     "text": [
      "/var/folders/ll/9ks4sslj4hj9kg36pxlnc3xc0000gn/T/ipykernel_42022/420385466.py:1: DeprecationWarning: The default dtype for empty Series will be 'object' instead of 'float64' in a future version. Specify a dtype explicitly to silence this warning.\n",
      "  df_domain[[\"org\",\"registar\",\"country\",\"state\",\"city\"]]= df_domain[\"origin\"].apply(lambda x : pd.Series(x))\n"
     ]
    },
    {
     "data": {
      "text/html": [
       "<div>\n",
       "<style scoped>\n",
       "    .dataframe tbody tr th:only-of-type {\n",
       "        vertical-align: middle;\n",
       "    }\n",
       "\n",
       "    .dataframe tbody tr th {\n",
       "        vertical-align: top;\n",
       "    }\n",
       "\n",
       "    .dataframe thead th {\n",
       "        text-align: right;\n",
       "    }\n",
       "</style>\n",
       "<table border=\"1\" class=\"dataframe\">\n",
       "  <thead>\n",
       "    <tr style=\"text-align: right;\">\n",
       "      <th></th>\n",
       "      <th>domain</th>\n",
       "      <th>0</th>\n",
       "      <th>origin</th>\n",
       "      <th>org</th>\n",
       "      <th>registar</th>\n",
       "      <th>country</th>\n",
       "      <th>state</th>\n",
       "      <th>city</th>\n",
       "    </tr>\n",
       "  </thead>\n",
       "  <tbody>\n",
       "    <tr>\n",
       "      <th>0</th>\n",
       "      <td>http://www.breitbart.com</td>\n",
       "      <td>5220</td>\n",
       "      <td>[Domains By Proxy, LLC, None, US, Arizona, Tempe]</td>\n",
       "      <td>Domains By Proxy, LLC</td>\n",
       "      <td>NaN</td>\n",
       "      <td>US</td>\n",
       "      <td>Arizona</td>\n",
       "      <td>Tempe</td>\n",
       "    </tr>\n",
       "    <tr>\n",
       "      <th>1</th>\n",
       "      <td>http://www.msn.com</td>\n",
       "      <td>4505</td>\n",
       "      <td>[Microsoft Corporation, None, US, WA, Redmond]</td>\n",
       "      <td>Microsoft Corporation</td>\n",
       "      <td>NaN</td>\n",
       "      <td>US</td>\n",
       "      <td>WA</td>\n",
       "      <td>Redmond</td>\n",
       "    </tr>\n",
       "    <tr>\n",
       "      <th>2</th>\n",
       "      <td>http://home.nzcity.co.nz</td>\n",
       "      <td>4372</td>\n",
       "      <td>[None, None, None, None, None]</td>\n",
       "      <td>None</td>\n",
       "      <td>NaN</td>\n",
       "      <td>None</td>\n",
       "      <td>None</td>\n",
       "      <td>None</td>\n",
       "    </tr>\n",
       "    <tr>\n",
       "      <th>3</th>\n",
       "      <td>http://www.stuff.co.nz</td>\n",
       "      <td>3766</td>\n",
       "      <td>[None, None, None, None, None]</td>\n",
       "      <td>None</td>\n",
       "      <td>NaN</td>\n",
       "      <td>None</td>\n",
       "      <td>None</td>\n",
       "      <td>None</td>\n",
       "    </tr>\n",
       "    <tr>\n",
       "      <th>4</th>\n",
       "      <td>https://www.thesun.co.uk</td>\n",
       "      <td>3726</td>\n",
       "      <td>[None, None, None, None, None]</td>\n",
       "      <td>None</td>\n",
       "      <td>NaN</td>\n",
       "      <td>None</td>\n",
       "      <td>None</td>\n",
       "      <td>None</td>\n",
       "    </tr>\n",
       "    <tr>\n",
       "      <th>5</th>\n",
       "      <td>http://msn.com</td>\n",
       "      <td>3649</td>\n",
       "      <td>[Microsoft Corporation, None, US, WA, Redmond]</td>\n",
       "      <td>Microsoft Corporation</td>\n",
       "      <td>NaN</td>\n",
       "      <td>US</td>\n",
       "      <td>WA</td>\n",
       "      <td>Redmond</td>\n",
       "    </tr>\n",
       "    <tr>\n",
       "      <th>6</th>\n",
       "      <td>http://express.co.uk</td>\n",
       "      <td>3487</td>\n",
       "      <td>[None, None, None, None, None]</td>\n",
       "      <td>None</td>\n",
       "      <td>NaN</td>\n",
       "      <td>None</td>\n",
       "      <td>None</td>\n",
       "      <td>None</td>\n",
       "    </tr>\n",
       "    <tr>\n",
       "      <th>7</th>\n",
       "      <td>http://mlb.mlb.com</td>\n",
       "      <td>3189</td>\n",
       "      <td>[MLB Advanced Media, LP, None, US, NY, New York]</td>\n",
       "      <td>MLB Advanced Media, LP</td>\n",
       "      <td>NaN</td>\n",
       "      <td>US</td>\n",
       "      <td>NY</td>\n",
       "      <td>New York</td>\n",
       "    </tr>\n",
       "    <tr>\n",
       "      <th>8</th>\n",
       "      <td>http://thehill.com</td>\n",
       "      <td>3142</td>\n",
       "      <td>[None, None, US, FL, Jacksonville]</td>\n",
       "      <td>None</td>\n",
       "      <td>NaN</td>\n",
       "      <td>US</td>\n",
       "      <td>FL</td>\n",
       "      <td>Jacksonville</td>\n",
       "    </tr>\n",
       "    <tr>\n",
       "      <th>9</th>\n",
       "      <td>https://www.seattletimes.com</td>\n",
       "      <td>3012</td>\n",
       "      <td>[SEATTLE TIMES COMPANY, None, US, WA, SEATTLE]</td>\n",
       "      <td>SEATTLE TIMES COMPANY</td>\n",
       "      <td>NaN</td>\n",
       "      <td>US</td>\n",
       "      <td>WA</td>\n",
       "      <td>SEATTLE</td>\n",
       "    </tr>\n",
       "  </tbody>\n",
       "</table>\n",
       "</div>"
      ],
      "text/plain": [
       "                         domain     0  \\\n",
       "0      http://www.breitbart.com  5220   \n",
       "1            http://www.msn.com  4505   \n",
       "2      http://home.nzcity.co.nz  4372   \n",
       "3        http://www.stuff.co.nz  3766   \n",
       "4      https://www.thesun.co.uk  3726   \n",
       "5                http://msn.com  3649   \n",
       "6          http://express.co.uk  3487   \n",
       "7            http://mlb.mlb.com  3189   \n",
       "8            http://thehill.com  3142   \n",
       "9  https://www.seattletimes.com  3012   \n",
       "\n",
       "                                              origin                     org  \\\n",
       "0  [Domains By Proxy, LLC, None, US, Arizona, Tempe]   Domains By Proxy, LLC   \n",
       "1     [Microsoft Corporation, None, US, WA, Redmond]   Microsoft Corporation   \n",
       "2                     [None, None, None, None, None]                    None   \n",
       "3                     [None, None, None, None, None]                    None   \n",
       "4                     [None, None, None, None, None]                    None   \n",
       "5     [Microsoft Corporation, None, US, WA, Redmond]   Microsoft Corporation   \n",
       "6                     [None, None, None, None, None]                    None   \n",
       "7   [MLB Advanced Media, LP, None, US, NY, New York]  MLB Advanced Media, LP   \n",
       "8                 [None, None, US, FL, Jacksonville]                    None   \n",
       "9     [SEATTLE TIMES COMPANY, None, US, WA, SEATTLE]   SEATTLE TIMES COMPANY   \n",
       "\n",
       "   registar country    state          city  \n",
       "0       NaN      US  Arizona         Tempe  \n",
       "1       NaN      US       WA       Redmond  \n",
       "2       NaN    None     None          None  \n",
       "3       NaN    None     None          None  \n",
       "4       NaN    None     None          None  \n",
       "5       NaN      US       WA       Redmond  \n",
       "6       NaN    None     None          None  \n",
       "7       NaN      US       NY      New York  \n",
       "8       NaN      US       FL  Jacksonville  \n",
       "9       NaN      US       WA       SEATTLE  "
      ]
     },
     "execution_count": 23,
     "metadata": {},
     "output_type": "execute_result"
    }
   ],
   "source": [
    "df_domain[[\"org\",\"registar\",\"country\",\"state\",\"city\"]]= df_domain[\"origin\"].apply(lambda x : pd.Series(x))\n",
    "df_domain.head(10)"
   ]
  },
  {
   "cell_type": "code",
   "execution_count": 24,
   "id": "16a5f1d7",
   "metadata": {},
   "outputs": [
    {
     "data": {
      "text/html": [
       "<div>\n",
       "<style scoped>\n",
       "    .dataframe tbody tr th:only-of-type {\n",
       "        vertical-align: middle;\n",
       "    }\n",
       "\n",
       "    .dataframe tbody tr th {\n",
       "        vertical-align: top;\n",
       "    }\n",
       "\n",
       "    .dataframe thead th {\n",
       "        text-align: right;\n",
       "    }\n",
       "</style>\n",
       "<table border=\"1\" class=\"dataframe\">\n",
       "  <thead>\n",
       "    <tr style=\"text-align: right;\">\n",
       "      <th></th>\n",
       "      <th>0</th>\n",
       "      <th>registar</th>\n",
       "    </tr>\n",
       "  </thead>\n",
       "  <tbody>\n",
       "    <tr>\n",
       "      <th>count</th>\n",
       "      <td>26582.000000</td>\n",
       "      <td>0.0</td>\n",
       "    </tr>\n",
       "    <tr>\n",
       "      <th>mean</th>\n",
       "      <td>47.543074</td>\n",
       "      <td>NaN</td>\n",
       "    </tr>\n",
       "    <tr>\n",
       "      <th>std</th>\n",
       "      <td>163.114553</td>\n",
       "      <td>NaN</td>\n",
       "    </tr>\n",
       "    <tr>\n",
       "      <th>min</th>\n",
       "      <td>1.000000</td>\n",
       "      <td>NaN</td>\n",
       "    </tr>\n",
       "    <tr>\n",
       "      <th>25%</th>\n",
       "      <td>1.000000</td>\n",
       "      <td>NaN</td>\n",
       "    </tr>\n",
       "    <tr>\n",
       "      <th>50%</th>\n",
       "      <td>7.000000</td>\n",
       "      <td>NaN</td>\n",
       "    </tr>\n",
       "    <tr>\n",
       "      <th>75%</th>\n",
       "      <td>34.000000</td>\n",
       "      <td>NaN</td>\n",
       "    </tr>\n",
       "    <tr>\n",
       "      <th>max</th>\n",
       "      <td>5220.000000</td>\n",
       "      <td>NaN</td>\n",
       "    </tr>\n",
       "  </tbody>\n",
       "</table>\n",
       "</div>"
      ],
      "text/plain": [
       "                  0  registar\n",
       "count  26582.000000       0.0\n",
       "mean      47.543074       NaN\n",
       "std      163.114553       NaN\n",
       "min        1.000000       NaN\n",
       "25%        1.000000       NaN\n",
       "50%        7.000000       NaN\n",
       "75%       34.000000       NaN\n",
       "max     5220.000000       NaN"
      ]
     },
     "execution_count": 24,
     "metadata": {},
     "output_type": "execute_result"
    }
   ],
   "source": [
    "df_domain.describe()"
   ]
  },
  {
   "cell_type": "code",
   "execution_count": null,
   "id": "06db753c",
   "metadata": {},
   "outputs": [],
   "source": []
  }
 ],
 "metadata": {
  "kernelspec": {
   "display_name": "Python 3 (ipykernel)",
   "language": "python",
   "name": "python3"
  },
  "language_info": {
   "codemirror_mode": {
    "name": "ipython",
    "version": 3
   },
   "file_extension": ".py",
   "mimetype": "text/x-python",
   "name": "python",
   "nbconvert_exporter": "python",
   "pygments_lexer": "ipython3",
   "version": "3.8.11"
  }
 },
 "nbformat": 4,
 "nbformat_minor": 5
}

{
 "cells": [
  {
   "cell_type": "markdown",
   "id": "45bb0c4f",
   "metadata": {},
   "source": [
    "# Data extraction\n"
   ]
  },
  {
   "cell_type": "code",
   "execution_count": 2,
   "id": "9d33b875",
   "metadata": {},
   "outputs": [],
   "source": [
    "#importing the required modules\n",
    "import seaborn as sns\n",
    "from IPython.display import display, HTML\n",
    "import matplotlib.pyplot as plt\n",
    "import scipy.stats as stats\n",
    "import pandas as pd\n",
    "import numpy as np\n",
    "import seaborn as sns"
   ]
  },
  {
   "cell_type": "code",
   "execution_count": null,
   "id": "01e3eea8",
   "metadata": {},
   "outputs": [],
   "source": [
    "# List of years available and used\n",
    "years = [2015,2016,2017,2018,2019,2020]\n",
    "\n",
    "# Size of years file in GB\n",
    "year_size = np.array([3.3,2.3,5.2,4.8,3.6,.9])\n",
    "\n",
    "# Number of rows in file of 2020 (computed once \"by hand\", as long as this file is not too heavy)\n",
    "rows2020 = 5244449\n",
    "\n",
    "# Estimation of number of rows in each file\n",
    "year_rows = year_size*rows2020/.9\n",
    "\n",
    "# Which correspond to n chunks of size one million\n",
    "chunks_number = np.rint(year_rows/1e6).astype(int)\n",
    "\n",
    "# Which means we have to take n random rows in each chunk to get a sample of 200,000 rows per year\n",
    "rows_in_chunk = np.rint(2*1e5/chunks_number).astype(int)"
   ]
  },
  {
   "cell_type": "code",
   "execution_count": null,
   "id": "63ada6c9",
   "metadata": {},
   "outputs": [],
   "source": [
    "# As long as year 2017 crashes (even run alone), we change parameters for it\n",
    "rows_in_chunk[2] = 666\n",
    "chunks_number[2] = 300\n",
    "\n",
    "# And we chose different chunk size for this year\n",
    "chunk_sizes = [1e6,1e6,1e5,1e6,1e6,1e6]"
   ]
  },
  {
   "cell_type": "code",
   "execution_count": null,
   "id": "49d669bf",
   "metadata": {},
   "outputs": [],
   "source": [
    "rows_in_chunk, chunks_number"
   ]
  },
  {
   "cell_type": "code",
   "execution_count": null,
   "id": "0979e790",
   "metadata": {},
   "outputs": [],
   "source": [
    "# Data files all have the following columns\n",
    "Index = ['quoteID', 'quotation', 'speaker', 'qids', 'date', 'numOccurrences','probas', 'urls', 'phase']"
   ]
  },
  {
   "cell_type": "code",
   "execution_count": null,
   "id": "84d7bc83",
   "metadata": {},
   "outputs": [],
   "source": [
    "# Useful function, when testing loops\n",
    "def process_chunk(chunk,year):\n",
    "        print(f'Processing chunk with {len(chunk)} rows, in file from year {year}')\n",
    "        # print(chunk.columns)"
   ]
  },
  {
   "cell_type": "code",
   "execution_count": null,
   "id": "d0d93b15",
   "metadata": {},
   "outputs": [],
   "source": [
    "print(\"C'est parti, mon kiki !\\n\")\n",
    "df = pd.DataFrame(columns=Index)\n",
    "for iii, year in enumerate(years) :\n",
    "    with pd.read_json(f'./Quotebank/quotes-{year}.json.bz2', lines=True, compression='bz2', chunksize=chunk_sizes[iii]) as df_reader:\n",
    "        print(f\"Start year {year} with chunks of size {int(chunk_sizes[iii])}\")\n",
    "        for chunk in df_reader:\n",
    "            # process_chunk(chunk,year)\n",
    "            df = pd.concat([df,chunk.sample(rows_in_chunk[iii])])\n",
    "        print(f\"Done with year {year}\")\n",
    "df = df.reset_index(drop=True)\n",
    "df.to_json(f\"./Quotebank/Sample.json.bz2\",compression=\"bz2\",lines=True,orient=\"records\")\n",
    "print(\"\\nTout est bien qui finit bien\")"
   ]
  },
  {
   "cell_type": "markdown",
   "id": "6528744c",
   "metadata": {},
   "source": [
    "# Data wrangling of the Quotebank dataset\n",
    "\n",
    "This notebook is dedicated to developpe the datawrangling methods that will be used to clean the full Quotebank dataset used in our project. The methods are tested on a sample of the full database.\n",
    "\n",
    "The sample is made frome 200'000 quotes of each years of interest (2015-2020) which should therefore contain $1.2 \\cdot 10^6$ entries.\n",
    "\n",
    "The script will proceed through the following steps:\n",
    "  - drop of the duplicates\n",
    "  - drop of the quotes for which the speaker is not identified (threshold to be defined)\n",
    "  - drop the quotes in which the probability between one or more speaker his near each other (threshold to be defined)\n",
    "  - drop of any quotes that is empty\n",
    "  - keep only the speaker that has the most probability of being the author of the quote\n",
    "    "
   ]
  },
  {
   "cell_type": "code",
   "execution_count": 2,
   "id": "5808beef",
   "metadata": {},
   "outputs": [],
   "source": [
    "#importing the required modules\n",
    "import seaborn as sns\n",
    "from IPython.display import display, HTML\n",
    "import matplotlib.pyplot as plt\n",
    "import scipy.stats as stats\n",
    "import pandas as pd\n",
    "import numpy as np\n",
    "import seaborn as sns"
   ]
  },
  {
   "cell_type": "code",
   "execution_count": 3,
   "id": "e0c119a1",
   "metadata": {},
   "outputs": [],
   "source": [
    "# Small adjustments to default style of plots, making sure it's readable and colorblind-friendly everywhere\n",
    "plt.style.use('seaborn-colorblind')\n",
    "plt.rcParams.update({'font.size' : 12.5,\n",
    "                     'figure.figsize':(10,7)})"
   ]
  },
  {
   "cell_type": "markdown",
   "id": "4f1f8341",
   "metadata": {},
   "source": [
    "### Getting the data\n",
    "The previously extracted data sample (processed `Sample_creation.ipynb`) is imported in the notebook easily and relatively efficiently thanks to the json format. It takes about 2 [min/Mio quotes] which is totally satisfying."
   ]
  },
  {
   "cell_type": "code",
   "execution_count": 4,
   "id": "ac57dab6",
   "metadata": {},
   "outputs": [
    {
     "name": "stdout",
     "output_type": "stream",
     "text": [
      "Wall time: 2min 20s\n"
     ]
    },
    {
     "data": {
      "text/html": [
       "<div>\n",
       "<style scoped>\n",
       "    .dataframe tbody tr th:only-of-type {\n",
       "        vertical-align: middle;\n",
       "    }\n",
       "\n",
       "    .dataframe tbody tr th {\n",
       "        vertical-align: top;\n",
       "    }\n",
       "\n",
       "    .dataframe thead th {\n",
       "        text-align: right;\n",
       "    }\n",
       "</style>\n",
       "<table border=\"1\" class=\"dataframe\">\n",
       "  <thead>\n",
       "    <tr style=\"text-align: right;\">\n",
       "      <th></th>\n",
       "      <th>numOccurrences</th>\n",
       "    </tr>\n",
       "  </thead>\n",
       "  <tbody>\n",
       "    <tr>\n",
       "      <th>count</th>\n",
       "      <td>1.263790e+06</td>\n",
       "    </tr>\n",
       "    <tr>\n",
       "      <th>mean</th>\n",
       "      <td>3.767778e+00</td>\n",
       "    </tr>\n",
       "    <tr>\n",
       "      <th>std</th>\n",
       "      <td>4.666187e+01</td>\n",
       "    </tr>\n",
       "    <tr>\n",
       "      <th>min</th>\n",
       "      <td>1.000000e+00</td>\n",
       "    </tr>\n",
       "    <tr>\n",
       "      <th>25%</th>\n",
       "      <td>1.000000e+00</td>\n",
       "    </tr>\n",
       "    <tr>\n",
       "      <th>50%</th>\n",
       "      <td>1.000000e+00</td>\n",
       "    </tr>\n",
       "    <tr>\n",
       "      <th>75%</th>\n",
       "      <td>2.000000e+00</td>\n",
       "    </tr>\n",
       "    <tr>\n",
       "      <th>max</th>\n",
       "      <td>3.300000e+04</td>\n",
       "    </tr>\n",
       "  </tbody>\n",
       "</table>\n",
       "</div>"
      ],
      "text/plain": [
       "       numOccurrences\n",
       "count    1.263790e+06\n",
       "mean     3.767778e+00\n",
       "std      4.666187e+01\n",
       "min      1.000000e+00\n",
       "25%      1.000000e+00\n",
       "50%      1.000000e+00\n",
       "75%      2.000000e+00\n",
       "max      3.300000e+04"
      ]
     },
     "execution_count": 4,
     "metadata": {},
     "output_type": "execute_result"
    }
   ],
   "source": [
    "%%time\n",
    "#copy the path of the sample quotes: (to big to put in the git)\n",
    "#ALEX: 'C:/Users/alexb/Documents/Ecole/EPFL/MasterII/ADA/'\n",
    "#JULES: ...\n",
    "#MARIN: ...\n",
    "#NICO: ...\n",
    "\n",
    "\n",
    "path_2_data = 'C:/Users/alexb/Documents/Ecole/EPFL/MasterII/ADA/'\n",
    "\n",
    "\n",
    "#import the dataset sample\n",
    "raw_data = pd.read_json(path_2_data + 'Sample.json.bz2',compression=\"bz2\",lines=True)\n",
    "\n",
    "raw_data.describe()"
   ]
  },
  {
   "cell_type": "markdown",
   "id": "729a71ec",
   "metadata": {},
   "source": [
    "Quick look at some entries in this dataframe"
   ]
  },
  {
   "cell_type": "code",
   "execution_count": 5,
   "id": "6e582955",
   "metadata": {},
   "outputs": [
    {
     "data": {
      "text/html": [
       "<div>\n",
       "<style scoped>\n",
       "    .dataframe tbody tr th:only-of-type {\n",
       "        vertical-align: middle;\n",
       "    }\n",
       "\n",
       "    .dataframe tbody tr th {\n",
       "        vertical-align: top;\n",
       "    }\n",
       "\n",
       "    .dataframe thead th {\n",
       "        text-align: right;\n",
       "    }\n",
       "</style>\n",
       "<table border=\"1\" class=\"dataframe\">\n",
       "  <thead>\n",
       "    <tr style=\"text-align: right;\">\n",
       "      <th></th>\n",
       "      <th>quoteID</th>\n",
       "      <th>quotation</th>\n",
       "      <th>speaker</th>\n",
       "      <th>qids</th>\n",
       "      <th>date</th>\n",
       "      <th>numOccurrences</th>\n",
       "      <th>probas</th>\n",
       "      <th>urls</th>\n",
       "      <th>phase</th>\n",
       "    </tr>\n",
       "  </thead>\n",
       "  <tbody>\n",
       "    <tr>\n",
       "      <th>771255</th>\n",
       "      <td>2018-05-24-153757</td>\n",
       "      <td>Wildcat fuel in the form of English pastries a...</td>\n",
       "      <td>None</td>\n",
       "      <td>[]</td>\n",
       "      <td>2018-05-24 18:03:00</td>\n",
       "      <td>1</td>\n",
       "      <td>[[None, 0.9071], [Roxana Saberi, 0.0612], [Meg...</td>\n",
       "      <td>[https://news.northwestern.edu/stories/2018/ma...</td>\n",
       "      <td>E</td>\n",
       "    </tr>\n",
       "    <tr>\n",
       "      <th>871930</th>\n",
       "      <td>2019-01-04-018128</td>\n",
       "      <td>free from religious association,</td>\n",
       "      <td>David Whitney</td>\n",
       "      <td>[Q215478]</td>\n",
       "      <td>2019-01-04 15:39:03</td>\n",
       "      <td>1</td>\n",
       "      <td>[[David Whitney, 0.9248], [None, 0.0752]]</td>\n",
       "      <td>[https://christiannews.net/2019/01/04/jesus-ne...</td>\n",
       "      <td>E</td>\n",
       "    </tr>\n",
       "    <tr>\n",
       "      <th>376530</th>\n",
       "      <td>2016-02-21-011948</td>\n",
       "      <td>First of all, we must recognise the very hard ...</td>\n",
       "      <td>Eric Boullier</td>\n",
       "      <td>[Q172767]</td>\n",
       "      <td>2016-02-21 08:55:00</td>\n",
       "      <td>4</td>\n",
       "      <td>[[Eric Boullier, 0.8848], [None, 0.1152]]</td>\n",
       "      <td>[http://www.pitpass.com/55504/McLaren-Honda-re...</td>\n",
       "      <td>E</td>\n",
       "    </tr>\n",
       "  </tbody>\n",
       "</table>\n",
       "</div>"
      ],
      "text/plain": [
       "                  quoteID                                          quotation  \\\n",
       "771255  2018-05-24-153757  Wildcat fuel in the form of English pastries a...   \n",
       "871930  2019-01-04-018128                   free from religious association,   \n",
       "376530  2016-02-21-011948  First of all, we must recognise the very hard ...   \n",
       "\n",
       "              speaker       qids                date  numOccurrences  \\\n",
       "771255           None         [] 2018-05-24 18:03:00               1   \n",
       "871930  David Whitney  [Q215478] 2019-01-04 15:39:03               1   \n",
       "376530  Eric Boullier  [Q172767] 2016-02-21 08:55:00               4   \n",
       "\n",
       "                                                   probas  \\\n",
       "771255  [[None, 0.9071], [Roxana Saberi, 0.0612], [Meg...   \n",
       "871930          [[David Whitney, 0.9248], [None, 0.0752]]   \n",
       "376530          [[Eric Boullier, 0.8848], [None, 0.1152]]   \n",
       "\n",
       "                                                     urls phase  \n",
       "771255  [https://news.northwestern.edu/stories/2018/ma...     E  \n",
       "871930  [https://christiannews.net/2019/01/04/jesus-ne...     E  \n",
       "376530  [http://www.pitpass.com/55504/McLaren-Honda-re...     E  "
      ]
     },
     "execution_count": 5,
     "metadata": {},
     "output_type": "execute_result"
    }
   ],
   "source": [
    "raw_data.sample(3)"
   ]
  },
  {
   "cell_type": "markdown",
   "id": "49fa1b3e",
   "metadata": {},
   "source": [
    "Test to see if the ids are unique within the dataset"
   ]
  },
  {
   "cell_type": "code",
   "execution_count": 6,
   "id": "15849da5",
   "metadata": {},
   "outputs": [
    {
     "name": "stdout",
     "output_type": "stream",
     "text": [
      "0 dupplicates rows have been removed\n",
      "Unique rows in the data set: True\n",
      "Wall time: 1.89 s\n"
     ]
    }
   ],
   "source": [
    "%%time\n",
    "#Keeping the first occurence of the duplicates\n",
    "size_bf = raw_data.shape[0]\n",
    "df_raw = raw_data.copy().drop_duplicates(subset = 'quoteID', keep='first')\n",
    "size_af = df_raw.shape[0]\n",
    "\n",
    "print('{} dupplicates rows have been removed'.format(size_bf-size_af))\n",
    "print('Unique rows in the data set:', df.quoteID.is_unique)"
   ]
  },
  {
   "cell_type": "markdown",
   "id": "353cc181",
   "metadata": {},
   "source": [
    "We can already drop the rows with probability = 1 to have an attributed speaker: this is theoretically not possible and probably due to the missfunctionning of the attribution model."
   ]
  },
  {
   "cell_type": "code",
   "execution_count": 19,
   "id": "f27867cc",
   "metadata": {},
   "outputs": [
    {
     "name": "stdout",
     "output_type": "stream",
     "text": [
      "1 rows with probability = 1 have been removed\n"
     ]
    }
   ],
   "source": [
    "len_before = len(df_test)\n",
    "IndexP1 = df_test[df_test['probas'].str.len() < 2].index\n",
    "\n",
    "df_raw = df_raw.drop(IndexP1 , inplace=False)\n",
    "len_after = len(df_test)\n",
    "\n",
    "print('{} rows with probability = 1 have been removed'.format(len_before-len_after))"
   ]
  },
  {
   "cell_type": "markdown",
   "id": "7f31ee1d",
   "metadata": {},
   "source": [
    "Extraction the probabilities linked to the two most probable speakers. We simply take the two first element of the list present in the column \"probas\" of the dataframe."
   ]
  },
  {
   "cell_type": "code",
   "execution_count": 21,
   "id": "ccccb7ea",
   "metadata": {},
   "outputs": [
    {
     "name": "stdout",
     "output_type": "stream",
     "text": [
      "Wall time: 4.3 s\n"
     ]
    }
   ],
   "source": [
    "%%time\n",
    "#highest probability\n",
    "df = df_raw.copy()\n",
    "df['p1'] = [i[0][1] for i in df['probas']]\n",
    "df['p1'] = df['p1'].astype(float)\n",
    "\n",
    "#second highest probability\n",
    "df['p2'] = [i[1][1] for i in df['probas']]\n",
    "df['p2'] = df['p2'].astype(float)\n",
    "\n",
    "#difference between the two above\n",
    "df['delta_p'] = df['p1']-df['p2']\n",
    "\n",
    "#extracting the date\n",
    "df['year'] = pd.DatetimeIndex(df['date']).year\n",
    "\n"
   ]
  },
  {
   "cell_type": "markdown",
   "id": "3bd01774",
   "metadata": {},
   "source": [
    "Boxplot to analyze the presence of outliers, it seems that there is some problematic values:\n",
    " - p2 should be always smaller than 0.5 (otherwise it should be p1)\n",
    " - p1 - p2 should be always positive since p1>p2\n",
    " - low values in p1 should be removed"
   ]
  },
  {
   "cell_type": "code",
   "execution_count": 22,
   "id": "3ddc6824",
   "metadata": {},
   "outputs": [
    {
     "data": {
      "image/png": "[encoded data removed]",
      "text/plain": [
       "<Figure size 720x504 with 1 Axes>"
      ]
     },
     "metadata": {
      "needs_background": "light"
     },
     "output_type": "display_data"
    }
   ],
   "source": [
    "#boxplot to analyze the presence of outliers\n",
    "data_plot = df.drop(['numOccurrences','year'], axis = 1)\n",
    "ax = sns.boxplot(data = data_plot)\n",
    "ax.set(ylabel='probabilities [-]')\n",
    "ax.set_title('Distribution of the probability of the speaker attribution')\n",
    "_ = ax.set_xticklabels(ax.get_xticklabels(), rotation=40, ha=\"right\")"
   ]
  },
  {
   "cell_type": "markdown",
   "id": "8bb0d5df",
   "metadata": {},
   "source": [
    "Distribution in the forms of histograms, observation:\n",
    " - Strange drop in the distribution of p1 around x = 0.5"
   ]
  },
  {
   "cell_type": "code",
   "execution_count": 23,
   "id": "fdf7cf1d",
   "metadata": {},
   "outputs": [
    {
     "data": {
      "text/plain": [
       "(-0.1, 1.1)"
      ]
     },
     "execution_count": 23,
     "metadata": {},
     "output_type": "execute_result"
    },
    {
     "data": {
      "image/png": "[encoded data removed]",
      "text/plain": [
       "<Figure size 1080x576 with 3 Axes>"
      ]
     },
     "metadata": {
      "needs_background": "light"
     },
     "output_type": "display_data"
    }
   ],
   "source": [
    "#histograms to better understand the distribution of the data\n",
    "fig, ax = plt.subplots(nrows=1, ncols=3, constrained_layout=True, figsize=(15, 8))\n",
    "ax[0].hist(df.p1, bins=500)\n",
    "ax[0].set_title('Distribution of the highest probability')\n",
    "ax[0].set_ylabel('# quotes')\n",
    "ax[0].set_xlabel('probability')\n",
    "#ax[0].set_xlim([-10000,600000])\n",
    "#ax[0].set_ylim([0,340])\n",
    "\n",
    "ax[1].hist(df.p2, bins=500)\n",
    "ax[1].set_title('Distribution of 2nd highest probability')\n",
    "ax[1].set_ylabel('# quotes')\n",
    "ax[1].set_xlabel('probability')\n",
    "ax[1].set_xlim([-0.1,0.6])\n",
    "#ax[1].set_ylim([0,340])\n",
    "\n",
    "ax[2].hist(df.delta_p, bins=500)\n",
    "ax[2].set_title('Distribution of the diff of proba')\n",
    "ax[2].set_ylabel('# quotes')\n",
    "ax[2].set_xlabel('probability')\n",
    "ax[2].set_xlim([-0.1,1.1])\n",
    "#ax[2].set_ylim([0,340])"
   ]
  },
  {
   "cell_type": "markdown",
   "id": "e8cfbd8c",
   "metadata": {},
   "source": [
    "After the anlysis above we can drop the quotes for which the speaker\n",
    "   - have meaningless probabilities\n",
    "   - is not clearly identified (threshold to be defined: *threshold_min*)\n",
    "   - is probably confused with another speaker (threshold to be defined: *threshold_diff*)\n",
    "   - is not identified (None values)"
   ]
  },
  {
   "cell_type": "code",
   "execution_count": 24,
   "id": "003f1b62",
   "metadata": {},
   "outputs": [
    {
     "name": "stdout",
     "output_type": "stream",
     "text": [
      "Min Threshold set at  0.5\n",
      "Diff Threshold set at  0.3\n",
      "----------------------\n",
      "Due to the above threshold, 595255 rows have been removed\n",
      " - 435619 x None value for speaker\n",
      " - 159636 x threshold probabilities not reached\n"
     ]
    }
   ],
   "source": [
    "#fixing the threshold (=> to low percentage of attribution to be considered in the analysis)\n",
    "threshold_min = 0.5\n",
    "threshold_diff = 0.3\n",
    "\n",
    "#removing the rows that not pass the criterions\n",
    "indexNames = df[\n",
    "                        (df['p1'] < threshold_min)\n",
    "                      | (df['delta_p'] < threshold_diff)\n",
    "                      | (df['speaker'] == 'None')\n",
    "                                                                          ].index\n",
    "\n",
    "df = df.drop(indexNames , inplace=False)\n",
    "\n",
    "#check of the number of deleted rows\n",
    "print('Min Threshold set at ',threshold_min)\n",
    "print('Diff Threshold set at ',threshold_diff)\n",
    "print('----------------------')\n",
    "print('Due to the above threshold, {} rows have been removed'.format(len(indexNames)))\n",
    "print(' - {} x None value for speaker'.format(df_test['speaker'].value_counts()['None']))\n",
    "print(' - {} x threshold probabilities not reached'.format(len(indexNames)-df_test['speaker'].value_counts()['None']))"
   ]
  },
  {
   "cell_type": "markdown",
   "id": "6ac996d3",
   "metadata": {},
   "source": [
    "Again some plots to see if the dataWrangling is efficient"
   ]
  },
  {
   "cell_type": "code",
   "execution_count": 25,
   "id": "3ae98109",
   "metadata": {},
   "outputs": [
    {
     "data": {
      "image/png": "[encoded data removed]",
      "text/plain": [
       "<Figure size 720x504 with 1 Axes>"
      ]
     },
     "metadata": {
      "needs_background": "light"
     },
     "output_type": "display_data"
    }
   ],
   "source": [
    "#boxplot to analyze the presence of outliers\n",
    "data_plot = df.drop(['numOccurrences','year'], axis = 1)\n",
    "ax = sns.boxplot(data = data_plot)\n",
    "ax.set(ylabel='probabilities [-]')\n",
    "ax.set_title('Distribution of the probability of the speaker attribution')\n",
    "_ = ax.set_xticklabels(ax.get_xticklabels(), rotation=40, ha=\"right\")"
   ]
  },
  {
   "cell_type": "code",
   "execution_count": 26,
   "id": "26e7c1ce",
   "metadata": {},
   "outputs": [
    {
     "data": {
      "text/plain": [
       "Text(0.5, 0, 'probability')"
      ]
     },
     "execution_count": 26,
     "metadata": {},
     "output_type": "execute_result"
    },
    {
     "data": {
      "image/png": "[encoded data removed]",
      "text/plain": [
       "<Figure size 1080x576 with 3 Axes>"
      ]
     },
     "metadata": {
      "needs_background": "light"
     },
     "output_type": "display_data"
    }
   ],
   "source": [
    "#histograms to better understand the distribution of the data\n",
    "fig, ax = plt.subplots(nrows=1, ncols=3, constrained_layout=True, figsize=(15, 8))\n",
    "ax[0].hist(df.p1, bins=500)\n",
    "ax[0].set_title('Distribution of the highest probability')\n",
    "ax[0].set_ylabel('# quotes')\n",
    "ax[0].set_xlabel('probability')\n",
    "#ax[0].set_xlim([-10000,600000])\n",
    "#ax[0].set_ylim([0,340])\n",
    "\n",
    "ax[1].hist(df.p2, bins=500)\n",
    "ax[1].set_title('Distribution of 2nd highest probability')\n",
    "ax[1].set_ylabel('# quotes')\n",
    "ax[1].set_xlabel('probability')\n",
    "#ax[1].set_xlim([-10000,600000])\n",
    "#ax[1].set_ylim([0,340])\n",
    "\n",
    "ax[2].hist(df.delta_p, bins=500)\n",
    "ax[2].set_title('Distribution of the diff of proba')\n",
    "ax[2].set_ylabel('# quotes')\n",
    "ax[2].set_xlabel('probability')\n",
    "#ax[2].set_xlim([-10000,600000])\n",
    "#ax[2].set_ylim([0,340])"
   ]
  },
  {
   "cell_type": "markdown",
   "id": "79b9cc96",
   "metadata": {},
   "source": [
    "It seems that the outliers had been removed and that the probability distribution shows coherent behaviour. The 2 thresholds are clearly distinguishable on the left and right figures. We can notice a big gap at p=0.5 in the left figure accounting for the highest probability. Somme additionnal analyisis have to be done to better understand this behaviour of the distribution."
   ]
  },
  {
   "cell_type": "markdown",
   "id": "247ef8ed",
   "metadata": {},
   "source": [
    "Quick look at the cleaned sample before exporting. "
   ]
  },
  {
   "cell_type": "code",
   "execution_count": 27,
   "id": "f4f9c141",
   "metadata": {},
   "outputs": [
    {
     "data": {
      "text/html": [
       "<div>\n",
       "<style scoped>\n",
       "    .dataframe tbody tr th:only-of-type {\n",
       "        vertical-align: middle;\n",
       "    }\n",
       "\n",
       "    .dataframe tbody tr th {\n",
       "        vertical-align: top;\n",
       "    }\n",
       "\n",
       "    .dataframe thead th {\n",
       "        text-align: right;\n",
       "    }\n",
       "</style>\n",
       "<table border=\"1\" class=\"dataframe\">\n",
       "  <thead>\n",
       "    <tr style=\"text-align: right;\">\n",
       "      <th></th>\n",
       "      <th>quoteID</th>\n",
       "      <th>quotation</th>\n",
       "      <th>speaker</th>\n",
       "      <th>qids</th>\n",
       "      <th>date</th>\n",
       "      <th>numOccurrences</th>\n",
       "      <th>probas</th>\n",
       "      <th>urls</th>\n",
       "      <th>phase</th>\n",
       "      <th>p1</th>\n",
       "      <th>p2</th>\n",
       "      <th>delta_p</th>\n",
       "      <th>year</th>\n",
       "    </tr>\n",
       "  </thead>\n",
       "  <tbody>\n",
       "    <tr>\n",
       "      <th>0</th>\n",
       "      <td>2015-11-11-109291</td>\n",
       "      <td>They'll call me lots of different things. Libe...</td>\n",
       "      <td>Chris Christie</td>\n",
       "      <td>[Q63879]</td>\n",
       "      <td>2015-11-11 00:55:12</td>\n",
       "      <td>1</td>\n",
       "      <td>[[Chris Christie, 0.7395], [Bobby Jindal, 0.15...</td>\n",
       "      <td>[http://thehill.com/blogs/ballot-box/259760-ch...</td>\n",
       "      <td>E</td>\n",
       "      <td>0.7395</td>\n",
       "      <td>0.1505</td>\n",
       "      <td>0.5890</td>\n",
       "      <td>2015</td>\n",
       "    </tr>\n",
       "    <tr>\n",
       "      <th>2</th>\n",
       "      <td>2015-09-11-070666</td>\n",
       "      <td>It's kind of the same way it's been with the R...</td>\n",
       "      <td>Niklas Kronwall</td>\n",
       "      <td>[Q722939]</td>\n",
       "      <td>2015-09-11 19:54:00</td>\n",
       "      <td>1</td>\n",
       "      <td>[[Niklas Kronwall, 0.7119], [None, 0.2067], [H...</td>\n",
       "      <td>[http://redwings.nhl.com/club/news.htm?id=7787...</td>\n",
       "      <td>E</td>\n",
       "      <td>0.7119</td>\n",
       "      <td>0.2067</td>\n",
       "      <td>0.5052</td>\n",
       "      <td>2015</td>\n",
       "    </tr>\n",
       "    <tr>\n",
       "      <th>4</th>\n",
       "      <td>2015-11-09-033345</td>\n",
       "      <td>I had a chuckle: They were showing a video of ...</td>\n",
       "      <td>Kris Draper</td>\n",
       "      <td>[Q948695]</td>\n",
       "      <td>2015-11-09 00:57:45</td>\n",
       "      <td>3</td>\n",
       "      <td>[[Kris Draper, 0.8782], [None, 0.1043], [Serge...</td>\n",
       "      <td>[http://ca.rd.yahoo.com/sports/rss/nfl/SIG=13u...</td>\n",
       "      <td>E</td>\n",
       "      <td>0.8782</td>\n",
       "      <td>0.1043</td>\n",
       "      <td>0.7739</td>\n",
       "      <td>2015</td>\n",
       "    </tr>\n",
       "    <tr>\n",
       "      <th>5</th>\n",
       "      <td>2015-09-05-038628</td>\n",
       "      <td>New Zealand will go in with a lot of confidenc...</td>\n",
       "      <td>John Eales</td>\n",
       "      <td>[Q926351]</td>\n",
       "      <td>2015-09-05 02:40:10</td>\n",
       "      <td>3</td>\n",
       "      <td>[[John Eales, 0.7896], [None, 0.2006], [Toutai...</td>\n",
       "      <td>[http://www.stuff.co.nz/sport/rugby/all-blacks...</td>\n",
       "      <td>E</td>\n",
       "      <td>0.7896</td>\n",
       "      <td>0.2006</td>\n",
       "      <td>0.5890</td>\n",
       "      <td>2015</td>\n",
       "    </tr>\n",
       "    <tr>\n",
       "      <th>8</th>\n",
       "      <td>2015-02-11-042325</td>\n",
       "      <td>In his suicide note he even made a joke thanki...</td>\n",
       "      <td>Pat Buckley</td>\n",
       "      <td>[Q19956564, Q23006312, Q7143252, Q7143253]</td>\n",
       "      <td>2015-02-11 09:59:09</td>\n",
       "      <td>1</td>\n",
       "      <td>[[Pat Buckley, 0.8816], [None, 0.1184]]</td>\n",
       "      <td>[http://independent.ie/life/health-wellbeing/m...</td>\n",
       "      <td>E</td>\n",
       "      <td>0.8816</td>\n",
       "      <td>0.1184</td>\n",
       "      <td>0.7632</td>\n",
       "      <td>2015</td>\n",
       "    </tr>\n",
       "  </tbody>\n",
       "</table>\n",
       "</div>"
      ],
      "text/plain": [
       "             quoteID                                          quotation  \\\n",
       "0  2015-11-11-109291  They'll call me lots of different things. Libe...   \n",
       "2  2015-09-11-070666  It's kind of the same way it's been with the R...   \n",
       "4  2015-11-09-033345  I had a chuckle: They were showing a video of ...   \n",
       "5  2015-09-05-038628  New Zealand will go in with a lot of confidenc...   \n",
       "8  2015-02-11-042325  In his suicide note he even made a joke thanki...   \n",
       "\n",
       "           speaker                                        qids  \\\n",
       "0   Chris Christie                                    [Q63879]   \n",
       "2  Niklas Kronwall                                   [Q722939]   \n",
       "4      Kris Draper                                   [Q948695]   \n",
       "5       John Eales                                   [Q926351]   \n",
       "8      Pat Buckley  [Q19956564, Q23006312, Q7143252, Q7143253]   \n",
       "\n",
       "                 date  numOccurrences  \\\n",
       "0 2015-11-11 00:55:12               1   \n",
       "2 2015-09-11 19:54:00               1   \n",
       "4 2015-11-09 00:57:45               3   \n",
       "5 2015-09-05 02:40:10               3   \n",
       "8 2015-02-11 09:59:09               1   \n",
       "\n",
       "                                              probas  \\\n",
       "0  [[Chris Christie, 0.7395], [Bobby Jindal, 0.15...   \n",
       "2  [[Niklas Kronwall, 0.7119], [None, 0.2067], [H...   \n",
       "4  [[Kris Draper, 0.8782], [None, 0.1043], [Serge...   \n",
       "5  [[John Eales, 0.7896], [None, 0.2006], [Toutai...   \n",
       "8            [[Pat Buckley, 0.8816], [None, 0.1184]]   \n",
       "\n",
       "                                                urls phase      p1      p2  \\\n",
       "0  [http://thehill.com/blogs/ballot-box/259760-ch...     E  0.7395  0.1505   \n",
       "2  [http://redwings.nhl.com/club/news.htm?id=7787...     E  0.7119  0.2067   \n",
       "4  [http://ca.rd.yahoo.com/sports/rss/nfl/SIG=13u...     E  0.8782  0.1043   \n",
       "5  [http://www.stuff.co.nz/sport/rugby/all-blacks...     E  0.7896  0.2006   \n",
       "8  [http://independent.ie/life/health-wellbeing/m...     E  0.8816  0.1184   \n",
       "\n",
       "   delta_p  year  \n",
       "0   0.5890  2015  \n",
       "2   0.5052  2015  \n",
       "4   0.7739  2015  \n",
       "5   0.5890  2015  \n",
       "8   0.7632  2015  "
      ]
     },
     "execution_count": 27,
     "metadata": {},
     "output_type": "execute_result"
    }
   ],
   "source": [
    "df.head()"
   ]
  },
  {
   "cell_type": "markdown",
   "id": "481b5f06",
   "metadata": {},
   "source": [
    "We can then exporting the prepared file for the next step: the comparison between this sample and the created dictionnary filled with slang words and informal expressions.\n",
    "(see the `CLASSIFICATION` folder in this git)"
   ]
  },
  {
   "cell_type": "code",
   "execution_count": null,
   "id": "8c7a04c0",
   "metadata": {},
   "outputs": [],
   "source": [
    "df.to_json(f\"C:/Users/alexb/Documents/Ecole/EPFL/MasterII/ADA/Sample_cleaned_400000.json.bz2\",compression=\"bz2\",lines=True,orient=\"records\")\n"
   ]
  }
 ],
 "metadata": {
  "kernelspec": {
   "display_name": "Python 3 (ipykernel)",
   "language": "python",
   "name": "python3"
  },
  "language_info": {
   "codemirror_mode": {
    "name": "ipython",
    "version": 3
   },
   "file_extension": ".py",
   "mimetype": "text/x-python",
   "name": "python",
   "nbconvert_exporter": "python",
   "pygments_lexer": "ipython3",
   "version": "3.9.6"
  }
 },
 "nbformat": 4,
 "nbformat_minor": 5
}

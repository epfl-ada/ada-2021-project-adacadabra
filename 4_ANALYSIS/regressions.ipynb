{
 "cells": [
  {
   "cell_type": "markdown",
   "id": "ef23ba0c",
   "metadata": {},
   "source": [
    "# Regression analysis\n",
    "In statistical modeling, regression analysis is a set of statistical processes for estimating the relationships between a dependent variable (often called the 'outcome' or 'response' variable) and one or more independent variables (often called 'predictors', 'covariates', 'explanatory variables' or 'features'). The most common form of regression analysis is linear regression, in which one finds the line (or a more complex linear combination) that most closely fits the data according to a specific mathematical criterion. For example, the method of ordinary least squares computes the unique line (or hyperplane) that minimizes the sum of squared differences between the true data and that line (or hyperplane). For specific mathematical reasons (see linear regression), this allows the researcher to estimate the conditional expectation (or population average value) of the dependent variable when the independent variables take on a given set of values. Less common forms of regression use slightly different procedures to estimate alternative location parameters (e.g., quantile regression or Necessary Condition Analysis) or estimate the conditional expectation across a broader collection of non-linear models (e.g., nonparametric regression).\n",
    "source: [wikipedia](https://en.wikipedia.org/wiki/Regression_analysis)"
   ]
  },
  {
   "cell_type": "code",
   "execution_count": 1,
   "id": "8c0d3764",
   "metadata": {},
   "outputs": [],
   "source": [
    "#importing the required modules\n",
    "import seaborn as sns\n",
    "from IPython.display import display, HTML\n",
    "import matplotlib.pyplot as plt\n",
    "import scipy.stats as stats\n",
    "import pandas as pd\n",
    "import numpy as np\n",
    "import seaborn as sns\n",
    "\n",
    "# ttest and euclidean distance\n",
    "from scipy.stats import ttest_ind\n",
    "from scipy.spatial.distance import seuclidean\n",
    "\n",
    "# linear fit using statsmodels\n",
    "import statsmodels.api as sm\n",
    "import statsmodels.formula.api as smf\n",
    "\n",
    "# good ole sklearn\n",
    "from sklearn.metrics import euclidean_distances, r2_score\n",
    "from sklearn.linear_model import LinearRegression\n",
    "from sklearn.ensemble import GradientBoostingRegressor\n",
    "from sklearn.model_selection import train_test_split, cross_val_predict, KFold\n",
    "from sklearn.linear_model import LogisticRegression\n",
    "from sklearn.metrics import (confusion_matrix,\n",
    "                           accuracy_score)"
   ]
  },
  {
   "cell_type": "markdown",
   "id": "7c77e92c",
   "metadata": {},
   "source": [
    "Loading the data"
   ]
  },
  {
   "cell_type": "code",
   "execution_count": 2,
   "id": "b5fe42cd",
   "metadata": {
    "scrolled": false
   },
   "outputs": [],
   "source": [
    "\n",
    "\n",
    "# Small adjustments to default style of plots, making sure it's readable and colorblind-friendly everywhere\n",
    "plt.style.use('seaborn-colorblind')\n",
    "plt.rcParams.update({'font.size' : 12.5,\n",
    "                     'figure.figsize':(14,5)})\n",
    "\n",
    "#copy the path of the sample quotes: (to big to put in the git)\n",
    "#ALEX: 'C:/Users/alexb/Documents/Ecole/EPFL/MasterII/ADA/'\n",
    "#JULES: ...\n",
    "#MARIN: ...\n",
    "#NICO: ...\n",
    "\n",
    "\n",
    "path_2_data = 'C:/Users/alexb/Documents/Ecole/EPFL/MasterII/ADA/'\n",
    "\n",
    "\n",
    "#import the dataset sample\n",
    "df = pd.read_json(path_2_data + 'df_quotes_pol_all_classified.json.bz2',compression=\"bz2\",lines=True)\n"
   ]
  },
  {
   "cell_type": "markdown",
   "id": "b40951c5",
   "metadata": {},
   "source": [
    "Here are the available columns for the different regression analysis"
   ]
  },
  {
   "cell_type": "code",
   "execution_count": 3,
   "id": "1cb184f6",
   "metadata": {},
   "outputs": [
    {
     "data": {
      "text/plain": [
       "Index(['quoteID', 'quotation', 'speaker', 'qid_unique', 'date', 'urls', 'p1',\n",
       "       'p2', 'delta_p', 'year', 'label', 'aliases', 'date_of_birth',\n",
       "       'nationality', 'gender', 'lastrevid', 'ethnic_group',\n",
       "       'US_congress_bio_ID', 'occupation', 'party', 'academic_degree', 'id',\n",
       "       'candidacy', 'type', 'religion', 'age', 'bi_party',\n",
       "       'colloquial_NaiveBayes', 'colloquial_contractions'],\n",
       "      dtype='object')"
      ]
     },
     "execution_count": 3,
     "metadata": {},
     "output_type": "execute_result"
    }
   ],
   "source": [
    "df.columns\n"
   ]
  },
  {
   "cell_type": "markdown",
   "id": "3be70546",
   "metadata": {},
   "source": [
    "Quick look at some value inside the dataframe"
   ]
  },
  {
   "cell_type": "code",
   "execution_count": 4,
   "id": "997b02d0",
   "metadata": {},
   "outputs": [
    {
     "data": {
      "text/html": [
       "<div>\n",
       "<style scoped>\n",
       "    .dataframe tbody tr th:only-of-type {\n",
       "        vertical-align: middle;\n",
       "    }\n",
       "\n",
       "    .dataframe tbody tr th {\n",
       "        vertical-align: top;\n",
       "    }\n",
       "\n",
       "    .dataframe thead th {\n",
       "        text-align: right;\n",
       "    }\n",
       "</style>\n",
       "<table border=\"1\" class=\"dataframe\">\n",
       "  <thead>\n",
       "    <tr style=\"text-align: right;\">\n",
       "      <th></th>\n",
       "      <th>quoteID</th>\n",
       "      <th>quotation</th>\n",
       "      <th>speaker</th>\n",
       "      <th>qid_unique</th>\n",
       "      <th>date</th>\n",
       "      <th>urls</th>\n",
       "      <th>p1</th>\n",
       "      <th>p2</th>\n",
       "      <th>delta_p</th>\n",
       "      <th>year</th>\n",
       "      <th>...</th>\n",
       "      <th>party</th>\n",
       "      <th>academic_degree</th>\n",
       "      <th>id</th>\n",
       "      <th>candidacy</th>\n",
       "      <th>type</th>\n",
       "      <th>religion</th>\n",
       "      <th>age</th>\n",
       "      <th>bi_party</th>\n",
       "      <th>colloquial_NaiveBayes</th>\n",
       "      <th>colloquial_contractions</th>\n",
       "    </tr>\n",
       "  </thead>\n",
       "  <tbody>\n",
       "    <tr>\n",
       "      <th>525768</th>\n",
       "      <td>2020-02-12-096864</td>\n",
       "      <td>these issues can no longer be ignored by those...</td>\n",
       "      <td>Len Fasano</td>\n",
       "      <td>Q19519938</td>\n",
       "      <td>2020-02-12 16:11:06</td>\n",
       "      <td>[http://westfaironline.com/121317/port-authori...</td>\n",
       "      <td>0.8997</td>\n",
       "      <td>0.1003</td>\n",
       "      <td>0.7994</td>\n",
       "      <td>2020</td>\n",
       "      <td>...</td>\n",
       "      <td>[Q29468]</td>\n",
       "      <td>None</td>\n",
       "      <td>Q19519938</td>\n",
       "      <td>None</td>\n",
       "      <td>item</td>\n",
       "      <td>None</td>\n",
       "      <td>63.0</td>\n",
       "      <td>Republican</td>\n",
       "      <td>formal</td>\n",
       "      <td>0</td>\n",
       "    </tr>\n",
       "    <tr>\n",
       "      <th>112669</th>\n",
       "      <td>2016-05-05-067213</td>\n",
       "      <td>mandatory arbitration clauses buried deep in c...</td>\n",
       "      <td>Hillary Clinton</td>\n",
       "      <td>Q6294</td>\n",
       "      <td>2016-05-05 17:17:03</td>\n",
       "      <td>[http://time.com/money/4320224/hillary-clinton...</td>\n",
       "      <td>0.7677</td>\n",
       "      <td>0.2281</td>\n",
       "      <td>0.5396</td>\n",
       "      <td>2016</td>\n",
       "      <td>...</td>\n",
       "      <td>[Q29552, Q29468]</td>\n",
       "      <td>[Q163727, Q1540185]</td>\n",
       "      <td>Q6294</td>\n",
       "      <td>[Q699872, Q4791768]</td>\n",
       "      <td>item</td>\n",
       "      <td>[Q33203]</td>\n",
       "      <td>74.0</td>\n",
       "      <td>Republican</td>\n",
       "      <td>formal</td>\n",
       "      <td>1</td>\n",
       "    </tr>\n",
       "    <tr>\n",
       "      <th>182729</th>\n",
       "      <td>2016-07-18-014124</td>\n",
       "      <td>chaos as organized as it can be.... I don't ca...</td>\n",
       "      <td>Tom Marino</td>\n",
       "      <td>Q2439864</td>\n",
       "      <td>2016-07-18 18:58:00</td>\n",
       "      <td>[http://www.philly.com/philly/news/politics/pr...</td>\n",
       "      <td>0.8825</td>\n",
       "      <td>0.1096</td>\n",
       "      <td>0.7729</td>\n",
       "      <td>2016</td>\n",
       "      <td>...</td>\n",
       "      <td>[Q29468]</td>\n",
       "      <td>None</td>\n",
       "      <td>Q2439864</td>\n",
       "      <td>None</td>\n",
       "      <td>item</td>\n",
       "      <td>None</td>\n",
       "      <td>69.0</td>\n",
       "      <td>Republican</td>\n",
       "      <td>informal</td>\n",
       "      <td>1</td>\n",
       "    </tr>\n",
       "    <tr>\n",
       "      <th>245965</th>\n",
       "      <td>2017-02-01-090141</td>\n",
       "      <td>No one is talking about repealing anything unt...</td>\n",
       "      <td>Lamar Alexander</td>\n",
       "      <td>Q419976</td>\n",
       "      <td>2017-02-01 02:01:00</td>\n",
       "      <td>[https://www.washingtonpost.com/national/healt...</td>\n",
       "      <td>0.8527</td>\n",
       "      <td>0.1393</td>\n",
       "      <td>0.7134</td>\n",
       "      <td>2017</td>\n",
       "      <td>...</td>\n",
       "      <td>[Q29468]</td>\n",
       "      <td>None</td>\n",
       "      <td>Q419976</td>\n",
       "      <td>None</td>\n",
       "      <td>item</td>\n",
       "      <td>[Q178169]</td>\n",
       "      <td>81.0</td>\n",
       "      <td>Republican</td>\n",
       "      <td>informal</td>\n",
       "      <td>0</td>\n",
       "    </tr>\n",
       "    <tr>\n",
       "      <th>31664</th>\n",
       "      <td>2015-01-27-020375</td>\n",
       "      <td>He will be a big part of bringing in a new gro...</td>\n",
       "      <td>Derek Kilmer</td>\n",
       "      <td>Q4068828</td>\n",
       "      <td>2015-01-27 21:04:12</td>\n",
       "      <td>[http://www.mercedsunstar.com/news/nation-worl...</td>\n",
       "      <td>0.7953</td>\n",
       "      <td>0.1739</td>\n",
       "      <td>0.6214</td>\n",
       "      <td>2015</td>\n",
       "      <td>...</td>\n",
       "      <td>[Q29552]</td>\n",
       "      <td>None</td>\n",
       "      <td>Q4068828</td>\n",
       "      <td>None</td>\n",
       "      <td>item</td>\n",
       "      <td>None</td>\n",
       "      <td>47.0</td>\n",
       "      <td>Democrat</td>\n",
       "      <td>formal</td>\n",
       "      <td>0</td>\n",
       "    </tr>\n",
       "  </tbody>\n",
       "</table>\n",
       "<p>5 rows × 29 columns</p>\n",
       "</div>"
      ],
      "text/plain": [
       "                  quoteID                                          quotation  \\\n",
       "525768  2020-02-12-096864  these issues can no longer be ignored by those...   \n",
       "112669  2016-05-05-067213  mandatory arbitration clauses buried deep in c...   \n",
       "182729  2016-07-18-014124  chaos as organized as it can be.... I don't ca...   \n",
       "245965  2017-02-01-090141  No one is talking about repealing anything unt...   \n",
       "31664   2015-01-27-020375  He will be a big part of bringing in a new gro...   \n",
       "\n",
       "                speaker qid_unique                date  \\\n",
       "525768       Len Fasano  Q19519938 2020-02-12 16:11:06   \n",
       "112669  Hillary Clinton      Q6294 2016-05-05 17:17:03   \n",
       "182729       Tom Marino   Q2439864 2016-07-18 18:58:00   \n",
       "245965  Lamar Alexander    Q419976 2017-02-01 02:01:00   \n",
       "31664      Derek Kilmer   Q4068828 2015-01-27 21:04:12   \n",
       "\n",
       "                                                     urls      p1      p2  \\\n",
       "525768  [http://westfaironline.com/121317/port-authori...  0.8997  0.1003   \n",
       "112669  [http://time.com/money/4320224/hillary-clinton...  0.7677  0.2281   \n",
       "182729  [http://www.philly.com/philly/news/politics/pr...  0.8825  0.1096   \n",
       "245965  [https://www.washingtonpost.com/national/healt...  0.8527  0.1393   \n",
       "31664   [http://www.mercedsunstar.com/news/nation-worl...  0.7953  0.1739   \n",
       "\n",
       "        delta_p  year  ...             party      academic_degree         id  \\\n",
       "525768   0.7994  2020  ...          [Q29468]                 None  Q19519938   \n",
       "112669   0.5396  2016  ...  [Q29552, Q29468]  [Q163727, Q1540185]      Q6294   \n",
       "182729   0.7729  2016  ...          [Q29468]                 None   Q2439864   \n",
       "245965   0.7134  2017  ...          [Q29468]                 None    Q419976   \n",
       "31664    0.6214  2015  ...          [Q29552]                 None   Q4068828   \n",
       "\n",
       "                  candidacy  type   religion   age    bi_party  \\\n",
       "525768                 None  item       None  63.0  Republican   \n",
       "112669  [Q699872, Q4791768]  item   [Q33203]  74.0  Republican   \n",
       "182729                 None  item       None  69.0  Republican   \n",
       "245965                 None  item  [Q178169]  81.0  Republican   \n",
       "31664                  None  item       None  47.0    Democrat   \n",
       "\n",
       "       colloquial_NaiveBayes colloquial_contractions  \n",
       "525768                formal                       0  \n",
       "112669                formal                       1  \n",
       "182729              informal                       1  \n",
       "245965              informal                       0  \n",
       "31664                 formal                       0  \n",
       "\n",
       "[5 rows x 29 columns]"
      ]
     },
     "execution_count": 4,
     "metadata": {},
     "output_type": "execute_result"
    }
   ],
   "source": [
    "df.sample(5)"
   ]
  },
  {
   "cell_type": "code",
   "execution_count": 5,
   "id": "98483727",
   "metadata": {},
   "outputs": [],
   "source": [
    "df_reg = df[['bi_party','gender','age','colloquial_NaiveBayes', 'colloquial_contractions']]"
   ]
  },
  {
   "cell_type": "code",
   "execution_count": 6,
   "id": "c33c83ba",
   "metadata": {},
   "outputs": [
    {
     "name": "stdout",
     "output_type": "stream",
     "text": [
      "512074\n"
     ]
    }
   ],
   "source": [
    "df_reg = df_reg.replace(to_replace = 'None', value=np.nan).dropna()\n",
    "print(len(df_reg))"
   ]
  },
  {
   "cell_type": "markdown",
   "id": "795a9d38",
   "metadata": {},
   "source": [
    "Keeping only Men and Women genders to keep the number of feature reasonable."
   ]
  },
  {
   "cell_type": "code",
   "execution_count": 7,
   "id": "3ebe88f9",
   "metadata": {},
   "outputs": [],
   "source": [
    "#df_reg = df3[['quotes_number','gender','fraction']]\n",
    "#df_reg = df_reg.replace(to_replace='None', value=np.nan).dropna()\n",
    "\n",
    "df_reg['gender_all'] = df_reg['gender'].apply(lambda x: x[0]) \n",
    "#index_genre = df_reg[df_reg[\"gender_all\"].str.contains(\"Q1052281|Q1097630||Q12964198|Q15145778|Q15145779|Q18116794|Q2449503|Q27679766|Q48270|Q48279\")].index\n",
    "\n",
    "#\"Q1052281|Q1097630||Q12964198|Q15145778|Q15145779|Q18116794|Q2449503|Q27679766|Q48270|Q48279\"\n",
    "#'Q6581072|Q6581097'\n",
    "index1 = df_reg.index[(df_reg[\"gender_all\"].str.contains('Q1052281'))]\n",
    "index2 = df_reg.index[(df_reg[\"gender_all\"].str.contains('Q48279'))]\n",
    "index3 = df_reg.index[(df_reg[\"gender_all\"].str.contains('Q48270'))]\n",
    "index4 = df_reg.index[(df_reg[\"gender_all\"].str.contains('Q27679766'))]\n",
    "index5 = df_reg.index[(df_reg[\"gender_all\"].str.contains('Q18116794'))]\n",
    "index6 = df_reg.index[(df_reg[\"gender_all\"].str.contains('Q15145779'))]\n",
    "index7 = df_reg.index[(df_reg[\"gender_all\"].str.contains('Q15145778'))]\n",
    "index8 = df_reg.index[(df_reg[\"gender_all\"].str.contains('Q12964198'))]\n",
    "index9 = df_reg.index[(df_reg[\"gender_all\"].str.contains('Q1097630'))]\n",
    "index10 = df_reg.index[(df_reg[\"gender_all\"].str.contains('Q2449503'))]\n",
    "\n",
    "\n",
    "df_reg = df_reg.drop(index1)\n",
    "df_reg = df_reg.drop(index2)\n",
    "df_reg = df_reg.drop(index3)\n",
    "df_reg = df_reg.drop(index4)\n",
    "df_reg = df_reg.drop(index5)\n",
    "df_reg = df_reg.drop(index6)\n",
    "df_reg = df_reg.drop(index7)\n",
    "df_reg = df_reg.drop(index8)\n",
    "df_reg = df_reg.drop(index9)\n",
    "df_reg = df_reg.drop(index10)\n"
   ]
  },
  {
   "cell_type": "markdown",
   "id": "bfb77eac",
   "metadata": {},
   "source": [
    "To avoid too many features the analysis focuses only on the male and female gender. However, few data have to be discarded by applying this filter."
   ]
  },
  {
   "cell_type": "code",
   "execution_count": 8,
   "id": "5a2e63e2",
   "metadata": {},
   "outputs": [
    {
     "data": {
      "text/html": [
       "<div>\n",
       "<style scoped>\n",
       "    .dataframe tbody tr th:only-of-type {\n",
       "        vertical-align: middle;\n",
       "    }\n",
       "\n",
       "    .dataframe tbody tr th {\n",
       "        vertical-align: top;\n",
       "    }\n",
       "\n",
       "    .dataframe thead th {\n",
       "        text-align: right;\n",
       "    }\n",
       "</style>\n",
       "<table border=\"1\" class=\"dataframe\">\n",
       "  <thead>\n",
       "    <tr style=\"text-align: right;\">\n",
       "      <th></th>\n",
       "      <th>bi_party</th>\n",
       "      <th>gender</th>\n",
       "      <th>age</th>\n",
       "      <th>colloquial_NaiveBayes</th>\n",
       "      <th>colloquial_contractions</th>\n",
       "      <th>Index</th>\n",
       "    </tr>\n",
       "  </thead>\n",
       "  <tbody>\n",
       "    <tr>\n",
       "      <th>0</th>\n",
       "      <td>Democrat</td>\n",
       "      <td>Q6581097</td>\n",
       "      <td>46.0</td>\n",
       "      <td>informal</td>\n",
       "      <td>0</td>\n",
       "      <td>0</td>\n",
       "    </tr>\n",
       "    <tr>\n",
       "      <th>1</th>\n",
       "      <td>Democrat</td>\n",
       "      <td>Q6581097</td>\n",
       "      <td>46.0</td>\n",
       "      <td>informal</td>\n",
       "      <td>0</td>\n",
       "      <td>1</td>\n",
       "    </tr>\n",
       "    <tr>\n",
       "      <th>2</th>\n",
       "      <td>Democrat</td>\n",
       "      <td>Q6581097</td>\n",
       "      <td>46.0</td>\n",
       "      <td>informal</td>\n",
       "      <td>0</td>\n",
       "      <td>2</td>\n",
       "    </tr>\n",
       "    <tr>\n",
       "      <th>3</th>\n",
       "      <td>Democrat</td>\n",
       "      <td>Q6581097</td>\n",
       "      <td>46.0</td>\n",
       "      <td>informal</td>\n",
       "      <td>0</td>\n",
       "      <td>3</td>\n",
       "    </tr>\n",
       "    <tr>\n",
       "      <th>4</th>\n",
       "      <td>Democrat</td>\n",
       "      <td>Q6581097</td>\n",
       "      <td>46.0</td>\n",
       "      <td>informal</td>\n",
       "      <td>0</td>\n",
       "      <td>4</td>\n",
       "    </tr>\n",
       "    <tr>\n",
       "      <th>...</th>\n",
       "      <td>...</td>\n",
       "      <td>...</td>\n",
       "      <td>...</td>\n",
       "      <td>...</td>\n",
       "      <td>...</td>\n",
       "      <td>...</td>\n",
       "    </tr>\n",
       "    <tr>\n",
       "      <th>564651</th>\n",
       "      <td>Republican</td>\n",
       "      <td>Q6581097</td>\n",
       "      <td>75.0</td>\n",
       "      <td>informal</td>\n",
       "      <td>0</td>\n",
       "      <td>564651</td>\n",
       "    </tr>\n",
       "    <tr>\n",
       "      <th>564652</th>\n",
       "      <td>Republican</td>\n",
       "      <td>Q6581097</td>\n",
       "      <td>64.0</td>\n",
       "      <td>informal</td>\n",
       "      <td>0</td>\n",
       "      <td>564652</td>\n",
       "    </tr>\n",
       "    <tr>\n",
       "      <th>564655</th>\n",
       "      <td>Democrat</td>\n",
       "      <td>Q6581097</td>\n",
       "      <td>47.0</td>\n",
       "      <td>informal</td>\n",
       "      <td>0</td>\n",
       "      <td>564655</td>\n",
       "    </tr>\n",
       "    <tr>\n",
       "      <th>564656</th>\n",
       "      <td>Republican</td>\n",
       "      <td>Q6581097</td>\n",
       "      <td>59.0</td>\n",
       "      <td>informal</td>\n",
       "      <td>0</td>\n",
       "      <td>564656</td>\n",
       "    </tr>\n",
       "    <tr>\n",
       "      <th>564657</th>\n",
       "      <td>Republican</td>\n",
       "      <td>Q6581097</td>\n",
       "      <td>50.0</td>\n",
       "      <td>formal</td>\n",
       "      <td>1</td>\n",
       "      <td>564657</td>\n",
       "    </tr>\n",
       "  </tbody>\n",
       "</table>\n",
       "<p>512017 rows × 6 columns</p>\n",
       "</div>"
      ],
      "text/plain": [
       "          bi_party    gender   age colloquial_NaiveBayes  \\\n",
       "0         Democrat  Q6581097  46.0              informal   \n",
       "1         Democrat  Q6581097  46.0              informal   \n",
       "2         Democrat  Q6581097  46.0              informal   \n",
       "3         Democrat  Q6581097  46.0              informal   \n",
       "4         Democrat  Q6581097  46.0              informal   \n",
       "...            ...       ...   ...                   ...   \n",
       "564651  Republican  Q6581097  75.0              informal   \n",
       "564652  Republican  Q6581097  64.0              informal   \n",
       "564655    Democrat  Q6581097  47.0              informal   \n",
       "564656  Republican  Q6581097  59.0              informal   \n",
       "564657  Republican  Q6581097  50.0                formal   \n",
       "\n",
       "        colloquial_contractions   Index  \n",
       "0                             0       0  \n",
       "1                             0       1  \n",
       "2                             0       2  \n",
       "3                             0       3  \n",
       "4                             0       4  \n",
       "...                         ...     ...  \n",
       "564651                        0  564651  \n",
       "564652                        0  564652  \n",
       "564655                        0  564655  \n",
       "564656                        0  564656  \n",
       "564657                        1  564657  \n",
       "\n",
       "[512017 rows x 6 columns]"
      ]
     },
     "execution_count": 8,
     "metadata": {},
     "output_type": "execute_result"
    }
   ],
   "source": [
    "df_reg['gender'] = df_reg['gender'].apply(lambda x: x[0])\n",
    "df_reg.drop('gender_all', axis=1, inplace=True)\n",
    "df_reg['Index'] = df_reg.index\n",
    "df_reg\n"
   ]
  },
  {
   "cell_type": "markdown",
   "id": "1e4c0a61",
   "metadata": {},
   "source": [
    "Replacing str with number for the regression: **informal = 1** and **formal = 0** (binary classification)"
   ]
  },
  {
   "cell_type": "code",
   "execution_count": 9,
   "id": "eb08673b",
   "metadata": {},
   "outputs": [
    {
     "name": "stderr",
     "output_type": "stream",
     "text": [
      "C:\\Users\\alexb\\AppData\\Local\\Temp/ipykernel_18404/4123321634.py:1: SettingWithCopyWarning: \n",
      "A value is trying to be set on a copy of a slice from a DataFrame\n",
      "\n",
      "See the caveats in the documentation: https://pandas.pydata.org/pandas-docs/stable/user_guide/indexing.html#returning-a-view-versus-a-copy\n",
      "  df_reg.colloquial_NaiveBayes[df_reg.colloquial_NaiveBayes == 'informal'] = 1\n",
      "C:\\Users\\alexb\\AppData\\Local\\Temp/ipykernel_18404/4123321634.py:2: SettingWithCopyWarning: \n",
      "A value is trying to be set on a copy of a slice from a DataFrame\n",
      "\n",
      "See the caveats in the documentation: https://pandas.pydata.org/pandas-docs/stable/user_guide/indexing.html#returning-a-view-versus-a-copy\n",
      "  df_reg.colloquial_NaiveBayes[df_reg.colloquial_NaiveBayes == 'formal'] = 0\n"
     ]
    },
    {
     "data": {
      "text/html": [
       "<div>\n",
       "<style scoped>\n",
       "    .dataframe tbody tr th:only-of-type {\n",
       "        vertical-align: middle;\n",
       "    }\n",
       "\n",
       "    .dataframe tbody tr th {\n",
       "        vertical-align: top;\n",
       "    }\n",
       "\n",
       "    .dataframe thead th {\n",
       "        text-align: right;\n",
       "    }\n",
       "</style>\n",
       "<table border=\"1\" class=\"dataframe\">\n",
       "  <thead>\n",
       "    <tr style=\"text-align: right;\">\n",
       "      <th></th>\n",
       "      <th>bi_party</th>\n",
       "      <th>gender</th>\n",
       "      <th>age</th>\n",
       "      <th>colloquial_NaiveBayes</th>\n",
       "      <th>colloquial_contractions</th>\n",
       "      <th>Index</th>\n",
       "    </tr>\n",
       "  </thead>\n",
       "  <tbody>\n",
       "    <tr>\n",
       "      <th>0</th>\n",
       "      <td>Democrat</td>\n",
       "      <td>Q6581097</td>\n",
       "      <td>46.0</td>\n",
       "      <td>1</td>\n",
       "      <td>0</td>\n",
       "      <td>0</td>\n",
       "    </tr>\n",
       "    <tr>\n",
       "      <th>1</th>\n",
       "      <td>Democrat</td>\n",
       "      <td>Q6581097</td>\n",
       "      <td>46.0</td>\n",
       "      <td>1</td>\n",
       "      <td>0</td>\n",
       "      <td>1</td>\n",
       "    </tr>\n",
       "    <tr>\n",
       "      <th>2</th>\n",
       "      <td>Democrat</td>\n",
       "      <td>Q6581097</td>\n",
       "      <td>46.0</td>\n",
       "      <td>1</td>\n",
       "      <td>0</td>\n",
       "      <td>2</td>\n",
       "    </tr>\n",
       "    <tr>\n",
       "      <th>3</th>\n",
       "      <td>Democrat</td>\n",
       "      <td>Q6581097</td>\n",
       "      <td>46.0</td>\n",
       "      <td>1</td>\n",
       "      <td>0</td>\n",
       "      <td>3</td>\n",
       "    </tr>\n",
       "    <tr>\n",
       "      <th>4</th>\n",
       "      <td>Democrat</td>\n",
       "      <td>Q6581097</td>\n",
       "      <td>46.0</td>\n",
       "      <td>1</td>\n",
       "      <td>0</td>\n",
       "      <td>4</td>\n",
       "    </tr>\n",
       "    <tr>\n",
       "      <th>...</th>\n",
       "      <td>...</td>\n",
       "      <td>...</td>\n",
       "      <td>...</td>\n",
       "      <td>...</td>\n",
       "      <td>...</td>\n",
       "      <td>...</td>\n",
       "    </tr>\n",
       "    <tr>\n",
       "      <th>564651</th>\n",
       "      <td>Republican</td>\n",
       "      <td>Q6581097</td>\n",
       "      <td>75.0</td>\n",
       "      <td>1</td>\n",
       "      <td>0</td>\n",
       "      <td>564651</td>\n",
       "    </tr>\n",
       "    <tr>\n",
       "      <th>564652</th>\n",
       "      <td>Republican</td>\n",
       "      <td>Q6581097</td>\n",
       "      <td>64.0</td>\n",
       "      <td>1</td>\n",
       "      <td>0</td>\n",
       "      <td>564652</td>\n",
       "    </tr>\n",
       "    <tr>\n",
       "      <th>564655</th>\n",
       "      <td>Democrat</td>\n",
       "      <td>Q6581097</td>\n",
       "      <td>47.0</td>\n",
       "      <td>1</td>\n",
       "      <td>0</td>\n",
       "      <td>564655</td>\n",
       "    </tr>\n",
       "    <tr>\n",
       "      <th>564656</th>\n",
       "      <td>Republican</td>\n",
       "      <td>Q6581097</td>\n",
       "      <td>59.0</td>\n",
       "      <td>1</td>\n",
       "      <td>0</td>\n",
       "      <td>564656</td>\n",
       "    </tr>\n",
       "    <tr>\n",
       "      <th>564657</th>\n",
       "      <td>Republican</td>\n",
       "      <td>Q6581097</td>\n",
       "      <td>50.0</td>\n",
       "      <td>0</td>\n",
       "      <td>1</td>\n",
       "      <td>564657</td>\n",
       "    </tr>\n",
       "  </tbody>\n",
       "</table>\n",
       "<p>512017 rows × 6 columns</p>\n",
       "</div>"
      ],
      "text/plain": [
       "          bi_party    gender   age  colloquial_NaiveBayes  \\\n",
       "0         Democrat  Q6581097  46.0                      1   \n",
       "1         Democrat  Q6581097  46.0                      1   \n",
       "2         Democrat  Q6581097  46.0                      1   \n",
       "3         Democrat  Q6581097  46.0                      1   \n",
       "4         Democrat  Q6581097  46.0                      1   \n",
       "...            ...       ...   ...                    ...   \n",
       "564651  Republican  Q6581097  75.0                      1   \n",
       "564652  Republican  Q6581097  64.0                      1   \n",
       "564655    Democrat  Q6581097  47.0                      1   \n",
       "564656  Republican  Q6581097  59.0                      1   \n",
       "564657  Republican  Q6581097  50.0                      0   \n",
       "\n",
       "        colloquial_contractions   Index  \n",
       "0                             0       0  \n",
       "1                             0       1  \n",
       "2                             0       2  \n",
       "3                             0       3  \n",
       "4                             0       4  \n",
       "...                         ...     ...  \n",
       "564651                        0  564651  \n",
       "564652                        0  564652  \n",
       "564655                        0  564655  \n",
       "564656                        0  564656  \n",
       "564657                        1  564657  \n",
       "\n",
       "[512017 rows x 6 columns]"
      ]
     },
     "execution_count": 9,
     "metadata": {},
     "output_type": "execute_result"
    }
   ],
   "source": [
    "df_reg.colloquial_NaiveBayes[df_reg.colloquial_NaiveBayes == 'informal'] = 1\n",
    "df_reg.colloquial_NaiveBayes[df_reg.colloquial_NaiveBayes == 'formal'] = 0\n",
    "df_reg['colloquial_NaiveBayes'] = df_reg['colloquial_NaiveBayes'].astype(int)\n",
    "df_reg"
   ]
  },
  {
   "cell_type": "markdown",
   "id": "99554909",
   "metadata": {},
   "source": [
    "Normalization of the feature \"age\""
   ]
  },
  {
   "cell_type": "code",
   "execution_count": 10,
   "id": "1f632fbf",
   "metadata": {},
   "outputs": [],
   "source": [
    "df_reg['age'] = (df_reg['age'] - df_reg['age'].mean())/df_reg['age'].std()"
   ]
  },
  {
   "cell_type": "markdown",
   "id": "2b6ca348",
   "metadata": {},
   "source": [
    "Defining the features and outcomes"
   ]
  },
  {
   "cell_type": "code",
   "execution_count": 11,
   "id": "a0c3b324",
   "metadata": {},
   "outputs": [],
   "source": [
    "df_feat = df_reg[['bi_party','gender','age']]\n",
    "df_score_nb = df_reg['colloquial_NaiveBayes']\n",
    "df_score_contr = df_reg['colloquial_contractions']"
   ]
  },
  {
   "cell_type": "markdown",
   "id": "5456e763",
   "metadata": {},
   "source": [
    "Create one-hot encoding for gender and party"
   ]
  },
  {
   "cell_type": "code",
   "execution_count": 12,
   "id": "3d45468e",
   "metadata": {},
   "outputs": [
    {
     "data": {
      "text/html": [
       "<div>\n",
       "<style scoped>\n",
       "    .dataframe tbody tr th:only-of-type {\n",
       "        vertical-align: middle;\n",
       "    }\n",
       "\n",
       "    .dataframe tbody tr th {\n",
       "        vertical-align: top;\n",
       "    }\n",
       "\n",
       "    .dataframe thead th {\n",
       "        text-align: right;\n",
       "    }\n",
       "</style>\n",
       "<table border=\"1\" class=\"dataframe\">\n",
       "  <thead>\n",
       "    <tr style=\"text-align: right;\">\n",
       "      <th></th>\n",
       "      <th>age</th>\n",
       "      <th>bi_party_Democrat_onehot</th>\n",
       "      <th>bi_party_Republican_onehot</th>\n",
       "      <th>gender_Q6581072_onehot</th>\n",
       "      <th>gender_Q6581097_onehot</th>\n",
       "    </tr>\n",
       "  </thead>\n",
       "  <tbody>\n",
       "    <tr>\n",
       "      <th>0</th>\n",
       "      <td>-1.405118</td>\n",
       "      <td>1</td>\n",
       "      <td>0</td>\n",
       "      <td>0</td>\n",
       "      <td>1</td>\n",
       "    </tr>\n",
       "    <tr>\n",
       "      <th>1</th>\n",
       "      <td>-1.405118</td>\n",
       "      <td>1</td>\n",
       "      <td>0</td>\n",
       "      <td>0</td>\n",
       "      <td>1</td>\n",
       "    </tr>\n",
       "    <tr>\n",
       "      <th>2</th>\n",
       "      <td>-1.405118</td>\n",
       "      <td>1</td>\n",
       "      <td>0</td>\n",
       "      <td>0</td>\n",
       "      <td>1</td>\n",
       "    </tr>\n",
       "    <tr>\n",
       "      <th>3</th>\n",
       "      <td>-1.405118</td>\n",
       "      <td>1</td>\n",
       "      <td>0</td>\n",
       "      <td>0</td>\n",
       "      <td>1</td>\n",
       "    </tr>\n",
       "    <tr>\n",
       "      <th>4</th>\n",
       "      <td>-1.405118</td>\n",
       "      <td>1</td>\n",
       "      <td>0</td>\n",
       "      <td>0</td>\n",
       "      <td>1</td>\n",
       "    </tr>\n",
       "  </tbody>\n",
       "</table>\n",
       "</div>"
      ],
      "text/plain": [
       "        age  bi_party_Democrat_onehot  bi_party_Republican_onehot  \\\n",
       "0 -1.405118                         1                           0   \n",
       "1 -1.405118                         1                           0   \n",
       "2 -1.405118                         1                           0   \n",
       "3 -1.405118                         1                           0   \n",
       "4 -1.405118                         1                           0   \n",
       "\n",
       "   gender_Q6581072_onehot  gender_Q6581097_onehot  \n",
       "0                       0                       1  \n",
       "1                       0                       1  \n",
       "2                       0                       1  \n",
       "3                       0                       1  \n",
       "4                       0                       1  "
      ]
     },
     "execution_count": 12,
     "metadata": {},
     "output_type": "execute_result"
    }
   ],
   "source": [
    "#One-Hot Encoding to represent categorical variables as binary vectors\n",
    "onehot = pd.get_dummies(df_feat[['bi_party','gender']]).add_suffix('_onehot')\n",
    "df_feat_os=pd.merge(df_feat,\n",
    "             onehot,\n",
    "             left_index=True,\n",
    "             right_index=True)\n",
    "\n",
    "df_feat_os.drop('bi_party', axis=1, inplace=True)\n",
    "df_feat_os.drop('gender', axis=1, inplace=True)\n",
    "#check of the operation\n",
    "df_feat_os.head()"
   ]
  },
  {
   "cell_type": "markdown",
   "id": "bbbc3afd",
   "metadata": {},
   "source": [
    "DataFrame to Numpy arrays funtion"
   ]
  },
  {
   "cell_type": "code",
   "execution_count": 13,
   "id": "a8ba5289",
   "metadata": {},
   "outputs": [],
   "source": [
    "#the different columns of the dataframe are converted in numpy arrays:\n",
    "def numpy_helper(df, cols):\n",
    "    return df[cols].to_numpy()"
   ]
  },
  {
   "cell_type": "code",
   "execution_count": 14,
   "id": "b5cdc780",
   "metadata": {},
   "outputs": [
    {
     "name": "stdout",
     "output_type": "stream",
     "text": [
      "The dataframe of dimension [512017,5] have been converted into a numpy array of dimensions [(512017, 5)] \n"
     ]
    }
   ],
   "source": [
    "#Test the function numpy_helper:\n",
    "cols = df_feat_os.columns\n",
    "test_helper = numpy_helper(df_feat_os,cols)\n",
    "assert('('+str(len(df_reg))+', '+str(len(cols))+')'==str(test_helper.shape))\n",
    "\n",
    "#Rapid check of the output dimensions:\n",
    "print('The dataframe of dimension [{},{}] have been converted into a numpy array of dimensions [{}] '.format(len(df_reg),len(cols),test_helper.shape))"
   ]
  },
  {
   "cell_type": "markdown",
   "id": "78108f3c",
   "metadata": {},
   "source": [
    "## Linear Regression\n",
    "In linear regression, the model specification is that the dependent variable, $y_i$ is a linear combination of the parameters. For example, in simple linear regression for modeling $n$ data points there is one independent variable: $x_{i}$, and two parameters, $\\beta _{0}$ and $\\beta _{1}$:\n",
    "\n",
    "straight line:$y_{i}=\\beta _{0}+\\beta _{1}x_{i}+\\varepsilon _{i},\\quad i=1,\\dots, n$"
   ]
  },
  {
   "cell_type": "markdown",
   "id": "71bfaec2",
   "metadata": {},
   "source": [
    "Split of the dataset and preparation of vectors X and Y"
   ]
  },
  {
   "cell_type": "code",
   "execution_count": 15,
   "id": "9525423b",
   "metadata": {},
   "outputs": [],
   "source": [
    "X_reg = numpy_helper(df_feat_os, cols)\n",
    "\n",
    "#Create Y naive bayse\n",
    "y_reg_nb = df_score_nb.to_numpy()\n",
    "\n",
    "#Split the dataset\n",
    "X_train_nb, X_test_nb, y_train_nb, y_test_nb = train_test_split(X_reg,\n",
    "                                                                y_reg_nb,\n",
    "                                                                test_size = 0.3,\n",
    "                                                                train_size = 0.7,\n",
    "                                                                random_state = 123)\n",
    "\n",
    "#Create Y contractions\n",
    "y_reg_contr = df_score_contr.to_numpy()\n",
    "\n",
    "#Split the dataset\n",
    "X_train_contr, X_test_contr, y_train_contr, y_test_contr = train_test_split(X_reg,\n",
    "                                                                            y_reg_contr,\n",
    "                                                                            test_size = 0.3,\n",
    "                                                                            train_size = 0.7,\n",
    "                                                                            random_state = 123)"
   ]
  },
  {
   "cell_type": "markdown",
   "id": "845b6104",
   "metadata": {},
   "source": [
    "Creation and test of the model for naive bayes"
   ]
  },
  {
   "cell_type": "code",
   "execution_count": 16,
   "id": "4761aec1",
   "metadata": {},
   "outputs": [],
   "source": [
    "#Create of the model:\n",
    "lin_reg_nb = LinearRegression()\n",
    "\n",
    "#Train the model \n",
    "lin_reg_nb.fit(X_train_nb, y_train_nb)\n",
    "\n",
    "#Test it\n",
    "y_predict_nb=lin_reg_nb.predict(X_test_nb)\n",
    "\n"
   ]
  },
  {
   "cell_type": "markdown",
   "id": "34e15ab9",
   "metadata": {},
   "source": [
    "Contreation and test of the model for contractions"
   ]
  },
  {
   "cell_type": "code",
   "execution_count": 17,
   "id": "f1df84ec",
   "metadata": {},
   "outputs": [],
   "source": [
    "#Create of the model:\n",
    "lin_reg_contr = LinearRegression()\n",
    "\n",
    "#Train the model \n",
    "lin_reg_contr.fit(X_train_contr, y_train_contr)\n",
    "\n",
    "#Test it\n",
    "y_predict_contr=lin_reg_contr.predict(X_test_contr)\n",
    "\n"
   ]
  },
  {
   "cell_type": "code",
   "execution_count": 18,
   "id": "7358b1a5",
   "metadata": {
    "scrolled": true
   },
   "outputs": [
    {
     "name": "stdout",
     "output_type": "stream",
     "text": [
      "R2 score 1st linear regression: 0.00071\n",
      "R2 score 1st linear regression: 0.00036\n"
     ]
    }
   ],
   "source": [
    "#Computation of the R2 score:\n",
    "print('R2 score 1st linear regression: {:.2}'.format(lin_reg_nb.score(X_test_nb,y_test_nb)))\n",
    "\n",
    "print('R2 score 1st linear regression: {:.2}'.format(lin_reg_contr.score(X_test_contr,y_test_contr)))"
   ]
  },
  {
   "cell_type": "markdown",
   "id": "2f4c7f3a",
   "metadata": {},
   "source": [
    "## Logistic regression\n",
    "\n",
    "In statistics, the logistic model (or logit model) is used to model the probability of a certain class or event existing such as pass/fail, win/lose, alive/dead or healthy/sick. This can be extended to model several classes of events such as determining whether an image contains a cat, dog, lion, etc. Each object being detected in the image would be assigned a probability between 0 and 1, with a sum of one."
   ]
  },
  {
   "cell_type": "code",
   "execution_count": 19,
   "id": "5f14a28d",
   "metadata": {},
   "outputs": [
    {
     "name": "stdout",
     "output_type": "stream",
     "text": [
      "Possible outcome values for contractions: [0 1]\n",
      "Possible outcome values for contractions: [1 0]\n"
     ]
    }
   ],
   "source": [
    "#check if outcomes are binary \n",
    "print('Possible outcome values for contractions: {}'.format(df_reg['colloquial_contractions'].unique()))\n",
    "print('Possible outcome values for contractions: {}'.format(df_reg['colloquial_NaiveBayes'].unique()))"
   ]
  },
  {
   "cell_type": "code",
   "execution_count": 20,
   "id": "5ee6c5ab",
   "metadata": {
    "scrolled": true
   },
   "outputs": [],
   "source": [
    "#One-Hot Encoding to represent categorical variables as binary vectors\n",
    "onehot = pd.get_dummies(df_reg[['bi_party','gender']]).add_suffix('_onehot')\n",
    "df_feat_os2=pd.merge(df_reg,\n",
    "             onehot,\n",
    "             left_index=True,\n",
    "             right_index=True)\n",
    "\n",
    "df_feat_os2.drop('bi_party', axis=1, inplace=True)\n",
    "df_feat_os2.drop('gender', axis=1, inplace=True)"
   ]
  },
  {
   "cell_type": "code",
   "execution_count": 21,
   "id": "8cb91202",
   "metadata": {
    "scrolled": true
   },
   "outputs": [
    {
     "name": "stderr",
     "output_type": "stream",
     "text": [
      "C:\\Users\\alexb\\AppData\\Local\\Temp/ipykernel_18404/4242179582.py:1: SettingWithCopyWarning: \n",
      "A value is trying to be set on a copy of a slice from a DataFrame\n",
      "\n",
      "See the caveats in the documentation: https://pandas.pydata.org/pandas-docs/stable/user_guide/indexing.html#returning-a-view-versus-a-copy\n",
      "  df_reg.gender[df_reg.gender == 'Q6581072'] = 0 #women\n",
      "C:\\Users\\alexb\\AppData\\Local\\Temp/ipykernel_18404/4242179582.py:2: SettingWithCopyWarning: \n",
      "A value is trying to be set on a copy of a slice from a DataFrame\n",
      "\n",
      "See the caveats in the documentation: https://pandas.pydata.org/pandas-docs/stable/user_guide/indexing.html#returning-a-view-versus-a-copy\n",
      "  df_reg.gender[df_reg.gender == 'Q6581097'] = 1 #men\n",
      "C:\\Users\\alexb\\AppData\\Local\\Temp/ipykernel_18404/4242179582.py:3: SettingWithCopyWarning: \n",
      "A value is trying to be set on a copy of a slice from a DataFrame\n",
      "\n",
      "See the caveats in the documentation: https://pandas.pydata.org/pandas-docs/stable/user_guide/indexing.html#returning-a-view-versus-a-copy\n",
      "  df_reg.bi_party[df_reg.bi_party == 'Democrat'] = 1\n",
      "C:\\Users\\alexb\\AppData\\Local\\Temp/ipykernel_18404/4242179582.py:4: SettingWithCopyWarning: \n",
      "A value is trying to be set on a copy of a slice from a DataFrame\n",
      "\n",
      "See the caveats in the documentation: https://pandas.pydata.org/pandas-docs/stable/user_guide/indexing.html#returning-a-view-versus-a-copy\n",
      "  df_reg.bi_party[df_reg.bi_party == 'Republican'] = 0\n"
     ]
    },
    {
     "data": {
      "text/html": [
       "<div>\n",
       "<style scoped>\n",
       "    .dataframe tbody tr th:only-of-type {\n",
       "        vertical-align: middle;\n",
       "    }\n",
       "\n",
       "    .dataframe tbody tr th {\n",
       "        vertical-align: top;\n",
       "    }\n",
       "\n",
       "    .dataframe thead th {\n",
       "        text-align: right;\n",
       "    }\n",
       "</style>\n",
       "<table border=\"1\" class=\"dataframe\">\n",
       "  <thead>\n",
       "    <tr style=\"text-align: right;\">\n",
       "      <th></th>\n",
       "      <th>bi_party</th>\n",
       "      <th>gender</th>\n",
       "      <th>age</th>\n",
       "      <th>colloquial_NaiveBayes</th>\n",
       "      <th>colloquial_contractions</th>\n",
       "      <th>Index</th>\n",
       "    </tr>\n",
       "  </thead>\n",
       "  <tbody>\n",
       "    <tr>\n",
       "      <th>0</th>\n",
       "      <td>1</td>\n",
       "      <td>1</td>\n",
       "      <td>-1.405118</td>\n",
       "      <td>1</td>\n",
       "      <td>0</td>\n",
       "      <td>0</td>\n",
       "    </tr>\n",
       "    <tr>\n",
       "      <th>1</th>\n",
       "      <td>1</td>\n",
       "      <td>1</td>\n",
       "      <td>-1.405118</td>\n",
       "      <td>1</td>\n",
       "      <td>0</td>\n",
       "      <td>1</td>\n",
       "    </tr>\n",
       "    <tr>\n",
       "      <th>2</th>\n",
       "      <td>1</td>\n",
       "      <td>1</td>\n",
       "      <td>-1.405118</td>\n",
       "      <td>1</td>\n",
       "      <td>0</td>\n",
       "      <td>2</td>\n",
       "    </tr>\n",
       "    <tr>\n",
       "      <th>3</th>\n",
       "      <td>1</td>\n",
       "      <td>1</td>\n",
       "      <td>-1.405118</td>\n",
       "      <td>1</td>\n",
       "      <td>0</td>\n",
       "      <td>3</td>\n",
       "    </tr>\n",
       "    <tr>\n",
       "      <th>4</th>\n",
       "      <td>1</td>\n",
       "      <td>1</td>\n",
       "      <td>-1.405118</td>\n",
       "      <td>1</td>\n",
       "      <td>0</td>\n",
       "      <td>4</td>\n",
       "    </tr>\n",
       "    <tr>\n",
       "      <th>...</th>\n",
       "      <td>...</td>\n",
       "      <td>...</td>\n",
       "      <td>...</td>\n",
       "      <td>...</td>\n",
       "      <td>...</td>\n",
       "      <td>...</td>\n",
       "    </tr>\n",
       "    <tr>\n",
       "      <th>564651</th>\n",
       "      <td>0</td>\n",
       "      <td>1</td>\n",
       "      <td>0.912634</td>\n",
       "      <td>1</td>\n",
       "      <td>0</td>\n",
       "      <td>564651</td>\n",
       "    </tr>\n",
       "    <tr>\n",
       "      <th>564652</th>\n",
       "      <td>0</td>\n",
       "      <td>1</td>\n",
       "      <td>0.033486</td>\n",
       "      <td>1</td>\n",
       "      <td>0</td>\n",
       "      <td>564652</td>\n",
       "    </tr>\n",
       "    <tr>\n",
       "      <th>564655</th>\n",
       "      <td>1</td>\n",
       "      <td>1</td>\n",
       "      <td>-1.325196</td>\n",
       "      <td>1</td>\n",
       "      <td>0</td>\n",
       "      <td>564655</td>\n",
       "    </tr>\n",
       "    <tr>\n",
       "      <th>564656</th>\n",
       "      <td>0</td>\n",
       "      <td>1</td>\n",
       "      <td>-0.366126</td>\n",
       "      <td>1</td>\n",
       "      <td>0</td>\n",
       "      <td>564656</td>\n",
       "    </tr>\n",
       "    <tr>\n",
       "      <th>564657</th>\n",
       "      <td>0</td>\n",
       "      <td>1</td>\n",
       "      <td>-1.085429</td>\n",
       "      <td>0</td>\n",
       "      <td>1</td>\n",
       "      <td>564657</td>\n",
       "    </tr>\n",
       "  </tbody>\n",
       "</table>\n",
       "<p>512017 rows × 6 columns</p>\n",
       "</div>"
      ],
      "text/plain": [
       "       bi_party gender       age  colloquial_NaiveBayes  \\\n",
       "0             1      1 -1.405118                      1   \n",
       "1             1      1 -1.405118                      1   \n",
       "2             1      1 -1.405118                      1   \n",
       "3             1      1 -1.405118                      1   \n",
       "4             1      1 -1.405118                      1   \n",
       "...         ...    ...       ...                    ...   \n",
       "564651        0      1  0.912634                      1   \n",
       "564652        0      1  0.033486                      1   \n",
       "564655        1      1 -1.325196                      1   \n",
       "564656        0      1 -0.366126                      1   \n",
       "564657        0      1 -1.085429                      0   \n",
       "\n",
       "        colloquial_contractions   Index  \n",
       "0                             0       0  \n",
       "1                             0       1  \n",
       "2                             0       2  \n",
       "3                             0       3  \n",
       "4                             0       4  \n",
       "...                         ...     ...  \n",
       "564651                        0  564651  \n",
       "564652                        0  564652  \n",
       "564655                        0  564655  \n",
       "564656                        0  564656  \n",
       "564657                        1  564657  \n",
       "\n",
       "[512017 rows x 6 columns]"
      ]
     },
     "execution_count": 21,
     "metadata": {},
     "output_type": "execute_result"
    }
   ],
   "source": [
    "df_reg.gender[df_reg.gender == 'Q6581072'] = 0 #women\n",
    "df_reg.gender[df_reg.gender == 'Q6581097'] = 1 #men\n",
    "df_reg.bi_party[df_reg.bi_party == 'Democrat'] = 1\n",
    "df_reg.bi_party[df_reg.bi_party == 'Republican'] = 0\n",
    "df_reg"
   ]
  },
  {
   "cell_type": "markdown",
   "id": "3bae3d7c",
   "metadata": {},
   "source": [
    "Let's split the dataset in a training and testing set"
   ]
  },
  {
   "cell_type": "code",
   "execution_count": 22,
   "id": "8a25af91",
   "metadata": {},
   "outputs": [
    {
     "name": "stdout",
     "output_type": "stream",
     "text": [
      "Test set: 51202 rows\n",
      "Train set: 460815 rows\n"
     ]
    }
   ],
   "source": [
    "\n",
    "# Creating a dataframe with 50%\n",
    "# values of original dataframe\n",
    "df_reg_train = df_reg.sample(frac = 0.9)\n",
    " \n",
    "# Creating dataframe with\n",
    "# rest of the 50% values\n",
    "df_reg_test = df_reg.drop(df_reg_train.index)\n",
    " \n",
    "print('Test set: {} rows'.format(len(df_reg_test)))\n",
    "print('Train set: {} rows'.format(len(df_reg_train)))"
   ]
  },
  {
   "cell_type": "markdown",
   "id": "8ebb0bd2",
   "metadata": {},
   "source": [
    "#### Results for contraction method\n",
    "Let's do the regression"
   ]
  },
  {
   "cell_type": "code",
   "execution_count": 23,
   "id": "fe837cbc",
   "metadata": {
    "scrolled": true
   },
   "outputs": [
    {
     "name": "stdout",
     "output_type": "stream",
     "text": [
      "Optimization terminated successfully.\n",
      "         Current function value: 0.406873\n",
      "         Iterations 6\n",
      "                              Logit Regression Results                             \n",
      "===================================================================================\n",
      "Dep. Variable:     colloquial_contractions   No. Observations:               460815\n",
      "Model:                               Logit   Df Residuals:                   460811\n",
      "Method:                                MLE   Df Model:                            3\n",
      "Date:                     Fri, 17 Dec 2021   Pseudo R-squ.:               0.0006053\n",
      "Time:                             14:07:49   Log-Likelihood:            -1.8749e+05\n",
      "converged:                            True   LL-Null:                   -1.8761e+05\n",
      "Covariance Type:                 nonrobust   LLR p-value:                 5.852e-49\n",
      "=================================================================================\n",
      "                    coef    std err          z      P>|z|      [0.025      0.975]\n",
      "---------------------------------------------------------------------------------\n",
      "Intercept        -1.7685      0.010   -171.633      0.000      -1.789      -1.748\n",
      "bi_party[T.1]    -0.1125      0.009    -13.129      0.000      -0.129      -0.096\n",
      "gender[T.1]       0.0226      0.010      2.217      0.027       0.003       0.043\n",
      "age              -0.0285      0.004     -6.716      0.000      -0.037      -0.020\n",
      "=================================================================================\n"
     ]
    }
   ],
   "source": [
    "mod_contr = smf.logit(formula='colloquial_contractions ~  age + bi_party + gender', data=df_reg_train)\n",
    "res = mod_contr.fit()\n",
    "print(res.summary())"
   ]
  },
  {
   "cell_type": "markdown",
   "id": "769cadeb",
   "metadata": {},
   "source": [
    "Coeff summary"
   ]
  },
  {
   "cell_type": "code",
   "execution_count": 24,
   "id": "e95a8bbf",
   "metadata": {},
   "outputs": [
    {
     "data": {
      "text/html": [
       "<div>\n",
       "<style scoped>\n",
       "    .dataframe tbody tr th:only-of-type {\n",
       "        vertical-align: middle;\n",
       "    }\n",
       "\n",
       "    .dataframe tbody tr th {\n",
       "        vertical-align: top;\n",
       "    }\n",
       "\n",
       "    .dataframe thead th {\n",
       "        text-align: right;\n",
       "    }\n",
       "</style>\n",
       "<table border=\"1\" class=\"dataframe\">\n",
       "  <thead>\n",
       "    <tr style=\"text-align: right;\">\n",
       "      <th></th>\n",
       "      <th>0</th>\n",
       "      <th>1</th>\n",
       "    </tr>\n",
       "  </thead>\n",
       "  <tbody>\n",
       "    <tr>\n",
       "      <th>Intercept</th>\n",
       "      <td>-1.788673</td>\n",
       "      <td>-1.748283</td>\n",
       "    </tr>\n",
       "    <tr>\n",
       "      <th>bi_party[T.1]</th>\n",
       "      <td>-0.129331</td>\n",
       "      <td>-0.095732</td>\n",
       "    </tr>\n",
       "    <tr>\n",
       "      <th>gender[T.1]</th>\n",
       "      <td>0.002626</td>\n",
       "      <td>0.042660</td>\n",
       "    </tr>\n",
       "    <tr>\n",
       "      <th>age</th>\n",
       "      <td>-0.036792</td>\n",
       "      <td>-0.020169</td>\n",
       "    </tr>\n",
       "  </tbody>\n",
       "</table>\n",
       "</div>"
      ],
      "text/plain": [
       "                      0         1\n",
       "Intercept     -1.788673 -1.748283\n",
       "bi_party[T.1] -0.129331 -0.095732\n",
       "gender[T.1]    0.002626  0.042660\n",
       "age           -0.036792 -0.020169"
      ]
     },
     "execution_count": 24,
     "metadata": {},
     "output_type": "execute_result"
    }
   ],
   "source": [
    "# feature names\n",
    "variables = res.params.index\n",
    "\n",
    "# quantifying uncertainty!\n",
    "\n",
    "# coefficients\n",
    "coefficients = res.params.values\n",
    "\n",
    "# p-values\n",
    "p_values = res.pvalues\n",
    "\n",
    "# standard errors\n",
    "standard_errors = res.bse.values\n",
    "\n",
    "#confidence intervals\n",
    "res.conf_int()"
   ]
  },
  {
   "cell_type": "code",
   "execution_count": 25,
   "id": "65d4088b",
   "metadata": {},
   "outputs": [],
   "source": [
    "#sort them all by coefficients\n",
    "l1, l2, l3, l4 = zip(*sorted(zip(coefficients[1:], variables[1:], standard_errors[1:], p_values[1:])))\n",
    "\n",
    "# in this case, we index starting from the first element, not to plot the intercept\n",
    "\n",
    "# we will use standard errors, instead of CIs\n",
    "# two standard errors approximate the CIs (you can actually see in the summary table that\n",
    "# +/2 SI is equivalent to the CIs)\n"
   ]
  },
  {
   "cell_type": "markdown",
   "id": "0edf544e",
   "metadata": {},
   "source": [
    "#### Visualization"
   ]
  },
  {
   "cell_type": "code",
   "execution_count": 26,
   "id": "f6a97de5",
   "metadata": {},
   "outputs": [
    {
     "data": {
      "image/png": "[encoded data removed]",
      "text/plain": [
       "<Figure size 1008x360 with 1 Axes>"
      ]
     },
     "metadata": {},
     "output_type": "display_data"
    }
   ],
   "source": [
    "#fancy plotting\n",
    "with plt.xkcd():\n",
    "    plt.errorbar(l1, np.array(range(len(l1))), xerr= 2*np.array(l3), linewidth = 3,\n",
    "                 linestyle = 'none',marker = 'o',markersize= 8,\n",
    "                 markerfacecolor = 'black',markeredgecolor = 'black', capsize= 5)\n",
    "\n",
    "    plt.vlines(0,0, len(l1), linestyle = '--')\n",
    "\n",
    "    plt.yticks(range(len(l2)),l2);\n",
    "    plt.savefig('contr_errorbar.svg')"
   ]
  },
  {
   "cell_type": "markdown",
   "id": "805879d3",
   "metadata": {},
   "source": [
    "### Interpretation:\n",
    "We can state that\n",
    "- Age and the political side are significant negative predictors of colloquialism use\n",
    "- In a lesser extent gender is a  positive predictors of colloquialism use\n",
    "\n",
    "Since all predictors are standardized, we can interpret in the following way:\n",
    "- When all other predictors take mean values, an increase of age by 1 standard deviation (12 year), leads on average to a decrease by 0.0286 of log odds of colloquialism use.\n",
    "\n"
   ]
  },
  {
   "cell_type": "markdown",
   "id": "0710fff3",
   "metadata": {},
   "source": [
    "#### Now the same for the naive Bayes method"
   ]
  },
  {
   "cell_type": "code",
   "execution_count": 27,
   "id": "d2028968",
   "metadata": {},
   "outputs": [
    {
     "name": "stdout",
     "output_type": "stream",
     "text": [
      "Optimization terminated successfully.\n",
      "         Current function value: 0.690709\n",
      "         Iterations 4\n",
      "                             Logit Regression Results                            \n",
      "=================================================================================\n",
      "Dep. Variable:     colloquial_NaiveBayes   No. Observations:               460815\n",
      "Model:                             Logit   Df Residuals:                   460811\n",
      "Method:                              MLE   Df Model:                            3\n",
      "Date:                   Fri, 17 Dec 2021   Pseudo R-squ.:               0.0005193\n",
      "Time:                           14:07:55   Log-Likelihood:            -3.1829e+05\n",
      "converged:                          True   LL-Null:                   -3.1845e+05\n",
      "Covariance Type:               nonrobust   LLR p-value:                 2.177e-71\n",
      "=================================================================================\n",
      "                    coef    std err          z      P>|z|      [0.025      0.975]\n",
      "---------------------------------------------------------------------------------\n",
      "Intercept         0.2459      0.007     34.106      0.000       0.232       0.260\n",
      "bi_party[T.1]    -0.0677      0.006    -11.332      0.000      -0.079      -0.056\n",
      "gender[T.1]      -0.1082      0.007    -15.269      0.000      -0.122      -0.094\n",
      "age               0.0099      0.003      3.340      0.001       0.004       0.016\n",
      "=================================================================================\n"
     ]
    }
   ],
   "source": [
    "mod_nb = smf.logit(formula='colloquial_NaiveBayes ~  age + bi_party + gender', data=df_reg_train)\n",
    "res_nb = mod_nb.fit()\n",
    "print(res_nb.summary())"
   ]
  },
  {
   "cell_type": "code",
   "execution_count": 28,
   "id": "9ce5cef9",
   "metadata": {},
   "outputs": [
    {
     "data": {
      "text/html": [
       "<div>\n",
       "<style scoped>\n",
       "    .dataframe tbody tr th:only-of-type {\n",
       "        vertical-align: middle;\n",
       "    }\n",
       "\n",
       "    .dataframe tbody tr th {\n",
       "        vertical-align: top;\n",
       "    }\n",
       "\n",
       "    .dataframe thead th {\n",
       "        text-align: right;\n",
       "    }\n",
       "</style>\n",
       "<table border=\"1\" class=\"dataframe\">\n",
       "  <thead>\n",
       "    <tr style=\"text-align: right;\">\n",
       "      <th></th>\n",
       "      <th>0</th>\n",
       "      <th>1</th>\n",
       "    </tr>\n",
       "  </thead>\n",
       "  <tbody>\n",
       "    <tr>\n",
       "      <th>Intercept</th>\n",
       "      <td>0.231759</td>\n",
       "      <td>0.260020</td>\n",
       "    </tr>\n",
       "    <tr>\n",
       "      <th>bi_party[T.1]</th>\n",
       "      <td>-0.079440</td>\n",
       "      <td>-0.056013</td>\n",
       "    </tr>\n",
       "    <tr>\n",
       "      <th>gender[T.1]</th>\n",
       "      <td>-0.122104</td>\n",
       "      <td>-0.094323</td>\n",
       "    </tr>\n",
       "    <tr>\n",
       "      <th>age</th>\n",
       "      <td>0.004081</td>\n",
       "      <td>0.015670</td>\n",
       "    </tr>\n",
       "  </tbody>\n",
       "</table>\n",
       "</div>"
      ],
      "text/plain": [
       "                      0         1\n",
       "Intercept      0.231759  0.260020\n",
       "bi_party[T.1] -0.079440 -0.056013\n",
       "gender[T.1]   -0.122104 -0.094323\n",
       "age            0.004081  0.015670"
      ]
     },
     "execution_count": 28,
     "metadata": {},
     "output_type": "execute_result"
    }
   ],
   "source": [
    "# feature names\n",
    "variables_nb = res_nb.params.index\n",
    "\n",
    "# quantifying uncertainty!\n",
    "\n",
    "# coefficients\n",
    "coefficients_nb = res_nb.params.values\n",
    "\n",
    "# p-values\n",
    "p_values_nb = res.pvalues\n",
    "\n",
    "# standard errors\n",
    "standard_errors_nb = res_nb.bse.values\n",
    "\n",
    "#confidence intervals\n",
    "res_nb.conf_int()"
   ]
  },
  {
   "cell_type": "code",
   "execution_count": 29,
   "id": "bdd5732f",
   "metadata": {},
   "outputs": [],
   "source": [
    "#sort them all by coefficients\n",
    "l1_nb, l2_nb, l3_nb, l4_nb = zip(*sorted(zip(coefficients_nb[1:], variables_nb[1:], standard_errors_nb[1:], p_values_nb[1:])))\n",
    "\n",
    "# in this case, we index starting from the first element, not to plot the intercept\n",
    "\n",
    "# we will use standard errors, instead of CIs\n",
    "# two standard errors approximate the CIs (you can actually see in the summary table that\n",
    "# +/2 SI is equivalent to the CIs)\n"
   ]
  },
  {
   "cell_type": "code",
   "execution_count": 30,
   "id": "c3278850",
   "metadata": {
    "scrolled": true
   },
   "outputs": [
    {
     "data": {
      "image/png": "[encoded data removed]",
      "text/plain": [
       "<Figure size 1008x360 with 1 Axes>"
      ]
     },
     "metadata": {},
     "output_type": "display_data"
    }
   ],
   "source": [
    "#fancy plotting\n",
    "with plt.xkcd():\n",
    "    plt.errorbar(l1, np.array(range(len(l1_nb))), xerr= 2*np.array(l3_nb), linewidth = 3,\n",
    "                 linestyle = 'none',marker = 'o',markersize= 8,\n",
    "                 markerfacecolor = 'black',markeredgecolor = 'black', capsize= 5)\n",
    "\n",
    "    plt.vlines(0,0, len(l1_nb), linestyle = '--')\n",
    "\n",
    "    plt.yticks(range(len(l2_nb)),l2_nb);\n",
    "    plt.savefig('nb_errorbar.svg')"
   ]
  },
  {
   "cell_type": "markdown",
   "id": "f349ca99",
   "metadata": {},
   "source": [
    "### Interpretation:\n",
    "We can state that\n",
    "- Gender and the political side are significant negative predictors of colloquialism use\n",
    "- In a lesser extent age is a significative positive predictors of colloquialism use\n",
    "\n",
    "Since all predictors are standardized, we can interpret in the following way:\n",
    "- When all other predictors take mean values, an increase of age by 1 standard deviation (12 year), leads on average to a increase by 0.088 of log odds of colloquialism use."
   ]
  },
  {
   "cell_type": "code",
   "execution_count": 31,
   "id": "4762ff54",
   "metadata": {},
   "outputs": [
    {
     "name": "stdout",
     "output_type": "stream",
     "text": [
      "(-0.14624928119011657, 0.0)\n",
      "(-0.042580707143076546, 7.040104092204638e-184)\n",
      "(0.019802178266426475, 3.354055841847427e-41)\n"
     ]
    }
   ],
   "source": [
    "import scipy.stats as stats\n",
    "print(stats.pearsonr(df_reg_train[\"bi_party\"].values, df_reg_train[\"gender\"]))\n",
    "print(stats.pearsonr(df_reg_train[\"bi_party\"].values, df_reg_train[\"age\"]))\n",
    "print(stats.pearsonr(df_reg_train[\"age\"].values, df_reg_train[\"gender\"]))\n"
   ]
  },
  {
   "cell_type": "markdown",
   "id": "2891b484",
   "metadata": {},
   "source": [
    "Notice that the political orientation is significantly correlated with gender, that is, the older you are, the more chance you will be in the republican party."
   ]
  },
  {
   "cell_type": "markdown",
   "id": "a750f437",
   "metadata": {},
   "source": [
    "## Interpretation of log-odds"
   ]
  },
  {
   "cell_type": "code",
   "execution_count": 32,
   "id": "7a1687e8",
   "metadata": {},
   "outputs": [
    {
     "data": {
      "image/png": "[encoded data removed]",
      "text/plain": [
       "<Figure size 720x360 with 1 Axes>"
      ]
     },
     "metadata": {},
     "output_type": "display_data"
    }
   ],
   "source": [
    "with plt.xkcd():  \n",
    "    fig, axs = plt.subplots(1, 1, figsize=(10,5))\n",
    "    p = np.linspace(0.001, 0.99, 999)\n",
    "    odds = p/(1-p)\n",
    "    axs.set_title(\"p vs. odds\")\n",
    "    axs.plot(p, odds)\n",
    "    axs.set_xlabel(\"p\")\n",
    "    axs.set_ylabel(\"odds\")\n",
    "    \n",
    "    plt.savefig('log_ods1.svg')"
   ]
  },
  {
   "cell_type": "code",
   "execution_count": 33,
   "id": "a3c41c52",
   "metadata": {},
   "outputs": [
    {
     "data": {
      "image/png": "[encoded data removed]",
      "text/plain": [
       "<Figure size 720x360 with 1 Axes>"
      ]
     },
     "metadata": {},
     "output_type": "display_data"
    }
   ],
   "source": [
    "with plt.xkcd():  \n",
    "    fig, axs = plt.subplots(1, 1, figsize=(10,5))\n",
    "    axs.set_title(\"odds vs. log-odds\")\n",
    "    axs.plot(odds, np.log(odds))\n",
    "    axs.set_xlabel(\"odds\")\n",
    "    axs.set_ylabel(\"log odds\")\n",
    "    plt.savefig('log_ods2.svg')"
   ]
  },
  {
   "cell_type": "code",
   "execution_count": 34,
   "id": "6c2f78a1",
   "metadata": {},
   "outputs": [
    {
     "data": {
      "image/png": "[encoded data removed]",
      "text/plain": [
       "<Figure size 720x360 with 1 Axes>"
      ]
     },
     "metadata": {},
     "output_type": "display_data"
    }
   ],
   "source": [
    "with plt.xkcd():  \n",
    "    fig, axs = plt.subplots(1, 1, figsize=(10,5))\n",
    "    axs.set_title(\"p vs. log-odds\")\n",
    "    axs.plot(p, np.log(odds))\n",
    "    axs.set_xlabel(\"p\")\n",
    "    axs.set_ylabel(\"log odds\")\n",
    "    plt.savefig('log_ods3.svg')"
   ]
  },
  {
   "cell_type": "code",
   "execution_count": null,
   "id": "d82ddafe",
   "metadata": {},
   "outputs": [],
   "source": []
  }
 ],
 "metadata": {
  "kernelspec": {
   "display_name": "Python 3 (ipykernel)",
   "language": "python",
   "name": "python3"
  },
  "language_info": {
   "codemirror_mode": {
    "name": "ipython",
    "version": 3
   },
   "file_extension": ".py",
   "mimetype": "text/x-python",
   "name": "python",
   "nbconvert_exporter": "python",
   "pygments_lexer": "ipython3",
   "version": "3.9.6"
  }
 },
 "nbformat": 4,
 "nbformat_minor": 5
}

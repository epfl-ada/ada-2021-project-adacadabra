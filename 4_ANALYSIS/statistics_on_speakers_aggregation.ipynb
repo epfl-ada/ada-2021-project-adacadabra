{
 "cells": [
  {
   "cell_type": "markdown",
   "id": "a50f2a61",
   "metadata": {},
   "source": [
    "# Statistics on speakers aggregation"
   ]
  },
  {
   "cell_type": "markdown",
   "id": "99e5aee5",
   "metadata": {},
   "source": [
    "This notebook is used to aggregate American politicians and compute statistics on the average fraction of colloquial language per speaker."
   ]
  },
  {
   "cell_type": "code",
   "execution_count": 1,
   "id": "cc0702d4",
   "metadata": {},
   "outputs": [],
   "source": [
    "#importing the required modules\n",
    "import seaborn as sns\n",
    "from IPython.display import display, HTML\n",
    "import matplotlib.pyplot as plt\n",
    "import scipy.stats as stats\n",
    "import pandas as pd\n",
    "import numpy as np\n",
    "import seaborn as sns"
   ]
  },
  {
   "cell_type": "code",
   "execution_count": 2,
   "id": "3bc701a0",
   "metadata": {},
   "outputs": [
    {
     "data": {
      "application/vnd.jupyter.widget-view+json": {
       "model_id": "29d9845fa5654f128ab06120a299543e",
       "version_major": 2,
       "version_minor": 0
      },
      "text/plain": [
       "0it [00:00, ?it/s]"
      ]
     },
     "metadata": {},
     "output_type": "display_data"
    }
   ],
   "source": [
    "from tqdm import tqdm, notebook\n",
    "notebook.tqdm().pandas()"
   ]
  },
  {
   "cell_type": "code",
   "execution_count": 3,
   "id": "c16e76fb",
   "metadata": {},
   "outputs": [],
   "source": [
    "# Small adjustments to default style of plots, making sure it's readable and colorblind-friendly everywhere\n",
    "plt.style.use('seaborn-colorblind')\n",
    "plt.rcParams.update({'font.size' : 14,\n",
    "                     'figure.figsize':(25,7)})"
   ]
  },
  {
   "cell_type": "markdown",
   "id": "989a2bc7",
   "metadata": {},
   "source": [
    "Get the path to retrieve data from local folder"
   ]
  },
  {
   "cell_type": "markdown",
   "id": "33f0feba",
   "metadata": {},
   "source": [
    "#### Using the provided csv file to link qids with meaningful names for speakers metadata"
   ]
  },
  {
   "cell_type": "code",
   "execution_count": 4,
   "id": "5fb69b71",
   "metadata": {},
   "outputs": [],
   "source": [
    "df_lookup = pd.read_csv('wikidata_labels_descriptions_quotebank.csv.bz2',compression = 'bz2',index_col='QID')"
   ]
  },
  {
   "cell_type": "markdown",
   "id": "79c10707",
   "metadata": {},
   "source": [
    "## Speakers Aggregation"
   ]
  },
  {
   "cell_type": "markdown",
   "id": "1f0998d9",
   "metadata": {},
   "source": [
    "### Import quotes data"
   ]
  },
  {
   "cell_type": "code",
   "execution_count": 5,
   "id": "9ec2ba70",
   "metadata": {},
   "outputs": [],
   "source": [
    "#Retrieve the dataset containing all speakers with the fraction of the colloquial language \n",
    "#Import the speakers metadata\n",
    "#path = r'/Users/jules/kDrive/onedrive/Documents_Onedrive/EPFL/MA3/ADA/Project/Dataset/BIG_SAMPLE/'\n",
    "#file_path = path+'Sample_2020_classified.json.bz2'\n",
    "\n",
    "path = r'/Users/jules/kDrive/onedrive/Documents_Onedrive/EPFL/MA3/ADA/Project/Dataset/BIG_SAMPLE/Results_LR/'\n",
    "file_path = path+'df_quotes_pol_all_classified_2methods.json.bz2'"
   ]
  },
  {
   "cell_type": "code",
   "execution_count": 6,
   "id": "a34b79c8",
   "metadata": {},
   "outputs": [],
   "source": [
    "df_quotes =  pd.read_json(file_path,compression = 'bz2',lines = True)"
   ]
  },
  {
   "cell_type": "code",
   "execution_count": 7,
   "id": "2d88952c",
   "metadata": {},
   "outputs": [
    {
     "data": {
      "text/plain": [
       "Index(['quoteID', 'quotation', 'speaker', 'qid_unique', 'date', 'urls', 'p1',\n",
       "       'p2', 'delta_p', 'year', 'label', 'aliases', 'date_of_birth',\n",
       "       'nationality', 'gender', 'lastrevid', 'ethnic_group',\n",
       "       'US_congress_bio_ID', 'occupation', 'party', 'academic_degree', 'id',\n",
       "       'candidacy', 'type', 'religion', 'age', 'bi_party',\n",
       "       'colloquial_NaiveBayes', 'colloquial_contractions'],\n",
       "      dtype='object')"
      ]
     },
     "execution_count": 7,
     "metadata": {},
     "output_type": "execute_result"
    }
   ],
   "source": [
    "df_quotes.columns"
   ]
  },
  {
   "cell_type": "markdown",
   "id": "739f2bd7",
   "metadata": {},
   "source": [
    "### Import american politic speakers metadata"
   ]
  },
  {
   "cell_type": "code",
   "execution_count": 8,
   "id": "6f440f6f",
   "metadata": {},
   "outputs": [],
   "source": [
    "file_path = path+'df_speakers_pol.json.bz2'\n",
    "df_speakers_meta =  pd.read_json(file_path,compression = 'bz2',lines = True)"
   ]
  },
  {
   "cell_type": "code",
   "execution_count": 9,
   "id": "639ad671",
   "metadata": {},
   "outputs": [
    {
     "data": {
      "text/html": [
       "<div>\n",
       "<style scoped>\n",
       "    .dataframe tbody tr th:only-of-type {\n",
       "        vertical-align: middle;\n",
       "    }\n",
       "\n",
       "    .dataframe tbody tr th {\n",
       "        vertical-align: top;\n",
       "    }\n",
       "\n",
       "    .dataframe thead th {\n",
       "        text-align: right;\n",
       "    }\n",
       "</style>\n",
       "<table border=\"1\" class=\"dataframe\">\n",
       "  <thead>\n",
       "    <tr style=\"text-align: right;\">\n",
       "      <th></th>\n",
       "      <th>quoteID</th>\n",
       "      <th>quotation</th>\n",
       "      <th>speaker</th>\n",
       "      <th>qid_unique</th>\n",
       "      <th>date</th>\n",
       "      <th>urls</th>\n",
       "      <th>p1</th>\n",
       "      <th>p2</th>\n",
       "      <th>delta_p</th>\n",
       "      <th>year</th>\n",
       "      <th>...</th>\n",
       "      <th>party</th>\n",
       "      <th>academic_degree</th>\n",
       "      <th>id</th>\n",
       "      <th>candidacy</th>\n",
       "      <th>type</th>\n",
       "      <th>religion</th>\n",
       "      <th>age</th>\n",
       "      <th>bi_party</th>\n",
       "      <th>colloquial_NaiveBayes</th>\n",
       "      <th>colloquial_contractions</th>\n",
       "    </tr>\n",
       "  </thead>\n",
       "  <tbody>\n",
       "    <tr>\n",
       "      <th>0</th>\n",
       "      <td>2015-04-16-012993</td>\n",
       "      <td>Come, Son, Let Me Tell You A Lie,</td>\n",
       "      <td>Robert Johnson</td>\n",
       "      <td>Q16215328</td>\n",
       "      <td>2015-04-16 12:17:09</td>\n",
       "      <td>[http://mysanantonio.com/entertainment/article...</td>\n",
       "      <td>0.6719</td>\n",
       "      <td>0.2895</td>\n",
       "      <td>0.3824</td>\n",
       "      <td>2015</td>\n",
       "      <td>...</td>\n",
       "      <td>[Q29552]</td>\n",
       "      <td>None</td>\n",
       "      <td>Q16215328</td>\n",
       "      <td>None</td>\n",
       "      <td>item</td>\n",
       "      <td>None</td>\n",
       "      <td>46.0</td>\n",
       "      <td>Democrat</td>\n",
       "      <td>informal</td>\n",
       "      <td>0</td>\n",
       "    </tr>\n",
       "    <tr>\n",
       "      <th>1</th>\n",
       "      <td>2015-05-09-008197</td>\n",
       "      <td>Everybody grieves in their own way. I just wan...</td>\n",
       "      <td>Robert Johnson</td>\n",
       "      <td>Q16215328</td>\n",
       "      <td>2015-05-09 09:25:48</td>\n",
       "      <td>[http://www.foxbaltimore.com/news/features/top...</td>\n",
       "      <td>0.6130</td>\n",
       "      <td>0.2622</td>\n",
       "      <td>0.3508</td>\n",
       "      <td>2015</td>\n",
       "      <td>...</td>\n",
       "      <td>[Q29552]</td>\n",
       "      <td>None</td>\n",
       "      <td>Q16215328</td>\n",
       "      <td>None</td>\n",
       "      <td>item</td>\n",
       "      <td>None</td>\n",
       "      <td>46.0</td>\n",
       "      <td>Democrat</td>\n",
       "      <td>informal</td>\n",
       "      <td>0</td>\n",
       "    </tr>\n",
       "    <tr>\n",
       "      <th>2</th>\n",
       "      <td>2015-07-31-011595</td>\n",
       "      <td>But a vast minority of sex assault victims are...</td>\n",
       "      <td>Robert Johnson</td>\n",
       "      <td>Q16215328</td>\n",
       "      <td>2015-07-31 15:21:13</td>\n",
       "      <td>[http://pix11.com/2015/07/31/men-convicted-of-...</td>\n",
       "      <td>0.9152</td>\n",
       "      <td>0.0848</td>\n",
       "      <td>0.8304</td>\n",
       "      <td>2015</td>\n",
       "      <td>...</td>\n",
       "      <td>[Q29552]</td>\n",
       "      <td>None</td>\n",
       "      <td>Q16215328</td>\n",
       "      <td>None</td>\n",
       "      <td>item</td>\n",
       "      <td>None</td>\n",
       "      <td>46.0</td>\n",
       "      <td>Democrat</td>\n",
       "      <td>informal</td>\n",
       "      <td>0</td>\n",
       "    </tr>\n",
       "    <tr>\n",
       "      <th>3</th>\n",
       "      <td>2015-11-05-133940</td>\n",
       "      <td>We are running major law offices with major re...</td>\n",
       "      <td>Robert Johnson</td>\n",
       "      <td>Q16215328</td>\n",
       "      <td>2015-11-05 07:30:00</td>\n",
       "      <td>[http://www.nydailynews.com/new-york/exclusive...</td>\n",
       "      <td>0.7218</td>\n",
       "      <td>0.2288</td>\n",
       "      <td>0.4930</td>\n",
       "      <td>2015</td>\n",
       "      <td>...</td>\n",
       "      <td>[Q29552]</td>\n",
       "      <td>None</td>\n",
       "      <td>Q16215328</td>\n",
       "      <td>None</td>\n",
       "      <td>item</td>\n",
       "      <td>None</td>\n",
       "      <td>46.0</td>\n",
       "      <td>Democrat</td>\n",
       "      <td>informal</td>\n",
       "      <td>0</td>\n",
       "    </tr>\n",
       "    <tr>\n",
       "      <th>4</th>\n",
       "      <td>2015-12-23-026592</td>\n",
       "      <td>I did footings, I did walls. Right now, I'm up...</td>\n",
       "      <td>Robert Johnson</td>\n",
       "      <td>Q16215328</td>\n",
       "      <td>2015-12-23 14:38:25</td>\n",
       "      <td>[http://www.mprnews.org/story/2015/10/23/vikes...</td>\n",
       "      <td>0.7711</td>\n",
       "      <td>0.1818</td>\n",
       "      <td>0.5893</td>\n",
       "      <td>2015</td>\n",
       "      <td>...</td>\n",
       "      <td>[Q29552]</td>\n",
       "      <td>None</td>\n",
       "      <td>Q16215328</td>\n",
       "      <td>None</td>\n",
       "      <td>item</td>\n",
       "      <td>None</td>\n",
       "      <td>46.0</td>\n",
       "      <td>Democrat</td>\n",
       "      <td>informal</td>\n",
       "      <td>0</td>\n",
       "    </tr>\n",
       "    <tr>\n",
       "      <th>...</th>\n",
       "      <td>...</td>\n",
       "      <td>...</td>\n",
       "      <td>...</td>\n",
       "      <td>...</td>\n",
       "      <td>...</td>\n",
       "      <td>...</td>\n",
       "      <td>...</td>\n",
       "      <td>...</td>\n",
       "      <td>...</td>\n",
       "      <td>...</td>\n",
       "      <td>...</td>\n",
       "      <td>...</td>\n",
       "      <td>...</td>\n",
       "      <td>...</td>\n",
       "      <td>...</td>\n",
       "      <td>...</td>\n",
       "      <td>...</td>\n",
       "      <td>...</td>\n",
       "      <td>...</td>\n",
       "      <td>...</td>\n",
       "      <td>...</td>\n",
       "    </tr>\n",
       "    <tr>\n",
       "      <th>564653</th>\n",
       "      <td>2020-03-12-051570</td>\n",
       "      <td>People in this area are very in tune with what...</td>\n",
       "      <td>Marge Anderson</td>\n",
       "      <td>Q6760269</td>\n",
       "      <td>2020-03-12 04:29:22</td>\n",
       "      <td>[https://www.recorder.com/b1-Northfield-trash-...</td>\n",
       "      <td>0.8344</td>\n",
       "      <td>0.1656</td>\n",
       "      <td>0.6688</td>\n",
       "      <td>2020</td>\n",
       "      <td>...</td>\n",
       "      <td>None</td>\n",
       "      <td>None</td>\n",
       "      <td>Q6760269</td>\n",
       "      <td>None</td>\n",
       "      <td>item</td>\n",
       "      <td>None</td>\n",
       "      <td>89.0</td>\n",
       "      <td>None</td>\n",
       "      <td>informal</td>\n",
       "      <td>1</td>\n",
       "    </tr>\n",
       "    <tr>\n",
       "      <th>564654</th>\n",
       "      <td>2020-03-01-037715</td>\n",
       "      <td>to help spread facts, not fear.</td>\n",
       "      <td>Sabrina Cervantes</td>\n",
       "      <td>Q27890015</td>\n",
       "      <td>2020-03-01 01:42:05</td>\n",
       "      <td>[https://mynewsla.com/business/2020/02/29/offi...</td>\n",
       "      <td>0.8328</td>\n",
       "      <td>0.1561</td>\n",
       "      <td>0.6767</td>\n",
       "      <td>2020</td>\n",
       "      <td>...</td>\n",
       "      <td>[Q5020399]</td>\n",
       "      <td>None</td>\n",
       "      <td>Q27890015</td>\n",
       "      <td>None</td>\n",
       "      <td>item</td>\n",
       "      <td>None</td>\n",
       "      <td>34.0</td>\n",
       "      <td>None</td>\n",
       "      <td>informal</td>\n",
       "      <td>0</td>\n",
       "    </tr>\n",
       "    <tr>\n",
       "      <th>564655</th>\n",
       "      <td>2020-03-21-041323</td>\n",
       "      <td>We knew that we needed to do more to protect o...</td>\n",
       "      <td>Luis Alejo</td>\n",
       "      <td>Q6700297</td>\n",
       "      <td>2020-03-21 19:42:48</td>\n",
       "      <td>[https://www.montereyherald.com/2020/03/21/cov...</td>\n",
       "      <td>0.8260</td>\n",
       "      <td>0.1582</td>\n",
       "      <td>0.6678</td>\n",
       "      <td>2020</td>\n",
       "      <td>...</td>\n",
       "      <td>[Q29552]</td>\n",
       "      <td>None</td>\n",
       "      <td>Q6700297</td>\n",
       "      <td>None</td>\n",
       "      <td>item</td>\n",
       "      <td>None</td>\n",
       "      <td>47.0</td>\n",
       "      <td>Democrat</td>\n",
       "      <td>informal</td>\n",
       "      <td>0</td>\n",
       "    </tr>\n",
       "    <tr>\n",
       "      <th>564656</th>\n",
       "      <td>2020-01-28-083318</td>\n",
       "      <td>the Sheriff has enriched himself</td>\n",
       "      <td>Joel Robideaux</td>\n",
       "      <td>Q6213896</td>\n",
       "      <td>2020-01-28 00:28:26</td>\n",
       "      <td>[https://www.katc.com/news/lafayette-parish/lp...</td>\n",
       "      <td>0.7743</td>\n",
       "      <td>0.2182</td>\n",
       "      <td>0.5561</td>\n",
       "      <td>2020</td>\n",
       "      <td>...</td>\n",
       "      <td>[Q29468]</td>\n",
       "      <td>None</td>\n",
       "      <td>Q6213896</td>\n",
       "      <td>None</td>\n",
       "      <td>item</td>\n",
       "      <td>None</td>\n",
       "      <td>59.0</td>\n",
       "      <td>Republican</td>\n",
       "      <td>informal</td>\n",
       "      <td>0</td>\n",
       "    </tr>\n",
       "    <tr>\n",
       "      <th>564657</th>\n",
       "      <td>2020-01-28-018941</td>\n",
       "      <td>Fantastic sound quality, pairs easily. Works w...</td>\n",
       "      <td>Justin Everett</td>\n",
       "      <td>Q16210933</td>\n",
       "      <td>2020-01-28 01:00:31</td>\n",
       "      <td>[https://www.buzzfeed.com/yiyang/valentines-da...</td>\n",
       "      <td>0.9249</td>\n",
       "      <td>0.0752</td>\n",
       "      <td>0.8497</td>\n",
       "      <td>2020</td>\n",
       "      <td>...</td>\n",
       "      <td>[Q29468]</td>\n",
       "      <td>None</td>\n",
       "      <td>Q16210933</td>\n",
       "      <td>None</td>\n",
       "      <td>item</td>\n",
       "      <td>None</td>\n",
       "      <td>50.0</td>\n",
       "      <td>Republican</td>\n",
       "      <td>formal</td>\n",
       "      <td>1</td>\n",
       "    </tr>\n",
       "  </tbody>\n",
       "</table>\n",
       "<p>564658 rows × 29 columns</p>\n",
       "</div>"
      ],
      "text/plain": [
       "                  quoteID                                          quotation  \\\n",
       "0       2015-04-16-012993                  Come, Son, Let Me Tell You A Lie,   \n",
       "1       2015-05-09-008197  Everybody grieves in their own way. I just wan...   \n",
       "2       2015-07-31-011595  But a vast minority of sex assault victims are...   \n",
       "3       2015-11-05-133940  We are running major law offices with major re...   \n",
       "4       2015-12-23-026592  I did footings, I did walls. Right now, I'm up...   \n",
       "...                   ...                                                ...   \n",
       "564653  2020-03-12-051570  People in this area are very in tune with what...   \n",
       "564654  2020-03-01-037715                    to help spread facts, not fear.   \n",
       "564655  2020-03-21-041323  We knew that we needed to do more to protect o...   \n",
       "564656  2020-01-28-083318                   the Sheriff has enriched himself   \n",
       "564657  2020-01-28-018941  Fantastic sound quality, pairs easily. Works w...   \n",
       "\n",
       "                  speaker qid_unique                date  \\\n",
       "0          Robert Johnson  Q16215328 2015-04-16 12:17:09   \n",
       "1          Robert Johnson  Q16215328 2015-05-09 09:25:48   \n",
       "2          Robert Johnson  Q16215328 2015-07-31 15:21:13   \n",
       "3          Robert Johnson  Q16215328 2015-11-05 07:30:00   \n",
       "4          Robert Johnson  Q16215328 2015-12-23 14:38:25   \n",
       "...                   ...        ...                 ...   \n",
       "564653     Marge Anderson   Q6760269 2020-03-12 04:29:22   \n",
       "564654  Sabrina Cervantes  Q27890015 2020-03-01 01:42:05   \n",
       "564655         Luis Alejo   Q6700297 2020-03-21 19:42:48   \n",
       "564656     Joel Robideaux   Q6213896 2020-01-28 00:28:26   \n",
       "564657     Justin Everett  Q16210933 2020-01-28 01:00:31   \n",
       "\n",
       "                                                     urls      p1      p2  \\\n",
       "0       [http://mysanantonio.com/entertainment/article...  0.6719  0.2895   \n",
       "1       [http://www.foxbaltimore.com/news/features/top...  0.6130  0.2622   \n",
       "2       [http://pix11.com/2015/07/31/men-convicted-of-...  0.9152  0.0848   \n",
       "3       [http://www.nydailynews.com/new-york/exclusive...  0.7218  0.2288   \n",
       "4       [http://www.mprnews.org/story/2015/10/23/vikes...  0.7711  0.1818   \n",
       "...                                                   ...     ...     ...   \n",
       "564653  [https://www.recorder.com/b1-Northfield-trash-...  0.8344  0.1656   \n",
       "564654  [https://mynewsla.com/business/2020/02/29/offi...  0.8328  0.1561   \n",
       "564655  [https://www.montereyherald.com/2020/03/21/cov...  0.8260  0.1582   \n",
       "564656  [https://www.katc.com/news/lafayette-parish/lp...  0.7743  0.2182   \n",
       "564657  [https://www.buzzfeed.com/yiyang/valentines-da...  0.9249  0.0752   \n",
       "\n",
       "        delta_p  year  ...       party academic_degree         id candidacy  \\\n",
       "0        0.3824  2015  ...    [Q29552]            None  Q16215328      None   \n",
       "1        0.3508  2015  ...    [Q29552]            None  Q16215328      None   \n",
       "2        0.8304  2015  ...    [Q29552]            None  Q16215328      None   \n",
       "3        0.4930  2015  ...    [Q29552]            None  Q16215328      None   \n",
       "4        0.5893  2015  ...    [Q29552]            None  Q16215328      None   \n",
       "...         ...   ...  ...         ...             ...        ...       ...   \n",
       "564653   0.6688  2020  ...        None            None   Q6760269      None   \n",
       "564654   0.6767  2020  ...  [Q5020399]            None  Q27890015      None   \n",
       "564655   0.6678  2020  ...    [Q29552]            None   Q6700297      None   \n",
       "564656   0.5561  2020  ...    [Q29468]            None   Q6213896      None   \n",
       "564657   0.8497  2020  ...    [Q29468]            None  Q16210933      None   \n",
       "\n",
       "        type  religion   age    bi_party colloquial_NaiveBayes  \\\n",
       "0       item      None  46.0    Democrat              informal   \n",
       "1       item      None  46.0    Democrat              informal   \n",
       "2       item      None  46.0    Democrat              informal   \n",
       "3       item      None  46.0    Democrat              informal   \n",
       "4       item      None  46.0    Democrat              informal   \n",
       "...      ...       ...   ...         ...                   ...   \n",
       "564653  item      None  89.0        None              informal   \n",
       "564654  item      None  34.0        None              informal   \n",
       "564655  item      None  47.0    Democrat              informal   \n",
       "564656  item      None  59.0  Republican              informal   \n",
       "564657  item      None  50.0  Republican                formal   \n",
       "\n",
       "       colloquial_contractions  \n",
       "0                            0  \n",
       "1                            0  \n",
       "2                            0  \n",
       "3                            0  \n",
       "4                            0  \n",
       "...                        ...  \n",
       "564653                       1  \n",
       "564654                       0  \n",
       "564655                       0  \n",
       "564656                       0  \n",
       "564657                       1  \n",
       "\n",
       "[564658 rows x 29 columns]"
      ]
     },
     "execution_count": 9,
     "metadata": {},
     "output_type": "execute_result"
    }
   ],
   "source": [
    "df_quotes"
   ]
  },
  {
   "cell_type": "markdown",
   "id": "fc4bac17",
   "metadata": {},
   "source": [
    "### Group the qi by speaker"
   ]
  },
  {
   "cell_type": "code",
   "execution_count": 10,
   "id": "bf01d789",
   "metadata": {},
   "outputs": [],
   "source": [
    "#Transform str into 0/1\n",
    "def replace_binary(string):\n",
    "    if string == 'formal':\n",
    "        out = 0\n",
    "    elif string == 'informal':\n",
    "        out = 1\n",
    "    else:\n",
    "        out = None\n",
    "        \n",
    "    return out\n",
    "\n",
    "df_quotes['colloquial_NaiveBayes']=df_quotes['colloquial_NaiveBayes'].apply(lambda x: replace_binary(x))"
   ]
  },
  {
   "cell_type": "code",
   "execution_count": 11,
   "id": "b2301ff3",
   "metadata": {},
   "outputs": [
    {
     "data": {
      "text/plain": [
       "Index(['quoteID', 'quotation', 'speaker', 'qid_unique', 'date', 'urls', 'p1',\n",
       "       'p2', 'delta_p', 'year', 'label', 'aliases', 'date_of_birth',\n",
       "       'nationality', 'gender', 'lastrevid', 'ethnic_group',\n",
       "       'US_congress_bio_ID', 'occupation', 'party', 'academic_degree', 'id',\n",
       "       'candidacy', 'type', 'religion', 'age', 'bi_party',\n",
       "       'colloquial_NaiveBayes', 'colloquial_contractions'],\n",
       "      dtype='object')"
      ]
     },
     "execution_count": 11,
     "metadata": {},
     "output_type": "execute_result"
    }
   ],
   "source": [
    "df_quotes.columns"
   ]
  },
  {
   "cell_type": "code",
   "execution_count": 12,
   "id": "e80718a4",
   "metadata": {},
   "outputs": [],
   "source": [
    "#Remove Boris Johnson manually as it can be considered as UK politic instead of US politic\n",
    "todrop = df_quotes.loc[df_quotes['label']=='Boris Johnson'].index\n",
    "df_quotes.drop(labels=todrop,axis=0,inplace=True)"
   ]
  },
  {
   "cell_type": "code",
   "execution_count": 13,
   "id": "dca27527",
   "metadata": {},
   "outputs": [],
   "source": [
    "def groupby_method(df_quotes,df_speakers_meta,method):\n",
    "    \n",
    "    df_grouped = df_quotes.groupby(['qid_unique',method]).size().unstack(fill_value=0).reset_index()\n",
    "    df_grouped['quotes_number'] = df_grouped[1]+df_grouped[0]\n",
    "    df_grouped.sort_values(['quotes_number'], ascending=False) \n",
    "\n",
    "    # Create also a column (called \"fraction\") that computes the fraction of colloquial quotes over total quotations. (by speaker)\n",
    "    df_grouped['fraction']=df_grouped[1]/(df_grouped['quotes_number'])\n",
    "    df_grouped.reset_index().sort_values(['fraction'], ascending=False)\n",
    "    df_grouped.reset_index().sort_values(['quotes_number'], ascending=False)\n",
    "    #Merge with speakers metadata\n",
    "    df_aggreg = df_grouped.merge(df_speakers_meta,how='inner',left_on='qid_unique', right_on='id')\n",
    "    df_aggreg=df_aggreg.reset_index().sort_values(['quotes_number'], ascending=False)\n",
    "    return df_aggreg"
   ]
  },
  {
   "cell_type": "code",
   "execution_count": 14,
   "id": "dcc71f51",
   "metadata": {},
   "outputs": [],
   "source": [
    "df_aggreg_Naive = groupby_method(df_quotes,df_speakers_meta,'colloquial_NaiveBayes')\n",
    "df_aggreg_contractions = groupby_method(df_quotes,df_speakers_meta,'colloquial_contractions')"
   ]
  },
  {
   "cell_type": "markdown",
   "id": "3cb651a2",
   "metadata": {},
   "source": [
    "## Compute statistics"
   ]
  },
  {
   "cell_type": "code",
   "execution_count": 55,
   "id": "92a4f8cc",
   "metadata": {},
   "outputs": [],
   "source": [
    "size_number = 16\n",
    "plt.rc('font', size=size_number) #controls default text size\n",
    "plt.rc('axes', titlesize=size_number) #fontsize of the title\n",
    "plt.rc('axes', labelsize=size_number) #fontsize of the x and y labels\n",
    "plt.rc('xtick', labelsize=size_number) #fontsize of the x tick labels\n",
    "plt.rc('ytick', labelsize=size_number) #fontsize of the y tick labels\n",
    "plt.rc('legend', fontsize=size_number) #fontsize of the legend"
   ]
  },
  {
   "cell_type": "markdown",
   "id": "5890ebb0",
   "metadata": {},
   "source": [
    "### Plot distribution of quotations number per speaker"
   ]
  },
  {
   "cell_type": "code",
   "execution_count": 50,
   "id": "827ac335",
   "metadata": {},
   "outputs": [
    {
     "data": {
      "image/png": "[encoded data removed]",
      "text/plain": [
       "<Figure size 1800x504 with 1 Axes>"
      ]
     },
     "metadata": {
      "needs_background": "light"
     },
     "output_type": "display_data"
    }
   ],
   "source": [
    "plt.hist(df_aggreg_Naive['quotes_number'],bins=200,log=True);\n",
    "plt.xlabel('Number of quotes'); #power law"
   ]
  },
  {
   "cell_type": "code",
   "execution_count": 51,
   "id": "c0726657",
   "metadata": {},
   "outputs": [
    {
     "data": {
      "text/plain": [
       "Text(0.5, 0, 'Occurrence fraction')"
      ]
     },
     "execution_count": 51,
     "metadata": {},
     "output_type": "execute_result"
    },
    {
     "data": {
      "image/png": "[encoded data removed]",
      "text/plain": [
       "<Figure size 1800x504 with 1 Axes>"
      ]
     },
     "metadata": {
      "needs_background": "light"
     },
     "output_type": "display_data"
    }
   ],
   "source": [
    "df_plot = df_aggreg_Naive[df_aggreg_Naive['quotes_number']>50]\n",
    "\n",
    "plt.hist(df_plot['fraction'],bins=100,log=False);\n",
    "plt.xlabel('Colloquial fraction')\n",
    "plt.xlabel('Occurrence fraction')"
   ]
  },
  {
   "cell_type": "code",
   "execution_count": 52,
   "id": "32c83f2f",
   "metadata": {},
   "outputs": [
    {
     "name": "stderr",
     "output_type": "stream",
     "text": [
      "C:\\Users\\jules\\AppData\\Local\\Temp/ipykernel_16264/1127354628.py:7: SettingWithCopyWarning: \n",
      "A value is trying to be set on a copy of a slice from a DataFrame.\n",
      "Try using .loc[row_indexer,col_indexer] = value instead\n",
      "\n",
      "See the caveats in the documentation: https://pandas.pydata.org/pandas-docs/stable/user_guide/indexing.html#returning-a-view-versus-a-copy\n",
      "  df_aggreg_Naive_filt['Classification method'] = 'Naive_Bayes'\n",
      "C:\\Users\\jules\\AppData\\Local\\Temp/ipykernel_16264/1127354628.py:8: SettingWithCopyWarning: \n",
      "A value is trying to be set on a copy of a slice from a DataFrame.\n",
      "Try using .loc[row_indexer,col_indexer] = value instead\n",
      "\n",
      "See the caveats in the documentation: https://pandas.pydata.org/pandas-docs/stable/user_guide/indexing.html#returning-a-view-versus-a-copy\n",
      "  df_aggreg_contractions_filt['Classification method'] = 'contractions'\n"
     ]
    }
   ],
   "source": [
    "#Keep only speakers who have a number of quotes larger than a specific threshold\n",
    "thresh = 50 \n",
    "df_aggreg_Naive_filt = df_aggreg_Naive[df_aggreg_Naive['quotes_number']>thresh]\n",
    "df_aggreg_contractions_filt =df_aggreg_contractions[df_aggreg_contractions['quotes_number']>thresh]\n",
    "\n",
    "#Specify the method used in this case \n",
    "df_aggreg_Naive_filt['Classification method'] = 'Naive_Bayes'\n",
    "df_aggreg_contractions_filt['Classification method'] = 'contractions'\n",
    "\n",
    "#Define a dataframe for plotting with entries for two classification methods\n",
    "df_plot = pd.concat([df_aggreg_Naive_filt,df_aggreg_contractions_filt])"
   ]
  },
  {
   "cell_type": "markdown",
   "id": "9b0b423b",
   "metadata": {},
   "source": [
    "### Compute statistics on the colloquial fraction of speaker "
   ]
  },
  {
   "cell_type": "code",
   "execution_count": 62,
   "id": "ad09f9b6",
   "metadata": {},
   "outputs": [],
   "source": [
    "size_number = 22\n",
    "plt.rc('font', size=size_number) #controls default text size\n",
    "plt.rc('axes', titlesize=size_number) #fontsize of the title\n",
    "plt.rc('axes', labelsize=size_number) #fontsize of the x and y labels\n",
    "plt.rc('xtick', labelsize=size_number) #fontsize of the x tick labels\n",
    "plt.rc('ytick', labelsize=size_number) #fontsize of the y tick labels\n",
    "plt.rc('legend', fontsize=size_number) #fontsize of the legend"
   ]
  },
  {
   "cell_type": "code",
   "execution_count": 63,
   "id": "1e1853c9",
   "metadata": {},
   "outputs": [
    {
     "data": {
      "image/png": "[encoded data removed]",
      "text/plain": [
       "<Figure size 1800x504 with 1 Axes>"
      ]
     },
     "metadata": {
      "needs_background": "light"
     },
     "output_type": "display_data"
    }
   ],
   "source": [
    "#Build boxplots for two methods\n",
    "\n",
    "fig,ax =plt.subplots(1,1)\n",
    "ax=sns.boxplot(x='Classification method',y=\"fraction\",data=df_plot,palette=\"colorblind\",order=['Naive_Bayes','contractions'])\n",
    "ax.set_xlabel('Classification Method')\n",
    "ax.set_ylabel('Colloquial fraction by speaker')\n",
    "    \n",
    "path =r'/Users/jules/kDrive/onedrive/Documents_Onedrive/EPFL/MA3/ADA/Project/Figures/'\n",
    "fig.savefig(path+'fraction_distribution.svg',format = 'svg',bbox_inches='tight')\n",
    "fig.savefig(path+'fraction_distribution.png',format = 'png',bbox_inches='tight')"
   ]
  },
  {
   "cell_type": "markdown",
   "id": "931c095e",
   "metadata": {},
   "source": [
    "### Top 10 speakers per number of quotes"
   ]
  },
  {
   "cell_type": "code",
   "execution_count": 19,
   "id": "ba9ea790",
   "metadata": {},
   "outputs": [
    {
     "data": {
      "text/plain": [
       "Text(0, 0.5, 'Number of quotes')"
      ]
     },
     "execution_count": 19,
     "metadata": {},
     "output_type": "execute_result"
    },
    {
     "data": {
      "image/png": "[encoded data removed]",
      "text/plain": [
       "<Figure size 1800x504 with 1 Axes>"
      ]
     },
     "metadata": {
      "needs_background": "light"
     },
     "output_type": "display_data"
    }
   ],
   "source": [
    "\n",
    "ax = sns.barplot(x=\"label\", y=\"quotes_number\", data=df_plot[:10])\n",
    "ax.set_ylabel('Number of quotes')"
   ]
  },
  {
   "cell_type": "markdown",
   "id": "b0f5e6e7",
   "metadata": {},
   "source": [
    "### Colloquial fraction (according the two methods) of 10 most represented speakers"
   ]
  },
  {
   "cell_type": "code",
   "execution_count": 46,
   "id": "28b78d3d",
   "metadata": {},
   "outputs": [
    {
     "data": {
      "image/png": "[encoded data removed]",
      "text/plain": [
       "<Figure size 1625.92x360 with 1 Axes>"
      ]
     },
     "metadata": {
      "needs_background": "light"
     },
     "output_type": "display_data"
    }
   ],
   "source": [
    "df_plot_top10= pd.concat([df_aggreg_Naive_filt[:10],df_aggreg_contractions_filt[:10]])\n",
    "ax = sns.catplot(x=\"label\", y=\"fraction\", hue=\"Classification method\",data=df_plot_top10, kind=\"bar\",legend_out=True,palette='colorblind',height=5,aspect=4);\n",
    "ax.set_axis_labels('Speaker Name', 'Average Colloquial Fraction');\n",
    "ax.set(ylim=(0, 1))\n",
    "#fig.set_size_inches(1, 1)"
   ]
  },
  {
   "cell_type": "code",
   "execution_count": 48,
   "id": "6446cfb1",
   "metadata": {},
   "outputs": [],
   "source": [
    "#Save figures\n",
    "path =r'/Users/jules/kDrive/onedrive/Documents_Onedrive/EPFL/MA3/ADA/Project/Figures/'\n",
    "ax.savefig(path+'polAgrregPlot_top10_quotesnumber.svg',format = 'svg',bbox_inches='tight',dpi=200)\n",
    "ax.savefig(path+'polAgrregPlot_top10_quotesnumber.png',format = 'png',bbox_inches='tight',dpi=200)"
   ]
  },
  {
   "cell_type": "code",
   "execution_count": 21,
   "id": "2fdec964",
   "metadata": {},
   "outputs": [
    {
     "data": {
      "text/html": [
       "<div>\n",
       "<style scoped>\n",
       "    .dataframe tbody tr th:only-of-type {\n",
       "        vertical-align: middle;\n",
       "    }\n",
       "\n",
       "    .dataframe tbody tr th {\n",
       "        vertical-align: top;\n",
       "    }\n",
       "\n",
       "    .dataframe thead th {\n",
       "        text-align: right;\n",
       "    }\n",
       "</style>\n",
       "<table border=\"1\" class=\"dataframe\">\n",
       "  <thead>\n",
       "    <tr style=\"text-align: right;\">\n",
       "      <th></th>\n",
       "      <th>index</th>\n",
       "      <th>qid_unique</th>\n",
       "      <th>0</th>\n",
       "      <th>1</th>\n",
       "      <th>quotes_number</th>\n",
       "      <th>fraction</th>\n",
       "      <th>label</th>\n",
       "      <th>aliases</th>\n",
       "      <th>date_of_birth</th>\n",
       "      <th>nationality</th>\n",
       "      <th>...</th>\n",
       "      <th>occupation</th>\n",
       "      <th>party</th>\n",
       "      <th>academic_degree</th>\n",
       "      <th>id</th>\n",
       "      <th>candidacy</th>\n",
       "      <th>type</th>\n",
       "      <th>religion</th>\n",
       "      <th>age</th>\n",
       "      <th>bi_party</th>\n",
       "      <th>Classification method</th>\n",
       "    </tr>\n",
       "  </thead>\n",
       "  <tbody>\n",
       "    <tr>\n",
       "      <th>7133</th>\n",
       "      <td>7133</td>\n",
       "      <td>Q76</td>\n",
       "      <td>9172</td>\n",
       "      <td>10496</td>\n",
       "      <td>19668</td>\n",
       "      <td>0.533659</td>\n",
       "      <td>Barack Obama</td>\n",
       "      <td>[Barack Hussein Obama II, Barack Obama II, Bar...</td>\n",
       "      <td>-2.654208e+11</td>\n",
       "      <td>[Q30]</td>\n",
       "      <td>...</td>\n",
       "      <td>[Q82955, Q40348, Q15958642, Q28532974, Q372436]</td>\n",
       "      <td>[Q29552]</td>\n",
       "      <td>[Q1765120, Q1540185]</td>\n",
       "      <td>Q76</td>\n",
       "      <td>[Q3586671, Q45578, Q4226, Q4791768, Q17067714,...</td>\n",
       "      <td>item</td>\n",
       "      <td>[Q23540, Q1062789, Q960252, Q426316]</td>\n",
       "      <td>60.0</td>\n",
       "      <td>Democrat</td>\n",
       "      <td>Naive_Bayes</td>\n",
       "    </tr>\n",
       "    <tr>\n",
       "      <th>3262</th>\n",
       "      <td>3262</td>\n",
       "      <td>Q359442</td>\n",
       "      <td>6449</td>\n",
       "      <td>7149</td>\n",
       "      <td>13598</td>\n",
       "      <td>0.525739</td>\n",
       "      <td>Bernie Sanders</td>\n",
       "      <td>[Bernard Sanders]</td>\n",
       "      <td>-8.935488e+11</td>\n",
       "      <td>[Q30]</td>\n",
       "      <td>...</td>\n",
       "      <td>[Q82955, Q1930187, Q154549, Q1622272, Q36180, ...</td>\n",
       "      <td>[Q6542163, Q29552, Q327591, Q327591, Q29552]</td>\n",
       "      <td>[Q1765120]</td>\n",
       "      <td>Q359442</td>\n",
       "      <td>None</td>\n",
       "      <td>item</td>\n",
       "      <td>[Q9268]</td>\n",
       "      <td>80.0</td>\n",
       "      <td>Democrat</td>\n",
       "      <td>Naive_Bayes</td>\n",
       "    </tr>\n",
       "    <tr>\n",
       "      <th>5693</th>\n",
       "      <td>5693</td>\n",
       "      <td>Q6294</td>\n",
       "      <td>4300</td>\n",
       "      <td>7945</td>\n",
       "      <td>12245</td>\n",
       "      <td>0.648836</td>\n",
       "      <td>Hillary Clinton</td>\n",
       "      <td>[Hillary Rodham Clinton, Hillary Rodham, Hilla...</td>\n",
       "      <td>-7.000992e+11</td>\n",
       "      <td>[Q30]</td>\n",
       "      <td>...</td>\n",
       "      <td>[Q82955, Q40348, Q193391, Q36180, Q18814623, Q...</td>\n",
       "      <td>[Q29552, Q29468]</td>\n",
       "      <td>[Q163727, Q1540185]</td>\n",
       "      <td>Q6294</td>\n",
       "      <td>[Q699872, Q4791768]</td>\n",
       "      <td>item</td>\n",
       "      <td>[Q33203]</td>\n",
       "      <td>74.0</td>\n",
       "      <td>Republican</td>\n",
       "      <td>Naive_Bayes</td>\n",
       "    </tr>\n",
       "    <tr>\n",
       "      <th>50</th>\n",
       "      <td>50</td>\n",
       "      <td>Q11673</td>\n",
       "      <td>3904</td>\n",
       "      <td>4982</td>\n",
       "      <td>8886</td>\n",
       "      <td>0.560657</td>\n",
       "      <td>Andrew Cuomo</td>\n",
       "      <td>[Andrew Mark Cuomo]</td>\n",
       "      <td>-3.809376e+11</td>\n",
       "      <td>[Q30]</td>\n",
       "      <td>...</td>\n",
       "      <td>[Q40348, Q82955]</td>\n",
       "      <td>[Q29552]</td>\n",
       "      <td>[Q1540185]</td>\n",
       "      <td>Q11673</td>\n",
       "      <td>[Q22023432, Q65047185]</td>\n",
       "      <td>item</td>\n",
       "      <td>[Q1841]</td>\n",
       "      <td>64.0</td>\n",
       "      <td>Democrat</td>\n",
       "      <td>Naive_Bayes</td>\n",
       "    </tr>\n",
       "    <tr>\n",
       "      <th>3395</th>\n",
       "      <td>3395</td>\n",
       "      <td>Q434706</td>\n",
       "      <td>3243</td>\n",
       "      <td>4263</td>\n",
       "      <td>7506</td>\n",
       "      <td>0.567946</td>\n",
       "      <td>Elizabeth Warren</td>\n",
       "      <td>[Elizabeth Ann Warren, Senator Warren, Elisabe...</td>\n",
       "      <td>-6.478272e+11</td>\n",
       "      <td>[Q30]</td>\n",
       "      <td>...</td>\n",
       "      <td>[Q185351, Q82955, Q37226, Q1622272, Q40348, Q1...</td>\n",
       "      <td>[Q29552]</td>\n",
       "      <td>[Q163727, Q1540185]</td>\n",
       "      <td>Q434706</td>\n",
       "      <td>[Q28220813]</td>\n",
       "      <td>item</td>\n",
       "      <td>[Q33203]</td>\n",
       "      <td>72.0</td>\n",
       "      <td>Democrat</td>\n",
       "      <td>Naive_Bayes</td>\n",
       "    </tr>\n",
       "    <tr>\n",
       "      <th>...</th>\n",
       "      <td>...</td>\n",
       "      <td>...</td>\n",
       "      <td>...</td>\n",
       "      <td>...</td>\n",
       "      <td>...</td>\n",
       "      <td>...</td>\n",
       "      <td>...</td>\n",
       "      <td>...</td>\n",
       "      <td>...</td>\n",
       "      <td>...</td>\n",
       "      <td>...</td>\n",
       "      <td>...</td>\n",
       "      <td>...</td>\n",
       "      <td>...</td>\n",
       "      <td>...</td>\n",
       "      <td>...</td>\n",
       "      <td>...</td>\n",
       "      <td>...</td>\n",
       "      <td>...</td>\n",
       "      <td>...</td>\n",
       "      <td>...</td>\n",
       "    </tr>\n",
       "    <tr>\n",
       "      <th>1517</th>\n",
       "      <td>1517</td>\n",
       "      <td>Q16730078</td>\n",
       "      <td>41</td>\n",
       "      <td>10</td>\n",
       "      <td>51</td>\n",
       "      <td>0.196078</td>\n",
       "      <td>Celia Israel</td>\n",
       "      <td>None</td>\n",
       "      <td>-1.724544e+11</td>\n",
       "      <td>[Q30]</td>\n",
       "      <td>...</td>\n",
       "      <td>[Q82955]</td>\n",
       "      <td>[Q29552]</td>\n",
       "      <td>None</td>\n",
       "      <td>Q16730078</td>\n",
       "      <td>None</td>\n",
       "      <td>item</td>\n",
       "      <td>None</td>\n",
       "      <td>57.0</td>\n",
       "      <td>Democrat</td>\n",
       "      <td>contractions</td>\n",
       "    </tr>\n",
       "    <tr>\n",
       "      <th>6581</th>\n",
       "      <td>6581</td>\n",
       "      <td>Q7172112</td>\n",
       "      <td>50</td>\n",
       "      <td>1</td>\n",
       "      <td>51</td>\n",
       "      <td>0.019608</td>\n",
       "      <td>Pete Lopez</td>\n",
       "      <td>None</td>\n",
       "      <td>-2.754432e+11</td>\n",
       "      <td>[Q30]</td>\n",
       "      <td>...</td>\n",
       "      <td>[Q82955]</td>\n",
       "      <td>[Q29468]</td>\n",
       "      <td>None</td>\n",
       "      <td>Q7172112</td>\n",
       "      <td>None</td>\n",
       "      <td>item</td>\n",
       "      <td>None</td>\n",
       "      <td>60.0</td>\n",
       "      <td>Republican</td>\n",
       "      <td>contractions</td>\n",
       "    </tr>\n",
       "    <tr>\n",
       "      <th>2762</th>\n",
       "      <td>2762</td>\n",
       "      <td>Q22338</td>\n",
       "      <td>40</td>\n",
       "      <td>11</td>\n",
       "      <td>51</td>\n",
       "      <td>0.215686</td>\n",
       "      <td>Mary Landrieu</td>\n",
       "      <td>[Mary Loretta Landrieu]</td>\n",
       "      <td>-4.452192e+11</td>\n",
       "      <td>[Q30]</td>\n",
       "      <td>...</td>\n",
       "      <td>[Q82955]</td>\n",
       "      <td>[Q29552]</td>\n",
       "      <td>None</td>\n",
       "      <td>Q22338</td>\n",
       "      <td>None</td>\n",
       "      <td>item</td>\n",
       "      <td>[Q9592]</td>\n",
       "      <td>66.0</td>\n",
       "      <td>Democrat</td>\n",
       "      <td>contractions</td>\n",
       "    </tr>\n",
       "    <tr>\n",
       "      <th>4281</th>\n",
       "      <td>4281</td>\n",
       "      <td>Q51754461</td>\n",
       "      <td>45</td>\n",
       "      <td>6</td>\n",
       "      <td>51</td>\n",
       "      <td>0.117647</td>\n",
       "      <td>Gina Ortiz Jones</td>\n",
       "      <td>None</td>\n",
       "      <td>3.498336e+11</td>\n",
       "      <td>[Q30]</td>\n",
       "      <td>...</td>\n",
       "      <td>[Q82955]</td>\n",
       "      <td>[Q29552]</td>\n",
       "      <td>None</td>\n",
       "      <td>Q51754461</td>\n",
       "      <td>None</td>\n",
       "      <td>item</td>\n",
       "      <td>None</td>\n",
       "      <td>40.0</td>\n",
       "      <td>Democrat</td>\n",
       "      <td>contractions</td>\n",
       "    </tr>\n",
       "    <tr>\n",
       "      <th>1676</th>\n",
       "      <td>1676</td>\n",
       "      <td>Q16735155</td>\n",
       "      <td>45</td>\n",
       "      <td>6</td>\n",
       "      <td>51</td>\n",
       "      <td>0.117647</td>\n",
       "      <td>Ron Reynolds</td>\n",
       "      <td>None</td>\n",
       "      <td>NaN</td>\n",
       "      <td>[Q30]</td>\n",
       "      <td>...</td>\n",
       "      <td>[Q82955]</td>\n",
       "      <td>[Q29552]</td>\n",
       "      <td>None</td>\n",
       "      <td>Q16735155</td>\n",
       "      <td>None</td>\n",
       "      <td>item</td>\n",
       "      <td>None</td>\n",
       "      <td>NaN</td>\n",
       "      <td>Democrat</td>\n",
       "      <td>contractions</td>\n",
       "    </tr>\n",
       "  </tbody>\n",
       "</table>\n",
       "<p>3064 rows × 24 columns</p>\n",
       "</div>"
      ],
      "text/plain": [
       "      index qid_unique     0      1  quotes_number  fraction  \\\n",
       "7133   7133        Q76  9172  10496          19668  0.533659   \n",
       "3262   3262    Q359442  6449   7149          13598  0.525739   \n",
       "5693   5693      Q6294  4300   7945          12245  0.648836   \n",
       "50       50     Q11673  3904   4982           8886  0.560657   \n",
       "3395   3395    Q434706  3243   4263           7506  0.567946   \n",
       "...     ...        ...   ...    ...            ...       ...   \n",
       "1517   1517  Q16730078    41     10             51  0.196078   \n",
       "6581   6581   Q7172112    50      1             51  0.019608   \n",
       "2762   2762     Q22338    40     11             51  0.215686   \n",
       "4281   4281  Q51754461    45      6             51  0.117647   \n",
       "1676   1676  Q16735155    45      6             51  0.117647   \n",
       "\n",
       "                 label                                            aliases  \\\n",
       "7133      Barack Obama  [Barack Hussein Obama II, Barack Obama II, Bar...   \n",
       "3262    Bernie Sanders                                  [Bernard Sanders]   \n",
       "5693   Hillary Clinton  [Hillary Rodham Clinton, Hillary Rodham, Hilla...   \n",
       "50        Andrew Cuomo                                [Andrew Mark Cuomo]   \n",
       "3395  Elizabeth Warren  [Elizabeth Ann Warren, Senator Warren, Elisabe...   \n",
       "...                ...                                                ...   \n",
       "1517      Celia Israel                                               None   \n",
       "6581        Pete Lopez                                               None   \n",
       "2762     Mary Landrieu                            [Mary Loretta Landrieu]   \n",
       "4281  Gina Ortiz Jones                                               None   \n",
       "1676      Ron Reynolds                                               None   \n",
       "\n",
       "      date_of_birth nationality  ...  \\\n",
       "7133  -2.654208e+11       [Q30]  ...   \n",
       "3262  -8.935488e+11       [Q30]  ...   \n",
       "5693  -7.000992e+11       [Q30]  ...   \n",
       "50    -3.809376e+11       [Q30]  ...   \n",
       "3395  -6.478272e+11       [Q30]  ...   \n",
       "...             ...         ...  ...   \n",
       "1517  -1.724544e+11       [Q30]  ...   \n",
       "6581  -2.754432e+11       [Q30]  ...   \n",
       "2762  -4.452192e+11       [Q30]  ...   \n",
       "4281   3.498336e+11       [Q30]  ...   \n",
       "1676            NaN       [Q30]  ...   \n",
       "\n",
       "                                             occupation  \\\n",
       "7133    [Q82955, Q40348, Q15958642, Q28532974, Q372436]   \n",
       "3262  [Q82955, Q1930187, Q154549, Q1622272, Q36180, ...   \n",
       "5693  [Q82955, Q40348, Q193391, Q36180, Q18814623, Q...   \n",
       "50                                     [Q40348, Q82955]   \n",
       "3395  [Q185351, Q82955, Q37226, Q1622272, Q40348, Q1...   \n",
       "...                                                 ...   \n",
       "1517                                           [Q82955]   \n",
       "6581                                           [Q82955]   \n",
       "2762                                           [Q82955]   \n",
       "4281                                           [Q82955]   \n",
       "1676                                           [Q82955]   \n",
       "\n",
       "                                             party       academic_degree  \\\n",
       "7133                                      [Q29552]  [Q1765120, Q1540185]   \n",
       "3262  [Q6542163, Q29552, Q327591, Q327591, Q29552]            [Q1765120]   \n",
       "5693                              [Q29552, Q29468]   [Q163727, Q1540185]   \n",
       "50                                        [Q29552]            [Q1540185]   \n",
       "3395                                      [Q29552]   [Q163727, Q1540185]   \n",
       "...                                            ...                   ...   \n",
       "1517                                      [Q29552]                  None   \n",
       "6581                                      [Q29468]                  None   \n",
       "2762                                      [Q29552]                  None   \n",
       "4281                                      [Q29552]                  None   \n",
       "1676                                      [Q29552]                  None   \n",
       "\n",
       "             id                                          candidacy  type  \\\n",
       "7133        Q76  [Q3586671, Q45578, Q4226, Q4791768, Q17067714,...  item   \n",
       "3262    Q359442                                               None  item   \n",
       "5693      Q6294                                [Q699872, Q4791768]  item   \n",
       "50       Q11673                             [Q22023432, Q65047185]  item   \n",
       "3395    Q434706                                        [Q28220813]  item   \n",
       "...         ...                                                ...   ...   \n",
       "1517  Q16730078                                               None  item   \n",
       "6581   Q7172112                                               None  item   \n",
       "2762     Q22338                                               None  item   \n",
       "4281  Q51754461                                               None  item   \n",
       "1676  Q16735155                                               None  item   \n",
       "\n",
       "                                  religion   age    bi_party  \\\n",
       "7133  [Q23540, Q1062789, Q960252, Q426316]  60.0    Democrat   \n",
       "3262                               [Q9268]  80.0    Democrat   \n",
       "5693                              [Q33203]  74.0  Republican   \n",
       "50                                 [Q1841]  64.0    Democrat   \n",
       "3395                              [Q33203]  72.0    Democrat   \n",
       "...                                    ...   ...         ...   \n",
       "1517                                  None  57.0    Democrat   \n",
       "6581                                  None  60.0  Republican   \n",
       "2762                               [Q9592]  66.0    Democrat   \n",
       "4281                                  None  40.0    Democrat   \n",
       "1676                                  None   NaN    Democrat   \n",
       "\n",
       "     Classification method  \n",
       "7133           Naive_Bayes  \n",
       "3262           Naive_Bayes  \n",
       "5693           Naive_Bayes  \n",
       "50             Naive_Bayes  \n",
       "3395           Naive_Bayes  \n",
       "...                    ...  \n",
       "1517          contractions  \n",
       "6581          contractions  \n",
       "2762          contractions  \n",
       "4281          contractions  \n",
       "1676          contractions  \n",
       "\n",
       "[3064 rows x 24 columns]"
      ]
     },
     "execution_count": 21,
     "metadata": {},
     "output_type": "execute_result"
    }
   ],
   "source": [
    "df_plot"
   ]
  },
  {
   "cell_type": "markdown",
   "id": "b256e440",
   "metadata": {},
   "source": [
    "### Top 10 colloquial  speakers "
   ]
  },
  {
   "cell_type": "code",
   "execution_count": 57,
   "id": "bced0324",
   "metadata": {},
   "outputs": [
    {
     "data": {
      "image/png": "[encoded data removed]",
      "text/plain": [
       "<Figure size 1800x504 with 1 Axes>"
      ]
     },
     "metadata": {
      "needs_background": "light"
     },
     "output_type": "display_data"
    }
   ],
   "source": [
    "#Consider only speakers that have more than a specific number of quotes\n",
    "df_plot2=df_aggreg_Naive_filt.reset_index().sort_values(['fraction'], ascending=False)\n",
    "\n",
    "fig,ax = plt.subplots(1,1)\n",
    "ax = sns.barplot(x=\"label\", y=\"fraction\", data=df_plot2[:10])\n",
    "ax.set_xlabel('Speaker Name')\n",
    "ax.set_ylabel('Average colloquial fraction')\n",
    "ax.set_title('Top 10 colloquial speakers (>50 quotes) classified with Naive-Bayes method')\n",
    "path =r'/Users/jules/kDrive/onedrive/Documents_Onedrive/EPFL/MA3/ADA/Project/Figures/'\n",
    "fig.savefig(path+'polAgrregPlot_top10_Naive.svg',format = 'svg',bbox_inches='tight',dpi=400)\n",
    "fig.savefig(path+'polAgrregPlot_top10_Naive.png',format = 'png',bbox_inches='tight',dpi=400)"
   ]
  },
  {
   "cell_type": "code",
   "execution_count": 23,
   "id": "845399a5",
   "metadata": {},
   "outputs": [
    {
     "data": {
      "image/png": "[encoded data removed]",
      "text/plain": [
       "<Figure size 1800x504 with 1 Axes>"
      ]
     },
     "metadata": {
      "needs_background": "light"
     },
     "output_type": "display_data"
    }
   ],
   "source": [
    "df_plot3=df_aggreg_contractions_filt.reset_index().sort_values(['fraction'], ascending=False)\n",
    "ax = sns.barplot(x=\"label\", y=\"fraction\", data=df_plot3[:10])\n",
    "ax.set_title('Top 10 colloquial speakers with contractions method')\n",
    "ax.set_xlabel('Speaker Name')\n",
    "ax.set_ylabel('Average colloquial fraction')\n",
    "path =r'/Users/jules/kDrive/onedrive/Documents_Onedrive/EPFL/MA3/ADA/Project/Figures/'\n",
    "fig.savefig(path+'polAgrregPlot_top10_contractions.svg',format = 'svg',bbox_inches='tight')\n",
    "fig.savefig(path+'polAgrregPlot_top10_contractions.png',format = 'png',bbox_inches='tight')"
   ]
  },
  {
   "cell_type": "code",
   "execution_count": 64,
   "id": "ee28613c",
   "metadata": {},
   "outputs": [],
   "source": [
    "size_number = 14\n",
    "plt.rc('font', size=size_number) #controls default text size\n",
    "plt.rc('axes', titlesize=size_number) #fontsize of the title\n",
    "plt.rc('axes', labelsize=size_number) #fontsize of the x and y labels\n",
    "plt.rc('xtick', labelsize=size_number) #fontsize of the x tick labels\n",
    "plt.rc('ytick', labelsize=size_number) #fontsize of the y tick labels\n",
    "plt.rc('legend', fontsize=size_number) #fontsize of the legend"
   ]
  },
  {
   "cell_type": "code",
   "execution_count": 65,
   "id": "3299c04f",
   "metadata": {},
   "outputs": [
    {
     "data": {
      "image/png": "[encoded data removed]",
      "text/plain": [
       "<Figure size 1800x504 with 1 Axes>"
      ]
     },
     "metadata": {
      "needs_background": "light"
     },
     "output_type": "display_data"
    }
   ],
   "source": [
    "df_plot3=df_aggreg_Naive_filt.reset_index().sort_values(['fraction'], ascending=True)\n",
    "fig,ax = plt.subplots(1,1)\n",
    "ax = sns.barplot(x=\"label\", y=\"fraction\", data=df_plot3[:10])\n",
    "ax.set_xlabel('Speaker Name')\n",
    "ax.set_ylabel('Average colloquial fraction')\n",
    "ax.set_title('Top 10 formal speakers (>50 quotes) classified with Naive-Bayes method')\n",
    "path =r'/Users/jules/kDrive/onedrive/Documents_Onedrive/EPFL/MA3/ADA/Project/Figures/'\n",
    "fig.savefig(path+'polAgrregPlot_top10_formal_Naive.svg',format = 'svg',bbox_inches='tight')\n",
    "fig.savefig(path+'polAgrregPlot_top10__formal_Naive.png',format = 'png',bbox_inches='tight')"
   ]
  },
  {
   "cell_type": "markdown",
   "id": "3ab99dc9",
   "metadata": {},
   "source": [
    "### Plot the repartition by ages"
   ]
  },
  {
   "cell_type": "code",
   "execution_count": null,
   "id": "c849382f",
   "metadata": {},
   "outputs": [],
   "source": [
    "#Remove all politics with fraction equal to 0\n",
    "sns.jointplot(x=df_plot['age'], y=df_plot['fraction'], kind=\"hex\")"
   ]
  },
  {
   "cell_type": "code",
   "execution_count": null,
   "id": "ea46ed51",
   "metadata": {},
   "outputs": [],
   "source": [
    "plt.scatter(df_plot['fraction'],df_plot['quotes_number'] )\n",
    "plt.xlabel('Nomber of quotes per speaker')\n",
    "plt.ylabel('Average fraction of colloquial')"
   ]
  },
  {
   "cell_type": "markdown",
   "id": "efa4e560",
   "metadata": {},
   "source": [
    "### Plot the repartition of colloquial between Democrat and Republican "
   ]
  },
  {
   "cell_type": "code",
   "execution_count": null,
   "id": "48f40f60",
   "metadata": {},
   "outputs": [],
   "source": [
    "df_test = df_plot.groupby('bi_party')['fraction'].describe() \n",
    "df_test"
   ]
  },
  {
   "cell_type": "code",
   "execution_count": null,
   "id": "e77d830c",
   "metadata": {},
   "outputs": [],
   "source": [
    "df_test = df_plot.groupby('bi_party').boxplot(column='fraction')"
   ]
  },
  {
   "cell_type": "markdown",
   "id": "d6383043",
   "metadata": {},
   "source": [
    "At first sight, we cannot detect any clear difference between these two distributions. Let's investigate further by trying to compute regressions (see the notebook 'regressions.ipynb')"
   ]
  }
 ],
 "metadata": {
  "kernelspec": {
   "display_name": "Python 3 (ipykernel)",
   "language": "python",
   "name": "python3"
  },
  "language_info": {
   "codemirror_mode": {
    "name": "ipython",
    "version": 3
   },
   "file_extension": ".py",
   "mimetype": "text/x-python",
   "name": "python",
   "nbconvert_exporter": "python",
   "pygments_lexer": "ipython3",
   "version": "3.8.11"
  }
 },
 "nbformat": 4,
 "nbformat_minor": 5
}

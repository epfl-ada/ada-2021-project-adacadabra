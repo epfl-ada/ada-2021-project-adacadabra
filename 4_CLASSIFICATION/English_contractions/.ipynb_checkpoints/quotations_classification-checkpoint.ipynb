{
 "cells": [
  {
   "cell_type": "markdown",
   "id": "804c1934",
   "metadata": {},
   "source": [
    "# Quotes classification\n",
    "\n",
    "In this notebook, we treat each quote of the corpus and assign them a binary score determining if the quote is formal or colloquial according the dictionnary of english contractions to avoid in wikipedia articles"
   ]
  },
  {
   "cell_type": "markdown",
   "id": "f695b871",
   "metadata": {},
   "source": [
    "## Packages and functions"
   ]
  },
  {
   "cell_type": "code",
   "execution_count": 16,
   "id": "801bcdeb",
   "metadata": {},
   "outputs": [
    {
     "data": {
      "application/vnd.jupyter.widget-view+json": {
       "model_id": "218dd5c7919f4ebe8e1f8c7fbdac5f55",
       "version_major": 2,
       "version_minor": 0
      },
      "text/plain": [
       "0it [00:00, ?it/s]"
      ]
     },
     "metadata": {},
     "output_type": "display_data"
    }
   ],
   "source": [
    "#packages\n",
    "import pandas as pd\n",
    "from tqdm import tqdm, notebook\n",
    "notebook.tqdm().pandas()"
   ]
  },
  {
   "cell_type": "code",
   "execution_count": 17,
   "id": "5bfc9939",
   "metadata": {},
   "outputs": [],
   "source": [
    "#function to check if strin is contained and update dico\n",
    "def isinside1(test_string,test_list):\n",
    "    global dico\n",
    "    res = [ele for ele in test_list if(ele in test_string)]\n",
    "    #print(res)\n",
    "    if res:\n",
    "        for ele in res:\n",
    "            i= test_list.index(ele)\n",
    "            dico[\"occurences\"].loc[i]= dico[\"occurences\"].loc[i]+1\n",
    "        return 1\n",
    "    return 0\n",
    "\n",
    "def isinside2(test_string,test_list):\n",
    "    if any(ext in test_string for ext in test_list):\n",
    "        return 1\n",
    "    return 0"
   ]
  },
  {
   "cell_type": "markdown",
   "id": "f3a5743b",
   "metadata": {},
   "source": [
    "## Dictionnary loading\n",
    "The dictionnary is compiled in the notebook `contractions_dictionary.ipynb` and is based on the [Wikipedia English contractions list](https://en.wikipedia.org/wiki/Wikipedia:List_of_English_contractions).<br>\n",
    "A column name \"occurences\" is created in order to count how much time a word is detected.<br>\n",
    "A list is made from the dictionary words for comparison"
   ]
  },
  {
   "cell_type": "code",
   "execution_count": 18,
   "id": "1fc7bea3",
   "metadata": {},
   "outputs": [],
   "source": [
    "dico= pd.read_pickle(\"./english_contractions.pkl\")\n",
    "dico[\"occurences\"]=0\n",
    "dicolist= dico[\"word\"].unique().tolist()"
   ]
  },
  {
   "cell_type": "markdown",
   "id": "7cc77e15",
   "metadata": {},
   "source": [
    "## Quotebank sample loading"
   ]
  },
  {
   "cell_type": "code",
   "execution_count": 19,
   "id": "07eea2e5",
   "metadata": {},
   "outputs": [],
   "source": [
    "#df= pd.read_json(\"../../../Sample_classified_1Mio_v1.json.bz2\",compression=\"bz2\",lines=True)\n",
    "df= pd.read_json(\"../../../polUS_quotes_speakers_merged.json.bz2\",compression=\"bz2\",lines=True)"
   ]
  },
  {
   "cell_type": "markdown",
   "id": "e7794903",
   "metadata": {},
   "source": [
    "### Quotes formatting for comparison : lowercase and space at the beginning and end\n",
    "Note that tokenisation has not been used as some of the words or the dictionary consist in several tokens (for exemple, isn't is composed of tokens \"is\" and \"n't\""
   ]
  },
  {
   "cell_type": "code",
   "execution_count": 20,
   "id": "a88abb38",
   "metadata": {},
   "outputs": [
    {
     "data": {
      "application/vnd.jupyter.widget-view+json": {
       "model_id": "abf2b87550f848f9999834f0dd45cbb2",
       "version_major": 2,
       "version_minor": 0
      },
      "text/plain": [
       "  0%|          | 0/39482 [00:00<?, ?it/s]"
      ]
     },
     "metadata": {},
     "output_type": "display_data"
    }
   ],
   "source": [
    "df_tested_quotes= df[\"quotation\"].progress_apply(lambda x : \" \"+x.lower()+\" \")"
   ]
  },
  {
   "cell_type": "markdown",
   "id": "cea21205",
   "metadata": {},
   "source": [
    "## Classification using the full dictionary\n",
    "The dataset quotes are classified a first time using the full dictionary"
   ]
  },
  {
   "cell_type": "markdown",
   "id": "73beb55a",
   "metadata": {},
   "source": [
    "### Classifying"
   ]
  },
  {
   "cell_type": "code",
   "execution_count": 21,
   "id": "fd3b1516",
   "metadata": {},
   "outputs": [
    {
     "data": {
      "application/vnd.jupyter.widget-view+json": {
       "model_id": "5e44f74e1fa34770b6974b2c3ffd088c",
       "version_major": 2,
       "version_minor": 0
      },
      "text/plain": [
       "  0%|          | 0/39482 [00:00<?, ?it/s]"
      ]
     },
     "metadata": {},
     "output_type": "display_data"
    },
    {
     "name": "stderr",
     "output_type": "stream",
     "text": [
      "/Users/nicolasantacroce/opt/anaconda3/envs/adaenv/lib/python3.8/site-packages/pandas/core/indexing.py:1732: SettingWithCopyWarning: \n",
      "A value is trying to be set on a copy of a slice from a DataFrame\n",
      "\n",
      "See the caveats in the documentation: https://pandas.pydata.org/pandas-docs/stable/user_guide/indexing.html#returning-a-view-versus-a-copy\n",
      "  self._setitem_single_block(indexer, value, name)\n"
     ]
    }
   ],
   "source": [
    "df[\"colloquial\"]= df_tested_quotes.progress_apply(lambda x : isinside1(x,dicolist))"
   ]
  },
  {
   "cell_type": "markdown",
   "id": "f3f7525f",
   "metadata": {},
   "source": [
    "### Quotes statistics"
   ]
  },
  {
   "cell_type": "code",
   "execution_count": 22,
   "id": "0bf1b484",
   "metadata": {},
   "outputs": [
    {
     "data": {
      "text/html": [
       "<div>\n",
       "<style scoped>\n",
       "    .dataframe tbody tr th:only-of-type {\n",
       "        vertical-align: middle;\n",
       "    }\n",
       "\n",
       "    .dataframe tbody tr th {\n",
       "        vertical-align: top;\n",
       "    }\n",
       "\n",
       "    .dataframe thead th {\n",
       "        text-align: right;\n",
       "    }\n",
       "</style>\n",
       "<table border=\"1\" class=\"dataframe\">\n",
       "  <thead>\n",
       "    <tr style=\"text-align: right;\">\n",
       "      <th></th>\n",
       "      <th>p1</th>\n",
       "      <th>p2</th>\n",
       "      <th>delta_p</th>\n",
       "      <th>year</th>\n",
       "      <th>colloquial</th>\n",
       "      <th>lastrevid</th>\n",
       "    </tr>\n",
       "  </thead>\n",
       "  <tbody>\n",
       "    <tr>\n",
       "      <th>count</th>\n",
       "      <td>39482.000000</td>\n",
       "      <td>39482.000000</td>\n",
       "      <td>39482.000000</td>\n",
       "      <td>39482.000000</td>\n",
       "      <td>39482.000000</td>\n",
       "      <td>3.948200e+04</td>\n",
       "    </tr>\n",
       "    <tr>\n",
       "      <th>mean</th>\n",
       "      <td>0.805335</td>\n",
       "      <td>0.167410</td>\n",
       "      <td>0.637925</td>\n",
       "      <td>2017.617699</td>\n",
       "      <td>0.348235</td>\n",
       "      <td>1.392228e+09</td>\n",
       "    </tr>\n",
       "    <tr>\n",
       "      <th>std</th>\n",
       "      <td>0.097171</td>\n",
       "      <td>0.080209</td>\n",
       "      <td>0.172354</td>\n",
       "      <td>1.813997</td>\n",
       "      <td>0.476417</td>\n",
       "      <td>8.928226e+06</td>\n",
       "    </tr>\n",
       "    <tr>\n",
       "      <th>min</th>\n",
       "      <td>0.501000</td>\n",
       "      <td>0.012100</td>\n",
       "      <td>0.300000</td>\n",
       "      <td>2015.000000</td>\n",
       "      <td>0.000000</td>\n",
       "      <td>1.184424e+09</td>\n",
       "    </tr>\n",
       "    <tr>\n",
       "      <th>25%</th>\n",
       "      <td>0.730000</td>\n",
       "      <td>0.101000</td>\n",
       "      <td>0.497800</td>\n",
       "      <td>2016.000000</td>\n",
       "      <td>0.000000</td>\n",
       "      <td>1.392576e+09</td>\n",
       "    </tr>\n",
       "    <tr>\n",
       "      <th>50%</th>\n",
       "      <td>0.815800</td>\n",
       "      <td>0.159600</td>\n",
       "      <td>0.652100</td>\n",
       "      <td>2018.000000</td>\n",
       "      <td>0.000000</td>\n",
       "      <td>1.393144e+09</td>\n",
       "    </tr>\n",
       "    <tr>\n",
       "      <th>75%</th>\n",
       "      <td>0.885600</td>\n",
       "      <td>0.228900</td>\n",
       "      <td>0.782300</td>\n",
       "      <td>2019.000000</td>\n",
       "      <td>1.000000</td>\n",
       "      <td>1.393554e+09</td>\n",
       "    </tr>\n",
       "    <tr>\n",
       "      <th>max</th>\n",
       "      <td>0.987900</td>\n",
       "      <td>0.350000</td>\n",
       "      <td>0.975800</td>\n",
       "      <td>2020.000000</td>\n",
       "      <td>1.000000</td>\n",
       "      <td>1.396190e+09</td>\n",
       "    </tr>\n",
       "  </tbody>\n",
       "</table>\n",
       "</div>"
      ],
      "text/plain": [
       "                 p1            p2       delta_p          year    colloquial  \\\n",
       "count  39482.000000  39482.000000  39482.000000  39482.000000  39482.000000   \n",
       "mean       0.805335      0.167410      0.637925   2017.617699      0.348235   \n",
       "std        0.097171      0.080209      0.172354      1.813997      0.476417   \n",
       "min        0.501000      0.012100      0.300000   2015.000000      0.000000   \n",
       "25%        0.730000      0.101000      0.497800   2016.000000      0.000000   \n",
       "50%        0.815800      0.159600      0.652100   2018.000000      0.000000   \n",
       "75%        0.885600      0.228900      0.782300   2019.000000      1.000000   \n",
       "max        0.987900      0.350000      0.975800   2020.000000      1.000000   \n",
       "\n",
       "          lastrevid  \n",
       "count  3.948200e+04  \n",
       "mean   1.392228e+09  \n",
       "std    8.928226e+06  \n",
       "min    1.184424e+09  \n",
       "25%    1.392576e+09  \n",
       "50%    1.393144e+09  \n",
       "75%    1.393554e+09  \n",
       "max    1.396190e+09  "
      ]
     },
     "execution_count": 22,
     "metadata": {},
     "output_type": "execute_result"
    }
   ],
   "source": [
    "df.describe()"
   ]
  },
  {
   "cell_type": "markdown",
   "id": "2f74439b",
   "metadata": {},
   "source": [
    "About 38.3% of quotes are qualified as colloquial."
   ]
  },
  {
   "cell_type": "markdown",
   "id": "a806092e",
   "metadata": {},
   "source": [
    "### Most common words"
   ]
  },
  {
   "cell_type": "code",
   "execution_count": 23,
   "id": "78c4c18a",
   "metadata": {},
   "outputs": [
    {
     "data": {
      "text/html": [
       "<div>\n",
       "<style scoped>\n",
       "    .dataframe tbody tr th:only-of-type {\n",
       "        vertical-align: middle;\n",
       "    }\n",
       "\n",
       "    .dataframe tbody tr th {\n",
       "        vertical-align: top;\n",
       "    }\n",
       "\n",
       "    .dataframe thead th {\n",
       "        text-align: right;\n",
       "    }\n",
       "</style>\n",
       "<table border=\"1\" class=\"dataframe\">\n",
       "  <thead>\n",
       "    <tr style=\"text-align: right;\">\n",
       "      <th></th>\n",
       "      <th>word</th>\n",
       "      <th>occurences</th>\n",
       "      <th>occurence_fraction</th>\n",
       "    </tr>\n",
       "  </thead>\n",
       "  <tbody>\n",
       "    <tr>\n",
       "      <th>63</th>\n",
       "      <td>it's</td>\n",
       "      <td>3066</td>\n",
       "      <td>0.077656</td>\n",
       "    </tr>\n",
       "    <tr>\n",
       "      <th>19</th>\n",
       "      <td>don't</td>\n",
       "      <td>1913</td>\n",
       "      <td>0.048452</td>\n",
       "    </tr>\n",
       "    <tr>\n",
       "      <th>129</th>\n",
       "      <td>we're</td>\n",
       "      <td>1650</td>\n",
       "      <td>0.041791</td>\n",
       "    </tr>\n",
       "    <tr>\n",
       "      <th>54</th>\n",
       "      <td>i'm</td>\n",
       "      <td>1629</td>\n",
       "      <td>0.041259</td>\n",
       "    </tr>\n",
       "    <tr>\n",
       "      <th>102</th>\n",
       "      <td>that's</td>\n",
       "      <td>1576</td>\n",
       "      <td>0.039917</td>\n",
       "    </tr>\n",
       "    <tr>\n",
       "      <th>107</th>\n",
       "      <td>there's</td>\n",
       "      <td>852</td>\n",
       "      <td>0.021579</td>\n",
       "    </tr>\n",
       "    <tr>\n",
       "      <th>130</th>\n",
       "      <td>we've</td>\n",
       "      <td>783</td>\n",
       "      <td>0.019832</td>\n",
       "    </tr>\n",
       "    <tr>\n",
       "      <th>6</th>\n",
       "      <td>can't</td>\n",
       "      <td>650</td>\n",
       "      <td>0.016463</td>\n",
       "    </tr>\n",
       "    <tr>\n",
       "      <th>112</th>\n",
       "      <td>they're</td>\n",
       "      <td>631</td>\n",
       "      <td>0.015982</td>\n",
       "    </tr>\n",
       "    <tr>\n",
       "      <th>42</th>\n",
       "      <td>he's</td>\n",
       "      <td>586</td>\n",
       "      <td>0.014842</td>\n",
       "    </tr>\n",
       "    <tr>\n",
       "      <th>174</th>\n",
       "      <td>you're</td>\n",
       "      <td>550</td>\n",
       "      <td>0.013930</td>\n",
       "    </tr>\n",
       "    <tr>\n",
       "      <th>59</th>\n",
       "      <td>i've</td>\n",
       "      <td>519</td>\n",
       "      <td>0.013145</td>\n",
       "    </tr>\n",
       "    <tr>\n",
       "      <th>18</th>\n",
       "      <td>doesn't</td>\n",
       "      <td>447</td>\n",
       "      <td>0.011322</td>\n",
       "    </tr>\n",
       "    <tr>\n",
       "      <th>17</th>\n",
       "      <td>didn't</td>\n",
       "      <td>422</td>\n",
       "      <td>0.010688</td>\n",
       "    </tr>\n",
       "    <tr>\n",
       "      <th>128</th>\n",
       "      <td>we'll</td>\n",
       "      <td>322</td>\n",
       "      <td>0.008156</td>\n",
       "    </tr>\n",
       "    <tr>\n",
       "      <th>136</th>\n",
       "      <td>what's</td>\n",
       "      <td>272</td>\n",
       "      <td>0.006889</td>\n",
       "    </tr>\n",
       "    <tr>\n",
       "      <th>66</th>\n",
       "      <td>let's</td>\n",
       "      <td>219</td>\n",
       "      <td>0.005547</td>\n",
       "    </tr>\n",
       "    <tr>\n",
       "      <th>60</th>\n",
       "      <td>isn't</td>\n",
       "      <td>204</td>\n",
       "      <td>0.005167</td>\n",
       "    </tr>\n",
       "    <tr>\n",
       "      <th>159</th>\n",
       "      <td>won't</td>\n",
       "      <td>195</td>\n",
       "      <td>0.004939</td>\n",
       "    </tr>\n",
       "    <tr>\n",
       "      <th>53</th>\n",
       "      <td>i'll</td>\n",
       "      <td>194</td>\n",
       "      <td>0.004914</td>\n",
       "    </tr>\n",
       "    <tr>\n",
       "      <th>175</th>\n",
       "      <td>you've</td>\n",
       "      <td>179</td>\n",
       "      <td>0.004534</td>\n",
       "    </tr>\n",
       "    <tr>\n",
       "      <th>113</th>\n",
       "      <td>they've</td>\n",
       "      <td>162</td>\n",
       "      <td>0.004103</td>\n",
       "    </tr>\n",
       "    <tr>\n",
       "      <th>162</th>\n",
       "      <td>wouldn't</td>\n",
       "      <td>159</td>\n",
       "      <td>0.004027</td>\n",
       "    </tr>\n",
       "    <tr>\n",
       "      <th>49</th>\n",
       "      <td>i'd</td>\n",
       "      <td>156</td>\n",
       "      <td>0.003951</td>\n",
       "    </tr>\n",
       "    <tr>\n",
       "      <th>125</th>\n",
       "      <td>wasn't</td>\n",
       "      <td>155</td>\n",
       "      <td>0.003926</td>\n",
       "    </tr>\n",
       "  </tbody>\n",
       "</table>\n",
       "</div>"
      ],
      "text/plain": [
       "           word  occurences  occurence_fraction\n",
       "63        it's         3066            0.077656\n",
       "19       don't         1913            0.048452\n",
       "129      we're         1650            0.041791\n",
       "54         i'm         1629            0.041259\n",
       "102     that's         1576            0.039917\n",
       "107    there's          852            0.021579\n",
       "130      we've          783            0.019832\n",
       "6        can't          650            0.016463\n",
       "112    they're          631            0.015982\n",
       "42        he's          586            0.014842\n",
       "174     you're          550            0.013930\n",
       "59        i've          519            0.013145\n",
       "18     doesn't          447            0.011322\n",
       "17      didn't          422            0.010688\n",
       "128      we'll          322            0.008156\n",
       "136     what's          272            0.006889\n",
       "66       let's          219            0.005547\n",
       "60       isn't          204            0.005167\n",
       "159      won't          195            0.004939\n",
       "53        i'll          194            0.004914\n",
       "175     you've          179            0.004534\n",
       "113    they've          162            0.004103\n",
       "162   wouldn't          159            0.004027\n",
       "49         i'd          156            0.003951\n",
       "125     wasn't          155            0.003926"
      ]
     },
     "execution_count": 23,
     "metadata": {},
     "output_type": "execute_result"
    }
   ],
   "source": [
    "dico[\"occurence_fraction\"]= dico[\"occurences\"]/df[\"colloquial\"].count()\n",
    "dico.sort_values(by='occurence_fraction', ascending=False)[:25]"
   ]
  },
  {
   "cell_type": "code",
   "execution_count": 24,
   "id": "0ab77a76",
   "metadata": {},
   "outputs": [
    {
     "data": {
      "text/plain": [
       "<AxesSubplot:title={'center':'Word occurences (log-log)'}, xlabel='word rank', ylabel='# of word occurences'>"
      ]
     },
     "execution_count": 24,
     "metadata": {},
     "output_type": "execute_result"
    },
    {
     "data": {
      "image/png": "[encoded data removed]",
      "text/plain": [
       "<Figure size 432x288 with 1 Axes>"
      ]
     },
     "metadata": {
      "needs_background": "light"
     },
     "output_type": "display_data"
    }
   ],
   "source": [
    "dico.sort_values(by='occurence_fraction', ascending=False).reset_index()[\"occurences\"].plot(\n",
    "    xlabel=\"word rank\", ylabel= \"# of word occurences\", title= \"Word occurences (log-log)\",logy=True, logx=True)"
   ]
  },
  {
   "cell_type": "markdown",
   "id": "8d8dc116",
   "metadata": {},
   "source": [
    "Surprisingly, words use do not seem to follow a zipf law (the line would be straight if it was the case)"
   ]
  },
  {
   "cell_type": "markdown",
   "id": "046758cd",
   "metadata": {},
   "source": [
    "## Classification using the reduced dictionary\n",
    "The dataset quotes are classified again using a dictionary from which the most common words have been removed"
   ]
  },
  {
   "cell_type": "markdown",
   "id": "d28d2ac6",
   "metadata": {},
   "source": [
    "### Removal of word that appear in more than a certain fraction of words defined in the thresh variable"
   ]
  },
  {
   "cell_type": "code",
   "execution_count": 25,
   "id": "65307066",
   "metadata": {},
   "outputs": [],
   "source": [
    "tresh= 0.02\n",
    "dico2= dico[dico[\"occurence_fraction\"]<tresh]\n",
    "dicolist2= dico2[\"word\"].unique().tolist()"
   ]
  },
  {
   "cell_type": "markdown",
   "id": "e45edcd6",
   "metadata": {},
   "source": [
    "### Classifying"
   ]
  },
  {
   "cell_type": "code",
   "execution_count": 26,
   "id": "d6c2f478",
   "metadata": {},
   "outputs": [
    {
     "data": {
      "application/vnd.jupyter.widget-view+json": {
       "model_id": "abb06cb55bd14aa79f29eddce0169c8b",
       "version_major": 2,
       "version_minor": 0
      },
      "text/plain": [
       "  0%|          | 0/39482 [00:00<?, ?it/s]"
      ]
     },
     "metadata": {},
     "output_type": "display_data"
    }
   ],
   "source": [
    "df[\"colloquial\"]= df_tested_quotes.progress_apply(lambda x : isinside2(x.lower(),dicolist2))"
   ]
  },
  {
   "cell_type": "markdown",
   "id": "b5b612ac",
   "metadata": {},
   "source": [
    "### Quotes statistics"
   ]
  },
  {
   "cell_type": "code",
   "execution_count": 27,
   "id": "00b4d058",
   "metadata": {},
   "outputs": [
    {
     "data": {
      "text/html": [
       "<div>\n",
       "<style scoped>\n",
       "    .dataframe tbody tr th:only-of-type {\n",
       "        vertical-align: middle;\n",
       "    }\n",
       "\n",
       "    .dataframe tbody tr th {\n",
       "        vertical-align: top;\n",
       "    }\n",
       "\n",
       "    .dataframe thead th {\n",
       "        text-align: right;\n",
       "    }\n",
       "</style>\n",
       "<table border=\"1\" class=\"dataframe\">\n",
       "  <thead>\n",
       "    <tr style=\"text-align: right;\">\n",
       "      <th></th>\n",
       "      <th>p1</th>\n",
       "      <th>p2</th>\n",
       "      <th>delta_p</th>\n",
       "      <th>year</th>\n",
       "      <th>colloquial</th>\n",
       "      <th>lastrevid</th>\n",
       "    </tr>\n",
       "  </thead>\n",
       "  <tbody>\n",
       "    <tr>\n",
       "      <th>count</th>\n",
       "      <td>39482.000000</td>\n",
       "      <td>39482.000000</td>\n",
       "      <td>39482.000000</td>\n",
       "      <td>39482.000000</td>\n",
       "      <td>39482.000000</td>\n",
       "      <td>3.948200e+04</td>\n",
       "    </tr>\n",
       "    <tr>\n",
       "      <th>mean</th>\n",
       "      <td>0.805335</td>\n",
       "      <td>0.167410</td>\n",
       "      <td>0.637925</td>\n",
       "      <td>2017.617699</td>\n",
       "      <td>0.180335</td>\n",
       "      <td>1.392228e+09</td>\n",
       "    </tr>\n",
       "    <tr>\n",
       "      <th>std</th>\n",
       "      <td>0.097171</td>\n",
       "      <td>0.080209</td>\n",
       "      <td>0.172354</td>\n",
       "      <td>1.813997</td>\n",
       "      <td>0.384471</td>\n",
       "      <td>8.928226e+06</td>\n",
       "    </tr>\n",
       "    <tr>\n",
       "      <th>min</th>\n",
       "      <td>0.501000</td>\n",
       "      <td>0.012100</td>\n",
       "      <td>0.300000</td>\n",
       "      <td>2015.000000</td>\n",
       "      <td>0.000000</td>\n",
       "      <td>1.184424e+09</td>\n",
       "    </tr>\n",
       "    <tr>\n",
       "      <th>25%</th>\n",
       "      <td>0.730000</td>\n",
       "      <td>0.101000</td>\n",
       "      <td>0.497800</td>\n",
       "      <td>2016.000000</td>\n",
       "      <td>0.000000</td>\n",
       "      <td>1.392576e+09</td>\n",
       "    </tr>\n",
       "    <tr>\n",
       "      <th>50%</th>\n",
       "      <td>0.815800</td>\n",
       "      <td>0.159600</td>\n",
       "      <td>0.652100</td>\n",
       "      <td>2018.000000</td>\n",
       "      <td>0.000000</td>\n",
       "      <td>1.393144e+09</td>\n",
       "    </tr>\n",
       "    <tr>\n",
       "      <th>75%</th>\n",
       "      <td>0.885600</td>\n",
       "      <td>0.228900</td>\n",
       "      <td>0.782300</td>\n",
       "      <td>2019.000000</td>\n",
       "      <td>0.000000</td>\n",
       "      <td>1.393554e+09</td>\n",
       "    </tr>\n",
       "    <tr>\n",
       "      <th>max</th>\n",
       "      <td>0.987900</td>\n",
       "      <td>0.350000</td>\n",
       "      <td>0.975800</td>\n",
       "      <td>2020.000000</td>\n",
       "      <td>1.000000</td>\n",
       "      <td>1.396190e+09</td>\n",
       "    </tr>\n",
       "  </tbody>\n",
       "</table>\n",
       "</div>"
      ],
      "text/plain": [
       "                 p1            p2       delta_p          year    colloquial  \\\n",
       "count  39482.000000  39482.000000  39482.000000  39482.000000  39482.000000   \n",
       "mean       0.805335      0.167410      0.637925   2017.617699      0.180335   \n",
       "std        0.097171      0.080209      0.172354      1.813997      0.384471   \n",
       "min        0.501000      0.012100      0.300000   2015.000000      0.000000   \n",
       "25%        0.730000      0.101000      0.497800   2016.000000      0.000000   \n",
       "50%        0.815800      0.159600      0.652100   2018.000000      0.000000   \n",
       "75%        0.885600      0.228900      0.782300   2019.000000      0.000000   \n",
       "max        0.987900      0.350000      0.975800   2020.000000      1.000000   \n",
       "\n",
       "          lastrevid  \n",
       "count  3.948200e+04  \n",
       "mean   1.392228e+09  \n",
       "std    8.928226e+06  \n",
       "min    1.184424e+09  \n",
       "25%    1.392576e+09  \n",
       "50%    1.393144e+09  \n",
       "75%    1.393554e+09  \n",
       "max    1.396190e+09  "
      ]
     },
     "execution_count": 27,
     "metadata": {},
     "output_type": "execute_result"
    }
   ],
   "source": [
    "df.describe()"
   ]
  },
  {
   "cell_type": "markdown",
   "id": "71c9f64a",
   "metadata": {},
   "source": [
    "We now have 10.2% of colloquial quotes"
   ]
  },
  {
   "cell_type": "markdown",
   "id": "5e59915b",
   "metadata": {},
   "source": [
    "## Quotes classification examples"
   ]
  },
  {
   "cell_type": "code",
   "execution_count": 28,
   "id": "f9f790de",
   "metadata": {},
   "outputs": [
    {
     "name": "stdout",
     "output_type": "stream",
     "text": [
      "5 formal quotes sample : \n",
      "\n",
      "\n",
      "prepare to lose loved ones\n",
      "\n",
      "\n",
      "signs of intelligent life in the U.S.\n",
      "\n",
      "\n",
      "taught Cambridge Analytica... how to do these tactics.\n",
      "\n",
      "\n",
      "It's almost like an armored truck when I think about the value of the items being transported,\n",
      "\n",
      "\n",
      "How and when to modify social distancing orders should and will be made by Governors.\n",
      "\n",
      "5 colloquial quotes sample : \n",
      "\n",
      "\n",
      "I've gotten messages from the governor asking, `Why haven't we done something already?' The governor has certainly indicated an interest in why China can do this and not California.\n",
      "\n",
      "\n",
      "He'll get there, though.\n",
      "\n",
      "\n",
      "You can't cut legal immigration in half and expect that we're going to address the economic needs that we have,\n",
      "\n",
      "\n",
      "I couldn't be more excited to see Total Quality Logistics expanding once again in Tennessee,\n",
      "\n",
      "\n",
      "And we just didn't move the ball very well -- and we missed a lot of shots.\n"
     ]
    }
   ],
   "source": [
    "import random\n",
    "df_formal= df[df[\"colloquial\"]==0].reset_index()\n",
    "df_colloquial= df[df[\"colloquial\"]==1].reset_index()\n",
    "\n",
    "print(\"5 formal quotes sample : \")\n",
    "for i in random.sample(range(len(df_formal)), 5):\n",
    "    print(\"\\n\")\n",
    "    print(df_formal[\"quotation\"].loc[i])\n",
    "\n",
    "print(\"\\n5 colloquial quotes sample : \")\n",
    "for i in random.sample(range(len(df_colloquial)), 5):\n",
    "    print(\"\\n\")\n",
    "    print(df_colloquial[\"quotation\"].loc[i])"
   ]
  },
  {
   "cell_type": "markdown",
   "id": "ab6653e8",
   "metadata": {},
   "source": [
    "## Larger samples classification"
   ]
  },
  {
   "cell_type": "code",
   "execution_count": 14,
   "id": "d59a275c",
   "metadata": {},
   "outputs": [
    {
     "name": "stdout",
     "output_type": "stream",
     "text": [
      "start\n"
     ]
    },
    {
     "ename": "KeyboardInterrupt",
     "evalue": "",
     "output_type": "error",
     "traceback": [
      "\u001b[0;31m---------------------------------------------------------------------------\u001b[0m",
      "\u001b[0;31mKeyboardInterrupt\u001b[0m                         Traceback (most recent call last)",
      "\u001b[0;32m/var/folders/ll/9ks4sslj4hj9kg36pxlnc3xc0000gn/T/ipykernel_34975/623293400.py\u001b[0m in \u001b[0;36m<module>\u001b[0;34m\u001b[0m\n\u001b[1;32m      2\u001b[0m \u001b[0;32mfor\u001b[0m \u001b[0myear\u001b[0m \u001b[0;32min\u001b[0m \u001b[0mrange\u001b[0m\u001b[0;34m(\u001b[0m\u001b[0;36m2015\u001b[0m\u001b[0;34m,\u001b[0m\u001b[0;36m2021\u001b[0m\u001b[0;34m)\u001b[0m\u001b[0;34m:\u001b[0m\u001b[0;34m\u001b[0m\u001b[0;34m\u001b[0m\u001b[0m\n\u001b[1;32m      3\u001b[0m     \u001b[0mprint\u001b[0m\u001b[0;34m(\u001b[0m\u001b[0;34m\"start\"\u001b[0m\u001b[0;34m)\u001b[0m\u001b[0;34m\u001b[0m\u001b[0;34m\u001b[0m\u001b[0m\n\u001b[0;32m----> 4\u001b[0;31m     sample= pd.read_json(\"../../../large_sample/Sample_{}_wrangled.json.bz2\".format(year)\n\u001b[0m\u001b[1;32m      5\u001b[0m                          ,compression=\"bz2\",lines=True)\n\u001b[1;32m      6\u001b[0m     \u001b[0mprint\u001b[0m\u001b[0;34m(\u001b[0m\u001b[0;34m\"opened sample {}\"\u001b[0m\u001b[0;34m.\u001b[0m\u001b[0mformat\u001b[0m\u001b[0;34m(\u001b[0m\u001b[0myear\u001b[0m\u001b[0;34m)\u001b[0m\u001b[0;34m)\u001b[0m\u001b[0;34m\u001b[0m\u001b[0;34m\u001b[0m\u001b[0m\n",
      "\u001b[0;32m~/opt/anaconda3/envs/adaenv/lib/python3.8/site-packages/pandas/util/_decorators.py\u001b[0m in \u001b[0;36mwrapper\u001b[0;34m(*args, **kwargs)\u001b[0m\n\u001b[1;32m    205\u001b[0m                 \u001b[0;32melse\u001b[0m\u001b[0;34m:\u001b[0m\u001b[0;34m\u001b[0m\u001b[0;34m\u001b[0m\u001b[0m\n\u001b[1;32m    206\u001b[0m                     \u001b[0mkwargs\u001b[0m\u001b[0;34m[\u001b[0m\u001b[0mnew_arg_name\u001b[0m\u001b[0;34m]\u001b[0m \u001b[0;34m=\u001b[0m \u001b[0mnew_arg_value\u001b[0m\u001b[0;34m\u001b[0m\u001b[0;34m\u001b[0m\u001b[0m\n\u001b[0;32m--> 207\u001b[0;31m             \u001b[0;32mreturn\u001b[0m \u001b[0mfunc\u001b[0m\u001b[0;34m(\u001b[0m\u001b[0;34m*\u001b[0m\u001b[0margs\u001b[0m\u001b[0;34m,\u001b[0m \u001b[0;34m**\u001b[0m\u001b[0mkwargs\u001b[0m\u001b[0;34m)\u001b[0m\u001b[0;34m\u001b[0m\u001b[0;34m\u001b[0m\u001b[0m\n\u001b[0m\u001b[1;32m    208\u001b[0m \u001b[0;34m\u001b[0m\u001b[0m\n\u001b[1;32m    209\u001b[0m         \u001b[0;32mreturn\u001b[0m \u001b[0mcast\u001b[0m\u001b[0;34m(\u001b[0m\u001b[0mF\u001b[0m\u001b[0;34m,\u001b[0m \u001b[0mwrapper\u001b[0m\u001b[0;34m)\u001b[0m\u001b[0;34m\u001b[0m\u001b[0;34m\u001b[0m\u001b[0m\n",
      "\u001b[0;32m~/opt/anaconda3/envs/adaenv/lib/python3.8/site-packages/pandas/util/_decorators.py\u001b[0m in \u001b[0;36mwrapper\u001b[0;34m(*args, **kwargs)\u001b[0m\n\u001b[1;32m    309\u001b[0m                     \u001b[0mstacklevel\u001b[0m\u001b[0;34m=\u001b[0m\u001b[0mstacklevel\u001b[0m\u001b[0;34m,\u001b[0m\u001b[0;34m\u001b[0m\u001b[0;34m\u001b[0m\u001b[0m\n\u001b[1;32m    310\u001b[0m                 )\n\u001b[0;32m--> 311\u001b[0;31m             \u001b[0;32mreturn\u001b[0m \u001b[0mfunc\u001b[0m\u001b[0;34m(\u001b[0m\u001b[0;34m*\u001b[0m\u001b[0margs\u001b[0m\u001b[0;34m,\u001b[0m \u001b[0;34m**\u001b[0m\u001b[0mkwargs\u001b[0m\u001b[0;34m)\u001b[0m\u001b[0;34m\u001b[0m\u001b[0;34m\u001b[0m\u001b[0m\n\u001b[0m\u001b[1;32m    312\u001b[0m \u001b[0;34m\u001b[0m\u001b[0m\n\u001b[1;32m    313\u001b[0m         \u001b[0;32mreturn\u001b[0m \u001b[0mwrapper\u001b[0m\u001b[0;34m\u001b[0m\u001b[0;34m\u001b[0m\u001b[0m\n",
      "\u001b[0;32m~/opt/anaconda3/envs/adaenv/lib/python3.8/site-packages/pandas/io/json/_json.py\u001b[0m in \u001b[0;36mread_json\u001b[0;34m(path_or_buf, orient, typ, dtype, convert_axes, convert_dates, keep_default_dates, numpy, precise_float, date_unit, encoding, encoding_errors, lines, chunksize, compression, nrows, storage_options)\u001b[0m\n\u001b[1;32m    588\u001b[0m         \u001b[0mconvert_axes\u001b[0m \u001b[0;34m=\u001b[0m \u001b[0;32mTrue\u001b[0m\u001b[0;34m\u001b[0m\u001b[0;34m\u001b[0m\u001b[0m\n\u001b[1;32m    589\u001b[0m \u001b[0;34m\u001b[0m\u001b[0m\n\u001b[0;32m--> 590\u001b[0;31m     json_reader = JsonReader(\n\u001b[0m\u001b[1;32m    591\u001b[0m         \u001b[0mpath_or_buf\u001b[0m\u001b[0;34m,\u001b[0m\u001b[0;34m\u001b[0m\u001b[0;34m\u001b[0m\u001b[0m\n\u001b[1;32m    592\u001b[0m         \u001b[0morient\u001b[0m\u001b[0;34m=\u001b[0m\u001b[0morient\u001b[0m\u001b[0;34m,\u001b[0m\u001b[0;34m\u001b[0m\u001b[0;34m\u001b[0m\u001b[0m\n",
      "\u001b[0;32m~/opt/anaconda3/envs/adaenv/lib/python3.8/site-packages/pandas/io/json/_json.py\u001b[0m in \u001b[0;36m__init__\u001b[0;34m(self, filepath_or_buffer, orient, typ, dtype, convert_axes, convert_dates, keep_default_dates, numpy, precise_float, date_unit, encoding, lines, chunksize, compression, nrows, storage_options, encoding_errors)\u001b[0m\n\u001b[1;32m    674\u001b[0m \u001b[0;34m\u001b[0m\u001b[0m\n\u001b[1;32m    675\u001b[0m         \u001b[0mdata\u001b[0m \u001b[0;34m=\u001b[0m \u001b[0mself\u001b[0m\u001b[0;34m.\u001b[0m\u001b[0m_get_data_from_filepath\u001b[0m\u001b[0;34m(\u001b[0m\u001b[0mfilepath_or_buffer\u001b[0m\u001b[0;34m)\u001b[0m\u001b[0;34m\u001b[0m\u001b[0;34m\u001b[0m\u001b[0m\n\u001b[0;32m--> 676\u001b[0;31m         \u001b[0mself\u001b[0m\u001b[0;34m.\u001b[0m\u001b[0mdata\u001b[0m \u001b[0;34m=\u001b[0m \u001b[0mself\u001b[0m\u001b[0;34m.\u001b[0m\u001b[0m_preprocess_data\u001b[0m\u001b[0;34m(\u001b[0m\u001b[0mdata\u001b[0m\u001b[0;34m)\u001b[0m\u001b[0;34m\u001b[0m\u001b[0;34m\u001b[0m\u001b[0m\n\u001b[0m\u001b[1;32m    677\u001b[0m \u001b[0;34m\u001b[0m\u001b[0m\n\u001b[1;32m    678\u001b[0m     \u001b[0;32mdef\u001b[0m \u001b[0m_preprocess_data\u001b[0m\u001b[0;34m(\u001b[0m\u001b[0mself\u001b[0m\u001b[0;34m,\u001b[0m \u001b[0mdata\u001b[0m\u001b[0;34m)\u001b[0m\u001b[0;34m:\u001b[0m\u001b[0;34m\u001b[0m\u001b[0;34m\u001b[0m\u001b[0m\n",
      "\u001b[0;32m~/opt/anaconda3/envs/adaenv/lib/python3.8/site-packages/pandas/io/json/_json.py\u001b[0m in \u001b[0;36m_preprocess_data\u001b[0;34m(self, data)\u001b[0m\n\u001b[1;32m    686\u001b[0m         \u001b[0;32mif\u001b[0m \u001b[0mhasattr\u001b[0m\u001b[0;34m(\u001b[0m\u001b[0mdata\u001b[0m\u001b[0;34m,\u001b[0m \u001b[0;34m\"read\"\u001b[0m\u001b[0;34m)\u001b[0m \u001b[0;32mand\u001b[0m \u001b[0;32mnot\u001b[0m \u001b[0;34m(\u001b[0m\u001b[0mself\u001b[0m\u001b[0;34m.\u001b[0m\u001b[0mchunksize\u001b[0m \u001b[0;32mor\u001b[0m \u001b[0mself\u001b[0m\u001b[0;34m.\u001b[0m\u001b[0mnrows\u001b[0m\u001b[0;34m)\u001b[0m\u001b[0;34m:\u001b[0m\u001b[0;34m\u001b[0m\u001b[0;34m\u001b[0m\u001b[0m\n\u001b[1;32m    687\u001b[0m             \u001b[0;32mwith\u001b[0m \u001b[0mself\u001b[0m\u001b[0;34m:\u001b[0m\u001b[0;34m\u001b[0m\u001b[0;34m\u001b[0m\u001b[0m\n\u001b[0;32m--> 688\u001b[0;31m                 \u001b[0mdata\u001b[0m \u001b[0;34m=\u001b[0m \u001b[0mdata\u001b[0m\u001b[0;34m.\u001b[0m\u001b[0mread\u001b[0m\u001b[0;34m(\u001b[0m\u001b[0;34m)\u001b[0m\u001b[0;34m\u001b[0m\u001b[0;34m\u001b[0m\u001b[0m\n\u001b[0m\u001b[1;32m    689\u001b[0m         \u001b[0;32mif\u001b[0m \u001b[0;32mnot\u001b[0m \u001b[0mhasattr\u001b[0m\u001b[0;34m(\u001b[0m\u001b[0mdata\u001b[0m\u001b[0;34m,\u001b[0m \u001b[0;34m\"read\"\u001b[0m\u001b[0;34m)\u001b[0m \u001b[0;32mand\u001b[0m \u001b[0;34m(\u001b[0m\u001b[0mself\u001b[0m\u001b[0;34m.\u001b[0m\u001b[0mchunksize\u001b[0m \u001b[0;32mor\u001b[0m \u001b[0mself\u001b[0m\u001b[0;34m.\u001b[0m\u001b[0mnrows\u001b[0m\u001b[0;34m)\u001b[0m\u001b[0;34m:\u001b[0m\u001b[0;34m\u001b[0m\u001b[0;34m\u001b[0m\u001b[0m\n\u001b[1;32m    690\u001b[0m             \u001b[0mdata\u001b[0m \u001b[0;34m=\u001b[0m \u001b[0mStringIO\u001b[0m\u001b[0;34m(\u001b[0m\u001b[0mdata\u001b[0m\u001b[0;34m)\u001b[0m\u001b[0;34m\u001b[0m\u001b[0;34m\u001b[0m\u001b[0m\n",
      "\u001b[0;32m~/opt/anaconda3/envs/adaenv/lib/python3.8/bz2.py\u001b[0m in \u001b[0;36mread\u001b[0;34m(self, size)\u001b[0m\n\u001b[1;32m    180\u001b[0m         \u001b[0;32mwith\u001b[0m \u001b[0mself\u001b[0m\u001b[0;34m.\u001b[0m\u001b[0m_lock\u001b[0m\u001b[0;34m:\u001b[0m\u001b[0;34m\u001b[0m\u001b[0;34m\u001b[0m\u001b[0m\n\u001b[1;32m    181\u001b[0m             \u001b[0mself\u001b[0m\u001b[0;34m.\u001b[0m\u001b[0m_check_can_read\u001b[0m\u001b[0;34m(\u001b[0m\u001b[0;34m)\u001b[0m\u001b[0;34m\u001b[0m\u001b[0;34m\u001b[0m\u001b[0m\n\u001b[0;32m--> 182\u001b[0;31m             \u001b[0;32mreturn\u001b[0m \u001b[0mself\u001b[0m\u001b[0;34m.\u001b[0m\u001b[0m_buffer\u001b[0m\u001b[0;34m.\u001b[0m\u001b[0mread\u001b[0m\u001b[0;34m(\u001b[0m\u001b[0msize\u001b[0m\u001b[0;34m)\u001b[0m\u001b[0;34m\u001b[0m\u001b[0;34m\u001b[0m\u001b[0m\n\u001b[0m\u001b[1;32m    183\u001b[0m \u001b[0;34m\u001b[0m\u001b[0m\n\u001b[1;32m    184\u001b[0m     \u001b[0;32mdef\u001b[0m \u001b[0mread1\u001b[0m\u001b[0;34m(\u001b[0m\u001b[0mself\u001b[0m\u001b[0;34m,\u001b[0m \u001b[0msize\u001b[0m\u001b[0;34m=\u001b[0m\u001b[0;34m-\u001b[0m\u001b[0;36m1\u001b[0m\u001b[0;34m)\u001b[0m\u001b[0;34m:\u001b[0m\u001b[0;34m\u001b[0m\u001b[0;34m\u001b[0m\u001b[0m\n",
      "\u001b[0;32m~/opt/anaconda3/envs/adaenv/lib/python3.8/_compression.py\u001b[0m in \u001b[0;36mread\u001b[0;34m(self, size)\u001b[0m\n\u001b[1;32m     95\u001b[0m             \u001b[0;32melse\u001b[0m\u001b[0;34m:\u001b[0m\u001b[0;34m\u001b[0m\u001b[0;34m\u001b[0m\u001b[0m\n\u001b[1;32m     96\u001b[0m                 \u001b[0;32mif\u001b[0m \u001b[0mself\u001b[0m\u001b[0;34m.\u001b[0m\u001b[0m_decompressor\u001b[0m\u001b[0;34m.\u001b[0m\u001b[0mneeds_input\u001b[0m\u001b[0;34m:\u001b[0m\u001b[0;34m\u001b[0m\u001b[0;34m\u001b[0m\u001b[0m\n\u001b[0;32m---> 97\u001b[0;31m                     \u001b[0mrawblock\u001b[0m \u001b[0;34m=\u001b[0m \u001b[0mself\u001b[0m\u001b[0;34m.\u001b[0m\u001b[0m_fp\u001b[0m\u001b[0;34m.\u001b[0m\u001b[0mread\u001b[0m\u001b[0;34m(\u001b[0m\u001b[0mBUFFER_SIZE\u001b[0m\u001b[0;34m)\u001b[0m\u001b[0;34m\u001b[0m\u001b[0;34m\u001b[0m\u001b[0m\n\u001b[0m\u001b[1;32m     98\u001b[0m                     \u001b[0;32mif\u001b[0m \u001b[0;32mnot\u001b[0m \u001b[0mrawblock\u001b[0m\u001b[0;34m:\u001b[0m\u001b[0;34m\u001b[0m\u001b[0;34m\u001b[0m\u001b[0m\n\u001b[1;32m     99\u001b[0m                         raise EOFError(\"Compressed file ended before the \"\n",
      "\u001b[0;31mKeyboardInterrupt\u001b[0m: "
     ]
    }
   ],
   "source": [
    "del df\n",
    "for year in range(2015,2021):\n",
    "    print(\"start\")\n",
    "    sample= pd.read_json(\"../../../large_sample/Sample_{}_wrangled.json.bz2\".format(year)\n",
    "                         ,compression=\"bz2\",lines=True)\n",
    "    print(\"opened sample {}\".format(year))\n",
    "    sample_lowercase_quotes= sample[\"quotation\"].progress_apply(lambda x : \" \"+x.lower()+\" \")\n",
    "    print(\"lowercased sample\")\n",
    "    sample[\"colloquial\"]= sample_lowercase_quotes.progress_apply(lambda x : isinside2(x.lower(),dicolist2))\n",
    "    print(\"classified sample\")\n",
    "    sample.to_json(\"../../../large_sample/Sample_{}_classified.json.bz2\".format(year)\n",
    "                   ,compression='bz2',lines=True,orient=\"records\")\n",
    "    print(\"saved sample\")\n",
    "    del sample"
   ]
  },
  {
   "cell_type": "code",
   "execution_count": null,
   "id": "d2f81a12",
   "metadata": {},
   "outputs": [],
   "source": []
  }
 ],
 "metadata": {
  "kernelspec": {
   "display_name": "Python 3 (ipykernel)",
   "language": "python",
   "name": "python3"
  },
  "language_info": {
   "codemirror_mode": {
    "name": "ipython",
    "version": 3
   },
   "file_extension": ".py",
   "mimetype": "text/x-python",
   "name": "python",
   "nbconvert_exporter": "python",
   "pygments_lexer": "ipython3",
   "version": "3.8.11"
  }
 },
 "nbformat": 4,
 "nbformat_minor": 5
}

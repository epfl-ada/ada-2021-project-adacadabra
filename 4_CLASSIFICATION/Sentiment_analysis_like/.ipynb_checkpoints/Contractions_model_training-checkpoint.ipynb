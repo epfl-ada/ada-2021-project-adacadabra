{
 "cells": [
  {
   "cell_type": "code",
   "execution_count": 190,
   "id": "b8dd480b",
   "metadata": {
    "scrolled": true
   },
   "outputs": [
    {
     "data": {
      "application/vnd.jupyter.widget-view+json": {
       "model_id": "19fc08b637524de8b02f729e9deb5b7e",
       "version_major": 2,
       "version_minor": 0
      },
      "text/plain": [
       "0it [00:00, ?it/s]"
      ]
     },
     "metadata": {},
     "output_type": "display_data"
    }
   ],
   "source": [
    "#packages\n",
    "import pandas as pd\n",
    "from tqdm import tqdm, notebook\n",
    "notebook.tqdm().pandas()\n",
    "import pickle\n",
    "import numpy as np\n",
    "import nltk\n",
    "from nltk.classify import NaiveBayesClassifier\n",
    "from nltk.sentiment import SentimentAnalyzer\n",
    "from nltk.sentiment.util import *\n",
    "from nltk.tokenize import SpaceTokenizer\n",
    "from sklearn.metrics import confusion_matrix\n",
    "import seaborn as sns\n",
    "import re"
   ]
  },
  {
   "cell_type": "code",
   "execution_count": 162,
   "id": "a7f67b0e",
   "metadata": {},
   "outputs": [],
   "source": [
    "def classify_quote(document,model,analyzer):\n",
    "    tokenized_doc= nltk.word_tokenize(document)\n",
    "    features= analyzer.apply_features([(tokenized_doc,\"text\")])\n",
    "    return model.classify(features[0][0])"
   ]
  },
  {
   "cell_type": "code",
   "execution_count": 72,
   "id": "fe5b39bb",
   "metadata": {},
   "outputs": [],
   "source": [
    "df= pd.read_csv(\"classified_politician_quotes.csv\")"
   ]
  },
  {
   "cell_type": "code",
   "execution_count": 86,
   "id": "a52f888f",
   "metadata": {},
   "outputs": [],
   "source": [
    "colloquials= df[df[\"colloquial\"]==1].sample(7000).sample(frac=1).reset_index(drop=True)\n",
    "colloquial_sentences= colloquials[\"quotation\"].tolist()\n",
    "colloquial_docs= [] # list of tuples, tuples contain tokens and label\n",
    "for sentence in colloquial_sentences:\n",
    "    tokenized_sentence= nltk.word_tokenize(sentence)\n",
    "    if len(tokenized_sentence)>1: # no single word sentences\n",
    "        colloquial_docs.append(([ele for ele in tokenized_sentence if not (re.search('[@#/<>*]', ele))],\"colloquial\"))"
   ]
  },
  {
   "cell_type": "code",
   "execution_count": 88,
   "id": "107f96b2",
   "metadata": {},
   "outputs": [],
   "source": [
    "formals= df[df[\"colloquial\"]==0].sample(7000).sample(frac=1).reset_index(drop=True)\n",
    "formal_sentences= formals[\"quotation\"].tolist()\n",
    "formal_docs= [] # list of tuples, tuples contain tokens and label\n",
    "for sentence in formal_sentences:\n",
    "    tokenized_sentence= nltk.word_tokenize(sentence)\n",
    "    if len(tokenized_sentence)>1: # no single word sentences\n",
    "        formal_docs.append(([ele for ele in tokenized_sentence if not (re.search('[@#/<>*]', ele))],\"formal\"))"
   ]
  },
  {
   "cell_type": "code",
   "execution_count": 91,
   "id": "a33d2119",
   "metadata": {},
   "outputs": [],
   "source": [
    "train_formal, test_formal = nltk.sentiment.util.split_train_test(formal_docs, n=None)\n",
    "train_colloquial, test_colloquial = nltk.sentiment.util.split_train_test(colloquial_docs, n=None)\n",
    "train_docs= train_formal+train_colloquial\n",
    "test_docs= test_formal+test_colloquial"
   ]
  },
  {
   "cell_type": "code",
   "execution_count": 94,
   "id": "c2fea3cf",
   "metadata": {},
   "outputs": [],
   "source": [
    "sentim_analyzer = SentimentAnalyzer()\n",
    "all_words = sentim_analyzer.all_words(train_docs,labeled= True)\n",
    "unigram_feats = sentim_analyzer.unigram_word_feats(all_words, top_n=1000)\n",
    "sentim_analyzer.add_feat_extractor(extract_unigram_feats, unigrams=unigram_feats)"
   ]
  },
  {
   "cell_type": "code",
   "execution_count": 96,
   "id": "bfb02a74",
   "metadata": {},
   "outputs": [],
   "source": [
    "train_set = sentim_analyzer.apply_features(train_docs)\n",
    "test_set = sentim_analyzer.apply_features(test_docs)"
   ]
  },
  {
   "cell_type": "code",
   "execution_count": 97,
   "id": "50bb6f16",
   "metadata": {},
   "outputs": [],
   "source": [
    "NBC= NaiveBayesClassifier.train(train_set)"
   ]
  },
  {
   "cell_type": "code",
   "execution_count": 191,
   "id": "41419563",
   "metadata": {},
   "outputs": [
    {
     "name": "stderr",
     "output_type": "stream",
     "text": [
      "100%|██████████████████████████████████████| 5000/5000 [00:18<00:00, 271.05it/s]\n"
     ]
    }
   ],
   "source": [
    "result= []\n",
    "y_pred= []\n",
    "y_test= []\n",
    "for i in tqdm(np.random.randint(0,len(test_set),5000)):\n",
    "    y_pred.append(NBC.classify(test_set[i][0]))\n",
    "    y_test.append(test_docs[i][1])\n",
    "    if y_pred[-1]==y_test[-1]:\n",
    "        results.append(1)\n",
    "    else:\n",
    "        results.append(0)\n",
    "cf_matrix = confusion_matrix(y_test, y_pred)\n",
    "precision= sum(results)/len(results)"
   ]
  },
  {
   "cell_type": "code",
   "execution_count": 192,
   "id": "9d4f2191",
   "metadata": {},
   "outputs": [
    {
     "data": {
      "text/plain": [
       "0.825703125"
      ]
     },
     "execution_count": 192,
     "metadata": {},
     "output_type": "execute_result"
    }
   ],
   "source": [
    "precision"
   ]
  },
  {
   "cell_type": "code",
   "execution_count": 193,
   "id": "358b953e",
   "metadata": {},
   "outputs": [
    {
     "data": {
      "text/plain": [
       "[Text(0, 0.5, 'Formal'), Text(0, 1.5, 'Colloquial')]"
      ]
     },
     "execution_count": 193,
     "metadata": {},
     "output_type": "execute_result"
    },
    {
     "data": {
      "image/png": "[encoded data removed]",
      "text/plain": [
       "<Figure size 432x288 with 2 Axes>"
      ]
     },
     "metadata": {
      "needs_background": "light"
     },
     "output_type": "display_data"
    }
   ],
   "source": [
    "ax = sns.heatmap(cf_matrix, annot=True, cmap='Blues')\n",
    "ax.set_title('Seaborn Confusion Matrix with labels\\n\\n');\n",
    "ax.set_xlabel('\\nPredicted Values')\n",
    "ax.set_ylabel('Actual Values ');\n",
    "\n",
    "## Ticket labels - List must be in alphabetical order\n",
    "ax.xaxis.set_ticklabels(['Formal','Colloquial'])\n",
    "ax.yaxis.set_ticklabels(['Formal','Colloquial'])"
   ]
  },
  {
   "cell_type": "code",
   "execution_count": 194,
   "id": "0d665fc6",
   "metadata": {},
   "outputs": [],
   "source": [
    "with open('NBC_contractions.pkl', 'wb') as file:\n",
    "    # A new file will be created\n",
    "    pickle.dump(NBC, file)\n",
    "with open(\"analyzer_contractions.pkl\",\"wb\") as file:\n",
    "    pickle.dump(sentim_analyzer, file)"
   ]
  },
  {
   "cell_type": "code",
   "execution_count": null,
   "id": "c7755ed4",
   "metadata": {},
   "outputs": [],
   "source": []
  }
 ],
 "metadata": {
  "kernelspec": {
   "display_name": "Python 3 (ipykernel)",
   "language": "python",
   "name": "python3"
  },
  "language_info": {
   "codemirror_mode": {
    "name": "ipython",
    "version": 3
   },
   "file_extension": ".py",
   "mimetype": "text/x-python",
   "name": "python",
   "nbconvert_exporter": "python",
   "pygments_lexer": "ipython3",
   "version": "3.8.11"
  }
 },
 "nbformat": 4,
 "nbformat_minor": 5
}

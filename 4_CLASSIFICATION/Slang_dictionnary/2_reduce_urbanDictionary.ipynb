{
 "cells": [
  {
   "cell_type": "markdown",
   "id": "84f6a630",
   "metadata": {},
   "source": [
    "## This script aims to remove words of the urban dictionary that also exist in a reference dictionary (i.e. that would be valid in a scrabble game)"
   ]
  },
  {
   "cell_type": "markdown",
   "id": "3631ccd4",
   "metadata": {},
   "source": [
    "### Needed dependancies"
   ]
  },
  {
   "cell_type": "code",
   "execution_count": 1,
   "id": "38915ce0",
   "metadata": {},
   "outputs": [
    {
     "name": "stderr",
     "output_type": "stream",
     "text": [
      "/var/folders/ll/9ks4sslj4hj9kg36pxlnc3xc0000gn/T/ipykernel_57050/3758648336.py:4: TqdmDeprecationWarning: This function will be removed in tqdm==5.0.0\n",
      "Please use `tqdm.notebook.tqdm` instead of `tqdm.tqdm_notebook`\n",
      "  tqdm_notebook().pandas()\n"
     ]
    },
    {
     "data": {
      "application/vnd.jupyter.widget-view+json": {
       "model_id": "521584fd227346e397e55a4d41a164c7",
       "version_major": 2,
       "version_minor": 0
      },
      "text/plain": [
       "0it [00:00, ?it/s]"
      ]
     },
     "metadata": {},
     "output_type": "display_data"
    }
   ],
   "source": [
    "import pandas as pd\n",
    "import PyDictionary\n",
    "from tqdm import tqdm, tqdm_notebook\n",
    "tqdm_notebook().pandas()"
   ]
  },
  {
   "cell_type": "code",
   "execution_count": 2,
   "id": "060f588d",
   "metadata": {},
   "outputs": [],
   "source": [
    "dictionary= PyDictionary.PyDictionary()"
   ]
  },
  {
   "cell_type": "markdown",
   "id": "168777d0",
   "metadata": {},
   "source": [
    "### Function to test if words are valid (returns boolean)"
   ]
  },
  {
   "cell_type": "code",
   "execution_count": 3,
   "id": "6cd4355f",
   "metadata": {},
   "outputs": [],
   "source": [
    "def scrabble_valid(word):\n",
    "    meaning= dictionary.meaning(word)\n",
    "    if meaning:\n",
    "        valid= True\n",
    "    else:\n",
    "        valid= False\n",
    "    return valid"
   ]
  },
  {
   "cell_type": "markdown",
   "id": "4ab66ade",
   "metadata": {},
   "source": [
    "### Reading slang dictionary"
   ]
  },
  {
   "cell_type": "code",
   "execution_count": 4,
   "id": "2754901c",
   "metadata": {},
   "outputs": [
    {
     "data": {
      "text/html": [
       "<div>\n",
       "<style scoped>\n",
       "    .dataframe tbody tr th:only-of-type {\n",
       "        vertical-align: middle;\n",
       "    }\n",
       "\n",
       "    .dataframe tbody tr th {\n",
       "        vertical-align: top;\n",
       "    }\n",
       "\n",
       "    .dataframe thead th {\n",
       "        text-align: right;\n",
       "    }\n",
       "</style>\n",
       "<table border=\"1\" class=\"dataframe\">\n",
       "  <thead>\n",
       "    <tr style=\"text-align: right;\">\n",
       "      <th></th>\n",
       "      <th>word</th>\n",
       "    </tr>\n",
       "  </thead>\n",
       "  <tbody>\n",
       "    <tr>\n",
       "      <th>0</th>\n",
       "      <td>Janky</td>\n",
       "    </tr>\n",
       "    <tr>\n",
       "      <th>1</th>\n",
       "      <td>slumpin'</td>\n",
       "    </tr>\n",
       "    <tr>\n",
       "      <th>2</th>\n",
       "      <td>yayeeyay</td>\n",
       "    </tr>\n",
       "    <tr>\n",
       "      <th>3</th>\n",
       "      <td>hard-core</td>\n",
       "    </tr>\n",
       "    <tr>\n",
       "      <th>4</th>\n",
       "      <td>brutal</td>\n",
       "    </tr>\n",
       "  </tbody>\n",
       "</table>\n",
       "</div>"
      ],
      "text/plain": [
       "        word\n",
       "0      Janky\n",
       "1   slumpin'\n",
       "2   yayeeyay\n",
       "3  hard-core\n",
       "4     brutal"
      ]
     },
     "execution_count": 4,
     "metadata": {},
     "output_type": "execute_result"
    }
   ],
   "source": [
    "slang= pd.read_pickle(\"./Final_Dictionary.pkl\")\n",
    "slang.head()"
   ]
  },
  {
   "cell_type": "markdown",
   "id": "bf3ff5e5",
   "metadata": {},
   "source": [
    "Taking a sample from the dictionary. do not run this cell to perform task on the whole dictionary"
   ]
  },
  {
   "cell_type": "code",
   "execution_count": 5,
   "id": "6cba140c",
   "metadata": {},
   "outputs": [],
   "source": [
    "#slang= slang.sample(1000)"
   ]
  },
  {
   "cell_type": "markdown",
   "id": "073512f7",
   "metadata": {},
   "source": [
    "### Applying validity function to the dictionary"
   ]
  },
  {
   "cell_type": "code",
   "execution_count": 6,
   "id": "5a0ed506",
   "metadata": {},
   "outputs": [],
   "source": [
    "%%capture\n",
    "slang[\"scrabble_valid\"]= slang[\"word\"].progress_apply(lambda x : scrabble_valid(x))"
   ]
  },
  {
   "cell_type": "markdown",
   "id": "cff3280b",
   "metadata": {},
   "source": [
    "### Visualising results"
   ]
  },
  {
   "cell_type": "code",
   "execution_count": 7,
   "id": "5326b515",
   "metadata": {},
   "outputs": [
    {
     "data": {
      "text/plain": [
       "False    16339\n",
       "True      4650\n",
       "Name: scrabble_valid, dtype: int64"
      ]
     },
     "execution_count": 7,
     "metadata": {},
     "output_type": "execute_result"
    }
   ],
   "source": [
    "slang[\"scrabble_valid\"].value_counts()"
   ]
  },
  {
   "cell_type": "markdown",
   "id": "9d5e441b",
   "metadata": {},
   "source": [
    "### Removing valid entries"
   ]
  },
  {
   "cell_type": "code",
   "execution_count": 8,
   "id": "8c55d1fc",
   "metadata": {},
   "outputs": [],
   "source": [
    "reduced_slang= slang[\"word\"][slang[\"scrabble_valid\"]== False].reset_index()"
   ]
  },
  {
   "cell_type": "code",
   "execution_count": 9,
   "id": "7865e974",
   "metadata": {
    "scrolled": true
   },
   "outputs": [
    {
     "data": {
      "text/html": [
       "<div>\n",
       "<style scoped>\n",
       "    .dataframe tbody tr th:only-of-type {\n",
       "        vertical-align: middle;\n",
       "    }\n",
       "\n",
       "    .dataframe tbody tr th {\n",
       "        vertical-align: top;\n",
       "    }\n",
       "\n",
       "    .dataframe thead th {\n",
       "        text-align: right;\n",
       "    }\n",
       "</style>\n",
       "<table border=\"1\" class=\"dataframe\">\n",
       "  <thead>\n",
       "    <tr style=\"text-align: right;\">\n",
       "      <th></th>\n",
       "      <th>index</th>\n",
       "      <th>word</th>\n",
       "    </tr>\n",
       "  </thead>\n",
       "  <tbody>\n",
       "    <tr>\n",
       "      <th>0</th>\n",
       "      <td>0</td>\n",
       "      <td>Janky</td>\n",
       "    </tr>\n",
       "    <tr>\n",
       "      <th>1</th>\n",
       "      <td>1</td>\n",
       "      <td>slumpin'</td>\n",
       "    </tr>\n",
       "    <tr>\n",
       "      <th>2</th>\n",
       "      <td>2</td>\n",
       "      <td>yayeeyay</td>\n",
       "    </tr>\n",
       "    <tr>\n",
       "      <th>3</th>\n",
       "      <td>5</td>\n",
       "      <td>ho-bag</td>\n",
       "    </tr>\n",
       "    <tr>\n",
       "      <th>4</th>\n",
       "      <td>7</td>\n",
       "      <td>hork</td>\n",
       "    </tr>\n",
       "    <tr>\n",
       "      <th>5</th>\n",
       "      <td>8</td>\n",
       "      <td>hecka</td>\n",
       "    </tr>\n",
       "    <tr>\n",
       "      <th>6</th>\n",
       "      <td>9</td>\n",
       "      <td>hella</td>\n",
       "    </tr>\n",
       "    <tr>\n",
       "      <th>7</th>\n",
       "      <td>10</td>\n",
       "      <td>wet wagons</td>\n",
       "    </tr>\n",
       "    <tr>\n",
       "      <th>8</th>\n",
       "      <td>11</td>\n",
       "      <td>twomp</td>\n",
       "    </tr>\n",
       "    <tr>\n",
       "      <th>9</th>\n",
       "      <td>12</td>\n",
       "      <td>ducket</td>\n",
       "    </tr>\n",
       "    <tr>\n",
       "      <th>10</th>\n",
       "      <td>14</td>\n",
       "      <td>A-hole</td>\n",
       "    </tr>\n",
       "    <tr>\n",
       "      <th>11</th>\n",
       "      <td>15</td>\n",
       "      <td>Ass Kisser</td>\n",
       "    </tr>\n",
       "    <tr>\n",
       "      <th>12</th>\n",
       "      <td>18</td>\n",
       "      <td>Dry hump</td>\n",
       "    </tr>\n",
       "    <tr>\n",
       "      <th>13</th>\n",
       "      <td>19</td>\n",
       "      <td>No Shit</td>\n",
       "    </tr>\n",
       "    <tr>\n",
       "      <th>14</th>\n",
       "      <td>26</td>\n",
       "      <td>Toss salid</td>\n",
       "    </tr>\n",
       "    <tr>\n",
       "      <th>15</th>\n",
       "      <td>28</td>\n",
       "      <td>no way</td>\n",
       "    </tr>\n",
       "    <tr>\n",
       "      <th>16</th>\n",
       "      <td>30</td>\n",
       "      <td>187</td>\n",
       "    </tr>\n",
       "    <tr>\n",
       "      <th>17</th>\n",
       "      <td>31</td>\n",
       "      <td>flower run</td>\n",
       "    </tr>\n",
       "    <tr>\n",
       "      <th>18</th>\n",
       "      <td>33</td>\n",
       "      <td>rim job</td>\n",
       "    </tr>\n",
       "    <tr>\n",
       "      <th>19</th>\n",
       "      <td>35</td>\n",
       "      <td>riiiiiiight</td>\n",
       "    </tr>\n",
       "  </tbody>\n",
       "</table>\n",
       "</div>"
      ],
      "text/plain": [
       "    index         word\n",
       "0       0        Janky\n",
       "1       1     slumpin'\n",
       "2       2     yayeeyay\n",
       "3       5       ho-bag\n",
       "4       7         hork\n",
       "5       8        hecka\n",
       "6       9        hella\n",
       "7      10   wet wagons\n",
       "8      11        twomp\n",
       "9      12       ducket\n",
       "10     14       A-hole\n",
       "11     15   Ass Kisser\n",
       "12     18     Dry hump\n",
       "13     19      No Shit\n",
       "14     26   Toss salid\n",
       "15     28       no way\n",
       "16     30          187\n",
       "17     31   flower run\n",
       "18     33      rim job\n",
       "19     35  riiiiiiight"
      ]
     },
     "execution_count": 9,
     "metadata": {},
     "output_type": "execute_result"
    }
   ],
   "source": [
    "reduced_slang.head(20)"
   ]
  },
  {
   "cell_type": "markdown",
   "id": "9466d3cd",
   "metadata": {},
   "source": [
    "### Saving the new dictionary into a dataframe"
   ]
  },
  {
   "cell_type": "code",
   "execution_count": 10,
   "id": "f6f678ef",
   "metadata": {},
   "outputs": [],
   "source": [
    "del reduced_slang['index']\n",
    "reduced_slang.to_pickle(\"./Reduced_Final_Dictionary.pkl\")"
   ]
  }
 ],
 "metadata": {
  "kernelspec": {
   "display_name": "Python 3 (ipykernel)",
   "language": "python",
   "name": "python3"
  },
  "language_info": {
   "codemirror_mode": {
    "name": "ipython",
    "version": 3
   },
   "file_extension": ".py",
   "mimetype": "text/x-python",
   "name": "python",
   "nbconvert_exporter": "python",
   "pygments_lexer": "ipython3",
   "version": "3.8.11"
  }
 },
 "nbformat": 4,
 "nbformat_minor": 5
}

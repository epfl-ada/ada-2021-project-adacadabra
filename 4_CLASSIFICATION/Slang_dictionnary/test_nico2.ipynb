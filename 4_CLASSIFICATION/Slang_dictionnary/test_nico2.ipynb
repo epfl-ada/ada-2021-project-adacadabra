{
 "cells": [
  {
   "cell_type": "code",
   "execution_count": 2,
   "id": "e3228928",
   "metadata": {},
   "outputs": [
    {
     "name": "stderr",
     "output_type": "stream",
     "text": [
      "C:\\Users\\Nicola\\AppData\\Local\\Temp/ipykernel_19556/3758648336.py:4: TqdmDeprecationWarning: This function will be removed in tqdm==5.0.0\n",
      "Please use `tqdm.notebook.tqdm` instead of `tqdm.tqdm_notebook`\n",
      "  tqdm_notebook().pandas()\n"
     ]
    },
    {
     "data": {
      "application/vnd.jupyter.widget-view+json": {
       "model_id": "3efbfd217dbf4f9b9342e49944f94102",
       "version_major": 2,
       "version_minor": 0
      },
      "text/plain": [
       "0it [00:00, ?it/s]"
      ]
     },
     "metadata": {},
     "output_type": "display_data"
    }
   ],
   "source": [
    "import pandas as pd\n",
    "import PyDictionary\n",
    "from tqdm import tqdm, tqdm_notebook\n",
    "tqdm_notebook().pandas()"
   ]
  },
  {
   "cell_type": "code",
   "execution_count": 3,
   "id": "3c6c1e8a",
   "metadata": {},
   "outputs": [],
   "source": [
    "dictionary= PyDictionary.PyDictionary()"
   ]
  },
  {
   "cell_type": "code",
   "execution_count": 4,
   "id": "95007584",
   "metadata": {},
   "outputs": [],
   "source": [
    "def scrabble_valid(word):\n",
    "    meaning= dictionary.meaning(word)\n",
    "    if meaning:\n",
    "        valid= True\n",
    "    else:\n",
    "        valid= False\n",
    "    return valid"
   ]
  },
  {
   "cell_type": "code",
   "execution_count": 7,
   "id": "f696ed8d",
   "metadata": {},
   "outputs": [
    {
     "data": {
      "text/html": [
       "<div>\n",
       "<style scoped>\n",
       "    .dataframe tbody tr th:only-of-type {\n",
       "        vertical-align: middle;\n",
       "    }\n",
       "\n",
       "    .dataframe tbody tr th {\n",
       "        vertical-align: top;\n",
       "    }\n",
       "\n",
       "    .dataframe thead th {\n",
       "        text-align: right;\n",
       "    }\n",
       "</style>\n",
       "<table border=\"1\" class=\"dataframe\">\n",
       "  <thead>\n",
       "    <tr style=\"text-align: right;\">\n",
       "      <th></th>\n",
       "      <th>UDid</th>\n",
       "      <th>word</th>\n",
       "      <th>example</th>\n",
       "      <th>upvotes</th>\n",
       "      <th>downvotes</th>\n",
       "    </tr>\n",
       "  </thead>\n",
       "  <tbody>\n",
       "    <tr>\n",
       "      <th>0</th>\n",
       "      <td>7</td>\n",
       "      <td>Janky</td>\n",
       "      <td>Your mother cooks janky collard greens.</td>\n",
       "      <td>310</td>\n",
       "      <td>266</td>\n",
       "    </tr>\n",
       "    <tr>\n",
       "      <th>1</th>\n",
       "      <td>8</td>\n",
       "      <td>slumpin'</td>\n",
       "      <td>slumpin' beats and phat tracks as we spin da w...</td>\n",
       "      <td>19</td>\n",
       "      <td>39</td>\n",
       "    </tr>\n",
       "    <tr>\n",
       "      <th>2</th>\n",
       "      <td>9</td>\n",
       "      <td>yayeeyay</td>\n",
       "      <td>\"We be dubbin!  And we's gonna bounce to play ...</td>\n",
       "      <td>23</td>\n",
       "      <td>28</td>\n",
       "    </tr>\n",
       "    <tr>\n",
       "      <th>3</th>\n",
       "      <td>12</td>\n",
       "      <td>hard-core</td>\n",
       "      <td>Dood, that girl's pants are too hard-core for us.</td>\n",
       "      <td>167</td>\n",
       "      <td>96</td>\n",
       "    </tr>\n",
       "    <tr>\n",
       "      <th>4</th>\n",
       "      <td>13</td>\n",
       "      <td>brutal</td>\n",
       "      <td>Man, this morning's calisthenics were brutal.</td>\n",
       "      <td>12</td>\n",
       "      <td>45</td>\n",
       "    </tr>\n",
       "  </tbody>\n",
       "</table>\n",
       "</div>"
      ],
      "text/plain": [
       "   UDid       word                                            example  \\\n",
       "0     7      Janky            Your mother cooks janky collard greens.   \n",
       "1     8   slumpin'  slumpin' beats and phat tracks as we spin da w...   \n",
       "2     9   yayeeyay  \"We be dubbin!  And we's gonna bounce to play ...   \n",
       "3    12  hard-core  Dood, that girl's pants are too hard-core for us.   \n",
       "4    13     brutal      Man, this morning's calisthenics were brutal.   \n",
       "\n",
       "   upvotes  downvotes  \n",
       "0      310        266  \n",
       "1       19         39  \n",
       "2       23         28  \n",
       "3      167         96  \n",
       "4       12         45  "
      ]
     },
     "execution_count": 7,
     "metadata": {},
     "output_type": "execute_result"
    }
   ],
   "source": [
    "dico= pd.read_pickle(\"./new_urban_dictionary.pkl\")\n",
    "dico.head()"
   ]
  },
  {
   "cell_type": "code",
   "execution_count": 8,
   "id": "667f5dbb",
   "metadata": {},
   "outputs": [
    {
     "data": {
      "text/html": [
       "<div>\n",
       "<style scoped>\n",
       "    .dataframe tbody tr th:only-of-type {\n",
       "        vertical-align: middle;\n",
       "    }\n",
       "\n",
       "    .dataframe tbody tr th {\n",
       "        vertical-align: top;\n",
       "    }\n",
       "\n",
       "    .dataframe thead th {\n",
       "        text-align: right;\n",
       "    }\n",
       "</style>\n",
       "<table border=\"1\" class=\"dataframe\">\n",
       "  <thead>\n",
       "    <tr style=\"text-align: right;\">\n",
       "      <th></th>\n",
       "      <th>UDid</th>\n",
       "      <th>word</th>\n",
       "      <th>example</th>\n",
       "      <th>upvotes</th>\n",
       "      <th>downvotes</th>\n",
       "    </tr>\n",
       "  </thead>\n",
       "  <tbody>\n",
       "    <tr>\n",
       "      <th>5405</th>\n",
       "      <td>14028</td>\n",
       "      <td>Pussy</td>\n",
       "      <td></td>\n",
       "      <td>81480</td>\n",
       "      <td>29669</td>\n",
       "    </tr>\n",
       "    <tr>\n",
       "      <th>17100</th>\n",
       "      <td>41272</td>\n",
       "      <td>orgasm</td>\n",
       "      <td></td>\n",
       "      <td>54865</td>\n",
       "      <td>12960</td>\n",
       "    </tr>\n",
       "    <tr>\n",
       "      <th>5653</th>\n",
       "      <td>15307</td>\n",
       "      <td>Chode</td>\n",
       "      <td>My boyfriend wanted a hand-job but i couldn't ...</td>\n",
       "      <td>36943</td>\n",
       "      <td>21894</td>\n",
       "    </tr>\n",
       "    <tr>\n",
       "      <th>2321</th>\n",
       "      <td>5814</td>\n",
       "      <td>cunt</td>\n",
       "      <td>She has the preetiest cunt :-)\\r\\nI want to fu...</td>\n",
       "      <td>33303</td>\n",
       "      <td>21651</td>\n",
       "    </tr>\n",
       "    <tr>\n",
       "      <th>515</th>\n",
       "      <td>915</td>\n",
       "      <td>cum</td>\n",
       "      <td>I just got some spam inviting me to \"cum here....</td>\n",
       "      <td>31834</td>\n",
       "      <td>14625</td>\n",
       "    </tr>\n",
       "    <tr>\n",
       "      <th>...</th>\n",
       "      <td>...</td>\n",
       "      <td>...</td>\n",
       "      <td>...</td>\n",
       "      <td>...</td>\n",
       "      <td>...</td>\n",
       "    </tr>\n",
       "    <tr>\n",
       "      <th>15991</th>\n",
       "      <td>38570</td>\n",
       "      <td>Piss ant</td>\n",
       "      <td>Get out of my way, you little piss ant.</td>\n",
       "      <td>587</td>\n",
       "      <td>169</td>\n",
       "    </tr>\n",
       "    <tr>\n",
       "      <th>3115</th>\n",
       "      <td>8026</td>\n",
       "      <td>beat off</td>\n",
       "      <td>Been beatin' off like a madman lately.</td>\n",
       "      <td>587</td>\n",
       "      <td>117</td>\n",
       "    </tr>\n",
       "    <tr>\n",
       "      <th>1378</th>\n",
       "      <td>2702</td>\n",
       "      <td>mummy</td>\n",
       "      <td>i love u mummy</td>\n",
       "      <td>585</td>\n",
       "      <td>228</td>\n",
       "    </tr>\n",
       "    <tr>\n",
       "      <th>1097</th>\n",
       "      <td>1977</td>\n",
       "      <td>taint</td>\n",
       "      <td>Melissa shaves her \"taint\" and it is quite lov...</td>\n",
       "      <td>584</td>\n",
       "      <td>434</td>\n",
       "    </tr>\n",
       "    <tr>\n",
       "      <th>5371</th>\n",
       "      <td>13939</td>\n",
       "      <td>salad tosser</td>\n",
       "      <td>Eric is a salad tosser!</td>\n",
       "      <td>584</td>\n",
       "      <td>148</td>\n",
       "    </tr>\n",
       "  </tbody>\n",
       "</table>\n",
       "<p>1000 rows × 5 columns</p>\n",
       "</div>"
      ],
      "text/plain": [
       "        UDid          word                                            example  \\\n",
       "5405   14028         Pussy                                                      \n",
       "17100  41272        orgasm                                                      \n",
       "5653   15307         Chode  My boyfriend wanted a hand-job but i couldn't ...   \n",
       "2321    5814          cunt  She has the preetiest cunt :-)\\r\\nI want to fu...   \n",
       "515      915           cum  I just got some spam inviting me to \"cum here....   \n",
       "...      ...           ...                                                ...   \n",
       "15991  38570      Piss ant            Get out of my way, you little piss ant.   \n",
       "3115    8026      beat off             Been beatin' off like a madman lately.   \n",
       "1378    2702         mummy                                     i love u mummy   \n",
       "1097    1977         taint  Melissa shaves her \"taint\" and it is quite lov...   \n",
       "5371   13939  salad tosser                            Eric is a salad tosser!   \n",
       "\n",
       "       upvotes  downvotes  \n",
       "5405     81480      29669  \n",
       "17100    54865      12960  \n",
       "5653     36943      21894  \n",
       "2321     33303      21651  \n",
       "515      31834      14625  \n",
       "...        ...        ...  \n",
       "15991      587        169  \n",
       "3115       587        117  \n",
       "1378       585        228  \n",
       "1097       584        434  \n",
       "5371       584        148  \n",
       "\n",
       "[1000 rows x 5 columns]"
      ]
     },
     "execution_count": 8,
     "metadata": {},
     "output_type": "execute_result"
    }
   ],
   "source": [
    "#select words based on votes. in this case, we only select the n most upvoted words \n",
    "n= 1000\n",
    "dico= dico.sort_values(by='upvotes', ascending=False)[:n]\n",
    "dico"
   ]
  },
  {
   "cell_type": "code",
   "execution_count": 12,
   "id": "e58b7c65",
   "metadata": {},
   "outputs": [],
   "source": [
    "%%capture\n",
    "dico[\"scrabble_valid\"]= dico[\"word\"].progress_apply(lambda x : scrabble_valid(x))"
   ]
  },
  {
   "cell_type": "code",
   "execution_count": 13,
   "id": "59a171b7",
   "metadata": {},
   "outputs": [
    {
     "data": {
      "text/plain": [
       "False    576\n",
       "True     424\n",
       "Name: scrabble_valid, dtype: int64"
      ]
     },
     "execution_count": 13,
     "metadata": {},
     "output_type": "execute_result"
    }
   ],
   "source": [
    "dico[\"scrabble_valid\"].value_counts()"
   ]
  },
  {
   "cell_type": "code",
   "execution_count": null,
   "id": "2ee40e86",
   "metadata": {},
   "outputs": [],
   "source": []
  }
 ],
 "metadata": {
  "kernelspec": {
   "display_name": "Python 3 (ipykernel)",
   "language": "python",
   "name": "python3"
  },
  "language_info": {
   "codemirror_mode": {
    "name": "ipython",
    "version": 3
   },
   "file_extension": ".py",
   "mimetype": "text/x-python",
   "name": "python",
   "nbconvert_exporter": "python",
   "pygments_lexer": "ipython3",
   "version": "3.8.11"
  }
 },
 "nbformat": 4,
 "nbformat_minor": 5
}

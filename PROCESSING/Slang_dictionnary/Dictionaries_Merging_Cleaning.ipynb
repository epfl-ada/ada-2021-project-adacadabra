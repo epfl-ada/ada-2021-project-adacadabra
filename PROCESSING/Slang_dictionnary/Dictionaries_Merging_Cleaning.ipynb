{
 "cells": [
  {
   "cell_type": "code",
   "execution_count": 1,
   "id": "d9d069a9-6e22-4318-92f6-746eefe1ad64",
   "metadata": {},
   "outputs": [],
   "source": [
    "import pandas as pd"
   ]
  },
  {
   "cell_type": "markdown",
   "id": "90523e0d-0c87-4d90-8bdf-8bdc3cbe250e",
   "metadata": {},
   "source": [
    "This programm aims to merge the different dictonaries chosen together"
   ]
  },
  {
   "cell_type": "code",
   "execution_count": 2,
   "id": "409a1f55-2061-4363-a621-3f92e4837c1f",
   "metadata": {},
   "outputs": [
    {
     "name": "stderr",
     "output_type": "stream",
     "text": [
      "/opt/anaconda3/envs/new_base_38/lib/python3.8/site-packages/IPython/core/interactiveshell.py:3441: FutureWarning: The error_bad_lines argument has been deprecated and will be removed in a future version.\n",
      "\n",
      "\n",
      "  exec(code_obj, self.user_global_ns, self.user_ns)\n",
      "b'Skipping line 1816: expected 1 fields, saw 2\\nSkipping line 2844: expected 1 fields, saw 2\\nSkipping line 4569: expected 1 fields, saw 2\\n'\n"
     ]
    }
   ],
   "source": [
    "# Here we load the dictionaries\n",
    "urbdi = pd.read_pickle(\"urban_dictionary.pkl\")\n",
    "infdi = pd.read_csv(\"dict_informal_sentence.txt\",header=None)\n",
    "slangdi = pd.read_csv(\"slang_dict_Jules.txt\",encoding_errors=\"ignore\",error_bad_lines=False,header=None)"
   ]
  },
  {
   "cell_type": "code",
   "execution_count": 3,
   "id": "8a75df66-a873-4c6d-b9a2-a545294e3aa9",
   "metadata": {},
   "outputs": [],
   "source": [
    "#comdi = pd.read_json(\"most_common_words.json\",charset=\"utf-8\")\n",
    "#comdi.head()"
   ]
  },
  {
   "cell_type": "code",
   "execution_count": 4,
   "id": "ccf02ec1-7e00-4730-b677-60ca711f63ee",
   "metadata": {},
   "outputs": [
    {
     "data": {
      "text/html": [
       "<div>\n",
       "<style scoped>\n",
       "    .dataframe tbody tr th:only-of-type {\n",
       "        vertical-align: middle;\n",
       "    }\n",
       "\n",
       "    .dataframe tbody tr th {\n",
       "        vertical-align: top;\n",
       "    }\n",
       "\n",
       "    .dataframe thead th {\n",
       "        text-align: right;\n",
       "    }\n",
       "</style>\n",
       "<table border=\"1\" class=\"dataframe\">\n",
       "  <thead>\n",
       "    <tr style=\"text-align: right;\">\n",
       "      <th></th>\n",
       "      <th>UDid</th>\n",
       "      <th>word</th>\n",
       "      <th>example</th>\n",
       "    </tr>\n",
       "  </thead>\n",
       "  <tbody>\n",
       "    <tr>\n",
       "      <th>0</th>\n",
       "      <td>7</td>\n",
       "      <td>Janky</td>\n",
       "      <td>Your mother cooks janky collard greens.</td>\n",
       "    </tr>\n",
       "    <tr>\n",
       "      <th>1</th>\n",
       "      <td>8</td>\n",
       "      <td>slumpin'</td>\n",
       "      <td>slumpin' beats and phat tracks as we spin da w...</td>\n",
       "    </tr>\n",
       "    <tr>\n",
       "      <th>2</th>\n",
       "      <td>9</td>\n",
       "      <td>yayeeyay</td>\n",
       "      <td>\"We be dubbin!  And we's gonna bounce to play ...</td>\n",
       "    </tr>\n",
       "    <tr>\n",
       "      <th>3</th>\n",
       "      <td>12</td>\n",
       "      <td>hard-core</td>\n",
       "      <td>Dood, that girl's pants are too hard-core for us.</td>\n",
       "    </tr>\n",
       "    <tr>\n",
       "      <th>4</th>\n",
       "      <td>13</td>\n",
       "      <td>brutal</td>\n",
       "      <td>Man, this morning's calisthenics were brutal.</td>\n",
       "    </tr>\n",
       "  </tbody>\n",
       "</table>\n",
       "</div>"
      ],
      "text/plain": [
       "   UDid       word                                            example\n",
       "0     7      Janky            Your mother cooks janky collard greens.\n",
       "1     8   slumpin'  slumpin' beats and phat tracks as we spin da w...\n",
       "2     9   yayeeyay  \"We be dubbin!  And we's gonna bounce to play ...\n",
       "3    12  hard-core  Dood, that girl's pants are too hard-core for us.\n",
       "4    13     brutal      Man, this morning's calisthenics were brutal."
      ]
     },
     "execution_count": 4,
     "metadata": {},
     "output_type": "execute_result"
    }
   ],
   "source": [
    "urbdi.head(5)"
   ]
  },
  {
   "cell_type": "code",
   "execution_count": 5,
   "id": "8d871d7a-b81a-4f07-bb6d-68ebd8f5d80b",
   "metadata": {},
   "outputs": [],
   "source": [
    "# Let's unify column name of all dictionaries :\n",
    "infdi.columns = [\"word\"]\n",
    "slangdi.columns = [\"word\"]"
   ]
  },
  {
   "cell_type": "code",
   "execution_count": 6,
   "id": "82fd522b-2759-48cb-bfa0-5a53898d6b6a",
   "metadata": {},
   "outputs": [
    {
     "name": "stdout",
     "output_type": "stream",
     "text": [
      "It is True that there are no duplicates\n",
      "329 rows have been removed\n"
     ]
    }
   ],
   "source": [
    "#It is now possible to concatenate the dictionaries together\n",
    "concat_dict = pd.concat([urbdi,infdi,slangdi])\n",
    "\n",
    "# We keep only the column with the word (or expression)\n",
    "concat_dict = concat_dict.drop([\"UDid\",\"example\"],axis=1)\n",
    "\n",
    "# Let's get rid of duplicates and NaN\n",
    "newdict = concat_dict.copy().drop_duplicates(subset = 'word', keep='first')\n",
    "newdict = newdict.dropna()\n",
    "print(\"It is\",newdict.word.is_unique, \"that there are no duplicates\")\n",
    "print(concat_dict.shape[0]-newdict.shape[0], \"rows have been removed\")\n",
    "\n",
    "# Finally, reindex the dataframe\n",
    "newdict = newdict.reset_index(drop=True)"
   ]
  },
  {
   "cell_type": "code",
   "execution_count": 7,
   "id": "0fc288a0-66bb-4edd-82c6-c131e2b0f506",
   "metadata": {},
   "outputs": [],
   "source": [
    "# newdict.to_pickle(\"./Final_Dictionary.pkl\")"
   ]
  },
  {
   "cell_type": "markdown",
   "id": "cefd2736-66b6-4209-acde-6ef740b385de",
   "metadata": {},
   "source": [
    "We finish by removing all general common words in English"
   ]
  },
  {
   "cell_type": "code",
   "execution_count": 8,
   "id": "676e9b01-df87-4ca6-8534-320c6e5d49c3",
   "metadata": {},
   "outputs": [],
   "source": [
    "import json"
   ]
  },
  {
   "cell_type": "code",
   "execution_count": 9,
   "id": "71b0560e-63ba-4644-986a-58678895d28d",
   "metadata": {},
   "outputs": [],
   "source": [
    "with open(\"most_common_words.json\") as file :\n",
    "    data = json.load(file)"
   ]
  },
  {
   "cell_type": "code",
   "execution_count": 10,
   "id": "5baf9f40-007e-4d5c-8a9e-c8d8db94ddd3",
   "metadata": {},
   "outputs": [
    {
     "name": "stderr",
     "output_type": "stream",
     "text": [
      "/var/folders/x4/9vl5y2nx7y5dc4pzq72h6mhr0000gn/T/ipykernel_17187/1054060257.py:3: FutureWarning: pandas.io.json.json_normalize is deprecated, use pandas.json_normalize instead\n",
      "  df = json_normalize(data)\n"
     ]
    }
   ],
   "source": [
    "from pandas.io.json import json_normalize #package for flattening json in pandas df\n",
    "\n",
    "df = json_normalize(data)\n",
    "df = df.columns\n",
    "df = pd.DataFrame(df)\n",
    "df.columns = [\"word\"]"
   ]
  },
  {
   "cell_type": "code",
   "execution_count": 11,
   "id": "429e3e47-0223-4ecd-994a-4b12105a95bd",
   "metadata": {},
   "outputs": [
    {
     "name": "stderr",
     "output_type": "stream",
     "text": [
      "/var/folders/x4/9vl5y2nx7y5dc4pzq72h6mhr0000gn/T/ipykernel_17187/3589339007.py:1: FutureWarning: The default value of regex will change from True to False in a future version.\n",
      "  df[\"word\"] = df.word.str.replace(\".end\",\"\")\n",
      "/var/folders/x4/9vl5y2nx7y5dc4pzq72h6mhr0000gn/T/ipykernel_17187/3589339007.py:2: FutureWarning: The default value of regex will change from True to False in a future version. In addition, single character regular expressions will *not* be treated as literal strings when regex=True.\n",
      "  df[\"word\"] = df.word.str.replace(\".\",\"\")\n"
     ]
    },
    {
     "data": {
      "text/html": [
       "<div>\n",
       "<style scoped>\n",
       "    .dataframe tbody tr th:only-of-type {\n",
       "        vertical-align: middle;\n",
       "    }\n",
       "\n",
       "    .dataframe tbody tr th {\n",
       "        vertical-align: top;\n",
       "    }\n",
       "\n",
       "    .dataframe thead th {\n",
       "        text-align: right;\n",
       "    }\n",
       "</style>\n",
       "<table border=\"1\" class=\"dataframe\">\n",
       "  <thead>\n",
       "    <tr style=\"text-align: right;\">\n",
       "      <th></th>\n",
       "      <th>word</th>\n",
       "    </tr>\n",
       "  </thead>\n",
       "  <tbody>\n",
       "    <tr>\n",
       "      <th>0</th>\n",
       "      <td>the</td>\n",
       "    </tr>\n",
       "    <tr>\n",
       "      <th>1</th>\n",
       "      <td>they</td>\n",
       "    </tr>\n",
       "    <tr>\n",
       "      <th>2</th>\n",
       "      <td>there</td>\n",
       "    </tr>\n",
       "    <tr>\n",
       "      <th>3</th>\n",
       "      <td>their</td>\n",
       "    </tr>\n",
       "    <tr>\n",
       "      <th>4</th>\n",
       "      <td>then</td>\n",
       "    </tr>\n",
       "    <tr>\n",
       "      <th>...</th>\n",
       "      <td>...</td>\n",
       "    </tr>\n",
       "    <tr>\n",
       "      <th>994</th>\n",
       "      <td>quick</td>\n",
       "    </tr>\n",
       "    <tr>\n",
       "      <th>995</th>\n",
       "      <td>quite</td>\n",
       "    </tr>\n",
       "    <tr>\n",
       "      <th>996</th>\n",
       "      <td>quiet</td>\n",
       "    </tr>\n",
       "    <tr>\n",
       "      <th>997</th>\n",
       "      <td>quart</td>\n",
       "    </tr>\n",
       "    <tr>\n",
       "      <th>998</th>\n",
       "      <td>quotient</td>\n",
       "    </tr>\n",
       "  </tbody>\n",
       "</table>\n",
       "<p>999 rows × 1 columns</p>\n",
       "</div>"
      ],
      "text/plain": [
       "         word\n",
       "0         the\n",
       "1        they\n",
       "2       there\n",
       "3       their\n",
       "4        then\n",
       "..        ...\n",
       "994     quick\n",
       "995     quite\n",
       "996     quiet\n",
       "997     quart\n",
       "998  quotient\n",
       "\n",
       "[999 rows x 1 columns]"
      ]
     },
     "execution_count": 11,
     "metadata": {},
     "output_type": "execute_result"
    }
   ],
   "source": [
    "df[\"word\"] = df.word.str.replace(\".end\",\"\")\n",
    "df[\"word\"] = df.word.str.replace(\".\",\"\")\n",
    "df"
   ]
  },
  {
   "cell_type": "code",
   "execution_count": 12,
   "id": "40d70904-3d6f-4720-9e09-557051993be8",
   "metadata": {},
   "outputs": [],
   "source": [
    "toclean = pd.concat([newdict,df,df])\n",
    "cleaned = toclean.copy().drop_duplicates(subset=\"word\",keep=False)"
   ]
  },
  {
   "cell_type": "code",
   "execution_count": 13,
   "id": "1fcc4106-2be4-42f5-8c8f-c64a72169ffb",
   "metadata": {},
   "outputs": [
    {
     "data": {
      "text/plain": [
       "1225"
      ]
     },
     "execution_count": 13,
     "metadata": {},
     "output_type": "execute_result"
    }
   ],
   "source": [
    "toclean.shape[0] - cleaned.shape[0] - df.shape[0]"
   ]
  },
  {
   "cell_type": "code",
   "execution_count": 14,
   "id": "8a8c3de6-5ce6-4ede-80a7-3c50d8999c4d",
   "metadata": {},
   "outputs": [
    {
     "data": {
      "text/plain": [
       "(20763, 1)"
      ]
     },
     "execution_count": 14,
     "metadata": {},
     "output_type": "execute_result"
    }
   ],
   "source": [
    "cleaned = cleaned.reset_index(drop=True)\n",
    "cleaned.shape"
   ]
  },
  {
   "cell_type": "code",
   "execution_count": 15,
   "id": "0f4fe20d-3153-4b41-a7d1-c9bc7cf499c9",
   "metadata": {},
   "outputs": [
    {
     "data": {
      "text/html": [
       "<div>\n",
       "<style scoped>\n",
       "    .dataframe tbody tr th:only-of-type {\n",
       "        vertical-align: middle;\n",
       "    }\n",
       "\n",
       "    .dataframe tbody tr th {\n",
       "        vertical-align: top;\n",
       "    }\n",
       "\n",
       "    .dataframe thead th {\n",
       "        text-align: right;\n",
       "    }\n",
       "</style>\n",
       "<table border=\"1\" class=\"dataframe\">\n",
       "  <thead>\n",
       "    <tr style=\"text-align: right;\">\n",
       "      <th></th>\n",
       "      <th>word</th>\n",
       "    </tr>\n",
       "  </thead>\n",
       "  <tbody>\n",
       "    <tr>\n",
       "      <th>14269</th>\n",
       "      <td>stricko</td>\n",
       "    </tr>\n",
       "    <tr>\n",
       "      <th>276</th>\n",
       "      <td>scat</td>\n",
       "    </tr>\n",
       "    <tr>\n",
       "      <th>12855</th>\n",
       "      <td>gayhentai</td>\n",
       "    </tr>\n",
       "    <tr>\n",
       "      <th>1825</th>\n",
       "      <td>you best step</td>\n",
       "    </tr>\n",
       "    <tr>\n",
       "      <th>12613</th>\n",
       "      <td>CidNinja</td>\n",
       "    </tr>\n",
       "    <tr>\n",
       "      <th>13990</th>\n",
       "      <td>smeadlocks</td>\n",
       "    </tr>\n",
       "    <tr>\n",
       "      <th>1348</th>\n",
       "      <td>butterface</td>\n",
       "    </tr>\n",
       "    <tr>\n",
       "      <th>16519</th>\n",
       "      <td>brolly</td>\n",
       "    </tr>\n",
       "    <tr>\n",
       "      <th>11571</th>\n",
       "      <td>BUCK UP</td>\n",
       "    </tr>\n",
       "    <tr>\n",
       "      <th>10101</th>\n",
       "      <td>Faphat</td>\n",
       "    </tr>\n",
       "    <tr>\n",
       "      <th>5817</th>\n",
       "      <td>buzz cock</td>\n",
       "    </tr>\n",
       "    <tr>\n",
       "      <th>14887</th>\n",
       "      <td>Penicular Lacketes</td>\n",
       "    </tr>\n",
       "    <tr>\n",
       "      <th>2861</th>\n",
       "      <td>M.I.L.F.</td>\n",
       "    </tr>\n",
       "    <tr>\n",
       "      <th>12359</th>\n",
       "      <td>177155_17</td>\n",
       "    </tr>\n",
       "    <tr>\n",
       "      <th>4203</th>\n",
       "      <td>shithole</td>\n",
       "    </tr>\n",
       "  </tbody>\n",
       "</table>\n",
       "</div>"
      ],
      "text/plain": [
       "                     word\n",
       "14269             stricko\n",
       "276                  scat\n",
       "12855           gayhentai\n",
       "1825        you best step\n",
       "12613            CidNinja\n",
       "13990          smeadlocks\n",
       "1348           butterface\n",
       "16519              brolly\n",
       "11571             BUCK UP\n",
       "10101              Faphat\n",
       "5817            buzz cock\n",
       "14887  Penicular Lacketes\n",
       "2861             M.I.L.F.\n",
       "12359           177155_17\n",
       "4203             shithole"
      ]
     },
     "execution_count": 15,
     "metadata": {},
     "output_type": "execute_result"
    }
   ],
   "source": [
    "cleaned.sample(15)"
   ]
  },
  {
   "cell_type": "code",
   "execution_count": null,
   "id": "0487561f-9ad7-4cad-9ceb-5cb99e66a4c0",
   "metadata": {},
   "outputs": [],
   "source": []
  }
 ],
 "metadata": {
  "kernelspec": {
   "display_name": "Python 3 (ipykernel)",
   "language": "python",
   "name": "python3"
  },
  "language_info": {
   "codemirror_mode": {
    "name": "ipython",
    "version": 3
   },
   "file_extension": ".py",
   "mimetype": "text/x-python",
   "name": "python",
   "nbconvert_exporter": "python",
   "pygments_lexer": "ipython3",
   "version": "3.8.11"
  }
 },
 "nbformat": 4,
 "nbformat_minor": 5
}

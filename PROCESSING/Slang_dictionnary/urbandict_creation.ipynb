{
 "cells": [
  {
   "cell_type": "markdown",
   "id": "cf4615a5",
   "metadata": {},
   "source": [
    "Installing and importing needed packages"
   ]
  },
  {
   "cell_type": "code",
   "execution_count": null,
   "id": "45c31f20",
   "metadata": {},
   "outputs": [],
   "source": [
    "import sys\n",
    "!{sys.executable} -m pip install udpy\n",
    "!{sys.executable} -m pip install tqdm"
   ]
  },
  {
   "cell_type": "code",
   "execution_count": 1,
   "id": "5959ebbb",
   "metadata": {},
   "outputs": [],
   "source": [
    "from tqdm.notebook import trange, tqdm\n",
    "from udpy import UrbanClient\n",
    "client = UrbanClient()"
   ]
  },
  {
   "cell_type": "markdown",
   "id": "39d8e014",
   "metadata": {},
   "source": [
    "Getting info on all valid ids between 0 and 50000"
   ]
  },
  {
   "cell_type": "code",
   "execution_count": 2,
   "id": "23a5d803",
   "metadata": {
    "scrolled": true
   },
   "outputs": [
    {
     "data": {
      "application/vnd.jupyter.widget-view+json": {
       "model_id": "d715e8ab69954789bf8f1fc4a78a1791",
       "version_major": 2,
       "version_minor": 0
      },
      "text/plain": [
       "  0%|          | 0/50000 [00:00<?, ?it/s]"
      ]
     },
     "metadata": {},
     "output_type": "display_data"
    }
   ],
   "source": [
    "valid_ids= []\n",
    "words= []\n",
    "examples= []\n",
    "for i in trange(50000):\n",
    "    try:\n",
    "        definition= client.get_definition_by_id(i)\n",
    "        if definition:\n",
    "            valid_ids.append(i)\n",
    "            words.append(definition[0].word)\n",
    "            examples.append(definition[0].example)\n",
    "    except:\n",
    "        pass"
   ]
  },
  {
   "cell_type": "markdown",
   "id": "f13ed093",
   "metadata": {},
   "source": [
    "Creating DataFrame"
   ]
  },
  {
   "cell_type": "code",
   "execution_count": 3,
   "id": "74bd0896",
   "metadata": {},
   "outputs": [],
   "source": [
    "import pandas as pd"
   ]
  },
  {
   "cell_type": "code",
   "execution_count": 4,
   "id": "b8a5dc73",
   "metadata": {},
   "outputs": [],
   "source": [
    "dictionary= pd.DataFrame(list(zip(valid_ids, words, examples)),\n",
    "               columns =['UDid', 'word', 'example'])"
   ]
  },
  {
   "cell_type": "markdown",
   "id": "8aac3abb",
   "metadata": {},
   "source": [
    "Removing extra characters and duplicates of words (NB some duplicates are still present in the example phrases)"
   ]
  },
  {
   "cell_type": "code",
   "execution_count": 20,
   "id": "7401a878",
   "metadata": {},
   "outputs": [],
   "source": [
    "dictionary[\"example\"]= dictionary[\"example\"].apply(lambda x: x.replace('[', ''))\n",
    "dictionary[\"example\"]= dictionary[\"example\"].apply(lambda x: x.replace(']', ''))\n",
    "dictionary= dictionary.drop_duplicates(subset=['word'])"
   ]
  },
  {
   "cell_type": "markdown",
   "id": "52e81548",
   "metadata": {},
   "source": [
    "Saving to pickle and testing if the save worked"
   ]
  },
  {
   "cell_type": "code",
   "execution_count": 24,
   "id": "6014a312",
   "metadata": {},
   "outputs": [],
   "source": [
    "dictionary.to_pickle(\"./urban_dictionary.pkl\")"
   ]
  },
  {
   "cell_type": "code",
   "execution_count": 25,
   "id": "43b0e18a",
   "metadata": {},
   "outputs": [
    {
     "data": {
      "text/html": [
       "<div>\n",
       "<style scoped>\n",
       "    .dataframe tbody tr th:only-of-type {\n",
       "        vertical-align: middle;\n",
       "    }\n",
       "\n",
       "    .dataframe tbody tr th {\n",
       "        vertical-align: top;\n",
       "    }\n",
       "\n",
       "    .dataframe thead th {\n",
       "        text-align: right;\n",
       "    }\n",
       "</style>\n",
       "<table border=\"1\" class=\"dataframe\">\n",
       "  <thead>\n",
       "    <tr style=\"text-align: right;\">\n",
       "      <th></th>\n",
       "      <th>UDid</th>\n",
       "      <th>word</th>\n",
       "      <th>example</th>\n",
       "    </tr>\n",
       "  </thead>\n",
       "  <tbody>\n",
       "    <tr>\n",
       "      <th>0</th>\n",
       "      <td>7</td>\n",
       "      <td>Janky</td>\n",
       "      <td>Your mother cooks janky collard greens.</td>\n",
       "    </tr>\n",
       "    <tr>\n",
       "      <th>1</th>\n",
       "      <td>8</td>\n",
       "      <td>slumpin'</td>\n",
       "      <td>slumpin' beats and phat tracks as we spin da w...</td>\n",
       "    </tr>\n",
       "    <tr>\n",
       "      <th>2</th>\n",
       "      <td>9</td>\n",
       "      <td>yayeeyay</td>\n",
       "      <td>\"We be dubbin!  And we's gonna bounce to play ...</td>\n",
       "    </tr>\n",
       "    <tr>\n",
       "      <th>3</th>\n",
       "      <td>12</td>\n",
       "      <td>hard-core</td>\n",
       "      <td>Dood, that girl's pants are too hard-core for us.</td>\n",
       "    </tr>\n",
       "    <tr>\n",
       "      <th>4</th>\n",
       "      <td>13</td>\n",
       "      <td>brutal</td>\n",
       "      <td>Man, this morning's calisthenics were brutal.</td>\n",
       "    </tr>\n",
       "  </tbody>\n",
       "</table>\n",
       "</div>"
      ],
      "text/plain": [
       "   UDid       word                                            example\n",
       "0     7      Janky            Your mother cooks janky collard greens.\n",
       "1     8   slumpin'  slumpin' beats and phat tracks as we spin da w...\n",
       "2     9   yayeeyay  \"We be dubbin!  And we's gonna bounce to play ...\n",
       "3    12  hard-core  Dood, that girl's pants are too hard-core for us.\n",
       "4    13     brutal      Man, this morning's calisthenics were brutal."
      ]
     },
     "execution_count": 25,
     "metadata": {},
     "output_type": "execute_result"
    }
   ],
   "source": [
    "test= pd.read_pickle(\"./urban_dictionary.pkl\")\n",
    "test.head()"
   ]
  }
 ],
 "metadata": {
  "kernelspec": {
   "display_name": "Python 3 (ipykernel)",
   "language": "python",
   "name": "python3"
  },
  "language_info": {
   "codemirror_mode": {
    "name": "ipython",
    "version": 3
   },
   "file_extension": ".py",
   "mimetype": "text/x-python",
   "name": "python",
   "nbconvert_exporter": "python",
   "pygments_lexer": "ipython3",
   "version": "3.8.12"
  }
 },
 "nbformat": 4,
 "nbformat_minor": 5
}

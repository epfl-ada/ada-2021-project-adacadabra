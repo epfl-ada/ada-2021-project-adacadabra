{
 "cells": [
  {
   "cell_type": "code",
   "execution_count": 1,
   "id": "cc0702d4",
   "metadata": {},
   "outputs": [],
   "source": [
    "#importing the required modules\n",
    "import seaborn as sns\n",
    "from IPython.display import display, HTML\n",
    "import matplotlib.pyplot as plt\n",
    "import scipy.stats as stats\n",
    "import pandas as pd\n",
    "import numpy as np\n",
    "import seaborn as sns"
   ]
  },
  {
   "cell_type": "code",
   "execution_count": 2,
   "id": "3bc701a0",
   "metadata": {},
   "outputs": [
    {
     "data": {
      "application/vnd.jupyter.widget-view+json": {
       "model_id": "0363252d16624ac8915314abc9916301",
       "version_major": 2,
       "version_minor": 0
      },
      "text/plain": [
       "0it [00:00, ?it/s]"
      ]
     },
     "metadata": {},
     "output_type": "display_data"
    }
   ],
   "source": [
    "from tqdm import tqdm, notebook\n",
    "notebook.tqdm().pandas()"
   ]
  },
  {
   "cell_type": "code",
   "execution_count": 3,
   "id": "c16e76fb",
   "metadata": {},
   "outputs": [],
   "source": [
    "# Small adjustments to default style of plots, making sure it's readable and colorblind-friendly everywhere\n",
    "plt.style.use('seaborn-colorblind')\n",
    "plt.rcParams.update({'font.size' : 12.5,\n",
    "                     'figure.figsize':(25,7)})"
   ]
  },
  {
   "cell_type": "markdown",
   "id": "989a2bc7",
   "metadata": {},
   "source": [
    "Get the path to retrieve data from local folder"
   ]
  },
  {
   "cell_type": "markdown",
   "id": "33f0feba",
   "metadata": {},
   "source": [
    "#### Using the provided csv file to link qids with meaningful names for speakers metadata"
   ]
  },
  {
   "cell_type": "code",
   "execution_count": 4,
   "id": "5fb69b71",
   "metadata": {},
   "outputs": [],
   "source": [
    "df_lookup = pd.read_csv('wikidata_labels_descriptions_quotebank.csv.bz2',compression = 'bz2',index_col='QID')"
   ]
  },
  {
   "cell_type": "markdown",
   "id": "79c10707",
   "metadata": {},
   "source": [
    "## Speakers Aggregation"
   ]
  },
  {
   "cell_type": "markdown",
   "id": "1f0998d9",
   "metadata": {},
   "source": [
    "### Import quotes data"
   ]
  },
  {
   "cell_type": "code",
   "execution_count": 7,
   "id": "9ec2ba70",
   "metadata": {},
   "outputs": [],
   "source": [
    "#Retrieve the dataset containing all speakers with the fraction of the colloquial language \n",
    "#Import the speakers metadata\n",
    "#path = r'/Users/jules/kDrive/onedrive/Documents_Onedrive/EPFL/MA3/ADA/Project/Dataset/BIG_SAMPLE/'\n",
    "#file_path = path+'Sample_2020_classified.json.bz2'\n",
    "\n",
    "path = r'/Users/jules/kDrive/onedrive/Documents_Onedrive/EPFL/MA3/ADA/Project/Dataset/BIG_SAMPLE/Results_LR/'\n",
    "file_path = path+'df_LR_2020.json.bz2'\n",
    "\n",
    "df_quotes =  pd.read_json(file_path,compression = 'bz2',lines = True)"
   ]
  },
  {
   "cell_type": "code",
   "execution_count": 11,
   "id": "2d88952c",
   "metadata": {},
   "outputs": [
    {
     "data": {
      "text/plain": [
       "Index(['quoteID', 'quotation', 'speaker', 'qid_unique', 'date', 'urls', 'p1',\n",
       "       'p2', 'delta_p', 'year', 'colloquial', 'label', 'aliases',\n",
       "       'date_of_birth', 'nationality', 'gender', 'lastrevid', 'ethnic_group',\n",
       "       'US_congress_bio_ID', 'occupation', 'party', 'academic_degree', 'id',\n",
       "       'candidacy', 'type', 'religion', 'age', 'bi_party'],\n",
       "      dtype='object')"
      ]
     },
     "execution_count": 11,
     "metadata": {},
     "output_type": "execute_result"
    }
   ],
   "source": [
    "df_quotes.columns"
   ]
  },
  {
   "cell_type": "markdown",
   "id": "739f2bd7",
   "metadata": {},
   "source": [
    "### Import american politic speakers metadata"
   ]
  },
  {
   "cell_type": "code",
   "execution_count": 17,
   "id": "6f440f6f",
   "metadata": {},
   "outputs": [],
   "source": [
    "file_path = path+'df_speakers_pol.json.bz2'\n",
    "df_speakers_meta =  pd.read_json(file_path,compression = 'bz2',lines = True)"
   ]
  },
  {
   "cell_type": "markdown",
   "id": "fc4bac17",
   "metadata": {},
   "source": [
    "### Group the qi by speaker"
   ]
  },
  {
   "cell_type": "code",
   "execution_count": 13,
   "id": "681fb7db",
   "metadata": {},
   "outputs": [],
   "source": [
    "#Define the interesting columns \n",
    "columns_use = ['quoteID', 'quotation', 'speaker', 'qid_unique', 'date', 'urls', 'p1',\n",
    "       'p2', 'delta_p', 'year', 'colloquial', 'label', 'aliases',\n",
    "       'date_of_birth', 'nationality', 'gender', 'lastrevid', 'ethnic_group',\n",
    "       'US_congress_bio_ID', 'occupation', 'party', 'academic_degree', 'id',\n",
    "       'candidacy', 'type', 'religion', 'age', 'bi_party']"
   ]
  },
  {
   "cell_type": "code",
   "execution_count": 18,
   "id": "dca27527",
   "metadata": {},
   "outputs": [],
   "source": [
    "df_grouped = df_quotes.groupby(['qid_unique', 'colloquial']).size().unstack(fill_value=0).reset_index()\n",
    "df_grouped['quotes_number'] = df_grouped[1]+df_grouped[0]\n",
    "df_grouped.sort_values(['quotes_number'], ascending=False) \n",
    "\n",
    "# Create also a column (called \"fraction\") that computes the fraction of colloquial quotes over total quotations. (by speaker)\n",
    "df_grouped['fraction']=df_grouped[1]/(df_grouped['quotes_number'])\n",
    "df_grouped.reset_index().sort_values(['fraction'], ascending=False)\n",
    "\n",
    "#Merge with speakers metadata\n",
    "df_aggreg = df_grouped.merge(df_speakers_meta,how='inner',left_on='qid_unique', right_on='id')"
   ]
  },
  {
   "cell_type": "code",
   "execution_count": 20,
   "id": "1cf9f1cc",
   "metadata": {
    "scrolled": true
   },
   "outputs": [
    {
     "data": {
      "text/html": [
       "<div>\n",
       "<style scoped>\n",
       "    .dataframe tbody tr th:only-of-type {\n",
       "        vertical-align: middle;\n",
       "    }\n",
       "\n",
       "    .dataframe tbody tr th {\n",
       "        vertical-align: top;\n",
       "    }\n",
       "\n",
       "    .dataframe thead th {\n",
       "        text-align: right;\n",
       "    }\n",
       "</style>\n",
       "<table border=\"1\" class=\"dataframe\">\n",
       "  <thead>\n",
       "    <tr style=\"text-align: right;\">\n",
       "      <th></th>\n",
       "      <th>index</th>\n",
       "      <th>qid_unique</th>\n",
       "      <th>0</th>\n",
       "      <th>1</th>\n",
       "      <th>quotes_number</th>\n",
       "      <th>fraction</th>\n",
       "      <th>label</th>\n",
       "      <th>aliases</th>\n",
       "      <th>date_of_birth</th>\n",
       "      <th>nationality</th>\n",
       "      <th>...</th>\n",
       "      <th>US_congress_bio_ID</th>\n",
       "      <th>occupation</th>\n",
       "      <th>party</th>\n",
       "      <th>academic_degree</th>\n",
       "      <th>id</th>\n",
       "      <th>candidacy</th>\n",
       "      <th>type</th>\n",
       "      <th>religion</th>\n",
       "      <th>age</th>\n",
       "      <th>bi_party</th>\n",
       "    </tr>\n",
       "  </thead>\n",
       "  <tbody>\n",
       "    <tr>\n",
       "      <th>1760</th>\n",
       "      <td>1760</td>\n",
       "      <td>Q359442</td>\n",
       "      <td>4709</td>\n",
       "      <td>630</td>\n",
       "      <td>5339</td>\n",
       "      <td>0.118000</td>\n",
       "      <td>Bernie Sanders</td>\n",
       "      <td>[Bernard Sanders]</td>\n",
       "      <td>-8.935488e+11</td>\n",
       "      <td>[Q30]</td>\n",
       "      <td>...</td>\n",
       "      <td>S000033</td>\n",
       "      <td>[Q82955, Q1930187, Q154549, Q1622272, Q36180, ...</td>\n",
       "      <td>[Q6542163, Q29552, Q327591, Q327591, Q29552]</td>\n",
       "      <td>[Q1765120]</td>\n",
       "      <td>Q359442</td>\n",
       "      <td>None</td>\n",
       "      <td>item</td>\n",
       "      <td>[Q9268]</td>\n",
       "      <td>80.0</td>\n",
       "      <td>Democrat</td>\n",
       "    </tr>\n",
       "    <tr>\n",
       "      <th>28</th>\n",
       "      <td>28</td>\n",
       "      <td>Q11673</td>\n",
       "      <td>4354</td>\n",
       "      <td>768</td>\n",
       "      <td>5122</td>\n",
       "      <td>0.149941</td>\n",
       "      <td>Andrew Cuomo</td>\n",
       "      <td>[Andrew Mark Cuomo]</td>\n",
       "      <td>-3.809376e+11</td>\n",
       "      <td>[Q30]</td>\n",
       "      <td>...</td>\n",
       "      <td>None</td>\n",
       "      <td>[Q40348, Q82955]</td>\n",
       "      <td>[Q29552]</td>\n",
       "      <td>[Q1540185]</td>\n",
       "      <td>Q11673</td>\n",
       "      <td>[Q22023432, Q65047185]</td>\n",
       "      <td>item</td>\n",
       "      <td>[Q1841]</td>\n",
       "      <td>64.0</td>\n",
       "      <td>Democrat</td>\n",
       "    </tr>\n",
       "    <tr>\n",
       "      <th>1848</th>\n",
       "      <td>1848</td>\n",
       "      <td>Q434706</td>\n",
       "      <td>2654</td>\n",
       "      <td>583</td>\n",
       "      <td>3237</td>\n",
       "      <td>0.180105</td>\n",
       "      <td>Elizabeth Warren</td>\n",
       "      <td>[Elizabeth Ann Warren, Senator Warren, Elisabe...</td>\n",
       "      <td>-6.478272e+11</td>\n",
       "      <td>[Q30]</td>\n",
       "      <td>...</td>\n",
       "      <td>W000817</td>\n",
       "      <td>[Q185351, Q82955, Q37226, Q1622272, Q40348, Q1...</td>\n",
       "      <td>[Q29552]</td>\n",
       "      <td>[Q163727, Q1540185]</td>\n",
       "      <td>Q434706</td>\n",
       "      <td>[Q28220813]</td>\n",
       "      <td>item</td>\n",
       "      <td>[Q33203]</td>\n",
       "      <td>72.0</td>\n",
       "      <td>Democrat</td>\n",
       "    </tr>\n",
       "    <tr>\n",
       "      <th>1070</th>\n",
       "      <td>1070</td>\n",
       "      <td>Q180589</td>\n",
       "      <td>2788</td>\n",
       "      <td>224</td>\n",
       "      <td>3012</td>\n",
       "      <td>0.074369</td>\n",
       "      <td>Boris Johnson</td>\n",
       "      <td>[Boris, Alexander Boris de Pfeffel Johnson, Bo...</td>\n",
       "      <td>-1.747008e+11</td>\n",
       "      <td>[Q30, Q145]</td>\n",
       "      <td>...</td>\n",
       "      <td>None</td>\n",
       "      <td>[Q1930187, Q82955, Q1607826, Q36180, Q11774202...</td>\n",
       "      <td>[Q9626]</td>\n",
       "      <td>None</td>\n",
       "      <td>Q180589</td>\n",
       "      <td>[Q30173038, Q30325756, Q428598, Q590740, Q3586...</td>\n",
       "      <td>item</td>\n",
       "      <td>[Q6423963]</td>\n",
       "      <td>57.0</td>\n",
       "      <td>None</td>\n",
       "    </tr>\n",
       "    <tr>\n",
       "      <th>1959</th>\n",
       "      <td>1959</td>\n",
       "      <td>Q473239</td>\n",
       "      <td>2456</td>\n",
       "      <td>350</td>\n",
       "      <td>2806</td>\n",
       "      <td>0.124733</td>\n",
       "      <td>Mike Pompeo</td>\n",
       "      <td>[Michael Richard \"Mike\" Pompeo, Michael Richar...</td>\n",
       "      <td>-1.895616e+11</td>\n",
       "      <td>[Q30]</td>\n",
       "      <td>...</td>\n",
       "      <td>P000602</td>\n",
       "      <td>[Q40348, Q43845, Q2961975, Q189290, Q82955]</td>\n",
       "      <td>[Q29468]</td>\n",
       "      <td>None</td>\n",
       "      <td>Q473239</td>\n",
       "      <td>None</td>\n",
       "      <td>item</td>\n",
       "      <td>[Q178169]</td>\n",
       "      <td>57.0</td>\n",
       "      <td>Republican</td>\n",
       "    </tr>\n",
       "    <tr>\n",
       "      <th>...</th>\n",
       "      <td>...</td>\n",
       "      <td>...</td>\n",
       "      <td>...</td>\n",
       "      <td>...</td>\n",
       "      <td>...</td>\n",
       "      <td>...</td>\n",
       "      <td>...</td>\n",
       "      <td>...</td>\n",
       "      <td>...</td>\n",
       "      <td>...</td>\n",
       "      <td>...</td>\n",
       "      <td>...</td>\n",
       "      <td>...</td>\n",
       "      <td>...</td>\n",
       "      <td>...</td>\n",
       "      <td>...</td>\n",
       "      <td>...</td>\n",
       "      <td>...</td>\n",
       "      <td>...</td>\n",
       "      <td>...</td>\n",
       "      <td>...</td>\n",
       "    </tr>\n",
       "    <tr>\n",
       "      <th>367</th>\n",
       "      <td>367</td>\n",
       "      <td>Q16185293</td>\n",
       "      <td>1</td>\n",
       "      <td>0</td>\n",
       "      <td>1</td>\n",
       "      <td>0.000000</td>\n",
       "      <td>Frank Chopp</td>\n",
       "      <td>None</td>\n",
       "      <td>-5.250528e+11</td>\n",
       "      <td>[Q30]</td>\n",
       "      <td>...</td>\n",
       "      <td>None</td>\n",
       "      <td>[Q82955]</td>\n",
       "      <td>[Q29552]</td>\n",
       "      <td>None</td>\n",
       "      <td>Q16185293</td>\n",
       "      <td>None</td>\n",
       "      <td>item</td>\n",
       "      <td>None</td>\n",
       "      <td>68.0</td>\n",
       "      <td>Democrat</td>\n",
       "    </tr>\n",
       "    <tr>\n",
       "      <th>368</th>\n",
       "      <td>368</td>\n",
       "      <td>Q16185327</td>\n",
       "      <td>1</td>\n",
       "      <td>0</td>\n",
       "      <td>1</td>\n",
       "      <td>0.000000</td>\n",
       "      <td>John Ellison</td>\n",
       "      <td>None</td>\n",
       "      <td>-5.364576e+11</td>\n",
       "      <td>[Q30]</td>\n",
       "      <td>...</td>\n",
       "      <td>None</td>\n",
       "      <td>[Q82955]</td>\n",
       "      <td>[Q29468]</td>\n",
       "      <td>None</td>\n",
       "      <td>Q16185327</td>\n",
       "      <td>None</td>\n",
       "      <td>item</td>\n",
       "      <td>None</td>\n",
       "      <td>68.0</td>\n",
       "      <td>Republican</td>\n",
       "    </tr>\n",
       "    <tr>\n",
       "      <th>2915</th>\n",
       "      <td>2915</td>\n",
       "      <td>Q6369678</td>\n",
       "      <td>1</td>\n",
       "      <td>0</td>\n",
       "      <td>1</td>\n",
       "      <td>0.000000</td>\n",
       "      <td>Karen Handel</td>\n",
       "      <td>None</td>\n",
       "      <td>-2.432160e+11</td>\n",
       "      <td>[Q30]</td>\n",
       "      <td>...</td>\n",
       "      <td>H001078</td>\n",
       "      <td>[Q82955, Q2961975, Q703534, Q36180]</td>\n",
       "      <td>[Q29468]</td>\n",
       "      <td>None</td>\n",
       "      <td>Q6369678</td>\n",
       "      <td>None</td>\n",
       "      <td>item</td>\n",
       "      <td>None</td>\n",
       "      <td>59.0</td>\n",
       "      <td>Republican</td>\n",
       "    </tr>\n",
       "    <tr>\n",
       "      <th>2919</th>\n",
       "      <td>2919</td>\n",
       "      <td>Q6369797</td>\n",
       "      <td>1</td>\n",
       "      <td>0</td>\n",
       "      <td>1</td>\n",
       "      <td>0.000000</td>\n",
       "      <td>Karen Kwiatkowski</td>\n",
       "      <td>None</td>\n",
       "      <td>-2.925504e+11</td>\n",
       "      <td>[Q30]</td>\n",
       "      <td>...</td>\n",
       "      <td>None</td>\n",
       "      <td>[Q189290, Q36180, Q82955, Q1930187]</td>\n",
       "      <td>[Q29468]</td>\n",
       "      <td>None</td>\n",
       "      <td>Q6369797</td>\n",
       "      <td>None</td>\n",
       "      <td>item</td>\n",
       "      <td>None</td>\n",
       "      <td>61.0</td>\n",
       "      <td>Republican</td>\n",
       "    </tr>\n",
       "    <tr>\n",
       "      <th>2937</th>\n",
       "      <td>2937</td>\n",
       "      <td>Q6377552</td>\n",
       "      <td>1</td>\n",
       "      <td>0</td>\n",
       "      <td>1</td>\n",
       "      <td>0.000000</td>\n",
       "      <td>Katie Sieben</td>\n",
       "      <td>None</td>\n",
       "      <td>2.279232e+11</td>\n",
       "      <td>[Q30]</td>\n",
       "      <td>...</td>\n",
       "      <td>None</td>\n",
       "      <td>[Q82955]</td>\n",
       "      <td>[Q1937395, Q29552]</td>\n",
       "      <td>None</td>\n",
       "      <td>Q6377552</td>\n",
       "      <td>None</td>\n",
       "      <td>item</td>\n",
       "      <td>None</td>\n",
       "      <td>44.0</td>\n",
       "      <td>Democrat</td>\n",
       "    </tr>\n",
       "  </tbody>\n",
       "</table>\n",
       "<p>3800 rows × 23 columns</p>\n",
       "</div>"
      ],
      "text/plain": [
       "      index qid_unique     0    1  quotes_number  fraction              label  \\\n",
       "1760   1760    Q359442  4709  630           5339  0.118000     Bernie Sanders   \n",
       "28       28     Q11673  4354  768           5122  0.149941       Andrew Cuomo   \n",
       "1848   1848    Q434706  2654  583           3237  0.180105   Elizabeth Warren   \n",
       "1070   1070    Q180589  2788  224           3012  0.074369      Boris Johnson   \n",
       "1959   1959    Q473239  2456  350           2806  0.124733        Mike Pompeo   \n",
       "...     ...        ...   ...  ...            ...       ...                ...   \n",
       "367     367  Q16185293     1    0              1  0.000000        Frank Chopp   \n",
       "368     368  Q16185327     1    0              1  0.000000       John Ellison   \n",
       "2915   2915   Q6369678     1    0              1  0.000000       Karen Handel   \n",
       "2919   2919   Q6369797     1    0              1  0.000000  Karen Kwiatkowski   \n",
       "2937   2937   Q6377552     1    0              1  0.000000       Katie Sieben   \n",
       "\n",
       "                                                aliases  date_of_birth  \\\n",
       "1760                                  [Bernard Sanders]  -8.935488e+11   \n",
       "28                                  [Andrew Mark Cuomo]  -3.809376e+11   \n",
       "1848  [Elizabeth Ann Warren, Senator Warren, Elisabe...  -6.478272e+11   \n",
       "1070  [Boris, Alexander Boris de Pfeffel Johnson, Bo...  -1.747008e+11   \n",
       "1959  [Michael Richard \"Mike\" Pompeo, Michael Richar...  -1.895616e+11   \n",
       "...                                                 ...            ...   \n",
       "367                                                None  -5.250528e+11   \n",
       "368                                                None  -5.364576e+11   \n",
       "2915                                               None  -2.432160e+11   \n",
       "2919                                               None  -2.925504e+11   \n",
       "2937                                               None   2.279232e+11   \n",
       "\n",
       "      nationality  ... US_congress_bio_ID  \\\n",
       "1760        [Q30]  ...            S000033   \n",
       "28          [Q30]  ...               None   \n",
       "1848        [Q30]  ...            W000817   \n",
       "1070  [Q30, Q145]  ...               None   \n",
       "1959        [Q30]  ...            P000602   \n",
       "...           ...  ...                ...   \n",
       "367         [Q30]  ...               None   \n",
       "368         [Q30]  ...               None   \n",
       "2915        [Q30]  ...            H001078   \n",
       "2919        [Q30]  ...               None   \n",
       "2937        [Q30]  ...               None   \n",
       "\n",
       "                                             occupation  \\\n",
       "1760  [Q82955, Q1930187, Q154549, Q1622272, Q36180, ...   \n",
       "28                                     [Q40348, Q82955]   \n",
       "1848  [Q185351, Q82955, Q37226, Q1622272, Q40348, Q1...   \n",
       "1070  [Q1930187, Q82955, Q1607826, Q36180, Q11774202...   \n",
       "1959        [Q40348, Q43845, Q2961975, Q189290, Q82955]   \n",
       "...                                                 ...   \n",
       "367                                            [Q82955]   \n",
       "368                                            [Q82955]   \n",
       "2915                [Q82955, Q2961975, Q703534, Q36180]   \n",
       "2919                [Q189290, Q36180, Q82955, Q1930187]   \n",
       "2937                                           [Q82955]   \n",
       "\n",
       "                                             party      academic_degree  \\\n",
       "1760  [Q6542163, Q29552, Q327591, Q327591, Q29552]           [Q1765120]   \n",
       "28                                        [Q29552]           [Q1540185]   \n",
       "1848                                      [Q29552]  [Q163727, Q1540185]   \n",
       "1070                                       [Q9626]                 None   \n",
       "1959                                      [Q29468]                 None   \n",
       "...                                            ...                  ...   \n",
       "367                                       [Q29552]                 None   \n",
       "368                                       [Q29468]                 None   \n",
       "2915                                      [Q29468]                 None   \n",
       "2919                                      [Q29468]                 None   \n",
       "2937                            [Q1937395, Q29552]                 None   \n",
       "\n",
       "             id                                          candidacy  type  \\\n",
       "1760    Q359442                                               None  item   \n",
       "28       Q11673                             [Q22023432, Q65047185]  item   \n",
       "1848    Q434706                                        [Q28220813]  item   \n",
       "1070    Q180589  [Q30173038, Q30325756, Q428598, Q590740, Q3586...  item   \n",
       "1959    Q473239                                               None  item   \n",
       "...         ...                                                ...   ...   \n",
       "367   Q16185293                                               None  item   \n",
       "368   Q16185327                                               None  item   \n",
       "2915   Q6369678                                               None  item   \n",
       "2919   Q6369797                                               None  item   \n",
       "2937   Q6377552                                               None  item   \n",
       "\n",
       "        religion   age    bi_party  \n",
       "1760     [Q9268]  80.0    Democrat  \n",
       "28       [Q1841]  64.0    Democrat  \n",
       "1848    [Q33203]  72.0    Democrat  \n",
       "1070  [Q6423963]  57.0        None  \n",
       "1959   [Q178169]  57.0  Republican  \n",
       "...          ...   ...         ...  \n",
       "367         None  68.0    Democrat  \n",
       "368         None  68.0  Republican  \n",
       "2915        None  59.0  Republican  \n",
       "2919        None  61.0  Republican  \n",
       "2937        None  44.0    Democrat  \n",
       "\n",
       "[3800 rows x 23 columns]"
      ]
     },
     "execution_count": 20,
     "metadata": {},
     "output_type": "execute_result"
    }
   ],
   "source": [
    "df_aggreg.reset_index().sort_values(['quotes_number'], ascending=False)"
   ]
  },
  {
   "cell_type": "markdown",
   "id": "3cb651a2",
   "metadata": {},
   "source": [
    "## Statistics"
   ]
  },
  {
   "cell_type": "markdown",
   "id": "5890ebb0",
   "metadata": {},
   "source": [
    "### Plot distribution for number of quotations"
   ]
  },
  {
   "cell_type": "code",
   "execution_count": 41,
   "id": "827ac335",
   "metadata": {},
   "outputs": [
    {
     "data": {
      "text/plain": [
       "Text(0.5, 0, 'Number of quotes')"
      ]
     },
     "execution_count": 41,
     "metadata": {},
     "output_type": "execute_result"
    },
    {
     "data": {
      "image/png": "[encoded data removed]",
      "text/plain": [
       "<Figure size 1800x504 with 1 Axes>"
      ]
     },
     "metadata": {
      "needs_background": "light"
     },
     "output_type": "display_data"
    }
   ],
   "source": [
    "plt.hist(df_aggreg['quotes_number'],bins=100,log=True);\n",
    "plt.xlabel('Number of quotes')"
   ]
  },
  {
   "cell_type": "code",
   "execution_count": 40,
   "id": "c0726657",
   "metadata": {},
   "outputs": [
    {
     "data": {
      "text/plain": [
       "Text(0.5, 0, 'Colloquial fraction')"
      ]
     },
     "execution_count": 40,
     "metadata": {},
     "output_type": "execute_result"
    },
    {
     "data": {
      "image/png": "[encoded data removed]",
      "text/plain": [
       "<Figure size 1800x504 with 1 Axes>"
      ]
     },
     "metadata": {
      "needs_background": "light"
     },
     "output_type": "display_data"
    }
   ],
   "source": [
    "plt.hist(df_plot['fraction'],bins=100,log=False);\n",
    "plt.xlabel('Colloquial fraction')\n"
   ]
  },
  {
   "cell_type": "markdown",
   "id": "3ab99dc9",
   "metadata": {},
   "source": [
    "### Plot the repartition in ages"
   ]
  },
  {
   "cell_type": "code",
   "execution_count": 26,
   "id": "c849382f",
   "metadata": {},
   "outputs": [
    {
     "data": {
      "text/plain": [
       "<seaborn.axisgrid.JointGrid at 0x19802b2b370>"
      ]
     },
     "execution_count": 26,
     "metadata": {},
     "output_type": "execute_result"
    },
    {
     "data": {
      "image/png": "[encoded data removed]",
      "text/plain": [
       "<Figure size 432x432 with 3 Axes>"
      ]
     },
     "metadata": {
      "needs_background": "light"
     },
     "output_type": "display_data"
    }
   ],
   "source": [
    "#Remove all politics with fraction equal to 0\n",
    "df_plot = df_aggreg[df_aggreg['fraction']!=0]\n",
    "sns.jointplot(x=df_plot['age'], y=df_plot['fraction'], kind=\"hex\")"
   ]
  },
  {
   "cell_type": "markdown",
   "id": "efa4e560",
   "metadata": {},
   "source": [
    "### Plot the repartition of colloquial between Democrat and Republican "
   ]
  },
  {
   "cell_type": "code",
   "execution_count": 42,
   "id": "ea46ed51",
   "metadata": {},
   "outputs": [
    {
     "data": {
      "text/plain": [
       "Text(0, 0.5, 'Average fraction of colloquial')"
      ]
     },
     "execution_count": 42,
     "metadata": {},
     "output_type": "execute_result"
    },
    {
     "data": {
      "image/png": "[encoded data removed]",
      "text/plain": [
       "<Figure size 1800x504 with 1 Axes>"
      ]
     },
     "metadata": {
      "needs_background": "light"
     },
     "output_type": "display_data"
    }
   ],
   "source": [
    "plt.scatter(df_aggreg['quotes_number'], df_aggreg['fraction'])\n",
    "plt.xlabel('Nomber of quotes per speaker')\n",
    "plt.ylabel('Average fraction of colloquial')"
   ]
  },
  {
   "cell_type": "markdown",
   "id": "686ca1e2",
   "metadata": {},
   "source": [
    "### Plot the distribution of colloquial language speaker in political party"
   ]
  },
  {
   "cell_type": "code",
   "execution_count": 18,
   "id": "f4111018",
   "metadata": {},
   "outputs": [
    {
     "data": {
      "text/plain": [
       "[Text(0, 0.5, 'Average fraction of colloquial quotations')]"
      ]
     },
     "execution_count": 18,
     "metadata": {},
     "output_type": "execute_result"
    },
    {
     "data": {
      "image/png": "[encoded data removed]",
      "text/plain": [
       "<Figure size 1800x504 with 1 Axes>"
      ]
     },
     "metadata": {
      "needs_background": "light"
     },
     "output_type": "display_data"
    }
   ],
   "source": [
    "\n",
    "df_party=df_polUS_2.copy()\n",
    "#Replace label column at the first place to see speakers names\n",
    "df_party.dropna(axis = 0, subset=['party'], inplace=True)\n",
    "\n",
    "#Drop all speakers that several parties\n",
    "oneparty_cond = df_party['party'].apply(lambda x: len(x)==1)\n",
    "\n",
    "#Transforma a list into one element\n",
    "df_party['party'] = df_party['party'].apply(lambda x: x[0]) \n",
    "\n",
    "df_party = df_party[oneparty_cond]\n",
    "\n",
    "#Not taking in account the occupation with fraction equals to 1 (correspond to speakers with not sufficient amount of quotations)\n",
    "df_plot = df_party.groupby('party')['fraction'].mean() \\\n",
    "           .reset_index(name='mean_fraction')\\\n",
    "            .sort_values(['mean_fraction'], ascending=False)\n",
    "#Not taking in account the occupation with fraction equals to 1 (correspond to speakers with not sufficient amount of quotations)\n",
    "\n",
    "#df_plot = df_plot[df_plot['mean_fraction']!=1]\n",
    "df_plot['party'] = df_plot['party'].apply(lambda x: df_lookup.loc[x]['Label'])\n",
    "\n",
    "ax = sns.barplot(x='party', y=\"mean_fraction\", data=df_plot[:6])\n",
    "ax.set(ylabel='Average fraction of colloquial quotations')"
   ]
  },
  {
   "cell_type": "code",
   "execution_count": 19,
   "id": "c0e2ba5a",
   "metadata": {},
   "outputs": [
    {
     "name": "stdout",
     "output_type": "stream",
     "text": [
      "There are 62 parties in our dataset\n"
     ]
    }
   ],
   "source": [
    "print(\"There are {} parties in our dataset\".format(len(df_plot)))"
   ]
  }
 ],
 "metadata": {
  "kernelspec": {
   "display_name": "Python 3 (ipykernel)",
   "language": "python",
   "name": "python3"
  },
  "language_info": {
   "codemirror_mode": {
    "name": "ipython",
    "version": 3
   },
   "file_extension": ".py",
   "mimetype": "text/x-python",
   "name": "python",
   "nbconvert_exporter": "python",
   "pygments_lexer": "ipython3",
   "version": "3.8.11"
  }
 },
 "nbformat": 4,
 "nbformat_minor": 5
}

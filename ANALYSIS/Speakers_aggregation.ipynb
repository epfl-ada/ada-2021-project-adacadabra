{
 "cells": [
  {
   "cell_type": "markdown",
   "id": "311e7dab",
   "metadata": {},
   "source": [
    "# Speakers aggregations"
   ]
  },
  {
   "cell_type": "code",
   "execution_count": 1,
   "id": "174a5e1e",
   "metadata": {},
   "outputs": [],
   "source": [
    "#importing the required modules\n",
    "import seaborn as sns\n",
    "from IPython.display import display, HTML\n",
    "import matplotlib.pyplot as plt\n",
    "import scipy.stats as stats\n",
    "import pandas as pd\n",
    "import numpy as np\n",
    "import seaborn as sns"
   ]
  },
  {
   "cell_type": "code",
   "execution_count": 2,
   "id": "e1d818d2",
   "metadata": {},
   "outputs": [],
   "source": [
    "# Small adjustments to default style of plots, making sure it's readable and colorblind-friendly everywhere\n",
    "plt.style.use('seaborn-colorblind')\n",
    "plt.rcParams.update({'font.size' : 12.5,\n",
    "                     'figure.figsize':(20,7)})"
   ]
  },
  {
   "cell_type": "markdown",
   "id": "74858a82",
   "metadata": {},
   "source": [
    "## Linear regression"
   ]
  },
  {
   "cell_type": "markdown",
   "id": "477816a5",
   "metadata": {},
   "source": [
    "Compute linear regression to extract the most important metadata features on \"using slang/informal language\" hypothesis."
   ]
  },
  {
   "cell_type": "markdown",
   "id": "30912533",
   "metadata": {},
   "source": [
    "## Time analysis"
   ]
  },
  {
   "cell_type": "markdown",
   "id": "f0a5f9eb",
   "metadata": {},
   "source": [
    "Study the usage of informal langage according time (between 2015 and 2020)"
   ]
  },
  {
   "cell_type": "code",
   "execution_count": null,
   "id": "bb6e7f9d",
   "metadata": {},
   "outputs": [],
   "source": []
  }
 ],
 "metadata": {
  "kernelspec": {
   "display_name": "Python [conda env:ada] *",
   "language": "python",
   "name": "conda-env-ada-py"
  },
  "language_info": {
   "codemirror_mode": {
    "name": "ipython",
    "version": 3
   },
   "file_extension": ".py",
   "mimetype": "text/x-python",
   "name": "python",
   "nbconvert_exporter": "python",
   "pygments_lexer": "ipython3",
   "version": "3.8.11"
  }
 },
 "nbformat": 4,
 "nbformat_minor": 5
}

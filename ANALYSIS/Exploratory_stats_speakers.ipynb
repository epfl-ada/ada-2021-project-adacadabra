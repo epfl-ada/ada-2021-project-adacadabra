{
 "cells": [
  {
   "cell_type": "markdown",
   "metadata": {},
   "source": [
    "# Exploratory analysis speakers aggregations"
   ]
  },
  {
   "cell_type": "markdown",
   "metadata": {},
   "source": [
    "This notebook has a similar structure that Retrieve_metadata `(SPEAKERS_METADATA/Retrieve_metadata.ipynb)`. \n",
    "\n",
    "However, it uses the results of classification step (extract quotations with colloquial langage) to perform an aggregation on speakers and apply an exploratory analysis. This notebook is the first iterative step in exploring the data on speakers aggregations. It does not consitutes any relevant statistical results and have to be considered only in a \"exploratory way\"."
   ]
  },
  {
   "cell_type": "markdown",
   "metadata": {},
   "source": [
    "***Important remark:*** due to their large size, the samples of data have been retrieve in local. Therefore, if you do not have the sample, do not run the cells but only inspect the results of each cell that have been runned."
   ]
  },
  {
   "cell_type": "code",
   "execution_count": 1,
   "metadata": {},
   "outputs": [],
   "source": [
    "#importing the required modules\n",
    "import seaborn as sns\n",
    "from IPython.display import display, HTML\n",
    "import matplotlib.pyplot as plt\n",
    "import scipy.stats as stats\n",
    "import pandas as pd\n",
    "import numpy as np\n",
    "import seaborn as sns"
   ]
  },
  {
   "cell_type": "code",
   "execution_count": 2,
   "metadata": {},
   "outputs": [],
   "source": [
    "# Small adjustments to default style of plots, making sure it's readable and colorblind-friendly everywhere\n",
    "plt.style.use('seaborn-colorblind')\n",
    "plt.rcParams.update({'font.size' : 12.5,\n",
    "                     'figure.figsize':(25,7)})"
   ]
  },
  {
   "cell_type": "markdown",
   "metadata": {},
   "source": [
    "## 1. Import data\n"
   ]
  },
  {
   "cell_type": "markdown",
   "metadata": {},
   "source": [
    "### Metadata"
   ]
  },
  {
   "cell_type": "markdown",
   "metadata": {},
   "source": [
    "Pandas requires pyarrow to read parquet files, which can be installed using conda install pyarrow -c conda-forge.\n",
    "You can load this file as a pandas dataframe using df = pd.read_parquet(<path_to_file>)."
   ]
  },
  {
   "cell_type": "code",
   "execution_count": 3,
   "metadata": {},
   "outputs": [],
   "source": [
    "#Define the path for folder containing data\n",
    "#TO BE MODIFIED ACCORDING HIS OWN FOLER containing data in local \n",
    "#Jules:\n",
    "path = r'/Users/jules/kDrive/onedrive/Documents_Onedrive/EPFL/MA3/ADA/Project/Dataset/'\n",
    "df_metadata = pd.read_parquet(path+'speaker_attributes.parquet')\n",
    "#df_metadata.head()"
   ]
  },
  {
   "cell_type": "markdown",
   "metadata": {},
   "source": [
    "### Quotations dataset"
   ]
  },
  {
   "cell_type": "code",
   "execution_count": 4,
   "metadata": {
    "scrolled": true
   },
   "outputs": [],
   "source": [
    "#Import the dataset sample\n",
    "\n",
    "#Jules: \n",
    "path = r'/Users/jules/kDrive/onedrive/Documents_Onedrive/EPFL/MA3/ADA/Project/Dataset/'\n",
    "\n",
    "df_sample = pd.read_json(path+'Sample_classified_1Mio_v1.json.bz2',compression = 'bz2',lines = True)\n"
   ]
  },
  {
   "cell_type": "code",
   "execution_count": 5,
   "metadata": {},
   "outputs": [
    {
     "data": {
      "text/html": [
       "<div>\n",
       "<style scoped>\n",
       "    .dataframe tbody tr th:only-of-type {\n",
       "        vertical-align: middle;\n",
       "    }\n",
       "\n",
       "    .dataframe tbody tr th {\n",
       "        vertical-align: top;\n",
       "    }\n",
       "\n",
       "    .dataframe thead th {\n",
       "        text-align: right;\n",
       "    }\n",
       "</style>\n",
       "<table border=\"1\" class=\"dataframe\">\n",
       "  <thead>\n",
       "    <tr style=\"text-align: right;\">\n",
       "      <th></th>\n",
       "      <th>quoteID</th>\n",
       "      <th>quotation</th>\n",
       "      <th>speaker</th>\n",
       "      <th>qids</th>\n",
       "      <th>date</th>\n",
       "      <th>numOccurrences</th>\n",
       "      <th>probas</th>\n",
       "      <th>urls</th>\n",
       "      <th>phase</th>\n",
       "      <th>p1</th>\n",
       "      <th>p2</th>\n",
       "      <th>delta_p</th>\n",
       "      <th>year</th>\n",
       "      <th>colloquial</th>\n",
       "    </tr>\n",
       "  </thead>\n",
       "  <tbody>\n",
       "    <tr>\n",
       "      <th>375177</th>\n",
       "      <td>2018-04-17-120745</td>\n",
       "      <td>The message was of a threatening nature to tha...</td>\n",
       "      <td>Stuart Cameron</td>\n",
       "      <td>[Q579107, Q7626385, Q7626387]</td>\n",
       "      <td>2018-04-17 00:00:00</td>\n",
       "      <td>1</td>\n",
       "      <td>[[Stuart Cameron, 0.9575], [None, 0.0425]]</td>\n",
       "      <td>[http://wshu.org/post/9-assault-weapons-found-...</td>\n",
       "      <td>E</td>\n",
       "      <td>0.9575</td>\n",
       "      <td>0.0425</td>\n",
       "      <td>0.9150</td>\n",
       "      <td>2018</td>\n",
       "      <td>0</td>\n",
       "    </tr>\n",
       "    <tr>\n",
       "      <th>397575</th>\n",
       "      <td>2018-01-17-060704</td>\n",
       "      <td>is a major democratic reform that the nation i...</td>\n",
       "      <td>Vinay Sahasrabuddhe</td>\n",
       "      <td>[Q18210918]</td>\n",
       "      <td>2018-01-17 14:09:24</td>\n",
       "      <td>1</td>\n",
       "      <td>[[Vinay Sahasrabuddhe, 0.8183], [None, 0.1273]...</td>\n",
       "      <td>[https://www.oneindia.com/india/one-nation-one...</td>\n",
       "      <td>E</td>\n",
       "      <td>0.8183</td>\n",
       "      <td>0.1273</td>\n",
       "      <td>0.6910</td>\n",
       "      <td>2018</td>\n",
       "      <td>0</td>\n",
       "    </tr>\n",
       "    <tr>\n",
       "      <th>109690</th>\n",
       "      <td>2015-10-21-014813</td>\n",
       "      <td>But quite quickly after the World Cup, I was j...</td>\n",
       "      <td>Julie Johnston</td>\n",
       "      <td>[Q10552391, Q18922001]</td>\n",
       "      <td>2015-10-21 02:31:43</td>\n",
       "      <td>2</td>\n",
       "      <td>[[Julie Johnston, 0.7817], [None, 0.2183]]</td>\n",
       "      <td>[http://www.seattletimes.com/sports/reign/us-w...</td>\n",
       "      <td>E</td>\n",
       "      <td>0.7817</td>\n",
       "      <td>0.2183</td>\n",
       "      <td>0.5634</td>\n",
       "      <td>2015</td>\n",
       "      <td>0</td>\n",
       "    </tr>\n",
       "    <tr>\n",
       "      <th>656822</th>\n",
       "      <td>2020-04-09-071591</td>\n",
       "      <td>We're not as wealthy. We don't have as many ve...</td>\n",
       "      <td>Francois Venter</td>\n",
       "      <td>[Q5484677]</td>\n",
       "      <td>2020-04-09 20:20:41</td>\n",
       "      <td>4</td>\n",
       "      <td>[[Francois Venter, 0.9317], [None, 0.0683]]</td>\n",
       "      <td>[https://www.chicagotribune.com/coronavirus/ct...</td>\n",
       "      <td>E</td>\n",
       "      <td>0.9317</td>\n",
       "      <td>0.0683</td>\n",
       "      <td>0.8634</td>\n",
       "      <td>2020</td>\n",
       "      <td>0</td>\n",
       "    </tr>\n",
       "    <tr>\n",
       "      <th>474817</th>\n",
       "      <td>2019-07-25-067915</td>\n",
       "      <td>This time, I want to be 100 percent,</td>\n",
       "      <td>Gregory Polanco</td>\n",
       "      <td>[Q16234113]</td>\n",
       "      <td>2019-07-25 15:51:39</td>\n",
       "      <td>2</td>\n",
       "      <td>[[Gregory Polanco, 0.854], [None, 0.146]]</td>\n",
       "      <td>[https://www.bucsdugout.com/2019/7/25/8930075/...</td>\n",
       "      <td>E</td>\n",
       "      <td>0.8540</td>\n",
       "      <td>0.1460</td>\n",
       "      <td>0.7080</td>\n",
       "      <td>2019</td>\n",
       "      <td>0</td>\n",
       "    </tr>\n",
       "    <tr>\n",
       "      <th>360627</th>\n",
       "      <td>2018-03-08-105413</td>\n",
       "      <td>Not just the top 10 can win this,</td>\n",
       "      <td>Simona Halep</td>\n",
       "      <td>[Q230156]</td>\n",
       "      <td>2018-03-08 05:22:38</td>\n",
       "      <td>1</td>\n",
       "      <td>[[Simona Halep, 0.8363], [None, 0.1472], [Madi...</td>\n",
       "      <td>[https://www.ocregister.com/2018/03/07/alexand...</td>\n",
       "      <td>E</td>\n",
       "      <td>0.8363</td>\n",
       "      <td>0.1472</td>\n",
       "      <td>0.6891</td>\n",
       "      <td>2018</td>\n",
       "      <td>0</td>\n",
       "    </tr>\n",
       "    <tr>\n",
       "      <th>215098</th>\n",
       "      <td>2016-05-31-002850</td>\n",
       "      <td>absolutely. If it's entertaining for the audie...</td>\n",
       "      <td>Dwayne Johnson</td>\n",
       "      <td>[Q10738]</td>\n",
       "      <td>2016-05-31 17:33:56</td>\n",
       "      <td>1</td>\n",
       "      <td>[[Dwayne Johnson, 0.7226], [None, 0.2774]]</td>\n",
       "      <td>[https://filmschoolrejects.com/all-the-movies-...</td>\n",
       "      <td>E</td>\n",
       "      <td>0.7226</td>\n",
       "      <td>0.2774</td>\n",
       "      <td>0.4452</td>\n",
       "      <td>2016</td>\n",
       "      <td>0</td>\n",
       "    </tr>\n",
       "    <tr>\n",
       "      <th>639851</th>\n",
       "      <td>2020-02-15-022362</td>\n",
       "      <td>I'm glad that Bellinger stepped up and said so...</td>\n",
       "      <td>Cody Bellinger</td>\n",
       "      <td>[Q29514757]</td>\n",
       "      <td>2020-02-15 21:17:50</td>\n",
       "      <td>1</td>\n",
       "      <td>[[Cody Bellinger, 0.8321], [None, 0.0993], [Da...</td>\n",
       "      <td>[http://concordmonitor.com/Former-Fisher-Cats-...</td>\n",
       "      <td>E</td>\n",
       "      <td>0.8321</td>\n",
       "      <td>0.0993</td>\n",
       "      <td>0.7328</td>\n",
       "      <td>2020</td>\n",
       "      <td>0</td>\n",
       "    </tr>\n",
       "    <tr>\n",
       "      <th>165125</th>\n",
       "      <td>2016-12-24-057823</td>\n",
       "      <td>Yesterday's declaration is quite shocking</td>\n",
       "      <td>John Kirby</td>\n",
       "      <td>[Q16136520, Q1700713, Q18601108, Q58213283, Q6...</td>\n",
       "      <td>2016-12-24 08:36:26</td>\n",
       "      <td>1</td>\n",
       "      <td>[[John Kirby, 0.8183], [None, 0.1817]]</td>\n",
       "      <td>[http://10thousandcouples.com/2016/12/syrian-r...</td>\n",
       "      <td>E</td>\n",
       "      <td>0.8183</td>\n",
       "      <td>0.1817</td>\n",
       "      <td>0.6366</td>\n",
       "      <td>2016</td>\n",
       "      <td>0</td>\n",
       "    </tr>\n",
       "    <tr>\n",
       "      <th>240803</th>\n",
       "      <td>2017-04-11-022305</td>\n",
       "      <td>Especially if you hunt in the southern portion...</td>\n",
       "      <td>Alan Foster</td>\n",
       "      <td>[Q24007734, Q4706639, Q4706640]</td>\n",
       "      <td>2017-04-11 21:05:00</td>\n",
       "      <td>1</td>\n",
       "      <td>[[Alan Foster, 0.7966], [None, 0.2034]]</td>\n",
       "      <td>[http://journalexpress.net/news/local_news/mor...</td>\n",
       "      <td>E</td>\n",
       "      <td>0.7966</td>\n",
       "      <td>0.2034</td>\n",
       "      <td>0.5932</td>\n",
       "      <td>2017</td>\n",
       "      <td>0</td>\n",
       "    </tr>\n",
       "    <tr>\n",
       "      <th>421049</th>\n",
       "      <td>2018-09-12-038565</td>\n",
       "      <td>I get frustrated because I want all sides to c...</td>\n",
       "      <td>Jamie Dimon</td>\n",
       "      <td>[Q922169]</td>\n",
       "      <td>2018-09-12 16:25:39</td>\n",
       "      <td>15</td>\n",
       "      <td>[[Jamie Dimon, 0.6403], [None, 0.1884], [Mark ...</td>\n",
       "      <td>[http://rss.cnn.com/~r/rss/cnn_allpolitics/~3/...</td>\n",
       "      <td>E</td>\n",
       "      <td>0.6403</td>\n",
       "      <td>0.1884</td>\n",
       "      <td>0.4519</td>\n",
       "      <td>2018</td>\n",
       "      <td>0</td>\n",
       "    </tr>\n",
       "    <tr>\n",
       "      <th>221389</th>\n",
       "      <td>2016-08-01-103952</td>\n",
       "      <td>These senseless acts of violence to innocent p...</td>\n",
       "      <td>Paris Hilton</td>\n",
       "      <td>[Q47899]</td>\n",
       "      <td>2016-08-01 08:30:10</td>\n",
       "      <td>4</td>\n",
       "      <td>[[Paris Hilton, 0.8401], [None, 0.1098], [Mart...</td>\n",
       "      <td>[http://www.mercurynews.com/celebrities/ci_301...</td>\n",
       "      <td>E</td>\n",
       "      <td>0.8401</td>\n",
       "      <td>0.1098</td>\n",
       "      <td>0.7303</td>\n",
       "      <td>2016</td>\n",
       "      <td>0</td>\n",
       "    </tr>\n",
       "    <tr>\n",
       "      <th>424566</th>\n",
       "      <td>2018-02-02-084519</td>\n",
       "      <td>Men, hey, we have the ability to turn this thi...</td>\n",
       "      <td>Ben Watson</td>\n",
       "      <td>[Q18357489, Q4886638, Q4886639, Q56788959, Q94...</td>\n",
       "      <td>2018-02-02 14:43:07</td>\n",
       "      <td>1</td>\n",
       "      <td>[[Ben Watson, 0.9289], [None, 0.067], [Anthony...</td>\n",
       "      <td>[http://www.vikings.com/news/article-1/Vikings...</td>\n",
       "      <td>E</td>\n",
       "      <td>0.9289</td>\n",
       "      <td>0.0670</td>\n",
       "      <td>0.8619</td>\n",
       "      <td>2018</td>\n",
       "      <td>0</td>\n",
       "    </tr>\n",
       "    <tr>\n",
       "      <th>448529</th>\n",
       "      <td>2019-01-14-104681</td>\n",
       "      <td>We've been extremely blessed over the last eig...</td>\n",
       "      <td>Matthew Slater</td>\n",
       "      <td>[Q52906896, Q6791235]</td>\n",
       "      <td>2019-01-14 12:00:00</td>\n",
       "      <td>2</td>\n",
       "      <td>[[Matthew Slater, 0.6945], [None, 0.2418], [Bi...</td>\n",
       "      <td>[https://www.patspulpit.com/2019/1/14/18181838...</td>\n",
       "      <td>E</td>\n",
       "      <td>0.6945</td>\n",
       "      <td>0.2418</td>\n",
       "      <td>0.4527</td>\n",
       "      <td>2019</td>\n",
       "      <td>0</td>\n",
       "    </tr>\n",
       "    <tr>\n",
       "      <th>230233</th>\n",
       "      <td>2016-02-24-027276</td>\n",
       "      <td>Given the prominence of the U.K. in driving U....</td>\n",
       "      <td>Joseph Quinlan</td>\n",
       "      <td>[Q56703615]</td>\n",
       "      <td>2016-02-24 12:57:48</td>\n",
       "      <td>2</td>\n",
       "      <td>[[Joseph Quinlan, 0.8928], [None, 0.1073]]</td>\n",
       "      <td>[http://www.marketwatch.com/news/story.asp?gui...</td>\n",
       "      <td>E</td>\n",
       "      <td>0.8928</td>\n",
       "      <td>0.1073</td>\n",
       "      <td>0.7855</td>\n",
       "      <td>2016</td>\n",
       "      <td>0</td>\n",
       "    </tr>\n",
       "    <tr>\n",
       "      <th>263433</th>\n",
       "      <td>2017-08-25-073557</td>\n",
       "      <td>it's not a good feeling. He really didn't talk...</td>\n",
       "      <td>Scott Servais</td>\n",
       "      <td>[Q7437229]</td>\n",
       "      <td>2017-08-25 23:32:36</td>\n",
       "      <td>1</td>\n",
       "      <td>[[Scott Servais, 0.9464], [None, 0.0522], [Rob...</td>\n",
       "      <td>[http://kitsapsun.com/story/sports/mlb/mariner...</td>\n",
       "      <td>E</td>\n",
       "      <td>0.9464</td>\n",
       "      <td>0.0522</td>\n",
       "      <td>0.8942</td>\n",
       "      <td>2017</td>\n",
       "      <td>0</td>\n",
       "    </tr>\n",
       "    <tr>\n",
       "      <th>237365</th>\n",
       "      <td>2017-06-16-036228</td>\n",
       "      <td>I did not want to come back to the team when I...</td>\n",
       "      <td>Kwadwo Asamoah</td>\n",
       "      <td>[Q298466]</td>\n",
       "      <td>2017-06-16 05:56:14</td>\n",
       "      <td>1</td>\n",
       "      <td>[[Kwadwo Asamoah, 0.8047], [Asamoah Gyan, 0.15...</td>\n",
       "      <td>[http://supersport.com/football/ghana/news/170...</td>\n",
       "      <td>E</td>\n",
       "      <td>0.8047</td>\n",
       "      <td>0.1588</td>\n",
       "      <td>0.6459</td>\n",
       "      <td>2017</td>\n",
       "      <td>0</td>\n",
       "    </tr>\n",
       "    <tr>\n",
       "      <th>231080</th>\n",
       "      <td>2016-07-30-032590</td>\n",
       "      <td>Players have tough nights. Obviously (Gonzalez...</td>\n",
       "      <td>Buck Showalter</td>\n",
       "      <td>[Q921030]</td>\n",
       "      <td>2016-07-30 03:23:16</td>\n",
       "      <td>3</td>\n",
       "      <td>[[Buck Showalter, 0.6755], [None, 0.2892], [Ma...</td>\n",
       "      <td>[http://www.stltoday.com/sports/baseball/gausm...</td>\n",
       "      <td>E</td>\n",
       "      <td>0.6755</td>\n",
       "      <td>0.2892</td>\n",
       "      <td>0.3863</td>\n",
       "      <td>2016</td>\n",
       "      <td>0</td>\n",
       "    </tr>\n",
       "    <tr>\n",
       "      <th>319632</th>\n",
       "      <td>2017-10-05-200600</td>\n",
       "      <td>You know, we have gay fathers who live in 12,0...</td>\n",
       "      <td>Brian Copeland</td>\n",
       "      <td>[Q4963433]</td>\n",
       "      <td>2017-10-05 07:55:00</td>\n",
       "      <td>1</td>\n",
       "      <td>[[Brian Copeland, 0.9217], [None, 0.0783]]</td>\n",
       "      <td>[https://www.vice.com/en_uk/article/7xkq3q/thi...</td>\n",
       "      <td>E</td>\n",
       "      <td>0.9217</td>\n",
       "      <td>0.0783</td>\n",
       "      <td>0.8434</td>\n",
       "      <td>2017</td>\n",
       "      <td>1</td>\n",
       "    </tr>\n",
       "    <tr>\n",
       "      <th>171596</th>\n",
       "      <td>2016-07-19-008354</td>\n",
       "      <td>As a woman who has [ repeatedly ] suffered fro...</td>\n",
       "      <td>Yuli Tamir</td>\n",
       "      <td>[Q2563029]</td>\n",
       "      <td>2016-07-19 17:12:35</td>\n",
       "      <td>1</td>\n",
       "      <td>[[Yuli Tamir, 0.6981], [None, 0.2364], [Ayelet...</td>\n",
       "      <td>[http://sifrintakingissue.wordpress.com/2016/0...</td>\n",
       "      <td>E</td>\n",
       "      <td>0.6981</td>\n",
       "      <td>0.2364</td>\n",
       "      <td>0.4617</td>\n",
       "      <td>2016</td>\n",
       "      <td>0</td>\n",
       "    </tr>\n",
       "  </tbody>\n",
       "</table>\n",
       "</div>"
      ],
      "text/plain": [
       "                  quoteID                                          quotation  \\\n",
       "375177  2018-04-17-120745  The message was of a threatening nature to tha...   \n",
       "397575  2018-01-17-060704  is a major democratic reform that the nation i...   \n",
       "109690  2015-10-21-014813  But quite quickly after the World Cup, I was j...   \n",
       "656822  2020-04-09-071591  We're not as wealthy. We don't have as many ve...   \n",
       "474817  2019-07-25-067915               This time, I want to be 100 percent,   \n",
       "360627  2018-03-08-105413                  Not just the top 10 can win this,   \n",
       "215098  2016-05-31-002850  absolutely. If it's entertaining for the audie...   \n",
       "639851  2020-02-15-022362  I'm glad that Bellinger stepped up and said so...   \n",
       "165125  2016-12-24-057823          Yesterday's declaration is quite shocking   \n",
       "240803  2017-04-11-022305  Especially if you hunt in the southern portion...   \n",
       "421049  2018-09-12-038565  I get frustrated because I want all sides to c...   \n",
       "221389  2016-08-01-103952  These senseless acts of violence to innocent p...   \n",
       "424566  2018-02-02-084519  Men, hey, we have the ability to turn this thi...   \n",
       "448529  2019-01-14-104681  We've been extremely blessed over the last eig...   \n",
       "230233  2016-02-24-027276  Given the prominence of the U.K. in driving U....   \n",
       "263433  2017-08-25-073557  it's not a good feeling. He really didn't talk...   \n",
       "237365  2017-06-16-036228  I did not want to come back to the team when I...   \n",
       "231080  2016-07-30-032590  Players have tough nights. Obviously (Gonzalez...   \n",
       "319632  2017-10-05-200600  You know, we have gay fathers who live in 12,0...   \n",
       "171596  2016-07-19-008354  As a woman who has [ repeatedly ] suffered fro...   \n",
       "\n",
       "                    speaker  \\\n",
       "375177       Stuart Cameron   \n",
       "397575  Vinay Sahasrabuddhe   \n",
       "109690       Julie Johnston   \n",
       "656822      Francois Venter   \n",
       "474817      Gregory Polanco   \n",
       "360627         Simona Halep   \n",
       "215098       Dwayne Johnson   \n",
       "639851       Cody Bellinger   \n",
       "165125           John Kirby   \n",
       "240803          Alan Foster   \n",
       "421049          Jamie Dimon   \n",
       "221389         Paris Hilton   \n",
       "424566           Ben Watson   \n",
       "448529       Matthew Slater   \n",
       "230233       Joseph Quinlan   \n",
       "263433        Scott Servais   \n",
       "237365       Kwadwo Asamoah   \n",
       "231080       Buck Showalter   \n",
       "319632       Brian Copeland   \n",
       "171596           Yuli Tamir   \n",
       "\n",
       "                                                     qids                date  \\\n",
       "375177                      [Q579107, Q7626385, Q7626387] 2018-04-17 00:00:00   \n",
       "397575                                        [Q18210918] 2018-01-17 14:09:24   \n",
       "109690                             [Q10552391, Q18922001] 2015-10-21 02:31:43   \n",
       "656822                                         [Q5484677] 2020-04-09 20:20:41   \n",
       "474817                                        [Q16234113] 2019-07-25 15:51:39   \n",
       "360627                                          [Q230156] 2018-03-08 05:22:38   \n",
       "215098                                           [Q10738] 2016-05-31 17:33:56   \n",
       "639851                                        [Q29514757] 2020-02-15 21:17:50   \n",
       "165125  [Q16136520, Q1700713, Q18601108, Q58213283, Q6... 2016-12-24 08:36:26   \n",
       "240803                    [Q24007734, Q4706639, Q4706640] 2017-04-11 21:05:00   \n",
       "421049                                          [Q922169] 2018-09-12 16:25:39   \n",
       "221389                                           [Q47899] 2016-08-01 08:30:10   \n",
       "424566  [Q18357489, Q4886638, Q4886639, Q56788959, Q94... 2018-02-02 14:43:07   \n",
       "448529                              [Q52906896, Q6791235] 2019-01-14 12:00:00   \n",
       "230233                                        [Q56703615] 2016-02-24 12:57:48   \n",
       "263433                                         [Q7437229] 2017-08-25 23:32:36   \n",
       "237365                                          [Q298466] 2017-06-16 05:56:14   \n",
       "231080                                          [Q921030] 2016-07-30 03:23:16   \n",
       "319632                                         [Q4963433] 2017-10-05 07:55:00   \n",
       "171596                                         [Q2563029] 2016-07-19 17:12:35   \n",
       "\n",
       "        numOccurrences                                             probas  \\\n",
       "375177               1         [[Stuart Cameron, 0.9575], [None, 0.0425]]   \n",
       "397575               1  [[Vinay Sahasrabuddhe, 0.8183], [None, 0.1273]...   \n",
       "109690               2         [[Julie Johnston, 0.7817], [None, 0.2183]]   \n",
       "656822               4        [[Francois Venter, 0.9317], [None, 0.0683]]   \n",
       "474817               2          [[Gregory Polanco, 0.854], [None, 0.146]]   \n",
       "360627               1  [[Simona Halep, 0.8363], [None, 0.1472], [Madi...   \n",
       "215098               1         [[Dwayne Johnson, 0.7226], [None, 0.2774]]   \n",
       "639851               1  [[Cody Bellinger, 0.8321], [None, 0.0993], [Da...   \n",
       "165125               1             [[John Kirby, 0.8183], [None, 0.1817]]   \n",
       "240803               1            [[Alan Foster, 0.7966], [None, 0.2034]]   \n",
       "421049              15  [[Jamie Dimon, 0.6403], [None, 0.1884], [Mark ...   \n",
       "221389               4  [[Paris Hilton, 0.8401], [None, 0.1098], [Mart...   \n",
       "424566               1  [[Ben Watson, 0.9289], [None, 0.067], [Anthony...   \n",
       "448529               2  [[Matthew Slater, 0.6945], [None, 0.2418], [Bi...   \n",
       "230233               2         [[Joseph Quinlan, 0.8928], [None, 0.1073]]   \n",
       "263433               1  [[Scott Servais, 0.9464], [None, 0.0522], [Rob...   \n",
       "237365               1  [[Kwadwo Asamoah, 0.8047], [Asamoah Gyan, 0.15...   \n",
       "231080               3  [[Buck Showalter, 0.6755], [None, 0.2892], [Ma...   \n",
       "319632               1         [[Brian Copeland, 0.9217], [None, 0.0783]]   \n",
       "171596               1  [[Yuli Tamir, 0.6981], [None, 0.2364], [Ayelet...   \n",
       "\n",
       "                                                     urls phase      p1  \\\n",
       "375177  [http://wshu.org/post/9-assault-weapons-found-...     E  0.9575   \n",
       "397575  [https://www.oneindia.com/india/one-nation-one...     E  0.8183   \n",
       "109690  [http://www.seattletimes.com/sports/reign/us-w...     E  0.7817   \n",
       "656822  [https://www.chicagotribune.com/coronavirus/ct...     E  0.9317   \n",
       "474817  [https://www.bucsdugout.com/2019/7/25/8930075/...     E  0.8540   \n",
       "360627  [https://www.ocregister.com/2018/03/07/alexand...     E  0.8363   \n",
       "215098  [https://filmschoolrejects.com/all-the-movies-...     E  0.7226   \n",
       "639851  [http://concordmonitor.com/Former-Fisher-Cats-...     E  0.8321   \n",
       "165125  [http://10thousandcouples.com/2016/12/syrian-r...     E  0.8183   \n",
       "240803  [http://journalexpress.net/news/local_news/mor...     E  0.7966   \n",
       "421049  [http://rss.cnn.com/~r/rss/cnn_allpolitics/~3/...     E  0.6403   \n",
       "221389  [http://www.mercurynews.com/celebrities/ci_301...     E  0.8401   \n",
       "424566  [http://www.vikings.com/news/article-1/Vikings...     E  0.9289   \n",
       "448529  [https://www.patspulpit.com/2019/1/14/18181838...     E  0.6945   \n",
       "230233  [http://www.marketwatch.com/news/story.asp?gui...     E  0.8928   \n",
       "263433  [http://kitsapsun.com/story/sports/mlb/mariner...     E  0.9464   \n",
       "237365  [http://supersport.com/football/ghana/news/170...     E  0.8047   \n",
       "231080  [http://www.stltoday.com/sports/baseball/gausm...     E  0.6755   \n",
       "319632  [https://www.vice.com/en_uk/article/7xkq3q/thi...     E  0.9217   \n",
       "171596  [http://sifrintakingissue.wordpress.com/2016/0...     E  0.6981   \n",
       "\n",
       "            p2  delta_p  year  colloquial  \n",
       "375177  0.0425   0.9150  2018           0  \n",
       "397575  0.1273   0.6910  2018           0  \n",
       "109690  0.2183   0.5634  2015           0  \n",
       "656822  0.0683   0.8634  2020           0  \n",
       "474817  0.1460   0.7080  2019           0  \n",
       "360627  0.1472   0.6891  2018           0  \n",
       "215098  0.2774   0.4452  2016           0  \n",
       "639851  0.0993   0.7328  2020           0  \n",
       "165125  0.1817   0.6366  2016           0  \n",
       "240803  0.2034   0.5932  2017           0  \n",
       "421049  0.1884   0.4519  2018           0  \n",
       "221389  0.1098   0.7303  2016           0  \n",
       "424566  0.0670   0.8619  2018           0  \n",
       "448529  0.2418   0.4527  2019           0  \n",
       "230233  0.1073   0.7855  2016           0  \n",
       "263433  0.0522   0.8942  2017           0  \n",
       "237365  0.1588   0.6459  2017           0  \n",
       "231080  0.2892   0.3863  2016           0  \n",
       "319632  0.0783   0.8434  2017           1  \n",
       "171596  0.2364   0.4617  2016           0  "
      ]
     },
     "execution_count": 5,
     "metadata": {},
     "output_type": "execute_result"
    }
   ],
   "source": [
    "df_sample.sample(20)"
   ]
  },
  {
   "cell_type": "markdown",
   "metadata": {},
   "source": [
    "### Lookup table for QIDs"
   ]
  },
  {
   "cell_type": "markdown",
   "metadata": {},
   "source": [
    "#### Using the provided csv file to link qids with meaningful names"
   ]
  },
  {
   "cell_type": "code",
   "execution_count": 6,
   "metadata": {},
   "outputs": [],
   "source": [
    "#read the file \n",
    "df_lookup = pd.read_csv('wikidata_labels_descriptions_quotebank.csv.bz2',compression = 'bz2',index_col='QID')\n",
    "#df_lookup.sample(20)"
   ]
  },
  {
   "cell_type": "markdown",
   "metadata": {},
   "source": [
    "### 2. Merge speakers metadata with quotations "
   ]
  },
  {
   "cell_type": "markdown",
   "metadata": {},
   "source": [
    "Join quotations data with metadata :"
   ]
  },
  {
   "cell_type": "code",
   "execution_count": 7,
   "metadata": {},
   "outputs": [
    {
     "name": "stdout",
     "output_type": "stream",
     "text": [
      "There is 0.0 % of rows that have no qid associated with (on 668534 rows)\n"
     ]
    }
   ],
   "source": [
    "#Create sub-sample\n",
    "#df_sub = df_sample.sample(int(1*10e3))\n",
    "df_sub = df_sample.copy()\n",
    "s1 = len(df_sub)\n",
    "\n",
    "#For the moment, choose rows which at minimum 1 qid associated\n",
    "#Remove this row when using the data that have been wrangled\n",
    "df_sub = df_sub[[len(a)>0 for a in df_sub['qids']]]\n",
    "\n",
    "s2 = len(df_sub)\n",
    "\n",
    "print('There is {} % of rows that have no qid associated with (on {} rows)'.format((1-s2/s1)*100,s1))\n",
    "\n",
    "#Choose the first QID that is associated with (to be improved)\n",
    "df_sub['qid_unique'] = df_sub['qids'].apply(lambda x: x[0]) "
   ]
  },
  {
   "cell_type": "code",
   "execution_count": 8,
   "metadata": {},
   "outputs": [
    {
     "data": {
      "text/html": [
       "<div>\n",
       "<style scoped>\n",
       "    .dataframe tbody tr th:only-of-type {\n",
       "        vertical-align: middle;\n",
       "    }\n",
       "\n",
       "    .dataframe tbody tr th {\n",
       "        vertical-align: top;\n",
       "    }\n",
       "\n",
       "    .dataframe thead th {\n",
       "        text-align: right;\n",
       "    }\n",
       "</style>\n",
       "<table border=\"1\" class=\"dataframe\">\n",
       "  <thead>\n",
       "    <tr style=\"text-align: right;\">\n",
       "      <th>colloquial</th>\n",
       "      <th>index</th>\n",
       "      <th>qid_unique</th>\n",
       "      <th>0</th>\n",
       "      <th>1</th>\n",
       "      <th>quotes_number</th>\n",
       "      <th>fraction</th>\n",
       "    </tr>\n",
       "  </thead>\n",
       "  <tbody>\n",
       "    <tr>\n",
       "      <th>173959</th>\n",
       "      <td>173959</td>\n",
       "      <td>Q999889</td>\n",
       "      <td>0</td>\n",
       "      <td>1</td>\n",
       "      <td>1</td>\n",
       "      <td>1.0</td>\n",
       "    </tr>\n",
       "    <tr>\n",
       "      <th>104293</th>\n",
       "      <td>104293</td>\n",
       "      <td>Q4696730</td>\n",
       "      <td>0</td>\n",
       "      <td>1</td>\n",
       "      <td>1</td>\n",
       "      <td>1.0</td>\n",
       "    </tr>\n",
       "    <tr>\n",
       "      <th>31944</th>\n",
       "      <td>31944</td>\n",
       "      <td>Q1740079</td>\n",
       "      <td>0</td>\n",
       "      <td>1</td>\n",
       "      <td>1</td>\n",
       "      <td>1.0</td>\n",
       "    </tr>\n",
       "    <tr>\n",
       "      <th>104288</th>\n",
       "      <td>104288</td>\n",
       "      <td>Q4696700</td>\n",
       "      <td>0</td>\n",
       "      <td>1</td>\n",
       "      <td>1</td>\n",
       "      <td>1.0</td>\n",
       "    </tr>\n",
       "    <tr>\n",
       "      <th>31948</th>\n",
       "      <td>31948</td>\n",
       "      <td>Q1740086</td>\n",
       "      <td>0</td>\n",
       "      <td>1</td>\n",
       "      <td>1</td>\n",
       "      <td>1.0</td>\n",
       "    </tr>\n",
       "    <tr>\n",
       "      <th>...</th>\n",
       "      <td>...</td>\n",
       "      <td>...</td>\n",
       "      <td>...</td>\n",
       "      <td>...</td>\n",
       "      <td>...</td>\n",
       "      <td>...</td>\n",
       "    </tr>\n",
       "    <tr>\n",
       "      <th>102323</th>\n",
       "      <td>102323</td>\n",
       "      <td>Q45561071</td>\n",
       "      <td>1</td>\n",
       "      <td>0</td>\n",
       "      <td>1</td>\n",
       "      <td>0.0</td>\n",
       "    </tr>\n",
       "    <tr>\n",
       "      <th>102319</th>\n",
       "      <td>102319</td>\n",
       "      <td>Q45558354</td>\n",
       "      <td>1</td>\n",
       "      <td>0</td>\n",
       "      <td>1</td>\n",
       "      <td>0.0</td>\n",
       "    </tr>\n",
       "    <tr>\n",
       "      <th>32878</th>\n",
       "      <td>32878</td>\n",
       "      <td>Q17564389</td>\n",
       "      <td>1</td>\n",
       "      <td>0</td>\n",
       "      <td>1</td>\n",
       "      <td>0.0</td>\n",
       "    </tr>\n",
       "    <tr>\n",
       "      <th>32879</th>\n",
       "      <td>32879</td>\n",
       "      <td>Q17564409</td>\n",
       "      <td>1</td>\n",
       "      <td>0</td>\n",
       "      <td>1</td>\n",
       "      <td>0.0</td>\n",
       "    </tr>\n",
       "    <tr>\n",
       "      <th>114295</th>\n",
       "      <td>114295</td>\n",
       "      <td>Q50365960</td>\n",
       "      <td>1</td>\n",
       "      <td>0</td>\n",
       "      <td>1</td>\n",
       "      <td>0.0</td>\n",
       "    </tr>\n",
       "  </tbody>\n",
       "</table>\n",
       "<p>173960 rows × 6 columns</p>\n",
       "</div>"
      ],
      "text/plain": [
       "colloquial   index qid_unique  0  1  quotes_number  fraction\n",
       "173959      173959    Q999889  0  1              1       1.0\n",
       "104293      104293   Q4696730  0  1              1       1.0\n",
       "31944        31944   Q1740079  0  1              1       1.0\n",
       "104288      104288   Q4696700  0  1              1       1.0\n",
       "31948        31948   Q1740086  0  1              1       1.0\n",
       "...            ...        ... .. ..            ...       ...\n",
       "102323      102323  Q45561071  1  0              1       0.0\n",
       "102319      102319  Q45558354  1  0              1       0.0\n",
       "32878        32878  Q17564389  1  0              1       0.0\n",
       "32879        32879  Q17564409  1  0              1       0.0\n",
       "114295      114295  Q50365960  1  0              1       0.0\n",
       "\n",
       "[173960 rows x 6 columns]"
      ]
     },
     "execution_count": 8,
     "metadata": {},
     "output_type": "execute_result"
    }
   ],
   "source": [
    "#Perform a group_by on quotations by speaker \n",
    "df_grouped = df_sub.groupby(['qid_unique', 'colloquial']).size().unstack(fill_value=0).reset_index()\n",
    "df_grouped['quotes_number'] = df_grouped[1]+df_grouped[0]\n",
    "df_grouped.sort_values(['quotes_number'], ascending=False) \n",
    "\n",
    "# Create also a column (called \"fraction\") that computes the fraction of colloquial quotes over total quotations. (by speaker)\n",
    "df_grouped['fraction']=df_grouped[1]/(df_grouped['quotes_number'])\n",
    "df_grouped.reset_index().sort_values(['fraction'], ascending=False)\n"
   ]
  },
  {
   "cell_type": "code",
   "execution_count": 9,
   "metadata": {},
   "outputs": [],
   "source": [
    "#Merging with metadata\n",
    "\n",
    "df_merged = df_grouped.merge(df_metadata,how='inner',left_on='qid_unique', right_on='id').sort_values(['quotes_number'], ascending=False)"
   ]
  },
  {
   "cell_type": "code",
   "execution_count": 10,
   "metadata": {},
   "outputs": [
    {
     "name": "stdout",
     "output_type": "stream",
     "text": [
      "There is 107413 speakers\n"
     ]
    }
   ],
   "source": [
    "#Replace label column at the first place to see speakers names\n",
    "\n",
    "# shift column 'Name' to first position\n",
    "first_column = df_merged.pop('label')\n",
    "# insert column using insert(position,column_name,first_column) function\n",
    "df_merged.insert(0, 'label', first_column)\n",
    "df_merged.head(20)\n",
    "print('There are {} speakers'.format(len(df_merged)))"
   ]
  },
  {
   "cell_type": "markdown",
   "metadata": {},
   "source": [
    "## 3. Exploratory analysis"
   ]
  },
  {
   "cell_type": "code",
   "execution_count": 11,
   "metadata": {},
   "outputs": [],
   "source": [
    "col_subset = ['gender','nationality','occupation']\n",
    "# data wrangling : remove NaNs, speakers that does not contains the specified metadata feature\n",
    "df_plot = df_merged.copy()\n",
    "df_plot.dropna(axis = 0, subset=col_subset,inplace=True)\n",
    "\n",
    "for col in col_subset: \n",
    "    #For the moment, only taking the first item that is on the list\n",
    "    df_plot[col]= df_plot[col].apply(lambda x:x[0])"
   ]
  },
  {
   "cell_type": "markdown",
   "metadata": {},
   "source": [
    "- Distribution of colloquial quotes fraction: "
   ]
  },
  {
   "cell_type": "code",
   "execution_count": 12,
   "metadata": {},
   "outputs": [
    {
     "data": {
      "text/plain": [
       "Text(0, 0.5, 'Number of speakers')"
      ]
     },
     "execution_count": 12,
     "metadata": {},
     "output_type": "execute_result"
    },
    {
     "data": {
      "image/png": "[encoded data removed]",
      "text/plain": [
       "<Figure size 1800x504 with 1 Axes>"
      ]
     },
     "metadata": {
      "needs_background": "light"
     },
     "output_type": "display_data"
    }
   ],
   "source": [
    "array_100 = plt.hist(df_plot['fraction'],bins=100,log=True)\n",
    "plt.title('Histogram of colloquial quotes fraction per speaker')\n",
    "plt.xlabel('Colloquial quotes fraction [0-1]')\n",
    "plt.ylabel('Number of speakers')\n"
   ]
  },
  {
   "cell_type": "markdown",
   "metadata": {},
   "source": [
    "It appears that a large number of speakers has a colloquial fraction equals to 0 or 1. These speakers correspond to the ones which have only 1 quote associated with. Therefore, their colloquial fraction could be only equals to 0 and 1. After a quick look, it appears that the same phenomena is osberved for fraction of integers.(1/2, 2/5)\n",
    "\n",
    "For the next of the analysis, we will probably remove speakers that have only few quotes attributed.\n"
   ]
  },
  {
   "cell_type": "markdown",
   "metadata": {},
   "source": [
    "- Fraction of colloquial language of 10 most represented speakers"
   ]
  },
  {
   "cell_type": "code",
   "execution_count": 13,
   "metadata": {},
   "outputs": [
    {
     "data": {
      "text/plain": [
       "[Text(0.5, 0, 'Speaker name'), Text(0, 0.5, 'Fraction of colloquial quotes')]"
      ]
     },
     "execution_count": 13,
     "metadata": {},
     "output_type": "execute_result"
    },
    {
     "data": {
      "image/png": "[encoded data removed]",
      "text/plain": [
       "<Figure size 1800x504 with 1 Axes>"
      ]
     },
     "metadata": {
      "needs_background": "light"
     },
     "output_type": "display_data"
    }
   ],
   "source": [
    "ax = sns.barplot(x=\"label\", y=\"fraction\",data=df_plot[:9])\n",
    "ax.set_title('Fraction of colloquial language of 10 most represented speakers')\n",
    "ax.set(xlabel='Speaker name',ylabel='Fraction of colloquial quotes')"
   ]
  },
  {
   "cell_type": "markdown",
   "metadata": {},
   "source": [
    "Observing this plot, it underlines the fact that the more speaker is represented, the more his colloquial fraction tends to the average of the whole dataset. This statement underlines the weakness of the classification procedure."
   ]
  },
  {
   "cell_type": "markdown",
   "metadata": {},
   "source": [
    "- Fraction of colloquial langage by gender :  "
   ]
  },
  {
   "cell_type": "code",
   "execution_count": 14,
   "metadata": {},
   "outputs": [
    {
     "data": {
      "text/plain": [
       "[Text(0, 0.5, 'Average fraction of colloquial quotations')]"
      ]
     },
     "execution_count": 14,
     "metadata": {},
     "output_type": "execute_result"
    },
    {
     "data": {
      "image/png": "[encoded data removed]",
      "text/plain": [
       "<Figure size 1800x504 with 1 Axes>"
      ]
     },
     "metadata": {
      "needs_background": "light"
     },
     "output_type": "display_data"
    }
   ],
   "source": [
    "df_gender = df_plot.groupby('gender')['fraction'].mean() \\\n",
    "            .reset_index(name='mean_fraction')\n",
    "\n",
    "df_gender['gender'] = df_gender['gender'].apply(lambda x: df_lookup.loc[x]['Label'])\n",
    "df_gender = df_gender.set_index('gender')\n",
    "df_mf = df_gender.loc[['male','female']].reset_index()\n",
    "\n",
    "ax = sns.barplot(x='gender', y=\"mean_fraction\", data=df_mf)\n",
    "ax.set(ylabel='Average fraction of colloquial quotations')"
   ]
  },
  {
   "cell_type": "code",
   "execution_count": 140,
   "metadata": {
    "scrolled": false
   },
   "outputs": [
    {
     "data": {
      "text/plain": [
       "[Text(0.5, 0, 'speaker_occupation'),\n",
       " Text(0, 0.5, 'Colloquial quotes fraction')]"
      ]
     },
     "execution_count": 140,
     "metadata": {},
     "output_type": "execute_result"
    },
    {
     "data": {
      "image/png": "[encoded data removed]",
      "text/plain": [
       "<Figure size 1440x504 with 1 Axes>"
      ]
     },
     "metadata": {
      "needs_background": "light"
     },
     "output_type": "display_data"
    }
   ],
   "source": [
    "# fraction per occupation\n",
    "\n",
    "df_occupation = df_plot.groupby('occupation')['fraction'].mean() \\\n",
    "                .reset_index(name='mean_fraction')\\\n",
    "                .sort_values(['mean_fraction'], ascending=False)\n",
    "\n",
    "df_occupation['occupation'] = df_occupation['occupation'].apply(lambda x: df_lookup.loc[x]['Label'])\n",
    "\n",
    "#Not taking in account the occupation with fraction equals to 1 (correspond to speakers with not sufficient amount of quotations)\n",
    "\n",
    "df_test = df_occupation[df_occupation['mean_fraction']!=1]\n",
    "\n",
    "ax = sns.barplot(x=\"occupation\", y=\"mean_fraction\", data=df_test[:5])\n",
    "ax.set(xlabel='speaker_occupation',ylabel='Colloquial quotes fraction')\n",
    "\n"
   ]
  },
  {
   "cell_type": "markdown",
   "metadata": {},
   "source": [
    "We can't derive anything from this plot above as we do not have the number of quotations in each occupation category. Then, the retrieval of the relative size of each category hasto be computed. However, it shows the possibilities from this speaker's aggregation and the different conclusions could be drawn thank to these metadata. "
   ]
  },
  {
   "cell_type": "markdown",
   "metadata": {},
   "source": [
    "**Conclusion** : \n",
    "These results could not give meaningful interpretations for now. Indeed, the classification method has to be improved. The main problem that seems to arise is the too large size (20 000 entries) of the informal dictionary used for classification. In next step, the dictionnary has to be filtered to keep only the terms that clearly distinguish informal/colloquial langage. It has to be avoid the terms that lies in the two categories. Additionnaly, the speakers with a too low number of quotations has to be filtered as their aggregation could biased the result.\n",
    "\n"
   ]
  }
 ],
 "metadata": {
  "kernelspec": {
   "display_name": "Python 3 (ipykernel)",
   "language": "python",
   "name": "python3"
  },
  "language_info": {
   "codemirror_mode": {
    "name": "ipython",
    "version": 3
   },
   "file_extension": ".py",
   "mimetype": "text/x-python",
   "name": "python",
   "nbconvert_exporter": "python",
   "pygments_lexer": "ipython3",
   "version": "3.8.11"
  }
 },
 "nbformat": 4,
 "nbformat_minor": 4
}

{
 "cells": [
  {
   "cell_type": "code",
   "execution_count": 2,
   "id": "cc0702d4",
   "metadata": {},
   "outputs": [],
   "source": [
    "#importing the required modules\n",
    "import seaborn as sns\n",
    "from IPython.display import display, HTML\n",
    "import matplotlib.pyplot as plt\n",
    "import scipy.stats as stats\n",
    "import pandas as pd\n",
    "import numpy as np\n",
    "import seaborn as sns"
   ]
  },
  {
   "cell_type": "code",
   "execution_count": 3,
   "id": "39f4f3df",
   "metadata": {},
   "outputs": [
    {
     "data": {
      "application/vnd.jupyter.widget-view+json": {
       "model_id": "5e67e5ef7d5b4849a4e22bac57412418",
       "version_major": 2,
       "version_minor": 0
      },
      "text/plain": [
       "0it [00:00, ?it/s]"
      ]
     },
     "metadata": {},
     "output_type": "display_data"
    }
   ],
   "source": [
    "from tqdm import tqdm, notebook\n",
    "notebook.tqdm().pandas()"
   ]
  },
  {
   "cell_type": "code",
   "execution_count": 4,
   "id": "c16e76fb",
   "metadata": {},
   "outputs": [],
   "source": [
    "# Small adjustments to default style of plots, making sure it's readable and colorblind-friendly everywhere\n",
    "plt.style.use('seaborn-colorblind')\n",
    "plt.rcParams.update({'font.size' : 12.5,\n",
    "                     'figure.figsize':(25,7)})"
   ]
  },
  {
   "cell_type": "markdown",
   "id": "7ebe108a",
   "metadata": {},
   "source": [
    "Get the path to retrieve data from local folder"
   ]
  },
  {
   "cell_type": "code",
   "execution_count": 11,
   "id": "e09f3df5",
   "metadata": {},
   "outputs": [],
   "source": [
    "#Jules: \n",
    "#Small sample\n",
    "path = r'/Users/jules/kDrive/onedrive/Documents_Onedrive/EPFL/MA3/ADA/Project/Dataset/'\n",
    "\n",
    "#Big sample\n",
    "#path = r'C:\\Users\\jules\\kDrive\\onedrive\\Documents_Onedrive\\EPFL\\MA3\\ADA\\Project\\Dataset\\BIG_SAMPLE'"
   ]
  },
  {
   "cell_type": "markdown",
   "id": "33f0feba",
   "metadata": {},
   "source": [
    "#### Using the provided csv file to link qids with meaningful names for speakers metadata"
   ]
  },
  {
   "cell_type": "code",
   "execution_count": 12,
   "id": "5fb69b71",
   "metadata": {},
   "outputs": [],
   "source": [
    "df_lookup = pd.read_csv('wikidata_labels_descriptions_quotebank.csv.bz2',compression = 'bz2',index_col='QID')"
   ]
  },
  {
   "cell_type": "markdown",
   "id": "77cdfc33",
   "metadata": {},
   "source": [
    "## Speakers_metadata"
   ]
  },
  {
   "cell_type": "markdown",
   "id": "bed1b267",
   "metadata": {},
   "source": [
    "### Retrieve all americans politicians"
   ]
  },
  {
   "cell_type": "code",
   "execution_count": 5,
   "id": "75b45ff2",
   "metadata": {},
   "outputs": [],
   "source": [
    "#drop NaNs in occupation\n",
    "def get_polUS(df_speakers):\n",
    "    df_speakers.dropna(axis=0,inplace=True,subset=['occupation','nationality'])\n",
    "    assert df_speakers['occupation'].isna().sum() == 0\n",
    "    assert df_speakers['nationality'].isna().sum() == 0\n",
    "    \n",
    "    pol_cond = df_speakers['occupation'].apply(lambda x : any(item in 'Q82955' for item in x)) \n",
    "    us_cond = df_speakers['nationality'].apply(lambda x : any(item in 'Q30' for item in x)) #Q142 for french \n",
    "\n",
    "    df_polUS = df_speakers.loc[us_cond & pol_cond]\n",
    "\n",
    "    return df_polUS\n"
   ]
  },
  {
   "cell_type": "markdown",
   "id": "88c3c0c6",
   "metadata": {},
   "source": [
    "### Create the age column"
   ]
  },
  {
   "cell_type": "code",
   "execution_count": 6,
   "id": "58161c12",
   "metadata": {},
   "outputs": [],
   "source": [
    "from datetime import date, datetime\n",
    "\n",
    "def get_age(df_speakers):\n",
    "    \n",
    "    #Define the function to calculate the age of speakers \n",
    "    def calculate_age(born):\n",
    "        today = date.today()\n",
    "        return today.year - born.year - ((today.month, today.day) < (born.month, born.day))\n",
    "    \n",
    "    def str2datetime(string):\n",
    "        date_format = '+%Y-%m-%dT%H:%M:%SZ'\n",
    "        try:\n",
    "            dt = datetime.strptime(string,date_format)\n",
    "        except:\n",
    "            dt = None\n",
    "        return dt\n",
    "    \n",
    "    df = df_speakers.copy()\n",
    "    \n",
    "    #Convert list into string\n",
    "    df['date_of_birth'] = df['date_of_birth'].apply(lambda x: x[0] if x is not None else None)\n",
    "    \n",
    "    #Retrieve date_of_birth with 00-00 as month/day and replace it by the 01-01\n",
    "    df['date_of_birth']=df['date_of_birth'].apply(lambda x: x.replace('-00','-01') if x is not None else None)\n",
    "\n",
    "    #Transform date_of_birth from string to datetime\n",
    "    df['date_of_birth'] = df['date_of_birth'].apply(lambda x: str2datetime(x)if x is not None else None)\n",
    "    \n",
    "    # Calculate the age of each speakers\n",
    "    df['age'] =  df['date_of_birth'].apply(lambda x: calculate_age(x) if x is not None else None)\n",
    "    \n",
    "    #Detect ages that are incoherent and drop the rows \n",
    "    \n",
    "    df.drop(df[df['age']<15].index, inplace=True)\n",
    "    df.drop(df[df['age']>110].index, inplace=True)\n",
    "    \n",
    "    return df"
   ]
  },
  {
   "cell_type": "code",
   "execution_count": 46,
   "id": "5aead0c0",
   "metadata": {},
   "outputs": [],
   "source": [
    "df_wt_age = get_age(df_polUS_2)"
   ]
  },
  {
   "cell_type": "markdown",
   "id": "25e8005c",
   "metadata": {},
   "source": [
    "### Create a column containg either \"Democrate\" or \"Republican\" party"
   ]
  },
  {
   "cell_type": "markdown",
   "id": "47ef866f",
   "metadata": {},
   "source": [
    "QID Republican : Q29468\n",
    "\n",
    "QID Democratic Q29552"
   ]
  },
  {
   "cell_type": "code",
   "execution_count": 7,
   "id": "f31eb408",
   "metadata": {},
   "outputs": [],
   "source": [
    "def get_bi_party(df_speakers):\n",
    "    df = df_speakers.copy()\n",
    "    \n",
    "    demo_cond = df_speakers['party'].apply(lambda x : any(item in 'Q29552' for item in x) if x is not None else False)\n",
    "    repu_cond = df_speakers['party'].apply(lambda x : any(item in 'Q29468' for item in x) if x is not None else False)\n",
    "    \n",
    "    df['bi_party']=None\n",
    "    \n",
    "    df.loc[demo_cond,'bi_party'] = 'Democrat'\n",
    "    df.loc[repu_cond,'bi_party'] = 'Republican'\n",
    "    \n",
    "    return df"
   ]
  },
  {
   "cell_type": "markdown",
   "id": "bbe70033",
   "metadata": {},
   "source": [
    "##  Create the dataset for linear regression "
   ]
  },
  {
   "cell_type": "code",
   "execution_count": 14,
   "id": "786c5104",
   "metadata": {},
   "outputs": [],
   "source": [
    "def speakers_metadata(df_speakers):\n",
    "    df = get_polUS(df_speakers)\n",
    "    # shift column 'label' to first position\n",
    "    first_column = df.pop('label')\n",
    "    # insert column using insert(position,column_name,first_column) function\n",
    "    df.insert(0, 'label', first_column)\n",
    "    \n",
    "    #Create the age column\n",
    "    df = get_age(df)\n",
    "    \n",
    "    #Create the bi-party column\n",
    "    df = get_bi_party(df)\n",
    "    \n",
    "    return df"
   ]
  },
  {
   "cell_type": "code",
   "execution_count": 12,
   "id": "7a260601",
   "metadata": {},
   "outputs": [],
   "source": [
    "def ready_for_lr(file_path,df_speakers):\n",
    "\n",
    "    #Import quotes dataset (classified)\n",
    "    df_quotes = pd.read_json(file_path,compression = 'bz2',lines = True)\n",
    "\n",
    "    #Choose the first QID that is associated with (to be improved)\n",
    "    df_quotes['qid_unique'] = df_quotes['qids'].apply(lambda x: x[0])\n",
    "\n",
    "    #Drop the useless columns \n",
    "    col_useless = ['qids','probas','numOccurrences','phase']\n",
    "    df_quotes.drop(col_useless,axis=1,inplace=True)\n",
    "    \n",
    "    # shift column 'label' to first position\n",
    "    first_column = df_quotes.pop('qid_unique')\n",
    "    # insert column using insert(position,column_name,first_column) function\n",
    "    df_quotes.insert(3, 'qid_unique', first_column)\n",
    "    \n",
    "    #Merge the quote with the speakers metadata\n",
    "    df_quotes_merged = df_quotes.merge(df_speakers,how='inner',left_on='qid_unique', right_on='id')\n",
    "    \n",
    "    return df_quotes_merged"
   ]
  },
  {
   "cell_type": "code",
   "execution_count": 15,
   "id": "a6fe5212",
   "metadata": {},
   "outputs": [
    {
     "ename": "KeyboardInterrupt",
     "evalue": "",
     "output_type": "error",
     "traceback": [
      "\u001b[1;31m---------------------------------------------------------------------------\u001b[0m",
      "\u001b[1;31mKeyboardInterrupt\u001b[0m                         Traceback (most recent call last)",
      "\u001b[1;32m~\\AppData\\Local\\Temp/ipykernel_15380/680139839.py\u001b[0m in \u001b[0;36m<module>\u001b[1;34m\u001b[0m\n\u001b[0;32m      1\u001b[0m \u001b[1;31m#Get the speakers metadata\u001b[0m\u001b[1;33m\u001b[0m\u001b[1;33m\u001b[0m\u001b[1;33m\u001b[0m\u001b[0m\n\u001b[0;32m      2\u001b[0m \u001b[0mpath\u001b[0m \u001b[1;33m=\u001b[0m \u001b[1;34mr'/Users/jules/kDrive/onedrive/Documents_Onedrive/EPFL/MA3/ADA/Project/Dataset/'\u001b[0m\u001b[1;33m\u001b[0m\u001b[1;33m\u001b[0m\u001b[0m\n\u001b[1;32m----> 3\u001b[1;33m \u001b[0mdf_speakers\u001b[0m \u001b[1;33m=\u001b[0m \u001b[0mpd\u001b[0m\u001b[1;33m.\u001b[0m\u001b[0mread_parquet\u001b[0m\u001b[1;33m(\u001b[0m\u001b[0mpath\u001b[0m\u001b[1;33m+\u001b[0m\u001b[1;34m'speaker_attributes.parquet'\u001b[0m\u001b[1;33m)\u001b[0m\u001b[1;33m\u001b[0m\u001b[1;33m\u001b[0m\u001b[0m\n\u001b[0m\u001b[0;32m      4\u001b[0m \u001b[0mdf_speakers_pol\u001b[0m\u001b[1;33m=\u001b[0m\u001b[0mspeakers_metadata\u001b[0m\u001b[1;33m(\u001b[0m\u001b[0mdf_speakers\u001b[0m\u001b[1;33m)\u001b[0m\u001b[1;33m\u001b[0m\u001b[1;33m\u001b[0m\u001b[0m\n",
      "\u001b[1;32m~\\anaconda3\\envs\\ada\\lib\\site-packages\\pandas\\io\\parquet.py\u001b[0m in \u001b[0;36mread_parquet\u001b[1;34m(path, engine, columns, storage_options, use_nullable_dtypes, **kwargs)\u001b[0m\n\u001b[0;32m    493\u001b[0m     \u001b[0mimpl\u001b[0m \u001b[1;33m=\u001b[0m \u001b[0mget_engine\u001b[0m\u001b[1;33m(\u001b[0m\u001b[0mengine\u001b[0m\u001b[1;33m)\u001b[0m\u001b[1;33m\u001b[0m\u001b[1;33m\u001b[0m\u001b[0m\n\u001b[0;32m    494\u001b[0m \u001b[1;33m\u001b[0m\u001b[0m\n\u001b[1;32m--> 495\u001b[1;33m     return impl.read(\n\u001b[0m\u001b[0;32m    496\u001b[0m         \u001b[0mpath\u001b[0m\u001b[1;33m,\u001b[0m\u001b[1;33m\u001b[0m\u001b[1;33m\u001b[0m\u001b[0m\n\u001b[0;32m    497\u001b[0m         \u001b[0mcolumns\u001b[0m\u001b[1;33m=\u001b[0m\u001b[0mcolumns\u001b[0m\u001b[1;33m,\u001b[0m\u001b[1;33m\u001b[0m\u001b[1;33m\u001b[0m\u001b[0m\n",
      "\u001b[1;32m~\\anaconda3\\envs\\ada\\lib\\site-packages\\pandas\\io\\parquet.py\u001b[0m in \u001b[0;36mread\u001b[1;34m(self, path, columns, use_nullable_dtypes, storage_options, **kwargs)\u001b[0m\n\u001b[0;32m    237\u001b[0m         )\n\u001b[0;32m    238\u001b[0m         \u001b[1;32mtry\u001b[0m\u001b[1;33m:\u001b[0m\u001b[1;33m\u001b[0m\u001b[1;33m\u001b[0m\u001b[0m\n\u001b[1;32m--> 239\u001b[1;33m             result = self.api.parquet.read_table(\n\u001b[0m\u001b[0;32m    240\u001b[0m                 \u001b[0mpath_or_handle\u001b[0m\u001b[1;33m,\u001b[0m \u001b[0mcolumns\u001b[0m\u001b[1;33m=\u001b[0m\u001b[0mcolumns\u001b[0m\u001b[1;33m,\u001b[0m \u001b[1;33m**\u001b[0m\u001b[0mkwargs\u001b[0m\u001b[1;33m\u001b[0m\u001b[1;33m\u001b[0m\u001b[0m\n\u001b[0;32m    241\u001b[0m             ).to_pandas(**to_pandas_kwargs)\n",
      "\u001b[1;32m~\\anaconda3\\envs\\ada\\lib\\site-packages\\pyarrow\\parquet.py\u001b[0m in \u001b[0;36mread_table\u001b[1;34m(source, columns, use_threads, metadata, use_pandas_metadata, memory_map, read_dictionary, filesystem, filters, buffer_size, partitioning, use_legacy_dataset, ignore_prefixes)\u001b[0m\n\u001b[0;32m   1729\u001b[0m                 memory_map=memory_map, buffer_size=buffer_size)\n\u001b[0;32m   1730\u001b[0m \u001b[1;33m\u001b[0m\u001b[0m\n\u001b[1;32m-> 1731\u001b[1;33m         return dataset.read(columns=columns, use_threads=use_threads,\n\u001b[0m\u001b[0;32m   1732\u001b[0m                             use_pandas_metadata=use_pandas_metadata)\n\u001b[0;32m   1733\u001b[0m \u001b[1;33m\u001b[0m\u001b[0m\n",
      "\u001b[1;32m~\\anaconda3\\envs\\ada\\lib\\site-packages\\pyarrow\\parquet.py\u001b[0m in \u001b[0;36mread\u001b[1;34m(self, columns, use_threads, use_pandas_metadata)\u001b[0m\n\u001b[0;32m   1606\u001b[0m                 \u001b[0muse_threads\u001b[0m \u001b[1;33m=\u001b[0m \u001b[1;32mFalse\u001b[0m\u001b[1;33m\u001b[0m\u001b[1;33m\u001b[0m\u001b[0m\n\u001b[0;32m   1607\u001b[0m \u001b[1;33m\u001b[0m\u001b[0m\n\u001b[1;32m-> 1608\u001b[1;33m         table = self._dataset.to_table(\n\u001b[0m\u001b[0;32m   1609\u001b[0m             \u001b[0mcolumns\u001b[0m\u001b[1;33m=\u001b[0m\u001b[0mcolumns\u001b[0m\u001b[1;33m,\u001b[0m \u001b[0mfilter\u001b[0m\u001b[1;33m=\u001b[0m\u001b[0mself\u001b[0m\u001b[1;33m.\u001b[0m\u001b[0m_filter_expression\u001b[0m\u001b[1;33m,\u001b[0m\u001b[1;33m\u001b[0m\u001b[1;33m\u001b[0m\u001b[0m\n\u001b[0;32m   1610\u001b[0m             \u001b[0muse_threads\u001b[0m\u001b[1;33m=\u001b[0m\u001b[0muse_threads\u001b[0m\u001b[1;33m\u001b[0m\u001b[1;33m\u001b[0m\u001b[0m\n",
      "\u001b[1;31mKeyboardInterrupt\u001b[0m: "
     ]
    }
   ],
   "source": [
    "#Get the speakers metadata\n",
    "path = r'/Users/jules/kDrive/onedrive/Documents_Onedrive/EPFL/MA3/ADA/Project/Dataset/'\n",
    "df_speakers = pd.read_parquet(path+'speaker_attributes.parquet')\n"
   ]
  },
  {
   "cell_type": "code",
   "execution_count": 16,
   "id": "4b40a8fe",
   "metadata": {},
   "outputs": [],
   "source": [
    "df_speakers_pol=speakers_metadata(df_speakers)"
   ]
  },
  {
   "cell_type": "code",
   "execution_count": 17,
   "id": "b468ea41",
   "metadata": {},
   "outputs": [
    {
     "data": {
      "text/plain": [
       "34163       99.0\n",
       "37421       99.0\n",
       "38988      108.0\n",
       "40213      104.0\n",
       "40918       51.0\n",
       "           ...  \n",
       "5655696      NaN\n",
       "5655697      NaN\n",
       "5655698      NaN\n",
       "5655699      NaN\n",
       "5655702      NaN\n",
       "Name: age, Length: 18048, dtype: float64"
      ]
     },
     "execution_count": 17,
     "metadata": {},
     "output_type": "execute_result"
    }
   ],
   "source": [
    "df_speakers_pol['age']"
   ]
  },
  {
   "cell_type": "code",
   "execution_count": 24,
   "id": "ae43a269",
   "metadata": {},
   "outputs": [],
   "source": [
    "#Process the sample\n",
    "\n",
    "path = r'/Users/jules/kDrive/onedrive/Documents_Onedrive/EPFL/MA3/ADA/Project/Dataset/BIG_SAMPLE/'\n",
    "file_path = path+'Sample_2020_classified.json.bz2'\n",
    "\n",
    "#path = r'/Users/jules/kDrive/onedrive/Documents_Onedrive/EPFL/MA3/ADA/Project/Dataset/'\n",
    "#file_path = path+'Sample_classified_1Mio_v1.json.bz2'\n",
    "\n",
    "df_speakers_pol = speakers_metadata(df_speakers)\n",
    "df = ready_for_lr(file_path, df_speakers_pol)"
   ]
  },
  {
   "cell_type": "code",
   "execution_count": 25,
   "id": "c61ade2a",
   "metadata": {},
   "outputs": [
    {
     "data": {
      "text/plain": [
       "Index(['quoteID', 'quotation', 'speaker', 'qid_unique', 'date', 'urls', 'p1',\n",
       "       'p2', 'delta_p', 'year', 'colloquial', 'label', 'aliases',\n",
       "       'date_of_birth', 'nationality', 'gender', 'lastrevid', 'ethnic_group',\n",
       "       'US_congress_bio_ID', 'occupation', 'party', 'academic_degree', 'id',\n",
       "       'candidacy', 'type', 'religion', 'age', 'bi_party'],\n",
       "      dtype='object')"
      ]
     },
     "execution_count": 25,
     "metadata": {},
     "output_type": "execute_result"
    }
   ],
   "source": [
    "df.columns"
   ]
  },
  {
   "cell_type": "code",
   "execution_count": 26,
   "id": "2f393d18",
   "metadata": {},
   "outputs": [],
   "source": [
    "df.to_json(path+'/Results_LR/df_LR_2020.json.bz2',compression='bz2',lines=True,orient=\"records\")"
   ]
  },
  {
   "cell_type": "code",
   "execution_count": null,
   "id": "dacdac9d",
   "metadata": {},
   "outputs": [],
   "source": []
  }
 ],
 "metadata": {
  "kernelspec": {
   "display_name": "Python 3 (ipykernel)",
   "language": "python",
   "name": "python3"
  },
  "language_info": {
   "codemirror_mode": {
    "name": "ipython",
    "version": 3
   },
   "file_extension": ".py",
   "mimetype": "text/x-python",
   "name": "python",
   "nbconvert_exporter": "python",
   "pygments_lexer": "ipython3",
   "version": "3.8.11"
  }
 },
 "nbformat": 4,
 "nbformat_minor": 5
}

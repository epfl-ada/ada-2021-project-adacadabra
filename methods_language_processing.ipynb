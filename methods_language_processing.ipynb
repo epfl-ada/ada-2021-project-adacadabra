{
 "cells": [
  {
   "cell_type": "markdown",
   "id": "f3babc88",
   "metadata": {
    "id": "f3babc88"
   },
   "source": [
    "# Method 1: Vector Space Retrieval TF/IDF (simple)\n",
    "\n",
    "Represent both the document and the query by a weight vector in the m-dimensional keyword space assigning non-binary weights and then determine their distance in the m-dimensional keyword space. \n",
    "\n",
    "It is based on a vector space retrieval (VSR) model. For testing the model is used on a simple document collection with about 150 documents in file *blabla.txt*:\n",
    "\n",
    "\n",
    "  DocID | Document Text\n",
    "  ------|------------------\n",
    "  1     | I think therefore I am\n",
    "  2     | Climate change is a hoax\n",
    "  3     | Fakenews\n",
    "  4     | More beautiful life\n",
    "  5     | Jules and Mr. Gilleron are very friendly\n",
    "  6     | Road to Minor improvement\n",
    "  7     | In love with the Rolex meeting rooms\n",
    "  8     | The important thing is to laugh\n",
    "  9     | A small step for man but a big step for humanity\n",
    " ...    | ...\n",
    " 160     | The music is too loud for my ears.\n",
    " \n",
    " \n",
    " In information retrieval, tf–idf, TF\\*IDF, or TFIDF, short for term frequency–inverse document frequency, is a numerical statistic that is intended to reflect how important a word is to a document in a collection or corpus. It is often used as a weighting factor in searches of information retrieval, text mining, and user modeling. The tf–idf value increases proportionally to the number of times a word appears in the document and is offset by the number of documents in the corpus that contain the word, which helps to adjust for the fact that some words appear more frequently in general. tf–idf is one of the most popular term-weighting schemes today. For more info: [link](https://en.wikipedia.org/wiki/Tf%E2%80%93idf)\n",
    " \n",
    " Properties: \n",
    " - Ranking of documents according to similarity value\n",
    " - Documents can be retrieved even if they don't contain some query keyword\n",
    " - fast to compute"
   ]
  },
  {
   "cell_type": "code",
   "execution_count": 63,
   "id": "db7a554f",
   "metadata": {
    "colab": {
     "base_uri": "https://localhost:8080/"
    },
    "id": "db7a554f",
    "outputId": "a1d2b7a0-4ac2-471e-d691-e4f906a9a761"
   },
   "outputs": [
    {
     "name": "stdout",
     "output_type": "stream",
     "text": [
      "[nltk_data] Downloading package stopwords to /root/nltk_data...\n",
      "[nltk_data]   Package stopwords is already up-to-date!\n",
      "[nltk_data] Downloading package punkt to /root/nltk_data...\n",
      "[nltk_data]   Package punkt is already up-to-date!\n",
      "Vocabulary in the documents\n",
      " ------------------------------\n",
      " ['100', '20000', '7am', 'a', 'aaron', 'abl', 'accept', 'address', 'ador', 'afternoon', 'ahead', 'air', 'all', 'amaz', 'ancestor', 'angel', 'anoth', 'answer', 'anyth', 'apolog', 'appreci', 'are', 'around', 'ask', 'ate', 'avail', 'away', 'bad', 'bag', 'basebal', 'bean', 'beauti', 'best', 'big', 'bigger', 'birthday', 'black', 'blind', 'block', 'blow', 'board', 'bodi', 'book', 'boot', 'bore', 'boston', 'bring', 'brother', 'brush', 'bu', 'bueno', 'call', 'can', 'candl', 'car', 'care', 'carelessli', 'cash', 'cat', 'catch', 'chang', 'checkin', 'children', 'chime', 'circl', 'class', 'classgroup', 'climat', 'clock', 'close', 'closest', 'coffe', 'color', 'come', 'commit', 'committe', 'common', 'commut', 'corn', 'corner', 'correct', 'could', 'cri', 'cross', 'crossroad', 'crowd', 'danc', 'day', 'dead', 'delici', 'depress', 'desk', 'did', 'dinner', 'direct', 'disappoint', 'discount', 'dish', 'dizzi', 'do', 'doe', 'dog', 'dont', 'door', 'dou', 'drag', 'dri', 'drink', 'drive', 'drove', 'ear', 'earach', 'eat', 'echo', 'elizabeth', 'els', 'emili', 'english', 'enjoy', 'everi', 'everyon', 'everyth', 'exam', 'excus', 'exhaust', 'expens', 'explain', 'extend', 'fabul', 'fakenew', 'famili', 'fantast', 'far', 'favorit', 'feel', 'find…', 'fine', 'finger', 'first', 'fit', 'five', 'fli', 'floor', 'florida', 'food', 'forc', 'four', 'fresh', 'friday', 'friend', 'friendli', 'frog', 'front', 'fun', 'get', 'gift', 'gilleron', 'give', 'glutenfre', 'go', 'gobbl', 'godspe', 'good', 'grace', 'grainfre', 'great', 'green', 'greet', 'groceri', 'grow', 'guaranteewarranti', 'guest', 'ham', 'handbag', 'handknit', 'happi', 'have', 'haw', 'he', 'head', 'hear', 'heart', 'heel', 'help', 'hem', 'high', 'hoax', 'homemad', 'homework', 'hope', 'hotel', 'hour', 'how', 'human', 'hurriedli', 'i', 'idea', 'idl', 'im', 'import', 'improv', 'in', 'incess', 'infatu', 'inspir', 'into', 'invit', 'ira', 'is', 'it', 'itali', 'item', 'jacket', 'jacob', 'jame', 'jar', 'jean', 'jenni', 'jessi', 'joan', 'joe', 'join', 'joy', 'juarez', 'juic', 'jule', 'jump', 'june', 'kelli', 'key', 'knock', 'know', 'land', 'larg', 'last', 'late', 'laugh', 'leather', 'left', 'less', 'letter', 'librari', 'life', 'lifetim', 'light', 'like', 'live', 'lo', 'london', 'longdead', 'longshort', 'look', 'lost', 'lot', 'loud', 'louder', 'love', 'luck', 'made', 'make', 'man', 'mangi', 'mani', 'map', 'marri', 'mash', 'math', 'may', 'mayb', 'meet', 'meter', 'miami', 'middl', 'mind', 'minor', 'misha', 'miss', 'mitten', 'money', 'more', 'morn', 'mother', 'move', 'movi', 'mr', 'much', 'music', 'my', 'name', 'near', 'nearest', 'need', 'nervous', 'next', 'nice', 'night', 'noisi', 'not', 'occupi', 'offer', 'offic', 'old', 'on', 'one', 'open', 'organ', 'pack', 'page', 'pair', 'pant', 'paper', 'pardon', 'parent', 'park', 'parti', 'pass', 'pencil', 'peopl', 'philippin', 'pictur', 'pizza', 'plan', 'play', 'pleas', 'polici', 'pond', 'post', 'potato', 'pricey', 'printer', 'public', 'pull', 'pulldown', 'put', 'question', 'quickli', 'rather', 'read', 'readi', 'realli', 'reason', 'red', 'refriger', 'refund', 'repair', 'repeat', 'reserv', 'retir', 'return', 'right', 'rins', 'rip', 'road', 'rolex', 'room', 'run', 'sad', 'safe', 'samantha', 'sarah', 'sat', 'saturday', 'say', 'scarf', 'school', 'scrawni', 'second', 'see', 'sell', 'sens', 'sentenc', 'she', 'shop', 'show', 'shower', 'sibl', 'sick', 'sign', 'similar', 'simpl', 'singl', 'size', 'sleepi', 'small', 'smaller', 'smell', 'smith', 'snow', 'sock', 'someon', 'someth', 'sorri', 'sound', 'speak', 'special', 'spoke', 'stain', 'start', 'station', 'stay', 'step', 'stock', 'stomachach', 'stood', 'stop', 'store', 'straight', 'strawberri', 'stray', 'street', 'stretch', 'stripe', 'suitcas', 'summer', 'sunday', 'sure', 'sweater', 'swim', 'switch', 'süpermarket', 'take', 'talk', 'teacher', 'teeth', 'tell', 'thank', 'that', 'the', 'there', 'therefor', 'they', 'thi', 'thing', 'think', 'thought', 'three', 'threw', 'thursday', 'tick', 'time', 'tipto', 'tomorrow', 'top', 'towel', 'to…', 'transport', 'travel', 'tri', 'tube', 'tuesday', 'turn', 'tv', 'twirl', 'unabl', 'unfold', 'up…', 'us', 'use', 'vacat', 'veget', 'wake', 'wakeup', 'walk', 'wall', 'want', 'watch', 'waterproof', 'way', 'we', 'weather', 'week', 'weight', 'went', 'what', 'whe', 'when', 'where', 'which', 'will', 'window', 'winter', 'wish', 'wishin', 'without', 'wonder', 'work', 'would', 'wrinkl', 'write', 'ye', 'year', 'yet', 'you', 'your', '’', '…']\n"
     ]
    }
   ],
   "source": [
    "from nltk.stem import PorterStemmer, WordNetLemmatizer\n",
    "import nltk\n",
    "from sklearn.feature_extraction.text import CountVectorizer, TfidfVectorizer\n",
    "from sklearn.metrics.pairwise import linear_kernel\n",
    "import string\n",
    "from nltk.corpus import stopwords\n",
    "import math\n",
    "from operator import itemgetter\n",
    "from collections import Counter\n",
    "nltk.download('stopwords')\n",
    "nltk.download('punkt')\n",
    "\n",
    "stemmer = PorterStemmer()\n",
    "\n",
    "# Tokenize, stem a document\n",
    "def tokenize(text):\n",
    "    text = \"\".join([ch for ch in text if ch not in string.punctuation])\n",
    "    tokens = nltk.word_tokenize(text)\n",
    "    return \" \".join([stemmer.stem(word.lower()) for word in tokens if word not in stopwords.words('english')])\n",
    "\n",
    "# Read a list of documents from a file. Each line in a file is a document\n",
    "with open(\"blabla.txt\", encoding='utf8') as f:\n",
    "    content = f.readlines()\n",
    "original_documents = [x.strip() for x in content] \n",
    "documents = [tokenize(d).split() for d in original_documents]\n",
    "\n",
    "# create the vocabulary\n",
    "vocabulary = list(set([item for sublist in documents for item in sublist]))\n",
    "vocabulary.sort()\n",
    "print('Vocabulary in the documents\\n ------------------------------\\n', vocabulary)"
   ]
  },
  {
   "cell_type": "code",
   "execution_count": 64,
   "id": "950064c4",
   "metadata": {
    "id": "950064c4"
   },
   "outputs": [],
   "source": [
    "# Retrieval oracle \n",
    "tf = TfidfVectorizer(analyzer='word', ngram_range=(1,1), min_df = 1, stop_words = 'english')\n",
    "features = tf.fit_transform(original_documents)\n",
    "npm_tfidf = features.todense()\n",
    "\n",
    "# Return all document ids that that have cosine similarity with the query larger than a threshold\n",
    "def search_vec_sklearn(query, features, threshold=0.1):\n",
    "    new_features = tf.transform([query])\n",
    "    cosine_similarities = linear_kernel(new_features, features).flatten()\n",
    "    related_docs_indices, cos_sim_sorted = zip(*sorted(enumerate(cosine_similarities), key=itemgetter(1), \n",
    "                                                       reverse=True))\n",
    "    doc_ids = []\n",
    "    for i, cos_sim in enumerate(cos_sim_sorted):\n",
    "        if cos_sim < threshold:\n",
    "            break\n",
    "        doc_ids.append(related_docs_indices[i])\n",
    "    return doc_ids"
   ]
  },
  {
   "cell_type": "markdown",
   "id": "6ff6829d",
   "metadata": {
    "id": "6ff6829d"
   },
   "source": [
    "Now, for the query $Q$ = $love$, here the top ranked documents according to the TF/IDF rank using the scikit-learn library."
   ]
  },
  {
   "cell_type": "code",
   "execution_count": 65,
   "id": "a36c4efe",
   "metadata": {
    "colab": {
     "base_uri": "https://localhost:8080/"
    },
    "id": "a36c4efe",
    "outputId": "b4636eff-bb17-4e94-f1c3-73cd3ef30170"
   },
   "outputs": [
    {
     "name": "stdout",
     "output_type": "stream",
     "text": [
      "Found correspondances: 3\n",
      "----------------------------\n",
      "Watching TV and movies is something that most people enjoy\n",
      "I will meet with my friends on Friday.\n",
      "Jules and Mr. Gilleron are very friendly\n"
     ]
    }
   ],
   "source": [
    "ret_ids = search_vec_sklearn('Jules loves watching TV with friends', features)\n",
    "print('Found correspondances:', len(ret_ids))\n",
    "print('----------------------------')\n",
    "for i, v in enumerate(ret_ids):\n",
    "    print(original_documents[v])"
   ]
  },
  {
   "cell_type": "markdown",
   "id": "70e2bc9f",
   "metadata": {
    "id": "70e2bc9f"
   },
   "source": [
    "# Method 2: Vector space retrieval TF/IDF + Query expension\n",
    "\n",
    "Implementation and test of [Rocchio's method](https://en.wikipedia.org/wiki/Rocchio_algorithm) for user relevance feedback. Like many other retrieval systems, the Rocchio feedback approach was developed using the Vector Space Model. The algorithm is based on the assumption that most users have a general conception of which documents should be denoted as relevant or non-relevant. Therefore, the user's search query is revised to include an arbitrary percentage of relevant and non-relevant documents as a means of increasing the search engine's recall, and possibly the precision as well. The number of relevant and non-relevant documents allowed to enter a query is dictated by the weights of the a, b, c variables listed below in the Algorithm section.\n",
    "\n",
    "Let the set of relevant documents to be $D_r $ and the set of non-relevant documents to be $D_{nr}$. Then the modified query  $\\vec{q_m}$  according to the Rocchio method is:\n",
    "\n",
    "\\begin{equation}\n",
    "\\vec{q_m} = \\alpha \\vec{q_0} + \\frac{\\beta}{|D_r|} \\sum_{\\vec{d_j} \\in D_r} \\vec{d_j} - \\frac{\\gamma}{|D_{nr}|} \\sum_{\\vec{d_j} \\in D_{nr}} \\vec{d_j}\n",
    "\\end{equation}\n",
    "In the Rocchio algorithm negative term weights are ignored. This means, for the negative term weights in $\\vec{q_m}$, we set them to be 0.\n",
    "\n",
    "Properties:\n",
    "\n",
    "- System adds query terms to user query\n",
    "- Use of the top $k$ documents to enriche the initial querry\n",
    "- Modified queries are complex $\\rightarrow$ expensive processing"
   ]
  },
  {
   "cell_type": "code",
   "execution_count": 66,
   "id": "0d388488",
   "metadata": {
    "colab": {
     "base_uri": "https://localhost:8080/"
    },
    "id": "0d388488",
    "outputId": "8ca9a77e-c7b4-4e6e-d01f-436dcde920cb"
   },
   "outputs": [
    {
     "name": "stdout",
     "output_type": "stream",
     "text": [
      "[nltk_data] Downloading package stopwords to /root/nltk_data...\n",
      "[nltk_data]   Package stopwords is already up-to-date!\n"
     ]
    }
   ],
   "source": [
    "from nltk.stem import PorterStemmer, WordNetLemmatizer\n",
    "import nltk\n",
    "from sklearn.feature_extraction.text import CountVectorizer, TfidfVectorizer\n",
    "from sklearn.metrics.pairwise import linear_kernel\n",
    "import string\n",
    "from nltk.corpus import stopwords\n",
    "import math\n",
    "from collections import Counter\n",
    "nltk.download('stopwords')\n",
    "import numpy as np\n",
    "\n",
    "stemmer = PorterStemmer()\n",
    "\n",
    "# Tokenize, stem a document\n",
    "def tokenize(text):\n",
    "    text = \"\".join([ch for ch in text if ch not in string.punctuation])\n",
    "    tokens = nltk.word_tokenize(text)\n",
    "    return \" \".join([stemmer.stem(word.lower()) for word in tokens])\n",
    "\n",
    "# Read a list of documents from a file. Each line in a file is a document\n",
    "#with open(\"bread.txt\") as f:\n",
    "with open(\"blabla.txt\", encoding = 'utf8') as f:\n",
    "    content = f.readlines()\n",
    "#original_documents = [x.decode('utf-8').strip() for x in content] # for python2\n",
    "original_documents = [x.strip() for x in content] \n",
    "documents = [tokenize(d).split() for d in original_documents]\n",
    "\n",
    "# create the vocabulary\n",
    "vocabulary = set([item for sublist in documents for item in sublist])\n",
    "vocabulary = [word for word in vocabulary if word not in stopwords.words('english')]\n",
    "vocabulary.sort()\n"
   ]
  },
  {
   "cell_type": "code",
   "execution_count": 67,
   "id": "F9vtCPsUAFz1",
   "metadata": {
    "id": "F9vtCPsUAFz1"
   },
   "outputs": [],
   "source": [
    "# compute IDF, storing idf values in a dictionary\n",
    "def idf_values(vocabulary, documents):\n",
    "    idf = {}\n",
    "    num_documents = len(documents)\n",
    "    for i, term in enumerate(vocabulary):\n",
    "        idf[term] = math.log(num_documents/sum(term in document for document in documents), math.e)\n",
    "    return idf\n",
    "\n",
    "# Function to generate the vector for a document (with normalisation)\n",
    "def vectorize(document, vocabulary, idf):\n",
    "    vector = [0]*len(vocabulary)\n",
    "    counts = Counter(document)\n",
    "    max_count = counts.most_common(1)[0][1]\n",
    "    for i,term in enumerate(vocabulary):\n",
    "        vector[i] = idf[term] * counts[term]/max_count\n",
    "    return vector\n",
    "\n",
    "# Function to compute cosine similarity\n",
    "def cosine_similarity(v1,v2):\n",
    "    sumxx, sumxy, sumyy = 0, 0, 0\n",
    "    for i in range(len(v1)):\n",
    "        x = v1[i]; y = v2[i]\n",
    "        sumxx += x*x\n",
    "        sumyy += y*y\n",
    "        sumxy += x*y\n",
    "    if sumxy == 0:\n",
    "            result = 0\n",
    "    else:\n",
    "            result = sumxy/math.sqrt(sumxx*sumyy)\n",
    "    return result\n",
    "\n",
    "def vectorize_query(query, vocabulary, idf):\n",
    "    q = query.split()\n",
    "    q = [stemmer.stem(w) for w in q]\n",
    "    query_vector = vectorize(q, vocabulary, idf)\n",
    "    return query_vector\n",
    "    \n",
    "def search_vec(query, k):\n",
    "    query_vector = vectorize_query(query, vocabulary, idf)\n",
    "    scores = [[cosine_similarity(query_vector, document_vectors[d]), d] for d in range(len(documents))]\n",
    "    scores.sort(key=lambda x: -x[0])\n",
    "    ans = []\n",
    "    indices = []\n",
    "    for i in range(min(k,len(original_documents))):\n",
    "        ans.append(original_documents[scores[i][1]])\n",
    "        indices.append(scores[i][1])\n",
    "    return ans, indices, query_vector\n",
    "\n",
    "# Compute IDF values and vectors\n",
    "idf = idf_values(vocabulary, documents)\n",
    "document_vectors = [vectorize(s, vocabulary, idf) for s in documents]"
   ]
  },
  {
   "cell_type": "markdown",
   "id": "bcd39f43",
   "metadata": {
    "id": "bcd39f43"
   },
   "source": [
    "Shaping the modified vector in a direction closer, or farther away, from the original query, related documents, and non-related documents."
   ]
  },
  {
   "cell_type": "code",
   "execution_count": 68,
   "id": "67ab1077",
   "metadata": {
    "id": "67ab1077"
   },
   "outputs": [],
   "source": [
    "def expand_query(relevant_doc_vecs, non_relevant_doc_vecs, query_vector, alpha, beta, gamma):\n",
    "\n",
    "    num_rel = len(relevant_doc_vecs)\n",
    "    num_non_rel = len(non_relevant_doc_vecs)\n",
    "    \n",
    "    # Compute the first term in the Rocchio equation\n",
    "    norm_query_vector = query_vector*alpha\n",
    "    \n",
    "    # Compute the second term in the Rocchio equation\n",
    "    norm_sum_relevant = [beta*sum(x)/num_rel for x in zip(*relevant_doc_vecs)]\n",
    "    \n",
    "    # Compute the last term in the Rocchio equation\n",
    "    norm_sum_non_relevant = [-gamma*sum(x)/num_non_rel for x in zip(*non_relevant_doc_vecs)]\n",
    "    \n",
    "    # Sum all the terms\n",
    "    modified_query_vector = [sum(x) for x in zip(norm_sum_relevant, norm_sum_non_relevant, norm_query_vector)]\n",
    "    \n",
    "    # Ignore negative elements\n",
    "    modified_query_vector = [x if x>0 else 0 for x in modified_query_vector]\n",
    "    return modified_query_vector"
   ]
  },
  {
   "cell_type": "code",
   "execution_count": 69,
   "id": "ce6de29d",
   "metadata": {
    "colab": {
     "base_uri": "https://localhost:8080/"
    },
    "id": "ce6de29d",
    "outputId": "055a18c7-efe5-494f-b594-4200657859cb"
   },
   "outputs": [
    {
     "name": "stdout",
     "output_type": "stream",
     "text": [
      "0 I love being around you.\n",
      "1 Jules and Mr. Gilleron are very friendly\n",
      "2 In love with the Rolex meeting rooms\n",
      "3 Emily is similar to James. They both love to dance.\n",
      "4 I think therefore I am\n"
     ]
    }
   ],
   "source": [
    "ans, result_doc_ids, query_vector = search_vec(\"Jules loves paragliding\", 5)\n",
    "for i in range(len(ans)):\n",
    "    print(i,ans[i])"
   ]
  },
  {
   "cell_type": "markdown",
   "id": "SuTawJcpBTWd",
   "metadata": {
    "id": "SuTawJcpBTWd"
   },
   "source": [
    "If we fix that the first 3 elements resulting from the initial query are relevant to enrich the querry then we have the following results:"
   ]
  },
  {
   "cell_type": "code",
   "execution_count": 70,
   "id": "39bb6a54",
   "metadata": {
    "colab": {
     "base_uri": "https://localhost:8080/"
    },
    "id": "39bb6a54",
    "outputId": "4388ed04-d11e-4ea9-8a43-988fc5e84c08"
   },
   "outputs": [
    {
     "name": "stdout",
     "output_type": "stream",
     "text": [
      "Modified query:  around friendli gilleron jule love meet mr rolex room veri\n"
     ]
    },
    {
     "data": {
      "text/plain": [
       "['Jules and Mr. Gilleron are very friendly',\n",
       " 'In love with the Rolex meeting rooms',\n",
       " 'I love being around you.',\n",
       " 'Are you from around here?',\n",
       " 'Mrs. Juarez and Mr. Smith are dancing gracefully.',\n",
       " 'It is nice to meet you',\n",
       " 'I will meet with my friends on Friday.',\n",
       " 'Misha walked and looked around.',\n",
       " 'Where is the changing room?',\n",
       " 'The room is too noisy.']"
      ]
     },
     "execution_count": 70,
     "metadata": {},
     "output_type": "execute_result"
    }
   ],
   "source": [
    "# list of indices marked as relevant\n",
    "# suppose first three documents were relevant and the rest were irrelevant.\n",
    "relevant_indices = [0,1,2]\n",
    "non_relevant_indices = [i for i in range(3, len(ans))]\n",
    "\n",
    "relevant_doc_ids = [result_doc_ids[i] for i in relevant_indices]\n",
    "non_relevant_doc_ids = [result_doc_ids[i] for i in non_relevant_indices]\n",
    "\n",
    "relevant_doc_vecs = [document_vectors[i] for i in relevant_doc_ids]\n",
    "non_relevant_doc_vecs = [document_vectors[i] for i in non_relevant_doc_ids]\n",
    "\n",
    "expanded_query = expand_query(relevant_doc_vecs, non_relevant_doc_vecs, query_vector, 1, 1, 1)\n",
    "\n",
    "new_query = ' '.join([vocabulary[i] for i, val in enumerate(expanded_query) if val>0])\n",
    "\n",
    "new_ans , not_important_now, idontcare_anymore = search_vec(new_query, 10)\n",
    "\n",
    "print('Modified query: ', new_query)\n",
    "new_ans"
   ]
  },
  {
   "cell_type": "markdown",
   "id": "9e07319e",
   "metadata": {
    "id": "9e07319e"
   },
   "source": [
    "# Method 3: Word embeddings\n",
    "In natural language processing (NLP), word embedding is a term used for the representation of words for text analysis, typically in the form of a real-valued vector that encodes the meaning of the word such that the words that are closer in the vector space are expected to be similar in meaning. Word embeddings can be obtained using a set of language modeling and feature learning techniques where words or phrases from the vocabulary are mapped to vectors of real numbers. Conceptually it involves the mathematical embedding from space with many dimensions per word to a continuous vector space with a much lower dimension.\n",
    "\n",
    "For this method, we would train word embeddings using a state-of-the-art embeddings [library fastText](https://ai.facebook.com/tools/fasttext) (facebook).\n",
    "\n",
    "Note that it is only available on linux and iOS :( $\\rightarrow$ Virtual Machine or Google Colab"
   ]
  },
  {
   "cell_type": "code",
   "execution_count": 71,
   "id": "900a4136",
   "metadata": {
    "colab": {
     "base_uri": "https://localhost:8080/"
    },
    "id": "900a4136",
    "outputId": "a22f5680-180b-4c01-a558-997d4909f375"
   },
   "outputs": [
    {
     "name": "stdout",
     "output_type": "stream",
     "text": [
      "Requirement already satisfied: fasttext in /usr/local/lib/python3.7/dist-packages (0.9.2)\n",
      "Requirement already satisfied: numpy in /usr/local/lib/python3.7/dist-packages (from fasttext) (1.19.5)\n",
      "Requirement already satisfied: pybind11>=2.2 in /usr/local/lib/python3.7/dist-packages (from fasttext) (2.8.0)\n",
      "Requirement already satisfied: setuptools>=0.7.0 in /usr/local/lib/python3.7/dist-packages (from fasttext) (57.4.0)\n"
     ]
    }
   ],
   "source": [
    "#if necessary \n",
    "!pip install fasttext"
   ]
  },
  {
   "cell_type": "code",
   "execution_count": 72,
   "id": "d7ScQwSp4mec",
   "metadata": {
    "id": "d7ScQwSp4mec"
   },
   "outputs": [],
   "source": [
    "import fasttext\n",
    "import numpy as np"
   ]
  },
  {
   "cell_type": "code",
   "execution_count": 73,
   "id": "0ec5fc61",
   "metadata": {
    "id": "0ec5fc61"
   },
   "outputs": [],
   "source": [
    "model = fasttext.train_unsupervised('blabla.txt', model = 'cbow')\n",
    "vocabulary = model.words\n",
    "word_embeddings = np.array([model[word] for word in vocabulary])"
   ]
  },
  {
   "cell_type": "markdown",
   "id": "f2aeb522",
   "metadata": {
    "id": "f2aeb522"
   },
   "source": [
    "\n",
    "### Visualization of the Embeddings\n",
    "\n",
    "Visualization the generated embeddings using t-SNE (T-Distributed Stochastic Neighbouring Entities). t-SNE is a dimensionality reduction algorithm which is well suited for such visualization tasks.\n"
   ]
  },
  {
   "cell_type": "code",
   "execution_count": 74,
   "id": "bd57db60",
   "metadata": {
    "colab": {
     "base_uri": "https://localhost:8080/"
    },
    "id": "bd57db60",
    "outputId": "d05517ed-f04d-470e-ce1b-e9161c33d06b"
   },
   "outputs": [
    {
     "name": "stdout",
     "output_type": "stream",
     "text": [
      "[t-SNE] Computing 48 nearest neighbors...\n",
      "[t-SNE] Indexed 49 samples in 0.000s...\n",
      "[t-SNE] Computed neighbors for 49 samples in 0.002s...\n",
      "[t-SNE] Computed conditional probabilities for sample 49 / 49\n",
      "[t-SNE] Mean sigma: 1125899906842624.000000\n",
      "[t-SNE] KL divergence after 250 iterations with early exaggeration: 49.269264\n",
      "[t-SNE] KL divergence after 1000 iterations: 0.704208\n"
     ]
    }
   ],
   "source": [
    "from sklearn.manifold import TSNE\n",
    "import matplotlib.pyplot as plt\n",
    "%matplotlib inline\n",
    "import logging\n",
    "\n",
    "tsne = TSNE(n_components=2, verbose=1, perplexity=50, n_iter=1000, init = 'pca') \n",
    "vis_data = tsne.fit_transform(word_embeddings)"
   ]
  },
  {
   "cell_type": "code",
   "execution_count": 75,
   "id": "d09ec7c6",
   "metadata": {
    "colab": {
     "base_uri": "https://localhost:8080/",
     "height": 1000
    },
    "id": "d09ec7c6",
    "outputId": "9b6ca999-3608-4941-a253-062d2c3d1274"
   },
   "outputs": [
    {
     "data": {
      "image/png": "[encoded data removed]",
      "text/plain": [
       "<Figure size 2880x2880 with 1 Axes>"
      ]
     },
     "metadata": {
      "needs_background": "light"
     },
     "output_type": "display_data"
    }
   ],
   "source": [
    "vis_data_x = vis_data[:,0]\n",
    "vis_data_y = vis_data[:,1]\n",
    "\n",
    "plt.rcParams.update({'font.size': 8})\n",
    "plt.figure(figsize=(40, 40)) \n",
    "plt.scatter(vis_data_x, vis_data_y)\n",
    "\n",
    "for label, x, y in zip(vocabulary, vis_data_x, vis_data_y):\n",
    "    plt.annotate(label, xy=(x, y), xytext=(0, 0), textcoords='offset points')\n",
    "plt.show()"
   ]
  },
  {
   "cell_type": "code",
   "execution_count": 75,
   "id": "094ca938",
   "metadata": {
    "id": "094ca938"
   },
   "outputs": [],
   "source": []
  }
 ],
 "metadata": {
  "colab": {
   "name": "methods_language_processing.ipynb",
   "provenance": []
  },
  "kernelspec": {
   "display_name": "Python 3 (ipykernel)",
   "language": "python",
   "name": "python3"
  },
  "language_info": {
   "codemirror_mode": {
    "name": "ipython",
    "version": 3
   },
   "file_extension": ".py",
   "mimetype": "text/x-python",
   "name": "python",
   "nbconvert_exporter": "python",
   "pygments_lexer": "ipython3",
   "version": "3.9.6"
  }
 },
 "nbformat": 4,
 "nbformat_minor": 5
}

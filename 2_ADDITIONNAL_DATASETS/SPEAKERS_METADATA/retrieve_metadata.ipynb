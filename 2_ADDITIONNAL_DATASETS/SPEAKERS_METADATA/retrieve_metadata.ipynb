{
 "cells": [
  {
   "cell_type": "markdown",
   "metadata": {},
   "source": [
    "# Retrieve speakers metadata using the provided parquet file"
   ]
  },
  {
   "cell_type": "markdown",
   "metadata": {},
   "source": [
    "This notebook is dedicated to the retrieving of speakers metadata. It uses the parquet file that was provided to retrieve extra-information (occupation, date of birth, gender, religion) on speakers. Then some exploraions on data representativity is done."
   ]
  },
  {
   "cell_type": "code",
   "execution_count": 1,
   "metadata": {},
   "outputs": [],
   "source": [
    "#importing the required modules\n",
    "import seaborn as sns\n",
    "from IPython.display import display, HTML\n",
    "import matplotlib.pyplot as plt\n",
    "import scipy.stats as stats\n",
    "import pandas as pd\n",
    "import numpy as np\n",
    "import seaborn as sns"
   ]
  },
  {
   "cell_type": "code",
   "execution_count": 2,
   "metadata": {},
   "outputs": [],
   "source": [
    "# Small adjustments to default style of plots, making sure it's readable and colorblind-friendly everywhere\n",
    "plt.style.use('seaborn-colorblind')\n",
    "plt.rcParams.update({'font.size' : 12.5,\n",
    "                     'figure.figsize':(20,7)})"
   ]
  },
  {
   "cell_type": "markdown",
   "metadata": {},
   "source": [
    "## 1. Import data\n"
   ]
  },
  {
   "cell_type": "markdown",
   "metadata": {},
   "source": [
    "### Metadata"
   ]
  },
  {
   "cell_type": "markdown",
   "metadata": {},
   "source": [
    "Pandas requires pyarrow to read parquet files, which can be installed using conda install pyarrow -c conda-forge.\n",
    "You can load this file as a pandas dataframe using df = pd.read_parquet(<path_to_file>)."
   ]
  },
  {
   "cell_type": "code",
   "execution_count": 3,
   "metadata": {},
   "outputs": [
    {
     "data": {
      "text/html": [
       "<div>\n",
       "<style scoped>\n",
       "    .dataframe tbody tr th:only-of-type {\n",
       "        vertical-align: middle;\n",
       "    }\n",
       "\n",
       "    .dataframe tbody tr th {\n",
       "        vertical-align: top;\n",
       "    }\n",
       "\n",
       "    .dataframe thead th {\n",
       "        text-align: right;\n",
       "    }\n",
       "</style>\n",
       "<table border=\"1\" class=\"dataframe\">\n",
       "  <thead>\n",
       "    <tr style=\"text-align: right;\">\n",
       "      <th></th>\n",
       "      <th>aliases</th>\n",
       "      <th>date_of_birth</th>\n",
       "      <th>nationality</th>\n",
       "      <th>gender</th>\n",
       "      <th>lastrevid</th>\n",
       "      <th>ethnic_group</th>\n",
       "      <th>US_congress_bio_ID</th>\n",
       "      <th>occupation</th>\n",
       "      <th>party</th>\n",
       "      <th>academic_degree</th>\n",
       "      <th>id</th>\n",
       "      <th>label</th>\n",
       "      <th>candidacy</th>\n",
       "      <th>type</th>\n",
       "      <th>religion</th>\n",
       "    </tr>\n",
       "  </thead>\n",
       "  <tbody>\n",
       "    <tr>\n",
       "      <th>0</th>\n",
       "      <td>None</td>\n",
       "      <td>None</td>\n",
       "      <td>None</td>\n",
       "      <td>[Q6581097]</td>\n",
       "      <td>985453603</td>\n",
       "      <td>None</td>\n",
       "      <td>None</td>\n",
       "      <td>None</td>\n",
       "      <td>None</td>\n",
       "      <td>None</td>\n",
       "      <td>Q45441526</td>\n",
       "      <td>Cui Yan</td>\n",
       "      <td>None</td>\n",
       "      <td>item</td>\n",
       "      <td>None</td>\n",
       "    </tr>\n",
       "    <tr>\n",
       "      <th>1</th>\n",
       "      <td>None</td>\n",
       "      <td>None</td>\n",
       "      <td>[Q9903]</td>\n",
       "      <td>[Q6581097]</td>\n",
       "      <td>1008699604</td>\n",
       "      <td>None</td>\n",
       "      <td>None</td>\n",
       "      <td>None</td>\n",
       "      <td>None</td>\n",
       "      <td>None</td>\n",
       "      <td>Q45441555</td>\n",
       "      <td>Guo Ziyi</td>\n",
       "      <td>None</td>\n",
       "      <td>item</td>\n",
       "      <td>None</td>\n",
       "    </tr>\n",
       "    <tr>\n",
       "      <th>2</th>\n",
       "      <td>None</td>\n",
       "      <td>None</td>\n",
       "      <td>[Q9903]</td>\n",
       "      <td>[Q6581097]</td>\n",
       "      <td>1008699709</td>\n",
       "      <td>None</td>\n",
       "      <td>None</td>\n",
       "      <td>None</td>\n",
       "      <td>None</td>\n",
       "      <td>None</td>\n",
       "      <td>Q45441562</td>\n",
       "      <td>Wan Zikui</td>\n",
       "      <td>None</td>\n",
       "      <td>item</td>\n",
       "      <td>None</td>\n",
       "    </tr>\n",
       "    <tr>\n",
       "      <th>3</th>\n",
       "      <td>None</td>\n",
       "      <td>None</td>\n",
       "      <td>[Q9903]</td>\n",
       "      <td>[Q6581097]</td>\n",
       "      <td>1008699728</td>\n",
       "      <td>None</td>\n",
       "      <td>None</td>\n",
       "      <td>None</td>\n",
       "      <td>None</td>\n",
       "      <td>None</td>\n",
       "      <td>Q45441563</td>\n",
       "      <td>Lin Pei</td>\n",
       "      <td>None</td>\n",
       "      <td>item</td>\n",
       "      <td>None</td>\n",
       "    </tr>\n",
       "    <tr>\n",
       "      <th>4</th>\n",
       "      <td>None</td>\n",
       "      <td>None</td>\n",
       "      <td>[Q9683]</td>\n",
       "      <td>[Q6581097]</td>\n",
       "      <td>985261661</td>\n",
       "      <td>None</td>\n",
       "      <td>None</td>\n",
       "      <td>None</td>\n",
       "      <td>None</td>\n",
       "      <td>None</td>\n",
       "      <td>Q45441565</td>\n",
       "      <td>Guan Zhen</td>\n",
       "      <td>None</td>\n",
       "      <td>item</td>\n",
       "      <td>None</td>\n",
       "    </tr>\n",
       "  </tbody>\n",
       "</table>\n",
       "</div>"
      ],
      "text/plain": [
       "  aliases date_of_birth nationality      gender   lastrevid ethnic_group  \\\n",
       "0    None          None        None  [Q6581097]   985453603         None   \n",
       "1    None          None     [Q9903]  [Q6581097]  1008699604         None   \n",
       "2    None          None     [Q9903]  [Q6581097]  1008699709         None   \n",
       "3    None          None     [Q9903]  [Q6581097]  1008699728         None   \n",
       "4    None          None     [Q9683]  [Q6581097]   985261661         None   \n",
       "\n",
       "  US_congress_bio_ID occupation party academic_degree         id      label  \\\n",
       "0               None       None  None            None  Q45441526    Cui Yan   \n",
       "1               None       None  None            None  Q45441555   Guo Ziyi   \n",
       "2               None       None  None            None  Q45441562  Wan Zikui   \n",
       "3               None       None  None            None  Q45441563    Lin Pei   \n",
       "4               None       None  None            None  Q45441565  Guan Zhen   \n",
       "\n",
       "  candidacy  type religion  \n",
       "0      None  item     None  \n",
       "1      None  item     None  \n",
       "2      None  item     None  \n",
       "3      None  item     None  \n",
       "4      None  item     None  "
      ]
     },
     "execution_count": 3,
     "metadata": {},
     "output_type": "execute_result"
    }
   ],
   "source": [
    "#Define the path for folder containing data\n",
    "#TO BE MODIFIED ACCORDING HIS OWN FOLER containing data in local\n",
    "\n",
    "#Jules\n",
    "path = r'/Users/jules/kDrive/onedrive/Documents_Onedrive/EPFL/MA3/ADA/Project/Dataset/'\n",
    "df_metadata = pd.read_parquet(path+'speaker_attributes.parquet')\n",
    "df_metadata.head()"
   ]
  },
  {
   "cell_type": "code",
   "execution_count": 4,
   "metadata": {},
   "outputs": [
    {
     "data": {
      "text/html": [
       "<div>\n",
       "<style scoped>\n",
       "    .dataframe tbody tr th:only-of-type {\n",
       "        vertical-align: middle;\n",
       "    }\n",
       "\n",
       "    .dataframe tbody tr th {\n",
       "        vertical-align: top;\n",
       "    }\n",
       "\n",
       "    .dataframe thead th {\n",
       "        text-align: right;\n",
       "    }\n",
       "</style>\n",
       "<table border=\"1\" class=\"dataframe\">\n",
       "  <thead>\n",
       "    <tr style=\"text-align: right;\">\n",
       "      <th></th>\n",
       "      <th>aliases</th>\n",
       "      <th>date_of_birth</th>\n",
       "      <th>nationality</th>\n",
       "      <th>gender</th>\n",
       "      <th>lastrevid</th>\n",
       "      <th>ethnic_group</th>\n",
       "      <th>US_congress_bio_ID</th>\n",
       "      <th>occupation</th>\n",
       "      <th>party</th>\n",
       "      <th>academic_degree</th>\n",
       "      <th>id</th>\n",
       "      <th>label</th>\n",
       "      <th>candidacy</th>\n",
       "      <th>type</th>\n",
       "      <th>religion</th>\n",
       "    </tr>\n",
       "  </thead>\n",
       "  <tbody>\n",
       "  </tbody>\n",
       "</table>\n",
       "</div>"
      ],
      "text/plain": [
       "Empty DataFrame\n",
       "Columns: [aliases, date_of_birth, nationality, gender, lastrevid, ethnic_group, US_congress_bio_ID, occupation, party, academic_degree, id, label, candidacy, type, religion]\n",
       "Index: []"
      ]
     },
     "execution_count": 4,
     "metadata": {},
     "output_type": "execute_result"
    }
   ],
   "source": [
    "df_metadata.loc[df_metadata['id']=='Q22686']"
   ]
  },
  {
   "cell_type": "markdown",
   "metadata": {},
   "source": [
    "### Quotations dataset"
   ]
  },
  {
   "cell_type": "code",
   "execution_count": 5,
   "metadata": {
    "scrolled": true
   },
   "outputs": [],
   "source": [
    "#Import the dataset sample\n",
    "\n",
    "#Jules: \n",
    "path = r'/Users/jules/kDrive/onedrive/Documents_Onedrive/EPFL/MA3/ADA/Project/Dataset/'\n",
    "\n",
    "df_sample = pd.read_json(path+'Sample_cleaned_1Mio.json.bz2',compression = 'bz2',lines = True)\n"
   ]
  },
  {
   "cell_type": "markdown",
   "metadata": {},
   "source": [
    "### Lookup table for QIDs"
   ]
  },
  {
   "cell_type": "markdown",
   "metadata": {},
   "source": [
    "#### Using the provided csv file to link qids with meaningful names"
   ]
  },
  {
   "cell_type": "code",
   "execution_count": 6,
   "metadata": {},
   "outputs": [],
   "source": [
    "#read the file \n",
    "\n",
    "df_lookup = pd.read_csv('wikidata_labels_descriptions_quotebank.csv.bz2',compression = 'bz2',index_col='QID')\n",
    "#df_lookup.sample(20)"
   ]
  },
  {
   "cell_type": "code",
   "execution_count": 7,
   "metadata": {},
   "outputs": [],
   "source": [
    "df_lookup.loc['Q22686'] = ['Donald Trump', '45th president of the United States']"
   ]
  },
  {
   "cell_type": "code",
   "execution_count": 8,
   "metadata": {},
   "outputs": [],
   "source": [
    "df_lookup.to_csv('wikidata_labels_descriptions_quotebank.csv.bz2',compression = 'bz2')"
   ]
  },
  {
   "cell_type": "markdown",
   "metadata": {},
   "source": [
    "### 2. Merge speakers metadata with quotations "
   ]
  },
  {
   "cell_type": "markdown",
   "metadata": {},
   "source": [
    "Join quotations data with metadata :"
   ]
  },
  {
   "cell_type": "code",
   "execution_count": 9,
   "metadata": {},
   "outputs": [
    {
     "name": "stdout",
     "output_type": "stream",
     "text": [
      "There is 0.0 % of rows that have no qid associated with (on 668534 rows)\n"
     ]
    }
   ],
   "source": [
    "#Create sub-sample\n",
    "#df_sub = df_sample.sample(int(1*10e3))\n",
    "df_sub = df_sample.copy()\n",
    "s1 = len(df_sub)\n",
    "\n",
    "#For the moment, choose rows which at minimum 1 qid associated\n",
    "#Remove this row when using the data that have been wrangled\n",
    "df_sub = df_sub[[len(a)>0 for a in df_sub['qids']]]\n",
    "\n",
    "s2 = len(df_sub)\n",
    "\n",
    "print('There is {} % of rows that have no qid associated with (on {} rows)'.format((1-s2/s1)*100,s1))\n",
    "\n",
    "#Choose the first QID that is associated with (to be improved)\n",
    "df_sub['qid_unique'] = df_sub['qids'].apply(lambda x: x[0]) "
   ]
  },
  {
   "cell_type": "code",
   "execution_count": 10,
   "metadata": {},
   "outputs": [],
   "source": [
    "#Group quotation by speaker\n",
    "\n",
    "df_grouped=df_sub.groupby('qid_unique') \\\n",
    "['quoteID'] \\\n",
    ".count() \\\n",
    ".reset_index(name='count') \\\n",
    ".sort_values(['count'], ascending=False) "
   ]
  },
  {
   "cell_type": "code",
   "execution_count": 11,
   "metadata": {},
   "outputs": [],
   "source": [
    "#Merging with metadata\n",
    "\n",
    "df_merged = df_grouped.merge(df_metadata,how='inner',left_on='qid_unique', right_on='id').sort_values(['count'], ascending=False)"
   ]
  },
  {
   "cell_type": "code",
   "execution_count": 12,
   "metadata": {},
   "outputs": [],
   "source": [
    "#Replace label column at the first place\n",
    "\n",
    "# shift column 'Name' to first position\n",
    "first_column = df_merged.pop('label')\n",
    "  \n",
    "# insert column using insert(position,column_name,\n",
    "# first_column) function\n",
    "df_merged.insert(0, 'label', first_column)"
   ]
  },
  {
   "cell_type": "code",
   "execution_count": 13,
   "metadata": {
    "scrolled": true
   },
   "outputs": [
    {
     "data": {
      "text/html": [
       "<div>\n",
       "<style scoped>\n",
       "    .dataframe tbody tr th:only-of-type {\n",
       "        vertical-align: middle;\n",
       "    }\n",
       "\n",
       "    .dataframe tbody tr th {\n",
       "        vertical-align: top;\n",
       "    }\n",
       "\n",
       "    .dataframe thead th {\n",
       "        text-align: right;\n",
       "    }\n",
       "</style>\n",
       "<table border=\"1\" class=\"dataframe\">\n",
       "  <thead>\n",
       "    <tr style=\"text-align: right;\">\n",
       "      <th></th>\n",
       "      <th>label</th>\n",
       "      <th>qid_unique</th>\n",
       "      <th>count</th>\n",
       "      <th>aliases</th>\n",
       "      <th>date_of_birth</th>\n",
       "      <th>nationality</th>\n",
       "      <th>gender</th>\n",
       "      <th>lastrevid</th>\n",
       "      <th>ethnic_group</th>\n",
       "      <th>US_congress_bio_ID</th>\n",
       "      <th>occupation</th>\n",
       "      <th>party</th>\n",
       "      <th>academic_degree</th>\n",
       "      <th>id</th>\n",
       "      <th>candidacy</th>\n",
       "      <th>type</th>\n",
       "      <th>religion</th>\n",
       "    </tr>\n",
       "  </thead>\n",
       "  <tbody>\n",
       "    <tr>\n",
       "      <th>0</th>\n",
       "      <td>Barack Obama</td>\n",
       "      <td>Q76</td>\n",
       "      <td>1367</td>\n",
       "      <td>[Barack Hussein Obama II, Barack Obama II, Bar...</td>\n",
       "      <td>[+1961-08-04T00:00:00Z]</td>\n",
       "      <td>[Q30]</td>\n",
       "      <td>[Q6581097]</td>\n",
       "      <td>1395141963</td>\n",
       "      <td>[Q49085, Q6935055, Q12826303, Q6392846]</td>\n",
       "      <td>O000167</td>\n",
       "      <td>[Q82955, Q40348, Q15958642, Q28532974, Q372436]</td>\n",
       "      <td>[Q29552]</td>\n",
       "      <td>[Q1765120, Q1540185]</td>\n",
       "      <td>Q76</td>\n",
       "      <td>[Q3586671, Q45578, Q4226, Q4791768, Q17067714,...</td>\n",
       "      <td>item</td>\n",
       "      <td>[Q23540, Q1062789, Q960252, Q426316]</td>\n",
       "    </tr>\n",
       "    <tr>\n",
       "      <th>1</th>\n",
       "      <td>Bernie Sanders</td>\n",
       "      <td>Q359442</td>\n",
       "      <td>991</td>\n",
       "      <td>[Bernard Sanders]</td>\n",
       "      <td>[+1941-09-08T00:00:00Z]</td>\n",
       "      <td>[Q30]</td>\n",
       "      <td>[Q6581097]</td>\n",
       "      <td>1392561607</td>\n",
       "      <td>[Q7325]</td>\n",
       "      <td>S000033</td>\n",
       "      <td>[Q82955, Q1930187, Q154549, Q1622272, Q36180, ...</td>\n",
       "      <td>[Q6542163, Q29552, Q327591, Q327591, Q29552]</td>\n",
       "      <td>[Q1765120]</td>\n",
       "      <td>Q359442</td>\n",
       "      <td>None</td>\n",
       "      <td>item</td>\n",
       "      <td>[Q9268]</td>\n",
       "    </tr>\n",
       "    <tr>\n",
       "      <th>2</th>\n",
       "      <td>Francis</td>\n",
       "      <td>Q450675</td>\n",
       "      <td>912</td>\n",
       "      <td>[Jorge Mario Bergoglio, Francisco, Pope Franci...</td>\n",
       "      <td>[+1936-12-17T00:00:00Z]</td>\n",
       "      <td>[Q237, Q414]</td>\n",
       "      <td>[Q6581097]</td>\n",
       "      <td>1396054797</td>\n",
       "      <td>[Q1056744]</td>\n",
       "      <td>None</td>\n",
       "      <td>[Q63173086, Q593644, Q104050302, Q36180, Q1234...</td>\n",
       "      <td>None</td>\n",
       "      <td>[Q1233889]</td>\n",
       "      <td>Q450675</td>\n",
       "      <td>None</td>\n",
       "      <td>item</td>\n",
       "      <td>[Q9592]</td>\n",
       "    </tr>\n",
       "    <tr>\n",
       "      <th>3</th>\n",
       "      <td>Hillary Clinton</td>\n",
       "      <td>Q6294</td>\n",
       "      <td>890</td>\n",
       "      <td>[Hillary Rodham Clinton, Hillary Rodham, Hilla...</td>\n",
       "      <td>[+1947-10-26T00:00:00Z]</td>\n",
       "      <td>[Q30]</td>\n",
       "      <td>[Q6581072]</td>\n",
       "      <td>1393846565</td>\n",
       "      <td>None</td>\n",
       "      <td>C001041</td>\n",
       "      <td>[Q82955, Q40348, Q193391, Q36180, Q18814623, Q...</td>\n",
       "      <td>[Q29552, Q29468]</td>\n",
       "      <td>[Q163727, Q1540185]</td>\n",
       "      <td>Q6294</td>\n",
       "      <td>[Q699872, Q4791768]</td>\n",
       "      <td>item</td>\n",
       "      <td>[Q33203]</td>\n",
       "    </tr>\n",
       "    <tr>\n",
       "      <th>4</th>\n",
       "      <td>Andrew Cuomo</td>\n",
       "      <td>Q11673</td>\n",
       "      <td>658</td>\n",
       "      <td>[Andrew Mark Cuomo]</td>\n",
       "      <td>[+1957-12-06T00:00:00Z]</td>\n",
       "      <td>[Q30]</td>\n",
       "      <td>[Q6581097]</td>\n",
       "      <td>1393197828</td>\n",
       "      <td>[Q974693]</td>\n",
       "      <td>None</td>\n",
       "      <td>[Q40348, Q82955]</td>\n",
       "      <td>[Q29552]</td>\n",
       "      <td>[Q1540185]</td>\n",
       "      <td>Q11673</td>\n",
       "      <td>[Q22023432, Q65047185]</td>\n",
       "      <td>item</td>\n",
       "      <td>[Q1841]</td>\n",
       "    </tr>\n",
       "    <tr>\n",
       "      <th>5</th>\n",
       "      <td>Benjamin Netanyahu</td>\n",
       "      <td>Q43723</td>\n",
       "      <td>561</td>\n",
       "      <td>[Binyamin Netanyahu, Bibi, Bibi Netanyahu, Ben...</td>\n",
       "      <td>[+1949-10-21T00:00:00Z]</td>\n",
       "      <td>[Q801]</td>\n",
       "      <td>[Q6581097]</td>\n",
       "      <td>1391756559</td>\n",
       "      <td>[Q7325]</td>\n",
       "      <td>None</td>\n",
       "      <td>[Q82955, Q193391, Q372436, Q47064, Q15958642, ...</td>\n",
       "      <td>[Q187009]</td>\n",
       "      <td>[Q787674, Q950900]</td>\n",
       "      <td>Q43723</td>\n",
       "      <td>[Q2917048, Q2480394, Q2689039]</td>\n",
       "      <td>item</td>\n",
       "      <td>[Q9268]</td>\n",
       "    </tr>\n",
       "    <tr>\n",
       "      <th>6</th>\n",
       "      <td>Elizabeth Warren</td>\n",
       "      <td>Q434706</td>\n",
       "      <td>557</td>\n",
       "      <td>[Elizabeth Ann Warren, Senator Warren, Elisabe...</td>\n",
       "      <td>[+1949-06-22T00:00:00Z]</td>\n",
       "      <td>[Q30]</td>\n",
       "      <td>[Q6581072]</td>\n",
       "      <td>1394365746</td>\n",
       "      <td>[Q49078]</td>\n",
       "      <td>W000817</td>\n",
       "      <td>[Q185351, Q82955, Q37226, Q1622272, Q40348, Q1...</td>\n",
       "      <td>[Q29552]</td>\n",
       "      <td>[Q163727, Q1540185]</td>\n",
       "      <td>Q434706</td>\n",
       "      <td>[Q28220813]</td>\n",
       "      <td>item</td>\n",
       "      <td>[Q33203]</td>\n",
       "    </tr>\n",
       "    <tr>\n",
       "      <th>7</th>\n",
       "      <td>Boris Johnson</td>\n",
       "      <td>Q180589</td>\n",
       "      <td>547</td>\n",
       "      <td>[Boris, Alexander Boris de Pfeffel Johnson, Bo...</td>\n",
       "      <td>[+1964-06-19T00:00:00Z]</td>\n",
       "      <td>[Q30, Q145]</td>\n",
       "      <td>[Q6581097]</td>\n",
       "      <td>1395092363</td>\n",
       "      <td>[Q7994501]</td>\n",
       "      <td>None</td>\n",
       "      <td>[Q1930187, Q82955, Q1607826, Q36180, Q11774202...</td>\n",
       "      <td>[Q9626]</td>\n",
       "      <td>None</td>\n",
       "      <td>Q180589</td>\n",
       "      <td>[Q30173038, Q30325756, Q428598, Q590740, Q3586...</td>\n",
       "      <td>item</td>\n",
       "      <td>[Q6423963]</td>\n",
       "    </tr>\n",
       "    <tr>\n",
       "      <th>8</th>\n",
       "      <td>Rodrigo Duterte</td>\n",
       "      <td>Q457786</td>\n",
       "      <td>546</td>\n",
       "      <td>[Rodrigo Roa Duterte, Rodrigo \"Rody\" Roa Duter...</td>\n",
       "      <td>[+1945-03-28T00:00:00Z]</td>\n",
       "      <td>[Q928]</td>\n",
       "      <td>[Q6581097]</td>\n",
       "      <td>1348817804</td>\n",
       "      <td>[Q1290600]</td>\n",
       "      <td>None</td>\n",
       "      <td>[Q82955]</td>\n",
       "      <td>[Q7140531]</td>\n",
       "      <td>None</td>\n",
       "      <td>Q457786</td>\n",
       "      <td>None</td>\n",
       "      <td>item</td>\n",
       "      <td>None</td>\n",
       "    </tr>\n",
       "    <tr>\n",
       "      <th>9</th>\n",
       "      <td>Nancy Pelosi</td>\n",
       "      <td>Q170581</td>\n",
       "      <td>519</td>\n",
       "      <td>[Nancy Patricia D'Alesandro Pelosi, Nancy Patr...</td>\n",
       "      <td>[+1940-03-26T00:00:00Z]</td>\n",
       "      <td>[Q30]</td>\n",
       "      <td>[Q6581072]</td>\n",
       "      <td>1392905094</td>\n",
       "      <td>[Q974693]</td>\n",
       "      <td>P000197</td>\n",
       "      <td>[Q82955]</td>\n",
       "      <td>[Q29552]</td>\n",
       "      <td>None</td>\n",
       "      <td>Q170581</td>\n",
       "      <td>[Q28404971, Q28122293, Q52494157]</td>\n",
       "      <td>item</td>\n",
       "      <td>[Q1841]</td>\n",
       "    </tr>\n",
       "    <tr>\n",
       "      <th>10</th>\n",
       "      <td>Mike Pompeo</td>\n",
       "      <td>Q473239</td>\n",
       "      <td>490</td>\n",
       "      <td>[Michael Richard \"Mike\" Pompeo, Michael Richar...</td>\n",
       "      <td>[+1963-12-30T00:00:00Z]</td>\n",
       "      <td>[Q30]</td>\n",
       "      <td>[Q6581097]</td>\n",
       "      <td>1393216542</td>\n",
       "      <td>None</td>\n",
       "      <td>P000602</td>\n",
       "      <td>[Q40348, Q43845, Q2961975, Q189290, Q82955]</td>\n",
       "      <td>[Q29468]</td>\n",
       "      <td>None</td>\n",
       "      <td>Q473239</td>\n",
       "      <td>None</td>\n",
       "      <td>item</td>\n",
       "      <td>[Q178169]</td>\n",
       "    </tr>\n",
       "    <tr>\n",
       "      <th>11</th>\n",
       "      <td>Pep Guardiola</td>\n",
       "      <td>Q164038</td>\n",
       "      <td>482</td>\n",
       "      <td>[Josep Guardiola, Josep Guardiola i Sala, Jose...</td>\n",
       "      <td>[+1971-01-18T00:00:00Z]</td>\n",
       "      <td>[Q29]</td>\n",
       "      <td>[Q6581097]</td>\n",
       "      <td>1388621526</td>\n",
       "      <td>None</td>\n",
       "      <td>None</td>\n",
       "      <td>[Q937857, Q628099]</td>\n",
       "      <td>None</td>\n",
       "      <td>None</td>\n",
       "      <td>Q164038</td>\n",
       "      <td>None</td>\n",
       "      <td>item</td>\n",
       "      <td>None</td>\n",
       "    </tr>\n",
       "    <tr>\n",
       "      <th>12</th>\n",
       "      <td>Rahul Gandhi</td>\n",
       "      <td>Q10218</td>\n",
       "      <td>430</td>\n",
       "      <td>None</td>\n",
       "      <td>[+1970-06-19T00:00:00Z]</td>\n",
       "      <td>[Q668]</td>\n",
       "      <td>[Q6581097]</td>\n",
       "      <td>1348295449</td>\n",
       "      <td>None</td>\n",
       "      <td>None</td>\n",
       "      <td>[Q82955]</td>\n",
       "      <td>[Q10225]</td>\n",
       "      <td>None</td>\n",
       "      <td>Q10218</td>\n",
       "      <td>[Q63988877]</td>\n",
       "      <td>item</td>\n",
       "      <td>[Q9089]</td>\n",
       "    </tr>\n",
       "    <tr>\n",
       "      <th>14</th>\n",
       "      <td>Mike Pence</td>\n",
       "      <td>Q24313</td>\n",
       "      <td>427</td>\n",
       "      <td>[Michael R. Pence, Rep. Mike Pence, Michael Pe...</td>\n",
       "      <td>[+1959-06-07T00:00:00Z]</td>\n",
       "      <td>[Q30]</td>\n",
       "      <td>[Q6581097]</td>\n",
       "      <td>1395854609</td>\n",
       "      <td>None</td>\n",
       "      <td>P000587</td>\n",
       "      <td>[Q82955, Q40348, Q2722764]</td>\n",
       "      <td>[Q29468]</td>\n",
       "      <td>None</td>\n",
       "      <td>Q24313</td>\n",
       "      <td>None</td>\n",
       "      <td>item</td>\n",
       "      <td>[Q13631353]</td>\n",
       "    </tr>\n",
       "    <tr>\n",
       "      <th>13</th>\n",
       "      <td>Vladimir Putin</td>\n",
       "      <td>Q7747</td>\n",
       "      <td>427</td>\n",
       "      <td>[Vladimir Vladimirovich Putin, Putin, Presiden...</td>\n",
       "      <td>[+1952-10-07T00:00:00Z]</td>\n",
       "      <td>[Q15180, Q159]</td>\n",
       "      <td>[Q6581097]</td>\n",
       "      <td>1395274624</td>\n",
       "      <td>[Q49542]</td>\n",
       "      <td>None</td>\n",
       "      <td>[Q82955, Q185351, Q6665249, Q18814623, Q239273...</td>\n",
       "      <td>[Q79854, Q4488786, Q151469]</td>\n",
       "      <td>[Q17744738]</td>\n",
       "      <td>Q7747</td>\n",
       "      <td>[Q19760074, Q488814, Q1505420, Q1348890]</td>\n",
       "      <td>item</td>\n",
       "      <td>[Q60995, Q3333484]</td>\n",
       "    </tr>\n",
       "    <tr>\n",
       "      <th>15</th>\n",
       "      <td>Lindsey Graham</td>\n",
       "      <td>Q22212</td>\n",
       "      <td>397</td>\n",
       "      <td>[Lindsey Olin Graham]</td>\n",
       "      <td>[+1955-07-09T00:00:00Z]</td>\n",
       "      <td>[Q30]</td>\n",
       "      <td>[Q6581097]</td>\n",
       "      <td>1392182121</td>\n",
       "      <td>None</td>\n",
       "      <td>G000359</td>\n",
       "      <td>[Q82955, Q19934710, Q40348, Q5177784, Q5123536]</td>\n",
       "      <td>[Q29468]</td>\n",
       "      <td>[Q1765120, Q1540185]</td>\n",
       "      <td>Q22212</td>\n",
       "      <td>None</td>\n",
       "      <td>item</td>\n",
       "      <td>[Q1351880]</td>\n",
       "    </tr>\n",
       "    <tr>\n",
       "      <th>16</th>\n",
       "      <td>Mitch McConnell</td>\n",
       "      <td>Q355522</td>\n",
       "      <td>390</td>\n",
       "      <td>[Addison Mitchell McConnell, Jr., Addison Mitc...</td>\n",
       "      <td>[+1942-02-20T00:00:00Z]</td>\n",
       "      <td>[Q30]</td>\n",
       "      <td>[Q6581097]</td>\n",
       "      <td>1392727294</td>\n",
       "      <td>None</td>\n",
       "      <td>M000355</td>\n",
       "      <td>[Q82955, Q40348, Q16533, Q1450482, Q211236]</td>\n",
       "      <td>[Q29468]</td>\n",
       "      <td>None</td>\n",
       "      <td>Q355522</td>\n",
       "      <td>None</td>\n",
       "      <td>item</td>\n",
       "      <td>[Q1351880]</td>\n",
       "    </tr>\n",
       "    <tr>\n",
       "      <th>17</th>\n",
       "      <td>Jeremy Corbyn</td>\n",
       "      <td>Q291169</td>\n",
       "      <td>364</td>\n",
       "      <td>[Jeremy Bernard Corbyn]</td>\n",
       "      <td>[+1949-05-26T00:00:00Z, +1949-01-01T00:00:00Z]</td>\n",
       "      <td>[Q145]</td>\n",
       "      <td>[Q6581097]</td>\n",
       "      <td>1396097133</td>\n",
       "      <td>None</td>\n",
       "      <td>None</td>\n",
       "      <td>[Q15627169, Q82955]</td>\n",
       "      <td>[Q9630]</td>\n",
       "      <td>None</td>\n",
       "      <td>Q291169</td>\n",
       "      <td>[Q30173038, Q918466, Q918472, Q918503, Q428598...</td>\n",
       "      <td>item</td>\n",
       "      <td>None</td>\n",
       "    </tr>\n",
       "    <tr>\n",
       "      <th>18</th>\n",
       "      <td>Elon Musk</td>\n",
       "      <td>Q317521</td>\n",
       "      <td>356</td>\n",
       "      <td>[Elon Reeve Musk, Elon R. Musk, Elon R Musk]</td>\n",
       "      <td>[+1971-06-28T00:00:00Z]</td>\n",
       "      <td>[Q258, Q16, Q30]</td>\n",
       "      <td>[Q6581097]</td>\n",
       "      <td>1395054202</td>\n",
       "      <td>None</td>\n",
       "      <td>None</td>\n",
       "      <td>[Q15895020, Q205375, Q5482740, Q81096, Q131524...</td>\n",
       "      <td>None</td>\n",
       "      <td>None</td>\n",
       "      <td>Q317521</td>\n",
       "      <td>None</td>\n",
       "      <td>item</td>\n",
       "      <td>[Q288928]</td>\n",
       "    </tr>\n",
       "    <tr>\n",
       "      <th>19</th>\n",
       "      <td>Theresa May</td>\n",
       "      <td>Q264766</td>\n",
       "      <td>347</td>\n",
       "      <td>[Theresa Mary Brasier, Prime Minister Theresa ...</td>\n",
       "      <td>[+1956-10-01T00:00:00Z]</td>\n",
       "      <td>[Q145]</td>\n",
       "      <td>[Q6581072]</td>\n",
       "      <td>1392235818</td>\n",
       "      <td>[Q7994501]</td>\n",
       "      <td>None</td>\n",
       "      <td>[Q82955]</td>\n",
       "      <td>[Q9626]</td>\n",
       "      <td>None</td>\n",
       "      <td>Q264766</td>\n",
       "      <td>[Q30173038, Q215622, Q590740, Q428598, Q918503...</td>\n",
       "      <td>item</td>\n",
       "      <td>[Q6423963]</td>\n",
       "    </tr>\n",
       "  </tbody>\n",
       "</table>\n",
       "</div>"
      ],
      "text/plain": [
       "                 label qid_unique  count  \\\n",
       "0         Barack Obama        Q76   1367   \n",
       "1       Bernie Sanders    Q359442    991   \n",
       "2              Francis    Q450675    912   \n",
       "3      Hillary Clinton      Q6294    890   \n",
       "4         Andrew Cuomo     Q11673    658   \n",
       "5   Benjamin Netanyahu     Q43723    561   \n",
       "6     Elizabeth Warren    Q434706    557   \n",
       "7        Boris Johnson    Q180589    547   \n",
       "8      Rodrigo Duterte    Q457786    546   \n",
       "9         Nancy Pelosi    Q170581    519   \n",
       "10         Mike Pompeo    Q473239    490   \n",
       "11       Pep Guardiola    Q164038    482   \n",
       "12        Rahul Gandhi     Q10218    430   \n",
       "14          Mike Pence     Q24313    427   \n",
       "13      Vladimir Putin      Q7747    427   \n",
       "15      Lindsey Graham     Q22212    397   \n",
       "16     Mitch McConnell    Q355522    390   \n",
       "17       Jeremy Corbyn    Q291169    364   \n",
       "18           Elon Musk    Q317521    356   \n",
       "19         Theresa May    Q264766    347   \n",
       "\n",
       "                                              aliases  \\\n",
       "0   [Barack Hussein Obama II, Barack Obama II, Bar...   \n",
       "1                                   [Bernard Sanders]   \n",
       "2   [Jorge Mario Bergoglio, Francisco, Pope Franci...   \n",
       "3   [Hillary Rodham Clinton, Hillary Rodham, Hilla...   \n",
       "4                                 [Andrew Mark Cuomo]   \n",
       "5   [Binyamin Netanyahu, Bibi, Bibi Netanyahu, Ben...   \n",
       "6   [Elizabeth Ann Warren, Senator Warren, Elisabe...   \n",
       "7   [Boris, Alexander Boris de Pfeffel Johnson, Bo...   \n",
       "8   [Rodrigo Roa Duterte, Rodrigo \"Rody\" Roa Duter...   \n",
       "9   [Nancy Patricia D'Alesandro Pelosi, Nancy Patr...   \n",
       "10  [Michael Richard \"Mike\" Pompeo, Michael Richar...   \n",
       "11  [Josep Guardiola, Josep Guardiola i Sala, Jose...   \n",
       "12                                               None   \n",
       "14  [Michael R. Pence, Rep. Mike Pence, Michael Pe...   \n",
       "13  [Vladimir Vladimirovich Putin, Putin, Presiden...   \n",
       "15                              [Lindsey Olin Graham]   \n",
       "16  [Addison Mitchell McConnell, Jr., Addison Mitc...   \n",
       "17                            [Jeremy Bernard Corbyn]   \n",
       "18       [Elon Reeve Musk, Elon R. Musk, Elon R Musk]   \n",
       "19  [Theresa Mary Brasier, Prime Minister Theresa ...   \n",
       "\n",
       "                                     date_of_birth       nationality  \\\n",
       "0                          [+1961-08-04T00:00:00Z]             [Q30]   \n",
       "1                          [+1941-09-08T00:00:00Z]             [Q30]   \n",
       "2                          [+1936-12-17T00:00:00Z]      [Q237, Q414]   \n",
       "3                          [+1947-10-26T00:00:00Z]             [Q30]   \n",
       "4                          [+1957-12-06T00:00:00Z]             [Q30]   \n",
       "5                          [+1949-10-21T00:00:00Z]            [Q801]   \n",
       "6                          [+1949-06-22T00:00:00Z]             [Q30]   \n",
       "7                          [+1964-06-19T00:00:00Z]       [Q30, Q145]   \n",
       "8                          [+1945-03-28T00:00:00Z]            [Q928]   \n",
       "9                          [+1940-03-26T00:00:00Z]             [Q30]   \n",
       "10                         [+1963-12-30T00:00:00Z]             [Q30]   \n",
       "11                         [+1971-01-18T00:00:00Z]             [Q29]   \n",
       "12                         [+1970-06-19T00:00:00Z]            [Q668]   \n",
       "14                         [+1959-06-07T00:00:00Z]             [Q30]   \n",
       "13                         [+1952-10-07T00:00:00Z]    [Q15180, Q159]   \n",
       "15                         [+1955-07-09T00:00:00Z]             [Q30]   \n",
       "16                         [+1942-02-20T00:00:00Z]             [Q30]   \n",
       "17  [+1949-05-26T00:00:00Z, +1949-01-01T00:00:00Z]            [Q145]   \n",
       "18                         [+1971-06-28T00:00:00Z]  [Q258, Q16, Q30]   \n",
       "19                         [+1956-10-01T00:00:00Z]            [Q145]   \n",
       "\n",
       "        gender   lastrevid                             ethnic_group  \\\n",
       "0   [Q6581097]  1395141963  [Q49085, Q6935055, Q12826303, Q6392846]   \n",
       "1   [Q6581097]  1392561607                                  [Q7325]   \n",
       "2   [Q6581097]  1396054797                               [Q1056744]   \n",
       "3   [Q6581072]  1393846565                                     None   \n",
       "4   [Q6581097]  1393197828                                [Q974693]   \n",
       "5   [Q6581097]  1391756559                                  [Q7325]   \n",
       "6   [Q6581072]  1394365746                                 [Q49078]   \n",
       "7   [Q6581097]  1395092363                               [Q7994501]   \n",
       "8   [Q6581097]  1348817804                               [Q1290600]   \n",
       "9   [Q6581072]  1392905094                                [Q974693]   \n",
       "10  [Q6581097]  1393216542                                     None   \n",
       "11  [Q6581097]  1388621526                                     None   \n",
       "12  [Q6581097]  1348295449                                     None   \n",
       "14  [Q6581097]  1395854609                                     None   \n",
       "13  [Q6581097]  1395274624                                 [Q49542]   \n",
       "15  [Q6581097]  1392182121                                     None   \n",
       "16  [Q6581097]  1392727294                                     None   \n",
       "17  [Q6581097]  1396097133                                     None   \n",
       "18  [Q6581097]  1395054202                                     None   \n",
       "19  [Q6581072]  1392235818                               [Q7994501]   \n",
       "\n",
       "   US_congress_bio_ID                                         occupation  \\\n",
       "0             O000167    [Q82955, Q40348, Q15958642, Q28532974, Q372436]   \n",
       "1             S000033  [Q82955, Q1930187, Q154549, Q1622272, Q36180, ...   \n",
       "2                None  [Q63173086, Q593644, Q104050302, Q36180, Q1234...   \n",
       "3             C001041  [Q82955, Q40348, Q193391, Q36180, Q18814623, Q...   \n",
       "4                None                                   [Q40348, Q82955]   \n",
       "5                None  [Q82955, Q193391, Q372436, Q47064, Q15958642, ...   \n",
       "6             W000817  [Q185351, Q82955, Q37226, Q1622272, Q40348, Q1...   \n",
       "7                None  [Q1930187, Q82955, Q1607826, Q36180, Q11774202...   \n",
       "8                None                                           [Q82955]   \n",
       "9             P000197                                           [Q82955]   \n",
       "10            P000602        [Q40348, Q43845, Q2961975, Q189290, Q82955]   \n",
       "11               None                                 [Q937857, Q628099]   \n",
       "12               None                                           [Q82955]   \n",
       "14            P000587                         [Q82955, Q40348, Q2722764]   \n",
       "13               None  [Q82955, Q185351, Q6665249, Q18814623, Q239273...   \n",
       "15            G000359    [Q82955, Q19934710, Q40348, Q5177784, Q5123536]   \n",
       "16            M000355        [Q82955, Q40348, Q16533, Q1450482, Q211236]   \n",
       "17               None                                [Q15627169, Q82955]   \n",
       "18               None  [Q15895020, Q205375, Q5482740, Q81096, Q131524...   \n",
       "19               None                                           [Q82955]   \n",
       "\n",
       "                                           party       academic_degree  \\\n",
       "0                                       [Q29552]  [Q1765120, Q1540185]   \n",
       "1   [Q6542163, Q29552, Q327591, Q327591, Q29552]            [Q1765120]   \n",
       "2                                           None            [Q1233889]   \n",
       "3                               [Q29552, Q29468]   [Q163727, Q1540185]   \n",
       "4                                       [Q29552]            [Q1540185]   \n",
       "5                                      [Q187009]    [Q787674, Q950900]   \n",
       "6                                       [Q29552]   [Q163727, Q1540185]   \n",
       "7                                        [Q9626]                  None   \n",
       "8                                     [Q7140531]                  None   \n",
       "9                                       [Q29552]                  None   \n",
       "10                                      [Q29468]                  None   \n",
       "11                                          None                  None   \n",
       "12                                      [Q10225]                  None   \n",
       "14                                      [Q29468]                  None   \n",
       "13                   [Q79854, Q4488786, Q151469]           [Q17744738]   \n",
       "15                                      [Q29468]  [Q1765120, Q1540185]   \n",
       "16                                      [Q29468]                  None   \n",
       "17                                       [Q9630]                  None   \n",
       "18                                          None                  None   \n",
       "19                                       [Q9626]                  None   \n",
       "\n",
       "         id                                          candidacy  type  \\\n",
       "0       Q76  [Q3586671, Q45578, Q4226, Q4791768, Q17067714,...  item   \n",
       "1   Q359442                                               None  item   \n",
       "2   Q450675                                               None  item   \n",
       "3     Q6294                                [Q699872, Q4791768]  item   \n",
       "4    Q11673                             [Q22023432, Q65047185]  item   \n",
       "5    Q43723                     [Q2917048, Q2480394, Q2689039]  item   \n",
       "6   Q434706                                        [Q28220813]  item   \n",
       "7   Q180589  [Q30173038, Q30325756, Q428598, Q590740, Q3586...  item   \n",
       "8   Q457786                                               None  item   \n",
       "9   Q170581                  [Q28404971, Q28122293, Q52494157]  item   \n",
       "10  Q473239                                               None  item   \n",
       "11  Q164038                                               None  item   \n",
       "12   Q10218                                        [Q63988877]  item   \n",
       "14   Q24313                                               None  item   \n",
       "13    Q7747           [Q19760074, Q488814, Q1505420, Q1348890]  item   \n",
       "15   Q22212                                               None  item   \n",
       "16  Q355522                                               None  item   \n",
       "17  Q291169  [Q30173038, Q918466, Q918472, Q918503, Q428598...  item   \n",
       "18  Q317521                                               None  item   \n",
       "19  Q264766  [Q30173038, Q215622, Q590740, Q428598, Q918503...  item   \n",
       "\n",
       "                                religion  \n",
       "0   [Q23540, Q1062789, Q960252, Q426316]  \n",
       "1                                [Q9268]  \n",
       "2                                [Q9592]  \n",
       "3                               [Q33203]  \n",
       "4                                [Q1841]  \n",
       "5                                [Q9268]  \n",
       "6                               [Q33203]  \n",
       "7                             [Q6423963]  \n",
       "8                                   None  \n",
       "9                                [Q1841]  \n",
       "10                             [Q178169]  \n",
       "11                                  None  \n",
       "12                               [Q9089]  \n",
       "14                           [Q13631353]  \n",
       "13                    [Q60995, Q3333484]  \n",
       "15                            [Q1351880]  \n",
       "16                            [Q1351880]  \n",
       "17                                  None  \n",
       "18                             [Q288928]  \n",
       "19                            [Q6423963]  "
      ]
     },
     "execution_count": 13,
     "metadata": {},
     "output_type": "execute_result"
    }
   ],
   "source": [
    "df_merged.head(20)"
   ]
  },
  {
   "cell_type": "code",
   "execution_count": 14,
   "metadata": {},
   "outputs": [
    {
     "data": {
      "text/plain": [
       "107413"
      ]
     },
     "execution_count": 14,
     "metadata": {},
     "output_type": "execute_result"
    }
   ],
   "source": [
    "len(df_merged)"
   ]
  },
  {
   "cell_type": "markdown",
   "metadata": {},
   "source": [
    "## 3. Explore the data representativity"
   ]
  },
  {
   "cell_type": "markdown",
   "metadata": {},
   "source": [
    "This part is here to check the distribution of speakers metadata along quotations. \n",
    "For more detailed first statistical analysis on our project subject, see `ANALYSIS/Exploratory_stats_metadata`"
   ]
  },
  {
   "cell_type": "code",
   "execution_count": 15,
   "metadata": {},
   "outputs": [],
   "source": [
    "col_subset = ['gender','nationality','occupation']\n",
    "# data wrangling : remove NaNs, speakers that does not contains the specified metadata feature\n",
    "df_plot = df_merged.copy()\n",
    "df_plot.dropna(axis = 0, subset=col_subset,inplace=True)\n",
    "\n",
    "for col in col_subset: \n",
    "    #For the moment, only taking the first item that is on the list\n",
    "    df_plot[col]= df_plot[col].apply(lambda x:x[0])\n",
    "    "
   ]
  },
  {
   "cell_type": "code",
   "execution_count": 16,
   "metadata": {},
   "outputs": [
    {
     "data": {
      "text/plain": [
       "[Text(0, 0.5, 'Number of quotations')]"
      ]
     },
     "execution_count": 16,
     "metadata": {},
     "output_type": "execute_result"
    },
    {
     "data": {
      "image/png": "[encoded data removed]",
      "text/plain": [
       "<Figure size 1440x504 with 1 Axes>"
      ]
     },
     "metadata": {
      "needs_background": "light"
     },
     "output_type": "display_data"
    }
   ],
   "source": [
    "#Distribution of nationality\n",
    "\n",
    "df_nationality = df_plot.groupby('nationality')['nationality'].count() \\\n",
    "            .reset_index(name='count') \\\n",
    "            .sort_values(['count'], ascending=False)\n",
    "  \n",
    "df_nationality['nationality'] = df_nationality['nationality'].apply(lambda x: df_lookup.loc[x]['Label'])\n",
    "ax = sns.barplot(x=\"nationality\", y=\"count\",data=df_nationality[:8])\n",
    "ax.set(ylabel='Number of quotations')\n"
   ]
  },
  {
   "cell_type": "code",
   "execution_count": 17,
   "metadata": {},
   "outputs": [],
   "source": [
    "#df_nationality['fraction'] = df_nationality['count']/df_nationality['count'].sum()*100\n"
   ]
  },
  {
   "cell_type": "code",
   "execution_count": 18,
   "metadata": {},
   "outputs": [],
   "source": [
    "df_pie = df_nationality.copy()\n",
    "df_pie.drop(labels= df_pie[5:].index, axis=0,inplace=True)\n",
    "new_row = {'nationality': 'Others', 'count': df_nationality[5:]['count'].sum()}\n",
    "df_pie = df_pie.append(new_row, ignore_index = True)"
   ]
  },
  {
   "cell_type": "code",
   "execution_count": 19,
   "metadata": {},
   "outputs": [
    {
     "data": {
      "text/plain": [
       "Text(0.5, 1.0, 'Distribution of speakers nationality')"
      ]
     },
     "execution_count": 19,
     "metadata": {},
     "output_type": "execute_result"
    },
    {
     "data": {
      "image/png": "[encoded data removed]",
      "text/plain": [
       "<Figure size 1440x504 with 1 Axes>"
      ]
     },
     "metadata": {},
     "output_type": "display_data"
    }
   ],
   "source": [
    "fig, ax = plt.subplots(1,1)\n",
    "colors = sns.color_palette(\"colorblind\")\n",
    "ax.pie(x=df_pie['count'],labels=df_pie['nationality'],colors=colors,autopct='%1.f%%',pctdistance=0.6,labeldistance=1.1);\n",
    "ax.set_title('Distribution of speakers nationality')"
   ]
  },
  {
   "cell_type": "code",
   "execution_count": 20,
   "metadata": {},
   "outputs": [],
   "source": [
    "path =r'/Users/jules/kDrive/onedrive/Documents_Onedrive/EPFL/MA3/ADA/Project/Figures/'\n",
    "fig.savefig(path+'metadataPlot_nationality_pie.svg',format = 'svg',bbox_inches='tight')\n",
    "fig.savefig(path+'metadataPlot_nationality_pie.png',format = 'png',bbox_inches='tight')"
   ]
  },
  {
   "cell_type": "code",
   "execution_count": 21,
   "metadata": {},
   "outputs": [
    {
     "data": {
      "text/plain": [
       "[Text(0, 0.5, 'Number of quotations')]"
      ]
     },
     "execution_count": 21,
     "metadata": {},
     "output_type": "execute_result"
    },
    {
     "data": {
      "image/png": "[encoded data removed]",
      "text/plain": [
       "<Figure size 1440x504 with 1 Axes>"
      ]
     },
     "metadata": {
      "needs_background": "light"
     },
     "output_type": "display_data"
    }
   ],
   "source": [
    "#Distribution of gender per quotation\n",
    "\n",
    "df_gender = df_plot.groupby('gender')['gender'].count() \\\n",
    "            .reset_index(name='count') \\\n",
    "            .sort_values(['count'], ascending=False)\n",
    "    \n",
    "df_gender['gender'] = df_gender['gender'].apply(lambda x: df_lookup.loc[x]['Label'])\n",
    "ax = sns.barplot(x=\"gender\", y=\"count\", data=df_gender[:10])\n",
    "ax.set(ylabel='Number of quotations')"
   ]
  },
  {
   "cell_type": "code",
   "execution_count": 22,
   "metadata": {},
   "outputs": [
    {
     "data": {
      "text/plain": [
       "[Text(0, 0.5, 'Number of quotations')]"
      ]
     },
     "execution_count": 22,
     "metadata": {},
     "output_type": "execute_result"
    },
    {
     "data": {
      "image/png": "[encoded data removed]",
      "text/plain": [
       "<Figure size 1440x504 with 1 Axes>"
      ]
     },
     "metadata": {
      "needs_background": "light"
     },
     "output_type": "display_data"
    }
   ],
   "source": [
    "#Distribution of occupation\n",
    "\n",
    "df_occupation = df_plot.groupby('occupation')['occupation'].count() \\\n",
    "            .reset_index(name='count') \\\n",
    "            .sort_values(['count'], ascending=False)\n",
    "    \n",
    "df_occupation['occupation'] = df_occupation['occupation'].apply(lambda x: df_lookup.loc[x]['Label'])\n",
    "ax = sns.barplot(x=\"occupation\", y=\"count\", data=df_occupation[:10])\n",
    "ax.set(ylabel='Number of quotations')"
   ]
  },
  {
   "cell_type": "code",
   "execution_count": 23,
   "metadata": {},
   "outputs": [],
   "source": [
    "df_pie = df_occupation.copy()\n",
    "df_pie.drop(labels= df_pie[9:].index, axis=0,inplace=True)\n",
    "new_row = {'occupation': 'Others', 'count': df_nationality[9:]['count'].sum()}\n",
    "df_pie = df_pie.append(new_row, ignore_index = True)"
   ]
  },
  {
   "cell_type": "code",
   "execution_count": 163,
   "metadata": {},
   "outputs": [
    {
     "data": {
      "text/plain": [
       "Text(0.5, 1.0, 'Distribution of speakers occupations')"
      ]
     },
     "execution_count": 163,
     "metadata": {},
     "output_type": "execute_result"
    },
    {
     "data": {
      "image/png": "[encoded data removed]",
      "text/plain": [
       "<Figure size 1440x504 with 1 Axes>"
      ]
     },
     "metadata": {},
     "output_type": "display_data"
    }
   ],
   "source": [
    "fig, ax = plt.subplots(1,1)\n",
    "colors = sns.color_palette(\"colorblind\")\n",
    "ax.pie(x=df_pie['count'],labels=df_pie['occupation'],colors=colors,autopct='%1.f%%',pctdistance=0.6,labeldistance=1.1);\n",
    "ax.set_title('Distribution of speakers occupations')"
   ]
  },
  {
   "cell_type": "code",
   "execution_count": 164,
   "metadata": {},
   "outputs": [],
   "source": [
    "path =r'/Users/jules/kDrive/onedrive/Documents_Onedrive/EPFL/MA3/ADA/Project/Figures/'\n",
    "fig.savefig(path+'metadataPlot_occupation_pie.svg',format = 'svg',bbox_inches='tight')\n",
    "fig.savefig(path+'metadataPlot_occupation_pie.png',format = 'png',bbox_inches='tight')"
   ]
  },
  {
   "cell_type": "markdown",
   "metadata": {},
   "source": [
    "#### Export the data in json"
   ]
  },
  {
   "cell_type": "code",
   "execution_count": null,
   "metadata": {},
   "outputs": [],
   "source": []
  },
  {
   "cell_type": "markdown",
   "metadata": {},
   "source": [
    "### Appendix"
   ]
  },
  {
   "cell_type": "raw",
   "metadata": {},
   "source": [
    "Schema of parquet file : \n",
    "    \n",
    "    Schema:\n",
    " |-- aliases: array (nullable = true)\n",
    " |    |-- element: string (containsNull = true)\n",
    " |-- date_of_birth: array (nullable = true)\n",
    " |    |-- element: string (containsNull = true)\n",
    " |-- nationality: array (nullable = true)\n",
    " |    |-- element: string (containsNull = true)\n",
    " |-- gender: array (nullable = true)\n",
    " |    |-- element: string (containsNull = true)\n",
    " |-- lastrevid: long (nullable = true)\n",
    " |-- ethnic_group: array (nullable = true)\n",
    " |    |-- element: string (containsNull = true)\n",
    " |-- US_congress_bio_ID: string (nullable = true)\n",
    " |-- occupation: array (nullable = true)\n",
    " |    |-- element: string (containsNull = true)\n",
    " |-- party: array (nullable = true)\n",
    " |    |-- element: string (containsNull = true)\n",
    " |-- academic_degree: array (nullable = true)\n",
    " |    |-- element: string (containsNull = true)\n",
    " |-- id: string (nullable = true)\n",
    " |-- label: string (nullable = true)\n",
    " |-- candidacy: array (nullable = true)\n",
    " |    |-- element: string (containsNull = true)\n",
    " |-- type: string (nullable = true)\n",
    " |-- religion: array (nullable = true)\n",
    " |    |-- element: string (containsNull = true)"
   ]
  }
 ],
 "metadata": {
  "kernelspec": {
   "display_name": "Python 3 (ipykernel)",
   "language": "python",
   "name": "python3"
  },
  "language_info": {
   "codemirror_mode": {
    "name": "ipython",
    "version": 3
   },
   "file_extension": ".py",
   "mimetype": "text/x-python",
   "name": "python",
   "nbconvert_exporter": "python",
   "pygments_lexer": "ipython3",
   "version": "3.8.11"
  }
 },
 "nbformat": 4,
 "nbformat_minor": 4
}
